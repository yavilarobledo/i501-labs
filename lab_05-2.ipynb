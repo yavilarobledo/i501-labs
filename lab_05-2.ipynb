{
 "cells": [
  {
   "cell_type": "markdown",
   "id": "1286269b-b5e8-4ec1-bd93-5bb22d24e5c6",
   "metadata": {},
   "source": [
    "# APIs and Multiprocessing\n",
    "\n",
    "*This notebook includes adapted content from [Melanie Walsh's chapter on Data Collection](https://melaniewalsh.github.io/Intro-Cultural-Analytics/04-Data-Collection/00-Data-Collection.html).*\n",
    "\n",
    "In this lab, we'll introduce a useful way to extract data from online, as well as a canonical tool used to explore large datasets when you don't have access to a Python environment. We'll go over the following topics:\n",
    "\n",
    "- Accessing an API\n",
    "- API Wrappers\n",
    "- Python Scripts\n",
    "- Multiprocessing"
   ]
  },
  {
   "cell_type": "markdown",
   "id": "2e13dbf4-a2b2-4bdf-827c-c747e5b9c53c",
   "metadata": {},
   "source": [
    "# APIs\n",
    "\n",
    "It seems only natural that we should be able to extract any data from the internet by programmatically logging information after \"going\" to each website you're interested in. (In fact, it is [perfectly legal](https://melaniewalsh.github.io/Intro-Cultural-Analytics/04-Data-Collection/01-User-Ethics-Legal-Concerns.html).) One way to do this is using [web scraping](https://melaniewalsh.github.io/Intro-Cultural-Analytics/04-Data-Collection/02-Web-Scraping-Part1.html), where you write an algorithm which parses website content, logs data, and loops through several HTML web pages. But, this method is becoming less effective over the years, as websites are becoming far more complex (harder to scrape), and most companies are transitioning to a platform where their data is more easily accessible (and controlled) in an Application Programming Interface (API).\n",
    "\n",
    "## What is an API?\n",
    "\n",
    "**An API allows you to programmatically extract and interact with company data which drives their websites.** In this way, social networks, museums, foundations, research labs, applications, and projects can make their data publicly available, allowing for developers to use the data to build applications and tools (e.g., for your phone, computer, or refrigerator) that can be used by the general populous. For example, the reason you can access Google Maps on your phone is because developers used the Google Maps API to build that functionality.\n",
    "\n",
    "Of course, there are plenty of companies or foundations which will likely never use APIs to store/access their data. In these cases though, you can usually find an API that is *related* to that website, or someone may have built (or, they are building) a third-party API for that purpose. Web scraping should typically be a last resort, so we do not teach it in this class.\n",
    "\n",
    "<span style=\"color:red\">**Caveat:** People typically design their APIs such that they decide exactly which kinds of data they want to share. So, they often choose not to share their most lucrative and desirable data. In those cases, you are usually asked to pay some fee.</span>"
   ]
  },
  {
   "cell_type": "markdown",
   "id": "f1e33714-bac3-45e6-a5b9-b9b48734d763",
   "metadata": {},
   "source": [
    "## Using Environment Variables\n",
    "\n",
    "We will discuss environment variables more in a future lesson, but to use APIs properly, we need to have at least a basic understanding of what environment variables are.\n",
    "\n",
    "When working on any data science project (e.g., like the web app you'll build later in this course), you will likely track your progress using Git/GitHub. But, keys and secret strings (like the ones we will use to access an API) should never be pushed to GitHub. Instead, it's a best practice to use environment variables when dealing with this kind of data. In short, environment variables are values stored in a special file on your local computer, or on the cloud where your project may be hosted. In this way, those variables are only accessible to agents with access to that file (e.g., your Python interpreter, or the one on the cloud).\n",
    "\n",
    "In this class, we will use [dotenv](https://github.com/theskumar/python-dotenv#getting-started) to manage environment variables for API. You'll need to `pip` install it, as directed in the instructions, then create a file with the name *.env* (notice the period) in your project directory to hold any keys or secrets. Since we're going to use this package in this notebook, we'll import the library here. *Note: If you're using Git/GitHub, make sure \".env\" is added to your [.gitignore file](https://www.atlassian.com/git/tutorials/saving-changes/gitignore)*."
   ]
  },
  {
   "cell_type": "code",
   "execution_count": 18,
   "id": "7a64ff7a-970f-4c77-a417-dfa82ddc7646",
   "metadata": {
    "tags": []
   },
   "outputs": [],
   "source": [
    "from dotenv import load_dotenv"
   ]
  },
  {
   "cell_type": "markdown",
   "id": "510ca951-7360-4eaa-b072-1e774ac42cb2",
   "metadata": {},
   "source": [
    "## Accessing an API\n",
    "\n",
    "The steps to access *any* API are about the same, no matter the API. So, in this lesson, we're going to use the [Genius](https://genius.com/) API to access data about songs.\n",
    "\n",
    "### Step 1: Client Access Token\n",
    "\n",
    "Typically, to use an API, you need a special API key usually called a \"Client Access Token\", which is kind of like a password. Many APIs require authentication keys to gain access to them. To get your necessary Genius API keys, follow these steps:\n",
    "\n",
    "1. Navigate to the [api-clients page](https://genius.com/api-clients) (which will prompt you to [sign up for an account](https://genius.com/signup_or_login) if you haven't already). Then, click the button that says **\"New API Client\"**.\n",
    "2. Remember, APIs are expecting *developers* to use their APIs to build applications (e.g., for your phone, computers, etc.). But, since we're only doing data analysis for a college course in informatics, we only need to fill in the fields for \"App Name\" (e.g., *\"Song Lyrics Project\"*), and \"App Website URL\" (e.g., *\"https://github.com/leontoddjohnson/myrepo\"*). Then, click **Save**.\n",
    "3. When you click \"Save,\" you'll be given a series of API Keys: a \"Client ID\" and a \"Client Secret.\" **Copy/Paste these values into your *.env* file** without quotations, as instructed in the dotenv documentation. For example, my *.env* file looks something like this:\n",
    "   \n",
    "```\n",
    "CLIENT_ID=asdfghjkl;123456789\n",
    "CLIENT_SECRET=qwertyuiop098765432   \n",
    "```\n",
    "    \n",
    "4. To generate your \"Client Access Token,\" which is the API key that we'll be using in this notebook, you need to click \"Generate Access Token\". Place that in your *.env* file as you did the other variables, maybe under the variable name ACCESS_TOKEN.\n",
    "\n",
    "We can access our `ACCESS_TOKEN` by using *dotenv* to load our environment variables into the current environment, then with the built-in Python *os* library to access it."
   ]
  },
  {
   "cell_type": "code",
   "execution_count": 19,
   "id": "0ed65d04-7b84-4207-9c93-43d6442f4fe8",
   "metadata": {
    "tags": []
   },
   "outputs": [
    {
     "data": {
      "text/plain": [
       "False"
      ]
     },
     "execution_count": 19,
     "metadata": {},
     "output_type": "execute_result"
    }
   ],
   "source": [
    "load_dotenv()"
   ]
  },
  {
   "cell_type": "code",
   "execution_count": 20,
   "id": "4062fb72-9067-4515-b654-9f736f16c41e",
   "metadata": {
    "tags": []
   },
   "outputs": [
    {
     "ename": "KeyError",
     "evalue": "'ACCESS_TOKEN'",
     "output_type": "error",
     "traceback": [
      "\u001b[0;31m---------------------------------------------------------------------------\u001b[0m",
      "\u001b[0;31mKeyError\u001b[0m                                  Traceback (most recent call last)",
      "Cell \u001b[0;32mIn[20], line 4\u001b[0m\n\u001b[1;32m      1\u001b[0m \u001b[38;5;28;01mimport\u001b[39;00m \u001b[38;5;21;01mos\u001b[39;00m\n\u001b[1;32m      3\u001b[0m \u001b[38;5;66;03m# do not print this variable anywhere if the notebook is going on GitHub\u001b[39;00m\n\u001b[0;32m----> 4\u001b[0m ACCESS_TOKEN \u001b[38;5;241m=\u001b[39m \u001b[43mos\u001b[49m\u001b[38;5;241;43m.\u001b[39;49m\u001b[43menviron\u001b[49m\u001b[43m[\u001b[49m\u001b[38;5;124;43m'\u001b[39;49m\u001b[38;5;124;43mACCESS_TOKEN\u001b[39;49m\u001b[38;5;124;43m'\u001b[39;49m\u001b[43m]\u001b[49m\n",
      "File \u001b[0;32m<frozen os>:679\u001b[0m, in \u001b[0;36m__getitem__\u001b[0;34m(self, key)\u001b[0m\n",
      "\u001b[0;31mKeyError\u001b[0m: 'ACCESS_TOKEN'"
     ]
    }
   ],
   "source": [
    "import os\n",
    "\n",
    "# do not print this variable anywhere if the notebook is going on GitHub\n",
    "ACCESS_TOKEN = os.environ['ACCESS_TOKEN']"
   ]
  },
  {
   "cell_type": "markdown",
   "id": "31042682-c1d1-4ff0-8861-7a22d68000d5",
   "metadata": {},
   "source": [
    "### Step 2: Making an API Request"
   ]
  },
  {
   "cell_type": "markdown",
   "id": "7881f4cb-ce72-4a06-a52e-4494eee327ff",
   "metadata": {},
   "source": [
    "Making an API request is very similar to accessing a URL in your browser. But, instead of getting a rendered HTML web page in return, you get some data in return.\n",
    "\n",
    "There are a few different ways that we can [query the Genius API](https://docs.genius.com/#songs-h2), but here we'll use [the basic search](https://docs.genius.com/#search-h2), which allows you to get a bunch of Genius data about any artist or songs that you search for:"
   ]
  },
  {
   "cell_type": "markdown",
   "id": "c42c185a-b0e5-4bdb-bb63-d05f031c8521",
   "metadata": {},
   "source": [
    "`http://api.genius.com/search?q={search_term}&access_token={client_access_token}`"
   ]
  },
  {
   "cell_type": "markdown",
   "id": "56954ef1-ee53-4647-8668-5e5e2806540e",
   "metadata": {},
   "source": [
    "First we're going to assign the string \"Missy Elliott\" to the variable `search_term`. Then we're going to make an f-string URL that contains the variables we'd like to include in our query."
   ]
  },
  {
   "cell_type": "code",
   "execution_count": null,
   "id": "dcb4d58a-fbf6-448f-9169-b85417752e7d",
   "metadata": {
    "tags": []
   },
   "outputs": [],
   "source": [
    "search_term = \"Missy Elliott\""
   ]
  },
  {
   "cell_type": "code",
   "execution_count": null,
   "id": "56727e16-04af-4054-ad31-337b3c0f8662",
   "metadata": {
    "tags": []
   },
   "outputs": [],
   "source": [
    "genius_search_url = f\"http://api.genius.com/search?q={search_term}&access_token={ACCESS_TOKEN}\""
   ]
  },
  {
   "cell_type": "markdown",
   "id": "1aa7c65d-c9f9-4641-96d1-d249a57bbbc4",
   "metadata": {},
   "source": [
    "You can see the data we'll be requesting from this API by printing the `genius_search_url`, pasting it into your browser."
   ]
  },
  {
   "cell_type": "code",
   "execution_count": null,
   "id": "f45b85a2-50ae-4d32-8ad2-5e08d0586f83",
   "metadata": {
    "tags": []
   },
   "outputs": [],
   "source": [
    "# print(genius_search_url)"
   ]
  },
  {
   "cell_type": "markdown",
   "id": "4b5f0536-bb4b-4d0d-8758-6b6b3e7c076c",
   "metadata": {},
   "source": [
    "The data you might see when you navigate to your URL is in [JSON](https://www.w3schools.com/whatis/whatis_json.asp) format. JSON is an acronym for JavaScript Object Notation, and it is a data format commonly used by APIs. JSON data can be nested, and contains key-value pairs, much like a Python dictionary.\n",
    "\n",
    "We can access this JSON directly in Python using the [`requests` library](https://requests.readthedocs.io/en/latest/) to send HTTP requests to a remote client. If you like, you can read more about what a \"request\" is [here](https://developer.mozilla.org/en-US/docs/Web/HTTP/Overview), but it suffices to say that it represents an online communication between your computer and the server storing the data you want."
   ]
  },
  {
   "cell_type": "code",
   "execution_count": null,
   "id": "a3b71e3f-6150-47a7-b9c6-17574d411523",
   "metadata": {
    "tags": []
   },
   "outputs": [],
   "source": [
    "import requests\n",
    "import json"
   ]
  },
  {
   "cell_type": "code",
   "execution_count": null,
   "id": "51608402-4516-4716-8e76-d8decdd8721f",
   "metadata": {
    "tags": []
   },
   "outputs": [],
   "source": [
    "# here, we make a \"GET\" request to the Genius server\n",
    "response = requests.get(genius_search_url)\n",
    "json_data = response.json()"
   ]
  },
  {
   "cell_type": "code",
   "execution_count": null,
   "id": "a973df3d-3888-45f4-9675-fc82ae8b5f73",
   "metadata": {
    "scrolled": true,
    "tags": [
     "output_scroll"
    ]
   },
   "outputs": [
    {
     "data": {
      "text/plain": [
       "{'meta': {'status': 200},\n",
       " 'response': {'hits': [{'highlights': [],\n",
       "    'index': 'song',\n",
       "    'type': 'song',\n",
       "    'result': {'annotation_count': 34,\n",
       "     'api_path': '/songs/4176',\n",
       "     'artist_names': 'Missy Elliott',\n",
       "     'full_title': 'Work It by\\xa0Missy\\xa0Elliott',\n",
       "     'header_image_thumbnail_url': 'https://images.genius.com/a54a36ef386a84ff0e689dc6d9cbdd18.300x300x1.jpg',\n",
       "     'header_image_url': 'https://images.genius.com/a54a36ef386a84ff0e689dc6d9cbdd18.953x953x1.jpg',\n",
       "     'id': 4176,\n",
       "     'lyrics_owner_id': 6654,\n",
       "     'lyrics_state': 'complete',\n",
       "     'path': '/Missy-elliott-work-it-lyrics',\n",
       "     'pyongs_count': 42,\n",
       "     'relationships_index_url': 'https://genius.com/Missy-elliott-work-it-sample',\n",
       "     'release_date_components': {'year': 2002, 'month': 9, 'day': 1},\n",
       "     'release_date_for_display': 'September 1, 2002',\n",
       "     'release_date_with_abbreviated_month_for_display': 'Sep. 1, 2002',\n",
       "     'song_art_image_thumbnail_url': 'https://images.genius.com/a54a36ef386a84ff0e689dc6d9cbdd18.300x300x1.jpg',\n",
       "     'song_art_image_url': 'https://images.genius.com/a54a36ef386a84ff0e689dc6d9cbdd18.953x953x1.jpg',\n",
       "     'stats': {'unreviewed_annotations': 3,\n",
       "      'hot': False,\n",
       "      'pageviews': 1392703},\n",
       "     'title': 'Work It',\n",
       "     'title_with_featured': 'Work It',\n",
       "     'url': 'https://genius.com/Missy-elliott-work-it-lyrics',\n",
       "     'featured_artists': [],\n",
       "     'primary_artist': {'api_path': '/artists/1529',\n",
       "      'header_image_url': 'https://images.genius.com/d91c82fa4ae2f1016fadc1c24fbbc59e.1000x333x1.jpg',\n",
       "      'id': 1529,\n",
       "      'image_url': 'https://images.genius.com/085828b7d79bf8cf068b1557ca7a5e4c.1000x1000x1.jpg',\n",
       "      'is_meme_verified': False,\n",
       "      'is_verified': False,\n",
       "      'name': 'Missy Elliott',\n",
       "      'url': 'https://genius.com/artists/Missy-elliott'}}},\n",
       "   {'highlights': [],\n",
       "    'index': 'song',\n",
       "    'type': 'song',\n",
       "    'result': {'annotation_count': 28,\n",
       "     'api_path': '/songs/2368201',\n",
       "     'artist_names': 'Missy Elliott (Ft. Pharrell Williams)',\n",
       "     'full_title': 'WTF (Where They From) by\\xa0Missy\\xa0Elliott (Ft.\\xa0Pharrell\\xa0Williams)',\n",
       "     'header_image_thumbnail_url': 'https://images.rapgenius.com/a439d6d6020559ffe7c10f0d73722de1.300x300x1.jpg',\n",
       "     'header_image_url': 'https://images.rapgenius.com/a439d6d6020559ffe7c10f0d73722de1.1000x1000x1.jpg',\n",
       "     'id': 2368201,\n",
       "     'lyrics_owner_id': 282633,\n",
       "     'lyrics_state': 'complete',\n",
       "     'path': '/Missy-elliott-wtf-where-they-from-lyrics',\n",
       "     'pyongs_count': 89,\n",
       "     'relationships_index_url': 'https://genius.com/Missy-elliott-wtf-where-they-from-sample',\n",
       "     'release_date_components': {'year': 2015, 'month': 11, 'day': 12},\n",
       "     'release_date_for_display': 'November 12, 2015',\n",
       "     'release_date_with_abbreviated_month_for_display': 'Nov. 12, 2015',\n",
       "     'song_art_image_thumbnail_url': 'https://images.rapgenius.com/a439d6d6020559ffe7c10f0d73722de1.300x300x1.jpg',\n",
       "     'song_art_image_url': 'https://images.rapgenius.com/a439d6d6020559ffe7c10f0d73722de1.1000x1000x1.jpg',\n",
       "     'stats': {'unreviewed_annotations': 1, 'hot': False, 'pageviews': 296364},\n",
       "     'title': 'WTF (Where They From)',\n",
       "     'title_with_featured': 'WTF (Where They From) (Ft.\\xa0Pharrell\\xa0Williams)',\n",
       "     'url': 'https://genius.com/Missy-elliott-wtf-where-they-from-lyrics',\n",
       "     'featured_artists': [{'api_path': '/artists/110',\n",
       "       'header_image_url': 'https://images.genius.com/6bb3ce5bd62c7acfc3a66798c4bbeb26.640x427x1.jpg',\n",
       "       'id': 110,\n",
       "       'image_url': 'https://images.genius.com/aa964e94a21e7b893801ed3a2bd389b8.1000x1000x1.jpg',\n",
       "       'is_meme_verified': True,\n",
       "       'is_verified': True,\n",
       "       'name': 'Pharrell Williams',\n",
       "       'url': 'https://genius.com/artists/Pharrell-williams',\n",
       "       'iq': 724}],\n",
       "     'primary_artist': {'api_path': '/artists/1529',\n",
       "      'header_image_url': 'https://images.genius.com/d91c82fa4ae2f1016fadc1c24fbbc59e.1000x333x1.jpg',\n",
       "      'id': 1529,\n",
       "      'image_url': 'https://images.genius.com/085828b7d79bf8cf068b1557ca7a5e4c.1000x1000x1.jpg',\n",
       "      'is_meme_verified': False,\n",
       "      'is_verified': False,\n",
       "      'name': 'Missy Elliott',\n",
       "      'url': 'https://genius.com/artists/Missy-elliott'}}},\n",
       "   {'highlights': [],\n",
       "    'index': 'song',\n",
       "    'type': 'song',\n",
       "    'result': {'annotation_count': 14,\n",
       "     'api_path': '/songs/4640',\n",
       "     'artist_names': 'Missy Elliott',\n",
       "     'full_title': 'Get Ur Freak On by\\xa0Missy\\xa0Elliott',\n",
       "     'header_image_thumbnail_url': 'https://images.genius.com/8c561e799c68d7b4fef60e5d3ef347a9.300x300x1.jpg',\n",
       "     'header_image_url': 'https://images.genius.com/8c561e799c68d7b4fef60e5d3ef347a9.1000x1000x1.jpg',\n",
       "     'id': 4640,\n",
       "     'lyrics_owner_id': 1297,\n",
       "     'lyrics_state': 'complete',\n",
       "     'path': '/Missy-elliott-get-ur-freak-on-lyrics',\n",
       "     'pyongs_count': 19,\n",
       "     'relationships_index_url': 'https://genius.com/Missy-elliott-get-ur-freak-on-sample',\n",
       "     'release_date_components': {'year': 2001, 'month': 3, 'day': 6},\n",
       "     'release_date_for_display': 'March 6, 2001',\n",
       "     'release_date_with_abbreviated_month_for_display': 'Mar. 6, 2001',\n",
       "     'song_art_image_thumbnail_url': 'https://images.genius.com/18baf13e5f41e15df357c3a85d673632.300x300x1.jpg',\n",
       "     'song_art_image_url': 'https://images.genius.com/18baf13e5f41e15df357c3a85d673632.600x600x1.jpg',\n",
       "     'stats': {'unreviewed_annotations': 0, 'hot': False, 'pageviews': 211528},\n",
       "     'title': 'Get Ur Freak On',\n",
       "     'title_with_featured': 'Get Ur Freak On',\n",
       "     'url': 'https://genius.com/Missy-elliott-get-ur-freak-on-lyrics',\n",
       "     'featured_artists': [],\n",
       "     'primary_artist': {'api_path': '/artists/1529',\n",
       "      'header_image_url': 'https://images.genius.com/d91c82fa4ae2f1016fadc1c24fbbc59e.1000x333x1.jpg',\n",
       "      'id': 1529,\n",
       "      'image_url': 'https://images.genius.com/085828b7d79bf8cf068b1557ca7a5e4c.1000x1000x1.jpg',\n",
       "      'is_meme_verified': False,\n",
       "      'is_verified': False,\n",
       "      'name': 'Missy Elliott',\n",
       "      'url': 'https://genius.com/artists/Missy-elliott'}}},\n",
       "   {'highlights': [],\n",
       "    'index': 'song',\n",
       "    'type': 'song',\n",
       "    'result': {'annotation_count': 42,\n",
       "     'api_path': '/songs/4173',\n",
       "     'artist_names': 'Missy Elliott (Ft. Ludacris)',\n",
       "     'full_title': 'Gossip Folks by\\xa0Missy\\xa0Elliott (Ft.\\xa0Ludacris)',\n",
       "     'header_image_thumbnail_url': 'https://images.genius.com/206153c53d05804677e236aa2ae4eb45.300x300x1.jpg',\n",
       "     'header_image_url': 'https://images.genius.com/206153c53d05804677e236aa2ae4eb45.600x600x1.jpg',\n",
       "     'id': 4173,\n",
       "     'lyrics_owner_id': 6654,\n",
       "     'lyrics_state': 'complete',\n",
       "     'path': '/Missy-elliott-gossip-folks-lyrics',\n",
       "     'pyongs_count': 8,\n",
       "     'relationships_index_url': 'https://genius.com/Missy-elliott-gossip-folks-sample',\n",
       "     'release_date_components': {'year': 2002, 'month': 11, 'day': 12},\n",
       "     'release_date_for_display': 'November 12, 2002',\n",
       "     'release_date_with_abbreviated_month_for_display': 'Nov. 12, 2002',\n",
       "     'song_art_image_thumbnail_url': 'https://images.genius.com/206153c53d05804677e236aa2ae4eb45.300x300x1.jpg',\n",
       "     'song_art_image_url': 'https://images.genius.com/206153c53d05804677e236aa2ae4eb45.600x600x1.jpg',\n",
       "     'stats': {'unreviewed_annotations': 0, 'hot': False, 'pageviews': 135031},\n",
       "     'title': 'Gossip Folks',\n",
       "     'title_with_featured': 'Gossip Folks (Ft.\\xa0Ludacris)',\n",
       "     'url': 'https://genius.com/Missy-elliott-gossip-folks-lyrics',\n",
       "     'featured_artists': [{'api_path': '/artists/111',\n",
       "       'header_image_url': 'https://images.genius.com/11880a64f4da5b0153259777d6bcc25e.1000x563x1.jpg',\n",
       "       'id': 111,\n",
       "       'image_url': 'https://images.genius.com/c2e7cfec154f8d1ea7b03aae38e830a8.579x579x1.jpg',\n",
       "       'is_meme_verified': False,\n",
       "       'is_verified': False,\n",
       "       'name': 'Ludacris',\n",
       "       'url': 'https://genius.com/artists/Ludacris'}],\n",
       "     'primary_artist': {'api_path': '/artists/1529',\n",
       "      'header_image_url': 'https://images.genius.com/d91c82fa4ae2f1016fadc1c24fbbc59e.1000x333x1.jpg',\n",
       "      'id': 1529,\n",
       "      'image_url': 'https://images.genius.com/085828b7d79bf8cf068b1557ca7a5e4c.1000x1000x1.jpg',\n",
       "      'is_meme_verified': False,\n",
       "      'is_verified': False,\n",
       "      'name': 'Missy Elliott',\n",
       "      'url': 'https://genius.com/artists/Missy-elliott'}}},\n",
       "   {'highlights': [],\n",
       "    'index': 'song',\n",
       "    'type': 'song',\n",
       "    'result': {'annotation_count': 6,\n",
       "     'api_path': '/songs/33158',\n",
       "     'artist_names': 'Missy Elliott (Ft. Ciara & Fatman Scoop)',\n",
       "     'full_title': 'Lose Control by\\xa0Missy\\xa0Elliott (Ft.\\xa0Ciara & Fatman\\xa0Scoop)',\n",
       "     'header_image_thumbnail_url': 'https://images.genius.com/51639e476eac5cb5bed5794c023763ff.300x303x1.jpg',\n",
       "     'header_image_url': 'https://images.genius.com/51639e476eac5cb5bed5794c023763ff.700x707x1.jpg',\n",
       "     'id': 33158,\n",
       "     'lyrics_owner_id': 50,\n",
       "     'lyrics_state': 'complete',\n",
       "     'path': '/Missy-elliott-lose-control-lyrics',\n",
       "     'pyongs_count': 11,\n",
       "     'relationships_index_url': 'https://genius.com/Missy-elliott-lose-control-sample',\n",
       "     'release_date_components': {'year': 2005, 'month': 5, 'day': 27},\n",
       "     'release_date_for_display': 'May 27, 2005',\n",
       "     'release_date_with_abbreviated_month_for_display': 'May. 27, 2005',\n",
       "     'song_art_image_thumbnail_url': 'https://images.genius.com/51639e476eac5cb5bed5794c023763ff.300x303x1.jpg',\n",
       "     'song_art_image_url': 'https://images.genius.com/51639e476eac5cb5bed5794c023763ff.700x707x1.jpg',\n",
       "     'stats': {'unreviewed_annotations': 1, 'hot': False, 'pageviews': 124450},\n",
       "     'title': 'Lose Control',\n",
       "     'title_with_featured': 'Lose Control (Ft.\\xa0Ciara & Fatman\\xa0Scoop)',\n",
       "     'url': 'https://genius.com/Missy-elliott-lose-control-lyrics',\n",
       "     'featured_artists': [{'api_path': '/artists/3516',\n",
       "       'header_image_url': 'https://images.genius.com/c6668ff096c94f8ce5a42becf4d65277.576x576x1.jpg',\n",
       "       'id': 3516,\n",
       "       'image_url': 'https://images.genius.com/c6668ff096c94f8ce5a42becf4d65277.576x576x1.jpg',\n",
       "       'is_meme_verified': False,\n",
       "       'is_verified': False,\n",
       "       'name': 'Fatman Scoop',\n",
       "       'url': 'https://genius.com/artists/Fatman-scoop'},\n",
       "      {'api_path': '/artists/1630',\n",
       "       'header_image_url': 'https://images.genius.com/8636c8aad8dfba446f8f0a3cbb8962aa.1000x245x1.png',\n",
       "       'id': 1630,\n",
       "       'image_url': 'https://images.genius.com/e923a5d22355e8946f06bacc8661f0c1.640x640x1.jpg',\n",
       "       'is_meme_verified': False,\n",
       "       'is_verified': False,\n",
       "       'name': 'Ciara',\n",
       "       'url': 'https://genius.com/artists/Ciara'}],\n",
       "     'primary_artist': {'api_path': '/artists/1529',\n",
       "      'header_image_url': 'https://images.genius.com/d91c82fa4ae2f1016fadc1c24fbbc59e.1000x333x1.jpg',\n",
       "      'id': 1529,\n",
       "      'image_url': 'https://images.genius.com/085828b7d79bf8cf068b1557ca7a5e4c.1000x1000x1.jpg',\n",
       "      'is_meme_verified': False,\n",
       "      'is_verified': False,\n",
       "      'name': 'Missy Elliott',\n",
       "      'url': 'https://genius.com/artists/Missy-elliott'}}},\n",
       "   {'highlights': [],\n",
       "    'index': 'song',\n",
       "    'type': 'song',\n",
       "    'result': {'annotation_count': 16,\n",
       "     'api_path': '/songs/128',\n",
       "     'artist_names': 'Missy Elliott',\n",
       "     'full_title': 'The Rain (Supa Dupa Fly) by\\xa0Missy\\xa0Elliott',\n",
       "     'header_image_thumbnail_url': 'https://images.genius.com/a1543159342cd360256c12b42185771f.300x308x1.jpg',\n",
       "     'header_image_url': 'https://images.genius.com/a1543159342cd360256c12b42185771f.975x1000x1.jpg',\n",
       "     'id': 128,\n",
       "     'lyrics_owner_id': 4619460,\n",
       "     'lyrics_state': 'complete',\n",
       "     'path': '/Missy-elliott-the-rain-supa-dupa-fly-lyrics',\n",
       "     'pyongs_count': 8,\n",
       "     'relationships_index_url': 'https://genius.com/Missy-elliott-the-rain-supa-dupa-fly-sample',\n",
       "     'release_date_components': {'year': 1997, 'month': 5, 'day': 20},\n",
       "     'release_date_for_display': 'May 20, 1997',\n",
       "     'release_date_with_abbreviated_month_for_display': 'May. 20, 1997',\n",
       "     'song_art_image_thumbnail_url': 'https://images.genius.com/a1543159342cd360256c12b42185771f.300x308x1.jpg',\n",
       "     'song_art_image_url': 'https://images.genius.com/a1543159342cd360256c12b42185771f.975x1000x1.jpg',\n",
       "     'stats': {'unreviewed_annotations': 0, 'hot': False, 'pageviews': 126091},\n",
       "     'title': 'The Rain (Supa Dupa Fly)',\n",
       "     'title_with_featured': 'The Rain (Supa Dupa Fly)',\n",
       "     'url': 'https://genius.com/Missy-elliott-the-rain-supa-dupa-fly-lyrics',\n",
       "     'featured_artists': [],\n",
       "     'primary_artist': {'api_path': '/artists/1529',\n",
       "      'header_image_url': 'https://images.genius.com/d91c82fa4ae2f1016fadc1c24fbbc59e.1000x333x1.jpg',\n",
       "      'id': 1529,\n",
       "      'image_url': 'https://images.genius.com/085828b7d79bf8cf068b1557ca7a5e4c.1000x1000x1.jpg',\n",
       "      'is_meme_verified': False,\n",
       "      'is_verified': False,\n",
       "      'name': 'Missy Elliott',\n",
       "      'url': 'https://genius.com/artists/Missy-elliott'}}},\n",
       "   {'highlights': [],\n",
       "    'index': 'song',\n",
       "    'type': 'song',\n",
       "    'result': {'annotation_count': 9,\n",
       "     'api_path': '/songs/2967124',\n",
       "     'artist_names': 'Missy Elliott (Ft. Cainon Lamb)',\n",
       "     'full_title': \"I'm Better by\\xa0Missy\\xa0Elliott (Ft.\\xa0Cainon\\xa0Lamb)\",\n",
       "     'header_image_thumbnail_url': 'https://images.genius.com/609afe10820cce09ce9e3c768518c63c.300x300x1.jpg',\n",
       "     'header_image_url': 'https://images.genius.com/609afe10820cce09ce9e3c768518c63c.600x600x1.jpg',\n",
       "     'id': 2967124,\n",
       "     'lyrics_owner_id': 3075478,\n",
       "     'lyrics_state': 'complete',\n",
       "     'path': '/Missy-elliott-im-better-lyrics',\n",
       "     'pyongs_count': 13,\n",
       "     'relationships_index_url': 'https://genius.com/Missy-elliott-im-better-sample',\n",
       "     'release_date_components': {'year': 2017, 'month': 1, 'day': 26},\n",
       "     'release_date_for_display': 'January 26, 2017',\n",
       "     'release_date_with_abbreviated_month_for_display': 'Jan. 26, 2017',\n",
       "     'song_art_image_thumbnail_url': 'https://images.genius.com/609afe10820cce09ce9e3c768518c63c.300x300x1.jpg',\n",
       "     'song_art_image_url': 'https://images.genius.com/609afe10820cce09ce9e3c768518c63c.600x600x1.jpg',\n",
       "     'stats': {'unreviewed_annotations': 0, 'hot': False, 'pageviews': 112934},\n",
       "     'title': 'I’m Better',\n",
       "     'title_with_featured': \"I'm Better (Ft.\\xa0Cainon\\xa0Lamb)\",\n",
       "     'url': 'https://genius.com/Missy-elliott-im-better-lyrics',\n",
       "     'featured_artists': [{'api_path': '/artists/305112',\n",
       "       'header_image_url': 'https://images.genius.com/b0bf9bf9be2df21ab3f6a45cd9cad67e.299x299x1.jpg',\n",
       "       'id': 305112,\n",
       "       'image_url': 'https://images.genius.com/b0bf9bf9be2df21ab3f6a45cd9cad67e.299x299x1.jpg',\n",
       "       'is_meme_verified': False,\n",
       "       'is_verified': False,\n",
       "       'name': 'Cainon Lamb',\n",
       "       'url': 'https://genius.com/artists/Cainon-lamb'}],\n",
       "     'primary_artist': {'api_path': '/artists/1529',\n",
       "      'header_image_url': 'https://images.genius.com/d91c82fa4ae2f1016fadc1c24fbbc59e.1000x333x1.jpg',\n",
       "      'id': 1529,\n",
       "      'image_url': 'https://images.genius.com/085828b7d79bf8cf068b1557ca7a5e4c.1000x1000x1.jpg',\n",
       "      'is_meme_verified': False,\n",
       "      'is_verified': False,\n",
       "      'name': 'Missy Elliott',\n",
       "      'url': 'https://genius.com/artists/Missy-elliott'}}},\n",
       "   {'highlights': [],\n",
       "    'index': 'song',\n",
       "    'type': 'song',\n",
       "    'result': {'annotation_count': 17,\n",
       "     'api_path': '/songs/4671',\n",
       "     'artist_names': 'Missy Elliott (Ft. Ludacris & Trina)',\n",
       "     'full_title': 'One Minute Man (Video Remix) by\\xa0Missy\\xa0Elliott (Ft.\\xa0Ludacris & Trina)',\n",
       "     'header_image_thumbnail_url': 'https://images.genius.com/a94eaf3c98a7134cb546ebf9e6d2b991.300x300x1.jpg',\n",
       "     'header_image_url': 'https://images.genius.com/a94eaf3c98a7134cb546ebf9e6d2b991.953x953x1.jpg',\n",
       "     'id': 4671,\n",
       "     'lyrics_owner_id': 7299,\n",
       "     'lyrics_state': 'complete',\n",
       "     'path': '/Missy-elliott-one-minute-man-video-remix-lyrics',\n",
       "     'pyongs_count': 6,\n",
       "     'relationships_index_url': 'https://genius.com/Missy-elliott-one-minute-man-video-remix-sample',\n",
       "     'release_date_components': {'year': 2001, 'month': 6, 'day': 22},\n",
       "     'release_date_for_display': 'June 22, 2001',\n",
       "     'release_date_with_abbreviated_month_for_display': 'Jun. 22, 2001',\n",
       "     'song_art_image_thumbnail_url': 'https://images.genius.com/a94eaf3c98a7134cb546ebf9e6d2b991.300x300x1.jpg',\n",
       "     'song_art_image_url': 'https://images.genius.com/a94eaf3c98a7134cb546ebf9e6d2b991.953x953x1.jpg',\n",
       "     'stats': {'unreviewed_annotations': 5, 'hot': False, 'pageviews': 77213},\n",
       "     'title': 'One Minute Man (Video Remix)',\n",
       "     'title_with_featured': 'One Minute Man (Video Remix) (Ft.\\xa0Ludacris & Trina)',\n",
       "     'url': 'https://genius.com/Missy-elliott-one-minute-man-video-remix-lyrics',\n",
       "     'featured_artists': [{'api_path': '/artists/117',\n",
       "       'header_image_url': 'https://images.genius.com/cf9fb6a21b7232aa1b28cd4c0543b4ff.550x271x1.jpg',\n",
       "       'id': 117,\n",
       "       'image_url': 'https://images.genius.com/14960b62107077180b3d8f9842d87f7a.1000x1000x1.jpg',\n",
       "       'is_meme_verified': False,\n",
       "       'is_verified': True,\n",
       "       'name': 'Trina',\n",
       "       'url': 'https://genius.com/artists/Trina',\n",
       "       'iq': 595},\n",
       "      {'api_path': '/artists/111',\n",
       "       'header_image_url': 'https://images.genius.com/11880a64f4da5b0153259777d6bcc25e.1000x563x1.jpg',\n",
       "       'id': 111,\n",
       "       'image_url': 'https://images.genius.com/c2e7cfec154f8d1ea7b03aae38e830a8.579x579x1.jpg',\n",
       "       'is_meme_verified': False,\n",
       "       'is_verified': False,\n",
       "       'name': 'Ludacris',\n",
       "       'url': 'https://genius.com/artists/Ludacris'}],\n",
       "     'primary_artist': {'api_path': '/artists/1529',\n",
       "      'header_image_url': 'https://images.genius.com/d91c82fa4ae2f1016fadc1c24fbbc59e.1000x333x1.jpg',\n",
       "      'id': 1529,\n",
       "      'image_url': 'https://images.genius.com/085828b7d79bf8cf068b1557ca7a5e4c.1000x1000x1.jpg',\n",
       "      'is_meme_verified': False,\n",
       "      'is_verified': False,\n",
       "      'name': 'Missy Elliott',\n",
       "      'url': 'https://genius.com/artists/Missy-elliott'}}},\n",
       "   {'highlights': [],\n",
       "    'index': 'song',\n",
       "    'type': 'song',\n",
       "    'result': {'annotation_count': 39,\n",
       "     'api_path': '/songs/33198',\n",
       "     'artist_names': \"Missy Elliott (Ft. Eve, Lil' Mo, Nas & Q-Tip)\",\n",
       "     'full_title': \"Hot Boyz (Remix) by\\xa0Missy\\xa0Elliott (Ft.\\xa0Eve, Lil'\\xa0Mo, Nas & Q-Tip)\",\n",
       "     'header_image_thumbnail_url': 'https://images.genius.com/2f13ef58a8d5efe0b1a4e96d2247e2b0.300x300x1.jpg',\n",
       "     'header_image_url': 'https://images.genius.com/2f13ef58a8d5efe0b1a4e96d2247e2b0.300x300x1.jpg',\n",
       "     'id': 33198,\n",
       "     'lyrics_owner_id': 50,\n",
       "     'lyrics_state': 'complete',\n",
       "     'path': '/Missy-elliott-hot-boyz-remix-lyrics',\n",
       "     'pyongs_count': 2,\n",
       "     'relationships_index_url': 'https://genius.com/Missy-elliott-hot-boyz-remix-sample',\n",
       "     'release_date_components': {'year': 1999, 'month': 11, 'day': 9},\n",
       "     'release_date_for_display': 'November 9, 1999',\n",
       "     'release_date_with_abbreviated_month_for_display': 'Nov. 9, 1999',\n",
       "     'song_art_image_thumbnail_url': 'https://images.genius.com/2f13ef58a8d5efe0b1a4e96d2247e2b0.300x300x1.jpg',\n",
       "     'song_art_image_url': 'https://images.genius.com/2f13ef58a8d5efe0b1a4e96d2247e2b0.300x300x1.jpg',\n",
       "     'stats': {'unreviewed_annotations': 0, 'hot': False, 'pageviews': 62083},\n",
       "     'title': 'Hot Boyz (Remix)',\n",
       "     'title_with_featured': \"Hot Boyz (Remix) (Ft.\\xa0Eve, Lil'\\xa0Mo, Nas & Q-Tip)\",\n",
       "     'url': 'https://genius.com/Missy-elliott-hot-boyz-remix-lyrics',\n",
       "     'featured_artists': [{'api_path': '/artists/267',\n",
       "       'header_image_url': 'https://s3.amazonaws.com/rapgenius/q-tip-rapper-mc.jpg',\n",
       "       'id': 267,\n",
       "       'image_url': 'https://s3.amazonaws.com/rapgenius/q-tip-rapper-mc.jpg',\n",
       "       'is_meme_verified': False,\n",
       "       'is_verified': True,\n",
       "       'name': 'Q-Tip',\n",
       "       'url': 'https://genius.com/artists/Q-tip',\n",
       "       'iq': 527},\n",
       "      {'api_path': '/artists/56',\n",
       "       'header_image_url': 'https://images.genius.com/db014f5e4f9c6e873e7c6e8ec7d1a76b.1000x624x1.jpg',\n",
       "       'id': 56,\n",
       "       'image_url': 'https://images.genius.com/23061dd2dc7e863127db561906debd27.434x434x1.jpg',\n",
       "       'is_meme_verified': True,\n",
       "       'is_verified': True,\n",
       "       'name': 'Nas',\n",
       "       'url': 'https://genius.com/artists/Nas',\n",
       "       'iq': 41834},\n",
       "      {'api_path': '/artists/2445',\n",
       "       'header_image_url': 'https://images.genius.com/e4820e36e64834cad8734b2c3382c993.500x344x1.jpg',\n",
       "       'id': 2445,\n",
       "       'image_url': 'https://images.genius.com/b466fbaf33cde94e5633d70d348aba73.344x344x1.jpg',\n",
       "       'is_meme_verified': False,\n",
       "       'is_verified': False,\n",
       "       'name': 'Lil’ Mo',\n",
       "       'url': 'https://genius.com/artists/Lil-mo'},\n",
       "      {'api_path': '/artists/458',\n",
       "       'header_image_url': 'https://images.genius.com/a81eb20a79449c65bf95be8b2ec2e3e9.1000x1000x1.jpg',\n",
       "       'id': 458,\n",
       "       'image_url': 'https://images.genius.com/a81eb20a79449c65bf95be8b2ec2e3e9.1000x1000x1.jpg',\n",
       "       'is_meme_verified': True,\n",
       "       'is_verified': True,\n",
       "       'name': 'Eve',\n",
       "       'url': 'https://genius.com/artists/Eve',\n",
       "       'iq': 1428}],\n",
       "     'primary_artist': {'api_path': '/artists/1529',\n",
       "      'header_image_url': 'https://images.genius.com/d91c82fa4ae2f1016fadc1c24fbbc59e.1000x333x1.jpg',\n",
       "      'id': 1529,\n",
       "      'image_url': 'https://images.genius.com/085828b7d79bf8cf068b1557ca7a5e4c.1000x1000x1.jpg',\n",
       "      'is_meme_verified': False,\n",
       "      'is_verified': False,\n",
       "      'name': 'Missy Elliott',\n",
       "      'url': 'https://genius.com/artists/Missy-elliott'}}},\n",
       "   {'highlights': [],\n",
       "    'index': 'song',\n",
       "    'type': 'song',\n",
       "    'result': {'annotation_count': 19,\n",
       "     'api_path': '/songs/33191',\n",
       "     'artist_names': 'Missy Elliott',\n",
       "     'full_title': 'Bomb Intro / Pass That Dutch by\\xa0Missy\\xa0Elliott',\n",
       "     'header_image_thumbnail_url': 'https://images.genius.com/8c2a5015c6ba9e5f0c154f9a20f14534.300x300x1.jpg',\n",
       "     'header_image_url': 'https://images.genius.com/8c2a5015c6ba9e5f0c154f9a20f14534.583x583x1.jpg',\n",
       "     'id': 33191,\n",
       "     'lyrics_owner_id': 50,\n",
       "     'lyrics_state': 'complete',\n",
       "     'path': '/Missy-elliott-bomb-intro-pass-that-dutch-lyrics',\n",
       "     'pyongs_count': 5,\n",
       "     'relationships_index_url': 'https://genius.com/Missy-elliott-bomb-intro-pass-that-dutch-sample',\n",
       "     'release_date_components': {'year': 2003, 'month': 10, 'day': 14},\n",
       "     'release_date_for_display': 'October 14, 2003',\n",
       "     'release_date_with_abbreviated_month_for_display': 'Oct. 14, 2003',\n",
       "     'song_art_image_thumbnail_url': 'https://images.genius.com/8c2a5015c6ba9e5f0c154f9a20f14534.300x300x1.jpg',\n",
       "     'song_art_image_url': 'https://images.genius.com/8c2a5015c6ba9e5f0c154f9a20f14534.583x583x1.jpg',\n",
       "     'stats': {'unreviewed_annotations': 3, 'hot': False, 'pageviews': 59115},\n",
       "     'title': 'Bomb Intro / Pass That Dutch',\n",
       "     'title_with_featured': 'Bomb Intro / Pass That Dutch',\n",
       "     'url': 'https://genius.com/Missy-elliott-bomb-intro-pass-that-dutch-lyrics',\n",
       "     'featured_artists': [],\n",
       "     'primary_artist': {'api_path': '/artists/1529',\n",
       "      'header_image_url': 'https://images.genius.com/d91c82fa4ae2f1016fadc1c24fbbc59e.1000x333x1.jpg',\n",
       "      'id': 1529,\n",
       "      'image_url': 'https://images.genius.com/085828b7d79bf8cf068b1557ca7a5e4c.1000x1000x1.jpg',\n",
       "      'is_meme_verified': False,\n",
       "      'is_verified': False,\n",
       "      'name': 'Missy Elliott',\n",
       "      'url': 'https://genius.com/artists/Missy-elliott'}}}]}}"
      ]
     },
     "execution_count": 9,
     "metadata": {},
     "output_type": "execute_result"
    }
   ],
   "source": [
    "json_data"
   ]
  },
  {
   "cell_type": "code",
   "execution_count": null,
   "id": "c3d4cc89-6749-492f-8ada-4b8901dcadb9",
   "metadata": {
    "tags": []
   },
   "outputs": [
    {
     "data": {
      "text/plain": [
       "dict_keys(['meta', 'response'])"
      ]
     },
     "execution_count": 10,
     "metadata": {},
     "output_type": "execute_result"
    }
   ],
   "source": [
    "json_data.keys()"
   ]
  },
  {
   "cell_type": "code",
   "execution_count": null,
   "id": "d198e743-333f-48ee-b989-fcfef454ca0a",
   "metadata": {
    "tags": []
   },
   "outputs": [
    {
     "data": {
      "text/plain": [
       "dict_keys(['hits'])"
      ]
     },
     "execution_count": 11,
     "metadata": {},
     "output_type": "execute_result"
    }
   ],
   "source": [
    "json_data['response'].keys()"
   ]
  },
  {
   "cell_type": "markdown",
   "id": "08888967-d792-433c-a382-eec134e22e96",
   "metadata": {},
   "source": [
    "Genius places all of its search results into the \"hits\" element. By default, it looks like it returns at most 10 search results for any request."
   ]
  },
  {
   "cell_type": "code",
   "execution_count": null,
   "id": "63f3fbd9-65bc-4724-bee8-b0a029c46652",
   "metadata": {
    "tags": []
   },
   "outputs": [
    {
     "data": {
      "text/plain": [
       "10"
      ]
     },
     "execution_count": 13,
     "metadata": {},
     "output_type": "execute_result"
    }
   ],
   "source": [
    "len(json_data['response']['hits'])"
   ]
  },
  {
   "cell_type": "markdown",
   "id": "c8f313ba-5830-4c90-9dbe-bd73471a1c90",
   "metadata": {},
   "source": [
    "According to the documentation, we can use [referents](https://docs.genius.com/#referents-h2) to increase that number to a maximum of 20 results per request using `per_page`. With this slight adjustment added, let's consolidate our request into a single function to use again later."
   ]
  },
  {
   "cell_type": "code",
   "execution_count": null,
   "id": "cfb436c7-b52b-4baf-aeb6-310051383a1b",
   "metadata": {
    "tags": []
   },
   "outputs": [],
   "source": [
    "def genius(search_term, per_page=15):\n",
    "    '''\n",
    "    Collect data from the Genius API by searching for `search_term`.\n",
    "    \n",
    "    **Assumes ACCESS_TOKEN is loaded in environment.**\n",
    "    '''\n",
    "    genius_search_url = f\"http://api.genius.com/search?q={search_term}&\" + \\\n",
    "                        f\"access_token={ACCESS_TOKEN}&per_page={per_page}\"\n",
    "    \n",
    "    response = requests.get(genius_search_url)\n",
    "    json_data = response.json()\n",
    "    \n",
    "    return json_data['response']['hits']"
   ]
  },
  {
   "cell_type": "code",
   "execution_count": null,
   "id": "081343a8-acd1-4f19-bfa7-ea345c6ea5cd",
   "metadata": {
    "tags": []
   },
   "outputs": [
    {
     "data": {
      "text/plain": [
       "15"
      ]
     },
     "execution_count": 25,
     "metadata": {},
     "output_type": "execute_result"
    }
   ],
   "source": [
    "json_data = genius(\"The Beatles\")\n",
    "len(json_data)"
   ]
  },
  {
   "cell_type": "markdown",
   "id": "ad34f826-ba40-49b1-968f-08364b0f07af",
   "metadata": {},
   "source": [
    "## Loading JSON Data Into a DataFrame\n",
    "\n",
    "For us to efficiently work with the JSON data, we need to load them into a DataFrame. Conveniently, our \"JSON\" data is actually now stored in a Python list (of dictionaries), and this is exactly one of the main formats that `pd.DataFrame` [expects](https://pandas.pydata.org/docs/reference/api/pandas.DataFrame.html#pandas-dataframe).\n",
    "\n",
    "*Note: JSON data is often saved in files, much like CSVs. In these cases, you can use `pd.read_json` to read in those files.*"
   ]
  },
  {
   "cell_type": "code",
   "execution_count": null,
   "id": "1ea99fb7-6e49-4439-a7f1-2cfd5b29efb6",
   "metadata": {
    "tags": []
   },
   "outputs": [],
   "source": [
    "import pandas as pd"
   ]
  },
  {
   "cell_type": "code",
   "execution_count": null,
   "id": "b6a0c04f-e124-40bb-bbd3-0b33f7282bae",
   "metadata": {
    "scrolled": true,
    "tags": []
   },
   "outputs": [
    {
     "data": {
      "text/plain": [
       "{'highlights': [],\n",
       " 'index': 'song',\n",
       " 'type': 'song',\n",
       " 'result': {'annotation_count': 8,\n",
       "  'api_path': '/songs/2236',\n",
       "  'artist_names': 'The Beatles',\n",
       "  'full_title': 'Yesterday by\\xa0The\\xa0Beatles',\n",
       "  'header_image_thumbnail_url': 'https://images.genius.com/67d46a92276344c6a8684f9c7d27ef80.300x169x1.jpg',\n",
       "  'header_image_url': 'https://images.genius.com/67d46a92276344c6a8684f9c7d27ef80.1000x563x1.jpg',\n",
       "  'id': 2236,\n",
       "  'lyrics_owner_id': 7,\n",
       "  'lyrics_state': 'complete',\n",
       "  'path': '/The-beatles-yesterday-lyrics',\n",
       "  'pyongs_count': 95,\n",
       "  'relationships_index_url': 'https://genius.com/The-beatles-yesterday-sample',\n",
       "  'release_date_components': {'year': 1965, 'month': 9, 'day': 13},\n",
       "  'release_date_for_display': 'September 13, 1965',\n",
       "  'release_date_with_abbreviated_month_for_display': 'Sep. 13, 1965',\n",
       "  'song_art_image_thumbnail_url': 'https://images.genius.com/f9bfd62a8c651caab16f631039a9a0b6.300x300x1.jpg',\n",
       "  'song_art_image_url': 'https://images.genius.com/f9bfd62a8c651caab16f631039a9a0b6.600x600x1.jpg',\n",
       "  'stats': {'unreviewed_annotations': 4,\n",
       "   'concurrents': 11,\n",
       "   'hot': False,\n",
       "   'pageviews': 2525012},\n",
       "  'title': 'Yesterday',\n",
       "  'title_with_featured': 'Yesterday',\n",
       "  'url': 'https://genius.com/The-beatles-yesterday-lyrics',\n",
       "  'featured_artists': [],\n",
       "  'primary_artist': {'api_path': '/artists/586',\n",
       "   'header_image_url': 'https://images.genius.com/817d7fb288bb1c8456140d7e4987e7e7.400x226x148.gif',\n",
       "   'id': 586,\n",
       "   'image_url': 'https://images.genius.com/2a7afa0442a3805371b018ca29dfdda6.1000x1000x1.jpg',\n",
       "   'is_meme_verified': False,\n",
       "   'is_verified': False,\n",
       "   'name': 'The Beatles',\n",
       "   'url': 'https://genius.com/artists/The-beatles'}}}"
      ]
     },
     "execution_count": 27,
     "metadata": {},
     "output_type": "execute_result"
    }
   ],
   "source": [
    "json_data[0]"
   ]
  },
  {
   "cell_type": "markdown",
   "id": "583d8f30-2170-414e-95f6-c5587ab5268c",
   "metadata": {},
   "source": [
    "When we look at any of the hits, we see the data we're interested in is contained in the `\"result\"` element. We can consolidate all of the \"result\" elements for each \"hit\" using a list comprehension.\n",
    "\n",
    "**Looking ahead:** Notice that the `\"stats\"` and the `\"primary_artist\"` elements contain *dictionaries* of interesting data that we'll need to unpack once we have our data into a DataFrame."
   ]
  },
  {
   "cell_type": "code",
   "execution_count": null,
   "id": "a7c6d7fa-6cb5-4923-9e35-6304714e1554",
   "metadata": {},
   "outputs": [],
   "source": [
    "hits = [hit['result'] for hit in json_data]\n",
    "df = pd.DataFrame(hits)"
   ]
  },
  {
   "cell_type": "code",
   "execution_count": null,
   "id": "ea86f031-5e41-4b5e-ab53-8c7872b2b4b4",
   "metadata": {
    "tags": []
   },
   "outputs": [
    {
     "data": {
      "text/html": [
       "<div>\n",
       "<style scoped>\n",
       "    .dataframe tbody tr th:only-of-type {\n",
       "        vertical-align: middle;\n",
       "    }\n",
       "\n",
       "    .dataframe tbody tr th {\n",
       "        vertical-align: top;\n",
       "    }\n",
       "\n",
       "    .dataframe thead th {\n",
       "        text-align: right;\n",
       "    }\n",
       "</style>\n",
       "<table border=\"1\" class=\"dataframe\">\n",
       "  <thead>\n",
       "    <tr style=\"text-align: right;\">\n",
       "      <th></th>\n",
       "      <th>annotation_count</th>\n",
       "      <th>api_path</th>\n",
       "      <th>artist_names</th>\n",
       "      <th>full_title</th>\n",
       "      <th>header_image_thumbnail_url</th>\n",
       "      <th>header_image_url</th>\n",
       "      <th>id</th>\n",
       "      <th>lyrics_owner_id</th>\n",
       "      <th>lyrics_state</th>\n",
       "      <th>path</th>\n",
       "      <th>...</th>\n",
       "      <th>release_date_for_display</th>\n",
       "      <th>release_date_with_abbreviated_month_for_display</th>\n",
       "      <th>song_art_image_thumbnail_url</th>\n",
       "      <th>song_art_image_url</th>\n",
       "      <th>stats</th>\n",
       "      <th>title</th>\n",
       "      <th>title_with_featured</th>\n",
       "      <th>url</th>\n",
       "      <th>featured_artists</th>\n",
       "      <th>primary_artist</th>\n",
       "    </tr>\n",
       "  </thead>\n",
       "  <tbody>\n",
       "    <tr>\n",
       "      <th>0</th>\n",
       "      <td>8</td>\n",
       "      <td>/songs/2236</td>\n",
       "      <td>The Beatles</td>\n",
       "      <td>Yesterday by The Beatles</td>\n",
       "      <td>https://images.genius.com/67d46a92276344c6a868...</td>\n",
       "      <td>https://images.genius.com/67d46a92276344c6a868...</td>\n",
       "      <td>2236</td>\n",
       "      <td>7</td>\n",
       "      <td>complete</td>\n",
       "      <td>/The-beatles-yesterday-lyrics</td>\n",
       "      <td>...</td>\n",
       "      <td>September 13, 1965</td>\n",
       "      <td>Sep. 13, 1965</td>\n",
       "      <td>https://images.genius.com/f9bfd62a8c651caab16f...</td>\n",
       "      <td>https://images.genius.com/f9bfd62a8c651caab16f...</td>\n",
       "      <td>{'unreviewed_annotations': 4, 'concurrents': 1...</td>\n",
       "      <td>Yesterday</td>\n",
       "      <td>Yesterday</td>\n",
       "      <td>https://genius.com/The-beatles-yesterday-lyrics</td>\n",
       "      <td>[]</td>\n",
       "      <td>{'api_path': '/artists/586', 'header_image_url...</td>\n",
       "    </tr>\n",
       "    <tr>\n",
       "      <th>1</th>\n",
       "      <td>9</td>\n",
       "      <td>/songs/1575</td>\n",
       "      <td>The Beatles</td>\n",
       "      <td>Let It Be by The Beatles</td>\n",
       "      <td>https://images.genius.com/92f06c735acd852cb7f6...</td>\n",
       "      <td>https://images.genius.com/92f06c735acd852cb7f6...</td>\n",
       "      <td>1575</td>\n",
       "      <td>7</td>\n",
       "      <td>complete</td>\n",
       "      <td>/The-beatles-let-it-be-lyrics</td>\n",
       "      <td>...</td>\n",
       "      <td>May 8, 1970</td>\n",
       "      <td>May. 8, 1970</td>\n",
       "      <td>https://images.genius.com/38df3b59f231f4babd59...</td>\n",
       "      <td>https://images.genius.com/38df3b59f231f4babd59...</td>\n",
       "      <td>{'unreviewed_annotations': 1, 'concurrents': 4...</td>\n",
       "      <td>Let It Be</td>\n",
       "      <td>Let It Be</td>\n",
       "      <td>https://genius.com/The-beatles-let-it-be-lyrics</td>\n",
       "      <td>[]</td>\n",
       "      <td>{'api_path': '/artists/586', 'header_image_url...</td>\n",
       "    </tr>\n",
       "    <tr>\n",
       "      <th>2</th>\n",
       "      <td>23</td>\n",
       "      <td>/songs/82381</td>\n",
       "      <td>The Beatles</td>\n",
       "      <td>Hey Jude by The Beatles</td>\n",
       "      <td>https://images.genius.com/d3ed7c6e723c41aa6741...</td>\n",
       "      <td>https://images.genius.com/d3ed7c6e723c41aa6741...</td>\n",
       "      <td>82381</td>\n",
       "      <td>25711</td>\n",
       "      <td>complete</td>\n",
       "      <td>/The-beatles-hey-jude-lyrics</td>\n",
       "      <td>...</td>\n",
       "      <td>August 26, 1968</td>\n",
       "      <td>Aug. 26, 1968</td>\n",
       "      <td>https://images.genius.com/537342a11e2455300f30...</td>\n",
       "      <td>https://images.genius.com/537342a11e2455300f30...</td>\n",
       "      <td>{'unreviewed_annotations': 3, 'concurrents': 3...</td>\n",
       "      <td>Hey Jude</td>\n",
       "      <td>Hey Jude</td>\n",
       "      <td>https://genius.com/The-beatles-hey-jude-lyrics</td>\n",
       "      <td>[]</td>\n",
       "      <td>{'api_path': '/artists/586', 'header_image_url...</td>\n",
       "    </tr>\n",
       "    <tr>\n",
       "      <th>3</th>\n",
       "      <td>20</td>\n",
       "      <td>/songs/56218</td>\n",
       "      <td>The Beatles</td>\n",
       "      <td>Come Together by The Beatles</td>\n",
       "      <td>https://images.genius.com/5a6f82f01d02914d41eb...</td>\n",
       "      <td>https://images.genius.com/5a6f82f01d02914d41eb...</td>\n",
       "      <td>56218</td>\n",
       "      <td>29141</td>\n",
       "      <td>complete</td>\n",
       "      <td>/The-beatles-come-together-lyrics</td>\n",
       "      <td>...</td>\n",
       "      <td>September 26, 1969</td>\n",
       "      <td>Sep. 26, 1969</td>\n",
       "      <td>https://images.genius.com/04df901371547072bab6...</td>\n",
       "      <td>https://images.genius.com/04df901371547072bab6...</td>\n",
       "      <td>{'unreviewed_annotations': 7, 'concurrents': 2...</td>\n",
       "      <td>Come Together</td>\n",
       "      <td>Come Together</td>\n",
       "      <td>https://genius.com/The-beatles-come-together-l...</td>\n",
       "      <td>[]</td>\n",
       "      <td>{'api_path': '/artists/586', 'header_image_url...</td>\n",
       "    </tr>\n",
       "    <tr>\n",
       "      <th>4</th>\n",
       "      <td>9</td>\n",
       "      <td>/songs/71861</td>\n",
       "      <td>The Beatles</td>\n",
       "      <td>In My Life by The Beatles</td>\n",
       "      <td>https://images.genius.com/1a5e9183169bb70366f9...</td>\n",
       "      <td>https://images.genius.com/1a5e9183169bb70366f9...</td>\n",
       "      <td>71861</td>\n",
       "      <td>11524</td>\n",
       "      <td>complete</td>\n",
       "      <td>/The-beatles-in-my-life-lyrics</td>\n",
       "      <td>...</td>\n",
       "      <td>December 3, 1965</td>\n",
       "      <td>Dec. 3, 1965</td>\n",
       "      <td>https://images.genius.com/1a5e9183169bb70366f9...</td>\n",
       "      <td>https://images.genius.com/1a5e9183169bb70366f9...</td>\n",
       "      <td>{'unreviewed_annotations': 4, 'concurrents': 5...</td>\n",
       "      <td>In My Life</td>\n",
       "      <td>In My Life</td>\n",
       "      <td>https://genius.com/The-beatles-in-my-life-lyrics</td>\n",
       "      <td>[]</td>\n",
       "      <td>{'api_path': '/artists/586', 'header_image_url...</td>\n",
       "    </tr>\n",
       "  </tbody>\n",
       "</table>\n",
       "<p>5 rows × 23 columns</p>\n",
       "</div>"
      ],
      "text/plain": [
       "   annotation_count      api_path artist_names                    full_title  \\\n",
       "0                 8   /songs/2236  The Beatles      Yesterday by The Beatles   \n",
       "1                 9   /songs/1575  The Beatles      Let It Be by The Beatles   \n",
       "2                23  /songs/82381  The Beatles       Hey Jude by The Beatles   \n",
       "3                20  /songs/56218  The Beatles  Come Together by The Beatles   \n",
       "4                 9  /songs/71861  The Beatles     In My Life by The Beatles   \n",
       "\n",
       "                          header_image_thumbnail_url  \\\n",
       "0  https://images.genius.com/67d46a92276344c6a868...   \n",
       "1  https://images.genius.com/92f06c735acd852cb7f6...   \n",
       "2  https://images.genius.com/d3ed7c6e723c41aa6741...   \n",
       "3  https://images.genius.com/5a6f82f01d02914d41eb...   \n",
       "4  https://images.genius.com/1a5e9183169bb70366f9...   \n",
       "\n",
       "                                    header_image_url     id  lyrics_owner_id  \\\n",
       "0  https://images.genius.com/67d46a92276344c6a868...   2236                7   \n",
       "1  https://images.genius.com/92f06c735acd852cb7f6...   1575                7   \n",
       "2  https://images.genius.com/d3ed7c6e723c41aa6741...  82381            25711   \n",
       "3  https://images.genius.com/5a6f82f01d02914d41eb...  56218            29141   \n",
       "4  https://images.genius.com/1a5e9183169bb70366f9...  71861            11524   \n",
       "\n",
       "  lyrics_state                               path  ...  \\\n",
       "0     complete      /The-beatles-yesterday-lyrics  ...   \n",
       "1     complete      /The-beatles-let-it-be-lyrics  ...   \n",
       "2     complete       /The-beatles-hey-jude-lyrics  ...   \n",
       "3     complete  /The-beatles-come-together-lyrics  ...   \n",
       "4     complete     /The-beatles-in-my-life-lyrics  ...   \n",
       "\n",
       "   release_date_for_display release_date_with_abbreviated_month_for_display  \\\n",
       "0        September 13, 1965                                   Sep. 13, 1965   \n",
       "1               May 8, 1970                                    May. 8, 1970   \n",
       "2           August 26, 1968                                   Aug. 26, 1968   \n",
       "3        September 26, 1969                                   Sep. 26, 1969   \n",
       "4          December 3, 1965                                    Dec. 3, 1965   \n",
       "\n",
       "                        song_art_image_thumbnail_url  \\\n",
       "0  https://images.genius.com/f9bfd62a8c651caab16f...   \n",
       "1  https://images.genius.com/38df3b59f231f4babd59...   \n",
       "2  https://images.genius.com/537342a11e2455300f30...   \n",
       "3  https://images.genius.com/04df901371547072bab6...   \n",
       "4  https://images.genius.com/1a5e9183169bb70366f9...   \n",
       "\n",
       "                                  song_art_image_url  \\\n",
       "0  https://images.genius.com/f9bfd62a8c651caab16f...   \n",
       "1  https://images.genius.com/38df3b59f231f4babd59...   \n",
       "2  https://images.genius.com/537342a11e2455300f30...   \n",
       "3  https://images.genius.com/04df901371547072bab6...   \n",
       "4  https://images.genius.com/1a5e9183169bb70366f9...   \n",
       "\n",
       "                                               stats          title  \\\n",
       "0  {'unreviewed_annotations': 4, 'concurrents': 1...      Yesterday   \n",
       "1  {'unreviewed_annotations': 1, 'concurrents': 4...      Let It Be   \n",
       "2  {'unreviewed_annotations': 3, 'concurrents': 3...       Hey Jude   \n",
       "3  {'unreviewed_annotations': 7, 'concurrents': 2...  Come Together   \n",
       "4  {'unreviewed_annotations': 4, 'concurrents': 5...     In My Life   \n",
       "\n",
       "  title_with_featured                                                url  \\\n",
       "0           Yesterday    https://genius.com/The-beatles-yesterday-lyrics   \n",
       "1           Let It Be    https://genius.com/The-beatles-let-it-be-lyrics   \n",
       "2            Hey Jude     https://genius.com/The-beatles-hey-jude-lyrics   \n",
       "3       Come Together  https://genius.com/The-beatles-come-together-l...   \n",
       "4          In My Life   https://genius.com/The-beatles-in-my-life-lyrics   \n",
       "\n",
       "  featured_artists                                     primary_artist  \n",
       "0               []  {'api_path': '/artists/586', 'header_image_url...  \n",
       "1               []  {'api_path': '/artists/586', 'header_image_url...  \n",
       "2               []  {'api_path': '/artists/586', 'header_image_url...  \n",
       "3               []  {'api_path': '/artists/586', 'header_image_url...  \n",
       "4               []  {'api_path': '/artists/586', 'header_image_url...  \n",
       "\n",
       "[5 rows x 23 columns]"
      ]
     },
     "execution_count": 29,
     "metadata": {},
     "output_type": "execute_result"
    }
   ],
   "source": [
    "df.head()"
   ]
  },
  {
   "cell_type": "markdown",
   "id": "6115181b-c6c5-4446-bc8d-2125e1f5c6cf",
   "metadata": {},
   "source": [
    "Recall that `\"stats\"` and `\"primary_artist\"` contain dictionaries which we want to unpack. After a bit of StackOverflow searching (say), we find that we can [use](https://stackoverflow.com/a/38231651) `pd.apply(pd.Series)` and `pd.concat` to explode these into columns. We'll need to make a slight adjustment to the column names to avoid repeats."
   ]
  },
  {
   "cell_type": "code",
   "execution_count": null,
   "id": "414041b6-4433-4bb0-b8b7-1a66c5bd2eb9",
   "metadata": {
    "tags": []
   },
   "outputs": [
    {
     "data": {
      "text/html": [
       "<div>\n",
       "<style scoped>\n",
       "    .dataframe tbody tr th:only-of-type {\n",
       "        vertical-align: middle;\n",
       "    }\n",
       "\n",
       "    .dataframe tbody tr th {\n",
       "        vertical-align: top;\n",
       "    }\n",
       "\n",
       "    .dataframe thead th {\n",
       "        text-align: right;\n",
       "    }\n",
       "</style>\n",
       "<table border=\"1\" class=\"dataframe\">\n",
       "  <thead>\n",
       "    <tr style=\"text-align: right;\">\n",
       "      <th></th>\n",
       "      <th>stat_unreviewed_annotations</th>\n",
       "      <th>stat_concurrents</th>\n",
       "      <th>stat_hot</th>\n",
       "      <th>stat_pageviews</th>\n",
       "    </tr>\n",
       "  </thead>\n",
       "  <tbody>\n",
       "    <tr>\n",
       "      <th>0</th>\n",
       "      <td>4</td>\n",
       "      <td>11.0</td>\n",
       "      <td>False</td>\n",
       "      <td>2525012</td>\n",
       "    </tr>\n",
       "    <tr>\n",
       "      <th>1</th>\n",
       "      <td>1</td>\n",
       "      <td>4.0</td>\n",
       "      <td>False</td>\n",
       "      <td>1754275</td>\n",
       "    </tr>\n",
       "    <tr>\n",
       "      <th>2</th>\n",
       "      <td>3</td>\n",
       "      <td>3.0</td>\n",
       "      <td>False</td>\n",
       "      <td>1316536</td>\n",
       "    </tr>\n",
       "    <tr>\n",
       "      <th>3</th>\n",
       "      <td>7</td>\n",
       "      <td>2.0</td>\n",
       "      <td>False</td>\n",
       "      <td>1290747</td>\n",
       "    </tr>\n",
       "    <tr>\n",
       "      <th>4</th>\n",
       "      <td>4</td>\n",
       "      <td>5.0</td>\n",
       "      <td>False</td>\n",
       "      <td>1206816</td>\n",
       "    </tr>\n",
       "  </tbody>\n",
       "</table>\n",
       "</div>"
      ],
      "text/plain": [
       "   stat_unreviewed_annotations  stat_concurrents  stat_hot  stat_pageviews\n",
       "0                            4              11.0     False         2525012\n",
       "1                            1               4.0     False         1754275\n",
       "2                            3               3.0     False         1316536\n",
       "3                            7               2.0     False         1290747\n",
       "4                            4               5.0     False         1206816"
      ]
     },
     "execution_count": 30,
     "metadata": {},
     "output_type": "execute_result"
    }
   ],
   "source": [
    "df_stats = df['stats'].apply(pd.Series)\n",
    "df_stats.rename(columns={c:'stat_' + c for c in df_stats.columns},\n",
    "                inplace=True)\n",
    "\n",
    "df_stats.head()"
   ]
  },
  {
   "cell_type": "code",
   "execution_count": null,
   "id": "c428b31d-cb9e-444b-b218-5a2b18155c2d",
   "metadata": {
    "tags": []
   },
   "outputs": [
    {
     "data": {
      "text/html": [
       "<div>\n",
       "<style scoped>\n",
       "    .dataframe tbody tr th:only-of-type {\n",
       "        vertical-align: middle;\n",
       "    }\n",
       "\n",
       "    .dataframe tbody tr th {\n",
       "        vertical-align: top;\n",
       "    }\n",
       "\n",
       "    .dataframe thead th {\n",
       "        text-align: right;\n",
       "    }\n",
       "</style>\n",
       "<table border=\"1\" class=\"dataframe\">\n",
       "  <thead>\n",
       "    <tr style=\"text-align: right;\">\n",
       "      <th></th>\n",
       "      <th>primary_artist_api_path</th>\n",
       "      <th>primary_artist_header_image_url</th>\n",
       "      <th>primary_artist_id</th>\n",
       "      <th>primary_artist_image_url</th>\n",
       "      <th>primary_artist_is_meme_verified</th>\n",
       "      <th>primary_artist_is_verified</th>\n",
       "      <th>primary_artist_name</th>\n",
       "      <th>primary_artist_url</th>\n",
       "    </tr>\n",
       "  </thead>\n",
       "  <tbody>\n",
       "    <tr>\n",
       "      <th>0</th>\n",
       "      <td>/artists/586</td>\n",
       "      <td>https://images.genius.com/817d7fb288bb1c845614...</td>\n",
       "      <td>586</td>\n",
       "      <td>https://images.genius.com/2a7afa0442a3805371b0...</td>\n",
       "      <td>False</td>\n",
       "      <td>False</td>\n",
       "      <td>The Beatles</td>\n",
       "      <td>https://genius.com/artists/The-beatles</td>\n",
       "    </tr>\n",
       "    <tr>\n",
       "      <th>1</th>\n",
       "      <td>/artists/586</td>\n",
       "      <td>https://images.genius.com/817d7fb288bb1c845614...</td>\n",
       "      <td>586</td>\n",
       "      <td>https://images.genius.com/2a7afa0442a3805371b0...</td>\n",
       "      <td>False</td>\n",
       "      <td>False</td>\n",
       "      <td>The Beatles</td>\n",
       "      <td>https://genius.com/artists/The-beatles</td>\n",
       "    </tr>\n",
       "    <tr>\n",
       "      <th>2</th>\n",
       "      <td>/artists/586</td>\n",
       "      <td>https://images.genius.com/817d7fb288bb1c845614...</td>\n",
       "      <td>586</td>\n",
       "      <td>https://images.genius.com/2a7afa0442a3805371b0...</td>\n",
       "      <td>False</td>\n",
       "      <td>False</td>\n",
       "      <td>The Beatles</td>\n",
       "      <td>https://genius.com/artists/The-beatles</td>\n",
       "    </tr>\n",
       "    <tr>\n",
       "      <th>3</th>\n",
       "      <td>/artists/586</td>\n",
       "      <td>https://images.genius.com/817d7fb288bb1c845614...</td>\n",
       "      <td>586</td>\n",
       "      <td>https://images.genius.com/2a7afa0442a3805371b0...</td>\n",
       "      <td>False</td>\n",
       "      <td>False</td>\n",
       "      <td>The Beatles</td>\n",
       "      <td>https://genius.com/artists/The-beatles</td>\n",
       "    </tr>\n",
       "    <tr>\n",
       "      <th>4</th>\n",
       "      <td>/artists/586</td>\n",
       "      <td>https://images.genius.com/817d7fb288bb1c845614...</td>\n",
       "      <td>586</td>\n",
       "      <td>https://images.genius.com/2a7afa0442a3805371b0...</td>\n",
       "      <td>False</td>\n",
       "      <td>False</td>\n",
       "      <td>The Beatles</td>\n",
       "      <td>https://genius.com/artists/The-beatles</td>\n",
       "    </tr>\n",
       "  </tbody>\n",
       "</table>\n",
       "</div>"
      ],
      "text/plain": [
       "  primary_artist_api_path                    primary_artist_header_image_url  \\\n",
       "0            /artists/586  https://images.genius.com/817d7fb288bb1c845614...   \n",
       "1            /artists/586  https://images.genius.com/817d7fb288bb1c845614...   \n",
       "2            /artists/586  https://images.genius.com/817d7fb288bb1c845614...   \n",
       "3            /artists/586  https://images.genius.com/817d7fb288bb1c845614...   \n",
       "4            /artists/586  https://images.genius.com/817d7fb288bb1c845614...   \n",
       "\n",
       "   primary_artist_id                           primary_artist_image_url  \\\n",
       "0                586  https://images.genius.com/2a7afa0442a3805371b0...   \n",
       "1                586  https://images.genius.com/2a7afa0442a3805371b0...   \n",
       "2                586  https://images.genius.com/2a7afa0442a3805371b0...   \n",
       "3                586  https://images.genius.com/2a7afa0442a3805371b0...   \n",
       "4                586  https://images.genius.com/2a7afa0442a3805371b0...   \n",
       "\n",
       "   primary_artist_is_meme_verified  primary_artist_is_verified  \\\n",
       "0                            False                       False   \n",
       "1                            False                       False   \n",
       "2                            False                       False   \n",
       "3                            False                       False   \n",
       "4                            False                       False   \n",
       "\n",
       "  primary_artist_name                      primary_artist_url  \n",
       "0         The Beatles  https://genius.com/artists/The-beatles  \n",
       "1         The Beatles  https://genius.com/artists/The-beatles  \n",
       "2         The Beatles  https://genius.com/artists/The-beatles  \n",
       "3         The Beatles  https://genius.com/artists/The-beatles  \n",
       "4         The Beatles  https://genius.com/artists/The-beatles  "
      ]
     },
     "execution_count": 31,
     "metadata": {},
     "output_type": "execute_result"
    }
   ],
   "source": [
    "df_primary = df['primary_artist'].apply(pd.Series)\n",
    "df_primary.rename(columns={c:'primary_artist_' + c for c in df_primary.columns},\n",
    "                  inplace=True)\n",
    "df_primary.head()"
   ]
  },
  {
   "cell_type": "code",
   "execution_count": null,
   "id": "cde68326-6dfd-49dc-9438-9f805d523b24",
   "metadata": {
    "tags": []
   },
   "outputs": [],
   "source": [
    "# notice, we maintain the original column here\n",
    "df = pd.concat((df, df_stats, df_primary), axis=1)"
   ]
  },
  {
   "cell_type": "markdown",
   "id": "9d9f2b3b-508f-45fb-be97-de74624112d5",
   "metadata": {},
   "source": [
    "Let's consolidate all of this into one function which creates a dataframe of genius data given a search term."
   ]
  },
  {
   "cell_type": "code",
   "execution_count": null,
   "id": "b615422d-5034-415e-ab32-e3a2d1c5e1b2",
   "metadata": {
    "tags": []
   },
   "outputs": [],
   "source": [
    "def genius_to_df(search_term, n_results_per_term=10):\n",
    "    json_data = genius(search_term, per_page=n_results_per_term)\n",
    "    hits = [hit['result'] for hit in json_data]\n",
    "    df = pd.DataFrame(hits)\n",
    "\n",
    "    # expand dictionary elements\n",
    "    df_stats = df['stats'].apply(pd.Series)\n",
    "    df_stats.rename(columns={c:'stat_' + c for c in df_stats.columns},\n",
    "                    inplace=True)\n",
    "    \n",
    "    df_primary = df['primary_artist'].apply(pd.Series)\n",
    "    df_primary.rename(columns={c:'primary_artist_' + c for c in df_primary.columns},\n",
    "                      inplace=True)\n",
    "    \n",
    "    df = pd.concat((df, df_stats, df_primary), axis=1)\n",
    "    \n",
    "    return df"
   ]
  },
  {
   "cell_type": "markdown",
   "id": "d2a90b81-7a58-49fe-aba1-bec1dc311fda",
   "metadata": {},
   "source": [
    "### Collecting Multiple API Calls\n",
    "\n",
    "We are going to want to perform analysis on more than one artist, so let's use what we've written above to collect data from multiple API calls by looping through multiple search terms. When we loop through each search term, we use the [tqdm package](https://pypi.org/project/tqdm/) to help us visualize our progress (you may need to use `pip` to install it). This kind of thing is helpful when we're running multiple API calls, and we don't know how long it will take."
   ]
  },
  {
   "cell_type": "code",
   "execution_count": null,
   "id": "2e815200-8988-454a-9ac1-e8d65898fb50",
   "metadata": {
    "tags": []
   },
   "outputs": [],
   "source": [
    "from tqdm import tqdm"
   ]
  },
  {
   "cell_type": "code",
   "execution_count": null,
   "id": "d76eb86c-e345-46ec-b9c7-e525f828ba20",
   "metadata": {
    "tags": []
   },
   "outputs": [
    {
     "name": "stderr",
     "output_type": "stream",
     "text": [
      "100%|████████████████████████████████████████████████████████████████████████████████████████| 5/5 [00:03<00:00,  1.33it/s]\n"
     ]
    }
   ],
   "source": [
    "search_terms = ['The Beatles', 'Missy Elliot', 'Andy Shauf', 'Slowdive', 'Men I Trust']\n",
    "n = 10\n",
    "\n",
    "dfs = []\n",
    "\n",
    "# loop through search_terms in question\n",
    "for search_term in tqdm(search_terms):\n",
    "    df = genius_to_df(search_term, n_results_per_term=n)\n",
    "    \n",
    "    # add to list of DataFrames\n",
    "    dfs.append(df)"
   ]
  },
  {
   "cell_type": "code",
   "execution_count": null,
   "id": "64284218-534a-4bd4-8d0e-35ae103a06a0",
   "metadata": {
    "tags": []
   },
   "outputs": [],
   "source": [
    "df_genius = pd.concat(dfs)"
   ]
  },
  {
   "cell_type": "code",
   "execution_count": null,
   "id": "2462ef83-792e-4c29-9949-128cc5b9baaa",
   "metadata": {
    "tags": []
   },
   "outputs": [
    {
     "data": {
      "text/plain": [
       "(50, 35)"
      ]
     },
     "execution_count": 58,
     "metadata": {},
     "output_type": "execute_result"
    }
   ],
   "source": [
    "df_genius.shape"
   ]
  },
  {
   "cell_type": "code",
   "execution_count": null,
   "id": "f9c98790-99ae-4869-9d40-83054cfe3c49",
   "metadata": {
    "tags": []
   },
   "outputs": [
    {
     "data": {
      "text/plain": [
       "Index(['annotation_count', 'api_path', 'artist_names', 'full_title',\n",
       "       'header_image_thumbnail_url', 'header_image_url', 'id',\n",
       "       'lyrics_owner_id', 'lyrics_state', 'path', 'pyongs_count',\n",
       "       'relationships_index_url', 'release_date_components',\n",
       "       'release_date_for_display',\n",
       "       'release_date_with_abbreviated_month_for_display',\n",
       "       'song_art_image_thumbnail_url', 'song_art_image_url', 'stats', 'title',\n",
       "       'title_with_featured', 'url', 'featured_artists', 'primary_artist',\n",
       "       'stat_unreviewed_annotations', 'stat_concurrents', 'stat_hot',\n",
       "       'stat_pageviews', 'primary_artist_api_path',\n",
       "       'primary_artist_header_image_url', 'primary_artist_id',\n",
       "       'primary_artist_image_url', 'primary_artist_is_meme_verified',\n",
       "       'primary_artist_is_verified', 'primary_artist_name',\n",
       "       'primary_artist_url'],\n",
       "      dtype='object')"
      ]
     },
     "execution_count": 59,
     "metadata": {},
     "output_type": "execute_result"
    }
   ],
   "source": [
    "df_genius.columns"
   ]
  },
  {
   "cell_type": "code",
   "execution_count": null,
   "id": "11f16d46-451f-4ea0-afc1-fc18720f8092",
   "metadata": {
    "tags": []
   },
   "outputs": [
    {
     "data": {
      "text/html": [
       "<div>\n",
       "<style scoped>\n",
       "    .dataframe tbody tr th:only-of-type {\n",
       "        vertical-align: middle;\n",
       "    }\n",
       "\n",
       "    .dataframe tbody tr th {\n",
       "        vertical-align: top;\n",
       "    }\n",
       "\n",
       "    .dataframe thead th {\n",
       "        text-align: right;\n",
       "    }\n",
       "</style>\n",
       "<table border=\"1\" class=\"dataframe\">\n",
       "  <thead>\n",
       "    <tr style=\"text-align: right;\">\n",
       "      <th></th>\n",
       "      <th>annotation_count</th>\n",
       "      <th>api_path</th>\n",
       "      <th>artist_names</th>\n",
       "      <th>full_title</th>\n",
       "      <th>header_image_thumbnail_url</th>\n",
       "      <th>header_image_url</th>\n",
       "      <th>id</th>\n",
       "      <th>lyrics_owner_id</th>\n",
       "      <th>lyrics_state</th>\n",
       "      <th>path</th>\n",
       "      <th>...</th>\n",
       "      <th>stat_hot</th>\n",
       "      <th>stat_pageviews</th>\n",
       "      <th>primary_artist_api_path</th>\n",
       "      <th>primary_artist_header_image_url</th>\n",
       "      <th>primary_artist_id</th>\n",
       "      <th>primary_artist_image_url</th>\n",
       "      <th>primary_artist_is_meme_verified</th>\n",
       "      <th>primary_artist_is_verified</th>\n",
       "      <th>primary_artist_name</th>\n",
       "      <th>primary_artist_url</th>\n",
       "    </tr>\n",
       "  </thead>\n",
       "  <tbody>\n",
       "    <tr>\n",
       "      <th>4</th>\n",
       "      <td>9</td>\n",
       "      <td>/songs/71861</td>\n",
       "      <td>The Beatles</td>\n",
       "      <td>In My Life by The Beatles</td>\n",
       "      <td>https://images.genius.com/1a5e9183169bb70366f9...</td>\n",
       "      <td>https://images.genius.com/1a5e9183169bb70366f9...</td>\n",
       "      <td>71861</td>\n",
       "      <td>11524</td>\n",
       "      <td>complete</td>\n",
       "      <td>/The-beatles-in-my-life-lyrics</td>\n",
       "      <td>...</td>\n",
       "      <td>False</td>\n",
       "      <td>1203075</td>\n",
       "      <td>/artists/586</td>\n",
       "      <td>https://images.genius.com/817d7fb288bb1c845614...</td>\n",
       "      <td>586</td>\n",
       "      <td>https://images.genius.com/2a7afa0442a3805371b0...</td>\n",
       "      <td>False</td>\n",
       "      <td>False</td>\n",
       "      <td>The Beatles</td>\n",
       "      <td>https://genius.com/artists/The-beatles</td>\n",
       "    </tr>\n",
       "    <tr>\n",
       "      <th>2</th>\n",
       "      <td>6</td>\n",
       "      <td>/songs/3311767</td>\n",
       "      <td>Men I Trust</td>\n",
       "      <td>I Hope to Be Around by Men I Trust</td>\n",
       "      <td>https://images.genius.com/7014d337d1aa8c8c9d9d...</td>\n",
       "      <td>https://images.genius.com/7014d337d1aa8c8c9d9d...</td>\n",
       "      <td>3311767</td>\n",
       "      <td>3612583</td>\n",
       "      <td>complete</td>\n",
       "      <td>/Men-i-trust-i-hope-to-be-around-lyrics</td>\n",
       "      <td>...</td>\n",
       "      <td>False</td>\n",
       "      <td>54640</td>\n",
       "      <td>/artists/655044</td>\n",
       "      <td>https://images.genius.com/6b4b452133dd16b46e89...</td>\n",
       "      <td>655044</td>\n",
       "      <td>https://images.genius.com/d6e6ba4e7f1d3c182bc7...</td>\n",
       "      <td>False</td>\n",
       "      <td>False</td>\n",
       "      <td>Men I Trust</td>\n",
       "      <td>https://genius.com/artists/Men-i-trust</td>\n",
       "    </tr>\n",
       "    <tr>\n",
       "      <th>0</th>\n",
       "      <td>20</td>\n",
       "      <td>/songs/203259</td>\n",
       "      <td>Slowdive</td>\n",
       "      <td>When the Sun Hits by Slowdive</td>\n",
       "      <td>https://images.genius.com/613951a3d80e01e9c621...</td>\n",
       "      <td>https://images.genius.com/613951a3d80e01e9c621...</td>\n",
       "      <td>203259</td>\n",
       "      <td>208752</td>\n",
       "      <td>complete</td>\n",
       "      <td>/Slowdive-when-the-sun-hits-lyrics</td>\n",
       "      <td>...</td>\n",
       "      <td>False</td>\n",
       "      <td>177529</td>\n",
       "      <td>/artists/65120</td>\n",
       "      <td>https://images.genius.com/6132fdffab2b30a0b70e...</td>\n",
       "      <td>65120</td>\n",
       "      <td>https://images.genius.com/af1be5ab88d7e05df203...</td>\n",
       "      <td>False</td>\n",
       "      <td>False</td>\n",
       "      <td>Slowdive</td>\n",
       "      <td>https://genius.com/artists/Slowdive</td>\n",
       "    </tr>\n",
       "  </tbody>\n",
       "</table>\n",
       "<p>3 rows × 35 columns</p>\n",
       "</div>"
      ],
      "text/plain": [
       "   annotation_count        api_path artist_names  \\\n",
       "4                 9    /songs/71861  The Beatles   \n",
       "2                 6  /songs/3311767  Men I Trust   \n",
       "0                20   /songs/203259     Slowdive   \n",
       "\n",
       "                           full_title  \\\n",
       "4           In My Life by The Beatles   \n",
       "2  I Hope to Be Around by Men I Trust   \n",
       "0       When the Sun Hits by Slowdive   \n",
       "\n",
       "                          header_image_thumbnail_url  \\\n",
       "4  https://images.genius.com/1a5e9183169bb70366f9...   \n",
       "2  https://images.genius.com/7014d337d1aa8c8c9d9d...   \n",
       "0  https://images.genius.com/613951a3d80e01e9c621...   \n",
       "\n",
       "                                    header_image_url       id  \\\n",
       "4  https://images.genius.com/1a5e9183169bb70366f9...    71861   \n",
       "2  https://images.genius.com/7014d337d1aa8c8c9d9d...  3311767   \n",
       "0  https://images.genius.com/613951a3d80e01e9c621...   203259   \n",
       "\n",
       "   lyrics_owner_id lyrics_state                                     path  ...  \\\n",
       "4            11524     complete           /The-beatles-in-my-life-lyrics  ...   \n",
       "2          3612583     complete  /Men-i-trust-i-hope-to-be-around-lyrics  ...   \n",
       "0           208752     complete       /Slowdive-when-the-sun-hits-lyrics  ...   \n",
       "\n",
       "   stat_hot stat_pageviews primary_artist_api_path  \\\n",
       "4     False        1203075            /artists/586   \n",
       "2     False          54640         /artists/655044   \n",
       "0     False         177529          /artists/65120   \n",
       "\n",
       "                     primary_artist_header_image_url primary_artist_id  \\\n",
       "4  https://images.genius.com/817d7fb288bb1c845614...               586   \n",
       "2  https://images.genius.com/6b4b452133dd16b46e89...            655044   \n",
       "0  https://images.genius.com/6132fdffab2b30a0b70e...             65120   \n",
       "\n",
       "                            primary_artist_image_url  \\\n",
       "4  https://images.genius.com/2a7afa0442a3805371b0...   \n",
       "2  https://images.genius.com/d6e6ba4e7f1d3c182bc7...   \n",
       "0  https://images.genius.com/af1be5ab88d7e05df203...   \n",
       "\n",
       "  primary_artist_is_meme_verified primary_artist_is_verified  \\\n",
       "4                           False                      False   \n",
       "2                           False                      False   \n",
       "0                           False                      False   \n",
       "\n",
       "  primary_artist_name                      primary_artist_url  \n",
       "4         The Beatles  https://genius.com/artists/The-beatles  \n",
       "2         Men I Trust  https://genius.com/artists/Men-i-trust  \n",
       "0            Slowdive     https://genius.com/artists/Slowdive  \n",
       "\n",
       "[3 rows x 35 columns]"
      ]
     },
     "execution_count": 60,
     "metadata": {},
     "output_type": "execute_result"
    }
   ],
   "source": [
    "df_genius.sample(3)"
   ]
  },
  {
   "cell_type": "markdown",
   "id": "5f43e934-cc15-460c-89d0-793d148111fc",
   "metadata": {},
   "source": [
    "## Using an API Wrapper\n",
    "\n",
    "More often than not, someone has built an \"API Wrapper\" for the API you are working with. An API wrapper makes an API easier to use, and it often extends the API itself. It will typically consist of classes and functions similar to the ones we've built above, but spanning a wide range of functionality and access to the API. For example, John Miller's [LyricsGenius](https://github.com/johnwmillr/LyricsGenius) gives us an almost universal access to the Genius website, and it even uses web scraping to collect song lyrics themselves.\n",
    "\n",
    "<span style=\"color: darkblue\">**If ever you're working with an API, do some Googling to make sure there isn't a wrapper you can use to make things easier on you!**</span>"
   ]
  },
  {
   "cell_type": "markdown",
   "id": "146dabc8-d0c0-4fab-a8f5-c9040419fac3",
   "metadata": {
    "tags": []
   },
   "source": [
    "# Python Scripts\n",
    "\n",
    "Suppose we want to extract a good bit of data from the Genius API (or any other API for that matter), but we want to run the script on our computer while we do other processes in Jupyter. Or, consider having several Python-based \"jobs\" we want to run on a scheduled basis, where we don't want the responsibility of opening Jupyter and typing \"Shift-Tab\" every time. In these cases, we'll want to run executable code in the form of a [Python Script](https://realpython.com/run-python-scripts/).\n",
    "\n",
    "In short, a Python script is a Python file that runs a particular routine on a [thread](https://www.liquidweb.com/blog/difference-cpu-cores-thread/) of your CPU, line by line until it's over. You can run these Python files in several different ways, including:\n",
    "\n",
    "- **from the terminal**\n",
    "- from an interactive Python shell (e.g., a notebook)\n",
    "- as a periodically *scheduled* \"job\"\n",
    "\n",
    "In this class, we'll talk about running Python files as scripts from the terminal. Running scripts from IPython can cause issues, not the least of which is the script output is relegated to a notebook cell which can take up unnecessary space in the notebook. Whereas, periodically scheduled jobs are best run on virtual instances hosted in a cloud computing environment, which is outside the scope of this class."
   ]
  },
  {
   "cell_type": "markdown",
   "id": "da7ae01a-d013-47b6-a946-c9e222868f31",
   "metadata": {},
   "source": [
    "## Creating Python Scripts\n",
    "\n",
    "All we need to do to create a script is to make a .py file, and place our executable code within the file. It's best to keep these files in the \"root\" directory of your project (e.g., the same directory-level as this notebook), and **use short names with the `snake_case` naming convention.**\n",
    "\n",
    "For example, notice that the functions we've defined above are all also defined within the *genius_api.py* file in this directory. In that file, we do our best to follow the [PEP-8](https://pep8.org/) guidelines."
   ]
  },
  {
   "cell_type": "markdown",
   "id": "b22817a7-778b-46e5-b4ed-de0b199a28bf",
   "metadata": {},
   "source": [
    "### **kwargs\n",
    "\n",
    "You'll notice the use of `**kwargs` in the Python file. This is in reference to \"keyword arguments\" which can be passed from a function to \"sub\"-function. Technically, the `**` at the beginning can be used to unpack sets or dictionaries:"
   ]
  },
  {
   "cell_type": "code",
   "execution_count": null,
   "id": "20b2e8bb-68d0-4add-9f4e-46c3f9ace65e",
   "metadata": {
    "tags": []
   },
   "outputs": [],
   "source": [
    "my_dict_1 = {'a': 1, 'b': 2}\n",
    "my_dict_2 = {'c': 3, 'd': 4}"
   ]
  },
  {
   "cell_type": "code",
   "execution_count": null,
   "id": "27555379-970f-4af7-ae9d-112ededd266d",
   "metadata": {
    "tags": []
   },
   "outputs": [
    {
     "data": {
      "text/plain": [
       "{'a': 1, 'b': 2, 'c': 3, 'd': 4}"
      ]
     },
     "execution_count": 63,
     "metadata": {},
     "output_type": "execute_result"
    }
   ],
   "source": [
    "{**my_dict_1, **my_dict_2}"
   ]
  },
  {
   "cell_type": "markdown",
   "id": "9d38eb12-e088-41d7-b1e2-16ffb0898cab",
   "metadata": {},
   "source": [
    "But, it can also be used to pass arguments:"
   ]
  },
  {
   "cell_type": "code",
   "execution_count": null,
   "id": "e4245c5a-07ee-4449-b0d8-343444763779",
   "metadata": {
    "tags": []
   },
   "outputs": [],
   "source": [
    "def called(y=3, z=5):\n",
    "    print(y + z)"
   ]
  },
  {
   "cell_type": "code",
   "execution_count": null,
   "id": "d0e289ed-8f71-4d02-8b82-bbd546553bb9",
   "metadata": {
    "tags": []
   },
   "outputs": [],
   "source": [
    "def calling(x, **kwargs):\n",
    "    print(\"the 'x' value is \", x)\n",
    "    print(\"\\nand the sum of interest is:\")\n",
    "    called(**kwargs)"
   ]
  },
  {
   "cell_type": "code",
   "execution_count": null,
   "id": "dec0b024-5483-4d87-929c-35cb792fc966",
   "metadata": {
    "tags": []
   },
   "outputs": [
    {
     "name": "stdout",
     "output_type": "stream",
     "text": [
      "the 'x' value is  4\n",
      "\n",
      "and the sum of interest is:\n",
      "10\n"
     ]
    }
   ],
   "source": [
    "calling(4, y=5)"
   ]
  },
  {
   "cell_type": "markdown",
   "id": "83cbbfb2-ee25-4dc7-9b1c-d248c9afdaec",
   "metadata": {
    "tags": []
   },
   "source": [
    "### Modules\n",
    "\n",
    "**<span style='color:darkblue'>Note: modules are discussed in-depth during a later week.</span>**\n",
    "\n",
    "Functions exist as a sort of short-hand: reusable Python structures which help us to avoid writing repetitive code blocks. I.e., instead of writing the same block of code multiple times, we simply call a single function — it saves room and keeps things clean. In the same way that functions (and classes) can be imported from third-party (or built-in) packages, they can also be imported from modules we build ourselves!\n",
    "\n",
    "In its most basic form, a [Python module](https://realpython.com/python-modules-packages/) is a Python file used to maintain Python objects (e.g., functions, variables, etc.). You can \"import\" your reusable code using the `import` statement as you would any other Python module.\n",
    "\n",
    "**It is a good practice to build and test out your functions in Jupyter, and when you feel comfortable with them, *move* them into your Python module.** Use Jupyter notebook *as a notebook*, and keep any reusable code (e.g., functions) in the Python file. Whenever you're working on a project, keep open your Jupyter notebook for building and testing code, and keep your IDE (e.g., VS Code) open for updating your functions."
   ]
  },
  {
   "cell_type": "code",
   "execution_count": null,
   "id": "2b057c53-f71c-4bfa-9b19-5a450f4b90ca",
   "metadata": {
    "tags": []
   },
   "outputs": [],
   "source": [
    "from genius_api import testing"
   ]
  },
  {
   "cell_type": "code",
   "execution_count": null,
   "id": "c0102606-18f7-4865-a8b0-35df4517bdda",
   "metadata": {
    "tags": []
   },
   "outputs": [
    {
     "name": "stdout",
     "output_type": "stream",
     "text": [
      "Test.\n"
     ]
    }
   ],
   "source": [
    "testing()"
   ]
  },
  {
   "cell_type": "markdown",
   "id": "168e1902-bac6-4ae8-b3b7-0ca3ce07b3bc",
   "metadata": {},
   "source": [
    "Notice that if we make changes to the file, this function will not update the output. This is because the code that is \"imported\" into the current Python interpreter is static, from the most recent import call. We can either \"re-import\" the module, or we can use the `reload` function from `importlib`. You can also use "
   ]
  },
  {
   "cell_type": "code",
   "execution_count": null,
   "id": "f5f682fd-3ae3-472a-8beb-d641cbac9d24",
   "metadata": {
    "tags": []
   },
   "outputs": [],
   "source": [
    "from importlib import reload"
   ]
  },
  {
   "cell_type": "code",
   "execution_count": null,
   "id": "26e4a24a-f69a-4920-bcec-402452b1b283",
   "metadata": {
    "tags": []
   },
   "outputs": [],
   "source": [
    "# we need to import the module itself first\n",
    "import genius_api"
   ]
  },
  {
   "cell_type": "code",
   "execution_count": null,
   "id": "a6674de6-0a54-4fd0-8977-7bf754e7853b",
   "metadata": {
    "tags": []
   },
   "outputs": [],
   "source": [
    "# run this cell after each change\n",
    "reload(genius_api)\n",
    "from genius_api import testing"
   ]
  },
  {
   "cell_type": "code",
   "execution_count": null,
   "id": "751ad79c-b432-441a-ad61-22ea3b612485",
   "metadata": {
    "tags": []
   },
   "outputs": [
    {
     "name": "stdout",
     "output_type": "stream",
     "text": [
      "Testing testing, 1, 2, 3.\n"
     ]
    }
   ],
   "source": [
    "testing()"
   ]
  },
  {
   "cell_type": "markdown",
   "id": "251baf72-57f1-44b9-b3c0-8b81b4349621",
   "metadata": {},
   "source": [
    "Alternatively, you can use the [autoreload](https://ipython.org/ipython-doc/3/config/extensions/autoreload.html) functionality Jupyter to make sure updates to our code reflect in the notebook. *Note: this implementation works most of the time, but not all the time ... using `reload` is less convenient, but more certain.*"
   ]
  },
  {
   "cell_type": "code",
   "execution_count": null,
   "id": "90af8e9d-1c26-4b88-a4f4-e04656ae2df2",
   "metadata": {
    "tags": []
   },
   "outputs": [],
   "source": [
    "%load_ext autoreload\n",
    "%autoreload 2\n",
    "from genius_api import testing"
   ]
  },
  {
   "cell_type": "code",
   "execution_count": null,
   "id": "154fc463-c207-4760-9045-fa454c3838b7",
   "metadata": {
    "tags": []
   },
   "outputs": [
    {
     "name": "stdout",
     "output_type": "stream",
     "text": [
      "Testing testing, 1, 2, 3.\n"
     ]
    }
   ],
   "source": [
    "testing()"
   ]
  },
  {
   "cell_type": "markdown",
   "id": "d1335283-1af6-4593-a411-bcfc1c805267",
   "metadata": {
    "tags": []
   },
   "source": [
    "### \\_\\_name__\n",
    "\n",
    "You'll notice at the bottom of the Python file, there is a reference to `__name__` and the string \"`__main__`\". [In short](https://realpython.com/if-name-main-python/), every time a Python module is accessed, it is given a name. And, according to the [Python documentation](https://docs.python.org/3/library/__main__.html):\n",
    "\n",
    "*`__main__` is the name of the environment where top-level code is run. \"Top-level code\" is the first user-specified Python module that starts running. It’s \"top-level\" because it imports all other modules that the program needs. Sometimes “top-level code” is called an entry point to the application.*\n",
    "\n",
    "In fact, the `__name__` is stored as a global variable for the environment. For example:"
   ]
  },
  {
   "cell_type": "code",
   "execution_count": null,
   "id": "7a2bfbd7-14fc-4807-9146-a1433cb927af",
   "metadata": {
    "tags": []
   },
   "outputs": [
    {
     "data": {
      "text/plain": [
       "'__main__'"
      ]
     },
     "execution_count": 81,
     "metadata": {},
     "output_type": "execute_result"
    }
   ],
   "source": [
    "# the \n",
    "__name__"
   ]
  },
  {
   "cell_type": "markdown",
   "id": "07d27812-0561-45af-bd62-5a72c089db09",
   "metadata": {},
   "source": [
    "This can happen when Python is called from *\"the scope of an interactive prompt\"* (e.g., in Jupyter notebook), and it can also happen when a Python file is called from your computer's terminal using `python filename.py`.\n",
    "\n",
    "*Note: this is **not** the same as the `!`-defined terminal in a Jupyter notebook*."
   ]
  },
  {
   "cell_type": "code",
   "execution_count": null,
   "id": "82968eef-f6dc-4855-933f-d6b52d8f88b5",
   "metadata": {
    "tags": []
   },
   "outputs": [],
   "source": [
    "# uncomment the ... print(\"__name__ is\" ... line in the module\n",
    "# !python genius_api.py"
   ]
  },
  {
   "cell_type": "markdown",
   "id": "035f75ce-dab0-4b44-94c4-d9283f59514e",
   "metadata": {},
   "source": [
    "*Note: you may find that there are package install errors, since the `!` is commanding from the environment that Jupyter was called from, which might not be the same as the notebook kernel.*\n",
    "\n",
    "Otherise, the `__name__` is the name of the module itself."
   ]
  },
  {
   "cell_type": "code",
   "execution_count": null,
   "id": "8018f893-829e-4a31-a723-88cb9db8ea4c",
   "metadata": {
    "tags": []
   },
   "outputs": [
    {
     "data": {
      "text/plain": [
       "'genius_api'"
      ]
     },
     "execution_count": 84,
     "metadata": {},
     "output_type": "execute_result"
    }
   ],
   "source": [
    "# the imported module\n",
    "genius_api.__name__"
   ]
  },
  {
   "cell_type": "code",
   "execution_count": null,
   "id": "13af1368-d549-4142-b6f3-70d01ee9aadf",
   "metadata": {
    "tags": []
   },
   "outputs": [],
   "source": [
    "from genius_api import NAME_DEMO"
   ]
  },
  {
   "cell_type": "code",
   "execution_count": null,
   "id": "aec180b9-72cf-40b8-8cec-700b453c365c",
   "metadata": {
    "tags": []
   },
   "outputs": [
    {
     "data": {
      "text/plain": [
       "'genius_api'"
      ]
     },
     "execution_count": 86,
     "metadata": {},
     "output_type": "execute_result"
    }
   ],
   "source": [
    "NAME_DEMO"
   ]
  },
  {
   "cell_type": "markdown",
   "id": "06a41ab2-9397-4399-b655-a28aa29fb9f6",
   "metadata": {},
   "source": [
    "## Multiprocessing\n",
    "\n",
    "Consider the fact that your computer likely has multiple \"cores\". I.e., when you buy a \"quad-core\" computer, this means that your CPU contains 4 *separate* processing units. **Each processing unit (core) can run Python routines independently.** This means that you can parallelize big operations across all your cores if you can harness each one individually. Python does not automatically dole out sub-processes based on our code, so we need to direct the computer to do so explicitly. We do this with multiprocessing.\n",
    "\n",
    "The [multiprocessing Pool class](https://docs.python.org/3/library/multiprocessing.html) is the most straight-forward way to employ computing parallelization. The simplest example (illustrated in that first code block linked above) instantiates a **pool of workers**, where each worker completes an assigned task, and returns the results. You'll notice that only top-level code can create the pool of workers, so we need the `__name__` to be `__main__`.\n",
    "\n",
    "As a simple example, take a look at the `SIMPLE MULTIPROCESSING EXAMPLE` at the bottom of the *genius_api.py* file. You can uncomment it, and you'll need to run this from your terminal (within the proper environment):\n",
    "\n",
    "```bash\n",
    "python genius_api.py\n",
    "```"
   ]
  },
  {
   "cell_type": "markdown",
   "id": "6fe7ab3c-3ec5-4af2-9424-2bac4d44a99a",
   "metadata": {},
   "source": [
    "You'll notice that there are several different processes defined (by their Process ID, `pid`), and each one runs the `job_test` function separately. Each process is assigned a **thread** which employs your CPUs (in a way, the CPUs are \"multitasking\" across threads ...). If you want to know how many threads are available on your machine, you can use `psutil` or `os`."
   ]
  },
  {
   "cell_type": "code",
   "execution_count": null,
   "id": "2dd4730b-fb0c-46d8-b0c3-d477c1e3f5fc",
   "metadata": {
    "tags": []
   },
   "outputs": [],
   "source": [
    "import psutil\n",
    "import os"
   ]
  },
  {
   "cell_type": "code",
   "execution_count": null,
   "id": "837d4a37-17d5-4b38-85aa-f32306d86951",
   "metadata": {
    "tags": []
   },
   "outputs": [
    {
     "name": "stdout",
     "output_type": "stream",
     "text": [
      "core count:\t 10\n",
      "thread count:\t 10\n",
      "thread count*:\t 10\n"
     ]
    }
   ],
   "source": [
    "# physical cores\n",
    "print(\"core count:\\t\", psutil.cpu_count(False))\n",
    "\n",
    "# threads available\n",
    "print(\"thread count:\\t\", psutil.cpu_count(True))\n",
    "\n",
    "# # threads available (same thing)\n",
    "print(\"thread count*:\\t\", os.cpu_count())"
   ]
  },
  {
   "cell_type": "markdown",
   "id": "8db982c3-14e4-4bef-a0a7-4e05aea97791",
   "metadata": {},
   "source": [
    "Lastly, notice in the last example (`API MULTIPROCESSING EXAMPLE`) how you can use multiprocessing to speed up pulling data from an API."
   ]
  },
  {
   "cell_type": "markdown",
   "id": "85165773-4c66-4ec8-bfd5-81968babd48d",
   "metadata": {},
   "source": [
    "## Running background process\n",
    "\n",
    "In many cases, you'll want a script to run on your local computer \"in the background\" so that when your computer goes to sleep, or if you close a terminal, the script is still running.\n",
    "\n",
    "### Run a program\n",
    "\n",
    "```bash\n",
    "nohup python <command> &\n",
    "```\n",
    "\n",
    "Don't forget the `&` at the end. This directs the process to be run in the background. The `nohup` directs output to a *nohup.out* file in the same (working) directory.\n",
    "\n",
    "### Check Running Processes\n",
    "\n",
    "```bash\n",
    "ps ax\n",
    "ps ax | grep <script_name> \n",
    "```\n",
    "\n",
    "The former will list the running processes, and the latter will list running processes with `<script_name>` in its name.\n",
    "\n",
    "### Kill a Process\n",
    "\n",
    "If you're done with the script, run\n",
    "\n",
    "```bash\n",
    "kill <process_id>\n",
    "```\n",
    "\n",
    "To kill the process with `<process_id>` in the first column from the `ps` command, above. **Be careful with this!**"
   ]
  },
  {
   "cell_type": "markdown",
   "id": "2ebb91fd-045d-4cc6-9a9b-69503059ba75",
   "metadata": {},
   "source": [
    "# Exercise\n",
    "\n",
    "Write a Python script (i.e., a Python .py file) to retrieve data for a *list* of search terms from the Genius API.\n",
    "\n",
    "- Implement error handling using `try`-`except` blocks to handle potential issues such as API rate limits, response errors, or network errors.\n",
    "- Build your script to save the results to a CSV.\n",
    "\n",
    "Once you have this working, try to incorporate multiprocessing, and save your data to a CSV file (or separate CSV files)."
   ]
  },
  {
   "cell_type": "code",
   "execution_count": 26,
   "id": "7c3e8c45",
   "metadata": {},
   "outputs": [
    {
     "ename": "ImportError",
     "evalue": "cannot import name 'genius_to_df' from 'genius_api' (/Users/yuritziavila-robledo/Desktop/Data Science/i501_informatics/i501-labs/genius_api.py)",
     "output_type": "error",
     "traceback": [
      "\u001b[0;31m---------------------------------------------------------------------------\u001b[0m",
      "\u001b[0;31mImportError\u001b[0m                               Traceback (most recent call last)",
      "Cell \u001b[0;32mIn[26], line 1\u001b[0m\n\u001b[0;32m----> 1\u001b[0m \u001b[38;5;28;01mfrom\u001b[39;00m \u001b[38;5;21;01mgenius_api\u001b[39;00m \u001b[38;5;28;01mimport\u001b[39;00m genius_to_df  \u001b[38;5;66;03m# Correct import statement\u001b[39;00m\n\u001b[1;32m      3\u001b[0m \u001b[38;5;66;03m# Example usage\u001b[39;00m\n\u001b[1;32m      4\u001b[0m search_term \u001b[38;5;241m=\u001b[39m \u001b[38;5;124m\"\u001b[39m\u001b[38;5;124mThe Beatles\u001b[39m\u001b[38;5;124m\"\u001b[39m\n",
      "\u001b[0;31mImportError\u001b[0m: cannot import name 'genius_to_df' from 'genius_api' (/Users/yuritziavila-robledo/Desktop/Data Science/i501_informatics/i501-labs/genius_api.py)"
     ]
    }
   ],
   "source": [
    "from genius_api import genius_to_df  # Correct import statement\n",
    "\n",
    "# Example usage\n",
    "search_term = \"The Beatles\"\n",
    "results = genius_to_df(search_term)  # Correct function call\n",
    "print(results)\n"
   ]
  }
 ],
 "metadata": {
  "kernelspec": {
   "display_name": "i501",
   "language": "python",
   "name": "i501"
  },
  "language_info": {
   "codemirror_mode": {
    "name": "ipython",
    "version": 3
   },
   "file_extension": ".py",
   "mimetype": "text/x-python",
   "name": "python",
   "nbconvert_exporter": "python",
   "pygments_lexer": "ipython3",
   "version": "3.10.14"
  }
 },
 "nbformat": 4,
 "nbformat_minor": 5
}
