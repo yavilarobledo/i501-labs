{
 "cells": [
  {
   "cell_type": "markdown",
   "id": "edd2a8e9-9802-4cc3-bc7b-496cec4030aa",
   "metadata": {},
   "source": [
    "# Simple Streamlit\n",
    "\n",
    "For this lab, please do the following:\n",
    "\n",
    "1. **[Fork](https://docs.github.com/en/pull-requests/collaborating-with-pull-requests/working-with-forks/fork-a-repo?tool=webui)** the [simple_streamlit](https://github.com/leontoddjohnson/simple_streamlit) repository on GitHub.\n",
    "2. Then, **[clone](https://docs.github.com/en/repositories/creating-and-managing-repositories/cloning-a-repository?tool=desktop)** that fork (from your GitHub account) onto your local machine using GitHub Desktop.\n",
    "3. Follow the steps on the README.md file, and use that fork as your own template.\n",
    "\n",
    "**Note: this forked repository should *NOT* be used for your final project.** You'll need to create a new repo for your final project."
   ]
  },
  {
   "cell_type": "code",
   "execution_count": null,
   "id": "69d4b5a1-878c-4f9a-b93c-ea2ca5603f58",
   "metadata": {},
   "outputs": [],
   "source": []
  },
  {
   "cell_type": "markdown",
   "id": "bd7afcc9-1750-4559-bb65-63f0341c5158",
   "metadata": {
    "tags": []
   },
   "source": [
    "## Serialization\n",
    "\n",
    "Sometimes we want to save Python objects in the same way we save data or text files. To do this, we use a process called **[serialization](https://realpython.com/python-serialize-data/#get-an-overview-of-data-serialization)**. In short, we save only the necessary aspects of an object inside a file so that when it is loaded, the rest of the object can be recreated exactly as it was when it was saved. The packages that you import into a Python session can be used in this recreation, removing the need to save \"package-based\" content (e.g., the `.mean()` or `.groupby()` methods of a `pd.DataFrame` don't need to be stored in its pickle file).\n",
    "\n",
    "[There are many ways to serialize objects in Python](https://realpython.com/python-pickle-module/#serialization-in-python), but one of the most common and efficient ways is to [serialize with the pickle module](https://www.datacamp.com/tutorial/pickle-python-tutorial).\n",
    "\n",
    "To use pickle, we save *bytes* objects, and then load them:"
   ]
  },
  {
   "cell_type": "code",
   "execution_count": 12,
   "id": "bc50566e-94e1-4994-b12a-c243510af8fb",
   "metadata": {
    "tags": []
   },
   "outputs": [],
   "source": [
    "import pickle"
   ]
  },
  {
   "cell_type": "code",
   "execution_count": 13,
   "id": "35f2fc5c-3158-4726-81f9-eb7773776a34",
   "metadata": {
    "tags": []
   },
   "outputs": [],
   "source": [
    "my_object = ['this', 'is', 'an', 'object']"
   ]
  },
  {
   "cell_type": "code",
   "execution_count": null,
   "id": "242f8679-5807-42e2-9167-6656ac757a8b",
   "metadata": {},
   "outputs": [],
   "source": [
    "# notice this Writes a Bytes object \"wb\"\n",
    "with open(\"./my_object.pickle\", 'wb') as f:\n",
    "    pickle.dump(my_object, f)"
   ]
  },
  {
   "cell_type": "code",
   "execution_count": null,
   "id": "da915288-c28a-400b-9124-bf3743d1d05e",
   "metadata": {},
   "outputs": [],
   "source": [
    "# notice this Reads a Bytes object \"rb\"\n",
    "with open(\"./my_object.pickle\", 'rb') as f:\n",
    "    my_object = pickle.load(f)"
   ]
  },
  {
   "cell_type": "code",
   "execution_count": null,
   "id": "cfad4b0c-7e15-434c-b9c1-2fbfac1a7acb",
   "metadata": {},
   "outputs": [],
   "source": []
  },
  {
   "cell_type": "markdown",
   "id": "521ae372-0a2e-4f05-afbd-4d49e4e946c6",
   "metadata": {},
   "source": [
    "## Remote Storage\n",
    "\n",
    "When running applications on the cloud, **if you can, avoid saving project data to GitHub.** Similarly, you may want to avoid saving anything that might be large (e.g., large models, etc.). In these cases, your data (or objects) should be stored on the cloud.\n",
    "\n",
    "In this class, we use the [Backblaze B2 Cloud Storage](https://www.backblaze.com/b2/cloud-storage.html) service as our solution. (See the web app repository for more on this.)"
   ]
  },
  {
   "cell_type": "code",
   "execution_count": null,
   "id": "ce7c03ad-1e47-40c6-9fc4-9191c09d2f29",
   "metadata": {},
   "outputs": [],
   "source": []
  },
  {
   "cell_type": "markdown",
   "id": "d91f41f2-21df-4de0-94b6-0dd9d5f6173f",
   "metadata": {},
   "source": [
    "## Decorators\n",
    "\n",
    "This webapp uses **[decorator functions](https://realpython.com/primer-on-python-decorators)** to cache objects. In short, a decorator function \"wraps\" some other function, so that every time the *wrapped* function is used, the wrapp*er* is instantiated first. For more information on these, I recommend the first two main sections of the RealPython article by Geir Arne Hjelle, above.\n",
    "\n",
    "For a **simple example**, the following code is adapted from the above article."
   ]
  },
  {
   "cell_type": "code",
   "execution_count": 1,
   "id": "63f33448-e75a-442b-9a69-a0695b3c7caa",
   "metadata": {
    "tags": []
   },
   "outputs": [],
   "source": [
    "def intro_outro(func):\n",
    "    def wrapper():\n",
    "        print(\"This is an introduction.\")\n",
    "        func()\n",
    "        print(\"Thank you for your time!\")\n",
    "    return wrapper\n",
    "\n",
    "def say_whee():\n",
    "    print(\"Whee!\")\n",
    "   \n",
    "@intro_outro\n",
    "def wrap_say_whee():\n",
    "    print(\"Whee!\")"
   ]
  },
  {
   "cell_type": "code",
   "execution_count": 3,
   "id": "8b42827d-8a3a-4980-bdba-2c5a0f331371",
   "metadata": {
    "tags": []
   },
   "outputs": [
    {
     "name": "stdout",
     "output_type": "stream",
     "text": [
      "Whee!\n"
     ]
    }
   ],
   "source": [
    "say_whee()"
   ]
  },
  {
   "cell_type": "code",
   "execution_count": 4,
   "id": "2c6e5ca3-fac8-4d49-b9a3-295ee68347f5",
   "metadata": {
    "tags": []
   },
   "outputs": [
    {
     "name": "stdout",
     "output_type": "stream",
     "text": [
      "This is an introduction.\n",
      "Whee!\n",
      "Thank you for your time!\n"
     ]
    }
   ],
   "source": [
    "wrap_say_whee()"
   ]
  },
  {
   "cell_type": "markdown",
   "id": "d405aca4-b938-4a76-8cd6-3e2247bb10ce",
   "metadata": {},
   "source": [
    "As a **more involved example**, we can pass arguments and keyword arguments to the wrapped function within the decorator wrapper using `*args` and `**kwargs`. Recall, that these uses of `*` notation will *unpack* lists (of arguments) and dictionaries (of keyword arguments)."
   ]
  },
  {
   "cell_type": "code",
   "execution_count": 5,
   "id": "f966f62e-fd18-41f0-af42-05be79a08b9c",
   "metadata": {
    "tags": []
   },
   "outputs": [],
   "source": [
    "def do_twice(func):\n",
    "    def wrapper_do_twice(*args, **kwargs):\n",
    "        func(*args, **kwargs)\n",
    "        func(*args, **kwargs)\n",
    "    return wrapper_do_twice\n",
    "\n",
    "@do_twice\n",
    "def say_something(statement=\"this is what I want to say.\"):\n",
    "    print(statement)"
   ]
  },
  {
   "cell_type": "code",
   "execution_count": 7,
   "id": "00bd1eab-8737-4bfe-9a35-c8e794f7b54f",
   "metadata": {
    "tags": []
   },
   "outputs": [
    {
     "name": "stdout",
     "output_type": "stream",
     "text": [
      "this is also what I want to say.\n",
      "this is also what I want to say.\n"
     ]
    }
   ],
   "source": [
    "say_something('this is also what I want to say.')"
   ]
  },
  {
   "cell_type": "code",
   "execution_count": null,
   "id": "89645248-d00a-423b-8c34-e67a6f20cd79",
   "metadata": {},
   "outputs": [],
   "source": []
  },
  {
   "cell_type": "code",
   "execution_count": null,
   "id": "667051c7-4446-4a36-a4e1-33b103d6d525",
   "metadata": {},
   "outputs": [],
   "source": []
  },
  {
   "cell_type": "code",
   "execution_count": null,
   "id": "a59b3e36-d263-4810-97c2-c108779f1edb",
   "metadata": {},
   "outputs": [],
   "source": []
  }
 ],
 "metadata": {
  "kernelspec": {
   "display_name": "i501 (pip)",
   "language": "python",
   "name": "i501-pip"
  },
  "language_info": {
   "codemirror_mode": {
    "name": "ipython",
    "version": 3
   },
   "file_extension": ".py",
   "mimetype": "text/x-python",
   "name": "python",
   "nbconvert_exporter": "python",
   "pygments_lexer": "ipython3",
   "version": "3.10.13"
  }
 },
 "nbformat": 4,
 "nbformat_minor": 5
}
