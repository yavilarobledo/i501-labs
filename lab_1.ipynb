{
 "cells": [
  {
   "cell_type": "markdown",
   "metadata": {
    "tags": []
   },
   "source": [
    "# Introduction to the Python Coding Environment\n",
    "\n",
    "*This notebook uses content from the [Python section](https://melaniewalsh.github.io/Intro-Cultural-Analytics/02-Python/00-Python.html) of Melanie Walsh's Introduction to Cultural Analytics & Python.*\n",
    "\n",
    "The purpose of this notebook is to give you a very basic introduction to the Python coding environment using Jupyter. We will see a preview of several topics which will be expanded on in later lessons, but keep in mind that **the goal here is simply to get a *feel* for the Python-Jupyter coding experience.**\n",
    "\n",
    "In this lab, we will cover the following topics:\n",
    "\n",
    "1. JupyterLab and Markdown\n",
    "2. Variables and Data Types\n",
    "3. Operators and Logic\n",
    "4. Packages, Modules, and Objects\n",
    "\n",
    "\\* *Note: make sure you've had a good look at the [Command Line section](https://melaniewalsh.github.io/Intro-Cultural-Analytics/01-Command-Line/01-The-Command-Line.html) before completing this notebook.*"
   ]
  },
  {
   "cell_type": "markdown",
   "metadata": {
    "tags": []
   },
   "source": [
    "## Jupyter(Lab) and Markdown\n",
    "\n",
    "[**Jupyter**](https://docs.jupyter.org/en/latest) provides a convenient solution for coding in Python. *This file* is a Jupyter notebook (.ipynb), where Python code is divided into individual and independent cells, where the output of each cell is displayed below the cell when it is run. These cells *can* be run in any order you like, but it is in good form to place them in such a way that the notebook can always be run from top to bottom without errors. [This blog post](https://florianwilhelm.info/2018/11/working_efficiently_with_jupyter_lab/) provides a very in-depth look at some best practices when using Jupyter.\n",
    "\n",
    "[**Markdown**](https://www.markdownguide.org/cheat-sheet/) renders blocks of text with user-defined formatting. Any cell in a Jupyter notebook can also be a collapsible Markdown cell, and it is highly recommended that these are used in such a way that **every notebook is a clear story told with words (Markdown) and code (Python).** Use the [Markdown Cheat Sheet](https://www.markdownguide.org/cheat-sheet/) as a reference.\n",
    "\n",
    "<span style=\"color: red;\">PLEASE USE MARKDOWN OFTEN!</span> Ensure it is grammatically correct, and organized. Markdown is important to having a readable, well-written notebook."
   ]
  },
  {
   "cell_type": "markdown",
   "metadata": {},
   "source": [
    "### Comments\n",
    "\n",
    "Throughout this notebook (and your future code), lines that begin with a hash symbol `#` are ignored from the execution of the code. You can thus use lines starting with `#` to insert human language comments directly into the code — notes or instructions to yourself and others. **USE COMMENTS OFTEN!** Again, code should be easy to understand, and comments help this along."
   ]
  },
  {
   "cell_type": "code",
   "execution_count": 117,
   "metadata": {
    "tags": []
   },
   "outputs": [],
   "source": [
    "# this is a comment nothing happens"
   ]
  },
  {
   "cell_type": "markdown",
   "metadata": {
    "tags": []
   },
   "source": [
    "## Variables and Data Types\n",
    "\n",
    "Variables are one of the fundamental building blocks of Python. A variable is like a tiny container where you store values and data, such as filenames, words, numbers, collections of words and numbers, and more."
   ]
  },
  {
   "cell_type": "markdown",
   "metadata": {
    "tags": []
   },
   "source": [
    "### Assigning Variables"
   ]
  },
  {
   "cell_type": "markdown",
   "metadata": {},
   "source": [
    "The variable name will point to a value that you \"assign\" it. You might think about variable assignment like putting a value \"into\" the variable, as if the variable is a little box. **You assign variables with an equals `=` sign.** In Python, a single equals sign `=` is the \"assignment operator\", and you can read it as \"... is assigned the value ...\". Each variable points to a tiny partition of your computer's memory (RAM). Too many big variables can take up too much RAM, slowing down your computer, so be careful."
   ]
  },
  {
   "cell_type": "code",
   "execution_count": 118,
   "metadata": {
    "tags": []
   },
   "outputs": [],
   "source": [
    "# numeric variables\n",
    "my_integer = 5\n",
    "my_float = 3.14  # \"float\" is short for \"floating point\", a real number\n",
    "\n",
    "# non-numeric variables\n",
    "my_boolean = True\n",
    "my_string = \"hello world\"\n",
    "\n",
    "# \"iterable\" variables\n",
    "my_list = [1, 2, 3, 4]\n",
    "my_set = {'a', 'b', 'c'}\n",
    "my_dictionary = {'a': 1, 'b': 2}\n",
    "my_tuple = (5, 6, 7)"
   ]
  },
  {
   "cell_type": "markdown",
   "metadata": {},
   "source": [
    "Variables that can be updated (\"mutated\") are called \"mutable\", and those which technically cannot are called \"immutable\". We will see more on this later, but it suffices to say that we can either update variables (e.g., change the 2nd element of `my_list`), or we can completely overwrite them (e.g., run `my_integer = -1`)."
   ]
  },
  {
   "cell_type": "code",
   "execution_count": 119,
   "metadata": {
    "tags": []
   },
   "outputs": [
    {
     "data": {
      "text/plain": [
       "3.14"
      ]
     },
     "execution_count": 119,
     "metadata": {},
     "output_type": "execute_result"
    }
   ],
   "source": [
    "my_float"
   ]
  },
  {
   "cell_type": "code",
   "execution_count": 120,
   "metadata": {
    "tags": []
   },
   "outputs": [
    {
     "data": {
      "text/plain": [
       "4.0"
      ]
     },
     "execution_count": 120,
     "metadata": {},
     "output_type": "execute_result"
    }
   ],
   "source": [
    "my_float = 4.0\n",
    "my_float"
   ]
  },
  {
   "cell_type": "markdown",
   "metadata": {
    "tags": []
   },
   "source": [
    "### Data Types\n",
    "\n",
    "Each value held in a Python variable has an attribute called a \"data type\". A variable's data type describes the kind of value held in the memory location that variable points to, and it dictates the kinds of things we can do with that variable.\n",
    "\n",
    "There are all [several built-in data types](https://www.w3schools.com/python/python_datatypes.asp) available in Python, but the most common ones are listed above as the variables we just created!\n",
    "\n",
    "Data Type | Examples | Notes\n",
    ":---: | --- | ---\n",
    "integer | `-2`, `5`, `0` |\n",
    "float | `1.3`, `3.1415927`, `-3.2223` |\n",
    "boolean | `True`, `False` |\n",
    "string | `\"hello\"`, `\"32\"` | Strings actually act like \"lists\" of characters\n",
    "list | `[1, 2, 3]`, `[\"a\", 2, 3.0]` | We can access elements using `[]`, like `my_list[2]`\n",
    "set | `{\"a\", 2, True}`, `{None}`, `{2}` |\n",
    "dictionary | `{\"a\": 12, \"c\": 3}`, `{\"a\": [1, 2], \"c\": 3}` | Similar to lists, we use the key. E.g., `my_dictionary[\"a\"]`\n",
    "tuple | `(3)`, `(1, 5)` | These can also be indexed like lists and dictionaries.\n",
    "\n",
    "**Caveats**\n",
    "* The `None` in the second `set` example is actually a \"None Type\" data type. It is usually used to represent a missing or non-existent value.\n",
    "* It is possible to have multiple kinds of data types within a list, set, or tuple.\n",
    "* Iterables (like lists) and strings can be sliced using `[start:stop:step]` syntax.\n",
    "    - **Python is zero-indexed.** So, the `0`th index is actually the first value.\n",
    "    - The `stop` value is excluded from the result. So, `[2:4]` results in the 3rd and 4th elements."
   ]
  },
  {
   "cell_type": "code",
   "execution_count": 121,
   "metadata": {
    "tags": []
   },
   "outputs": [
    {
     "data": {
      "text/plain": [
       "'l'"
      ]
     },
     "execution_count": 121,
     "metadata": {},
     "output_type": "execute_result"
    }
   ],
   "source": [
    "\"blah\"[1]"
   ]
  },
  {
   "cell_type": "code",
   "execution_count": 122,
   "metadata": {
    "tags": []
   },
   "outputs": [
    {
     "data": {
      "text/plain": [
       "1"
      ]
     },
     "execution_count": 122,
     "metadata": {},
     "output_type": "execute_result"
    }
   ],
   "source": [
    "my_dictionary['a']"
   ]
  },
  {
   "cell_type": "code",
   "execution_count": 123,
   "metadata": {
    "tags": []
   },
   "outputs": [
    {
     "data": {
      "text/plain": [
       "1"
      ]
     },
     "execution_count": 123,
     "metadata": {},
     "output_type": "execute_result"
    }
   ],
   "source": [
    "my_list[0]"
   ]
  },
  {
   "cell_type": "code",
   "execution_count": 124,
   "metadata": {
    "tags": []
   },
   "outputs": [],
   "source": [
    "None"
   ]
  },
  {
   "cell_type": "code",
   "execution_count": 125,
   "metadata": {
    "tags": []
   },
   "outputs": [
    {
     "data": {
      "text/plain": [
       "[2, 4, 6]"
      ]
     },
     "execution_count": 125,
     "metadata": {},
     "output_type": "execute_result"
    }
   ],
   "source": [
    "new_list = [0, 1, 2, 3, 4, 5, 6, 7, 8, 9]\n",
    "\n",
    "new_list[2:8:2]"
   ]
  },
  {
   "cell_type": "code",
   "execution_count": 126,
   "metadata": {
    "tags": []
   },
   "outputs": [
    {
     "data": {
      "text/plain": [
       "[0, 1, 2, 3]"
      ]
     },
     "execution_count": 126,
     "metadata": {},
     "output_type": "execute_result"
    }
   ],
   "source": [
    "# we don't need start, stop, and step\n",
    "new_list[:4]"
   ]
  },
  {
   "cell_type": "code",
   "execution_count": 127,
   "metadata": {
    "tags": []
   },
   "outputs": [
    {
     "data": {
      "text/plain": [
       "[9, 8]"
      ]
     },
     "execution_count": 127,
     "metadata": {},
     "output_type": "execute_result"
    }
   ],
   "source": [
    "# negatives work in reverse\n",
    "new_list[:-3:-1]"
   ]
  },
  {
   "cell_type": "markdown",
   "metadata": {},
   "source": [
    "### Naming Variables"
   ]
  },
  {
   "cell_type": "markdown",
   "metadata": {},
   "source": [
    "Variable names can be as long or as short as you want, and they can include:\n",
    "- upper and lower-case letters (A-Z, and a-z)\n",
    "- digits (0-9)  *... (a variable cannot start with a digit)*\n",
    "- underscores (_)  *... (the character `_` alone acts as a \"temporary\" variable)*\n",
    "\n",
    "Variable names *cannot* include:\n",
    "- other punctuation (-.!?@)\n",
    "- spaces ( )\n",
    "- a reserved Python word\n",
    "\n",
    "**Use [clear and precisely-named variables](https://gist.github.com/etigui/7600441926e73c3385057718c2fdef8e).** Instead of using `n` to represent the name of a person, use `name`. Likewise, instead of using `b` to represent a person's birth year, just use `birth_year`. Be efficient, but don't worry too much if variable names get a bit long! :)"
   ]
  },
  {
   "cell_type": "markdown",
   "metadata": {},
   "source": [
    "### Off-Limits Names\n",
    "\n",
    "The only variable names that are off-limits are names that are reserved by, or built into, the Python programming language itself, such as `True`, and `list`. You’ll know very quickly if a name is reserved by Python because it will show up in green and often give you an error message."
   ]
  },
  {
   "cell_type": "code",
   "execution_count": 128,
   "metadata": {
    "tags": []
   },
   "outputs": [],
   "source": [
    "# Try running the code below\n",
    "# True = \"the sky is blue\""
   ]
  },
  {
   "cell_type": "markdown",
   "metadata": {
    "tags": []
   },
   "source": [
    "## Operators and Logic\n",
    "\n",
    "Of course, the power of Python comes from its ability to manipulate and operate on these variables. In particular, in this class, we use arithmetic, comparison, and logical operators.\n",
    "\n",
    "### Arithmetic Operators\n",
    "\n",
    "Mathematical operators in Python behave differently depending on the data type they're used on. But, in general, there are 7 varieties of operator:"
   ]
  },
  {
   "cell_type": "markdown",
   "metadata": {},
   "source": [
    "Operator | ... on Numbers | ... on Strings | ... on (some) Iterables\n",
    "--- | --- | --- | ---\n",
    "`+` | Addition | Concatenate | Concatenate (lists)\n",
    "`-` | Subtraction | - | Difference (sets)\n",
    "`*` | Multiplication | Replicate | Replicate\n",
    "`/` | Division | - | -\n",
    "`%` | Modulus | - | -\n",
    "`**` | Exponentiation | - | Expand sets/dictionaries (e.g., `**my_set`)\n",
    "`//` | Floor division | - | -"
   ]
  },
  {
   "cell_type": "markdown",
   "metadata": {},
   "source": [
    "**Numeric Examples**"
   ]
  },
  {
   "cell_type": "code",
   "execution_count": 129,
   "metadata": {
    "tags": []
   },
   "outputs": [
    {
     "data": {
      "text/plain": [
       "11"
      ]
     },
     "execution_count": 129,
     "metadata": {},
     "output_type": "execute_result"
    }
   ],
   "source": [
    "# addition and subtraction work as expected\n",
    "4 + 5 + 2"
   ]
  },
  {
   "cell_type": "code",
   "execution_count": 130,
   "metadata": {
    "tags": []
   },
   "outputs": [
    {
     "data": {
      "text/plain": [
       "2"
      ]
     },
     "execution_count": 130,
     "metadata": {},
     "output_type": "execute_result"
    }
   ],
   "source": [
    "# the floor is the \"rounded down\" integer\n",
    "8 // 3"
   ]
  },
  {
   "cell_type": "code",
   "execution_count": 131,
   "metadata": {
    "tags": []
   },
   "outputs": [
    {
     "data": {
      "text/plain": [
       "1"
      ]
     },
     "execution_count": 131,
     "metadata": {},
     "output_type": "execute_result"
    }
   ],
   "source": [
    "# the modulus is the remainder after division\n",
    "5 % 2"
   ]
  },
  {
   "cell_type": "markdown",
   "metadata": {},
   "source": [
    "**List Examples**"
   ]
  },
  {
   "cell_type": "code",
   "execution_count": 132,
   "metadata": {
    "tags": []
   },
   "outputs": [
    {
     "data": {
      "text/plain": [
       "[2, 3, 4, 5, 6, 7]"
      ]
     },
     "execution_count": 132,
     "metadata": {},
     "output_type": "execute_result"
    }
   ],
   "source": [
    "# we can join two lists together\n",
    "[2, 3, 4] + [5, 6, 7]"
   ]
  },
  {
   "cell_type": "code",
   "execution_count": 133,
   "metadata": {
    "tags": []
   },
   "outputs": [
    {
     "data": {
      "text/plain": [
       "[1, 2, 1, 2, 1, 2, 1, 2]"
      ]
     },
     "execution_count": 133,
     "metadata": {},
     "output_type": "execute_result"
    }
   ],
   "source": [
    "# or, we can make values repeat themselves\n",
    "[1, 2] * 4"
   ]
  },
  {
   "cell_type": "markdown",
   "metadata": {},
   "source": [
    "**Set Examples**"
   ]
  },
  {
   "cell_type": "code",
   "execution_count": 134,
   "metadata": {
    "tags": []
   },
   "outputs": [
    {
     "data": {
      "text/plain": [
       "{1, 3}"
      ]
     },
     "execution_count": 134,
     "metadata": {},
     "output_type": "execute_result"
    }
   ],
   "source": [
    "# What is in the first set and not the latter\n",
    "{1, 3, 2} - {2, 19, 2}"
   ]
  },
  {
   "cell_type": "code",
   "execution_count": 135,
   "metadata": {
    "tags": []
   },
   "outputs": [
    {
     "data": {
      "text/plain": [
       "{'a', 'b', 'c', 'd', 'f'}"
      ]
     },
     "execution_count": 135,
     "metadata": {},
     "output_type": "execute_result"
    }
   ],
   "source": [
    "a = {'a', 'b', 'c', 'c'}\n",
    "b = {'c', 'd', 'f'}\n",
    "\n",
    "# We can use * to get a union between two sets\n",
    "{*a, *b}"
   ]
  },
  {
   "cell_type": "markdown",
   "metadata": {},
   "source": [
    "### Conditional Operators\n",
    "\n",
    "If we want to compare two values, we can use conditional operators:\n",
    "\n",
    "Operator | Example | Meaning | Result\n",
    "--- | --- | --- | ---\n",
    "`==` | `a == b` | Equal to | True if the value of a is equal to the value of b, False otherwise\n",
    "`!=` | `a != b` | Not equal to | True if a is not equal to b, False otherwise\n",
    "`<` | `a < b` | Less than | True if a is less than b, False otherwise\n",
    "`<=` | `a <= b` | Less than or equal to | True if a is less than or equal to b, False otherwise\n",
    "`>` | `a > b` | Greater than | True if a is greater than b, False otherwise\n",
    "`>=` | `a >= b` | Greater than or equal to | True if a is greater than or equal to b, False otherwise"
   ]
  },
  {
   "cell_type": "code",
   "execution_count": 136,
   "metadata": {
    "tags": []
   },
   "outputs": [
    {
     "data": {
      "text/plain": [
       "False"
      ]
     },
     "execution_count": 136,
     "metadata": {},
     "output_type": "execute_result"
    }
   ],
   "source": [
    "# you can compare numbers and characters\n",
    "4 == \"4\""
   ]
  },
  {
   "cell_type": "code",
   "execution_count": 137,
   "metadata": {
    "tags": []
   },
   "outputs": [
    {
     "data": {
      "text/plain": [
       "False"
      ]
     },
     "execution_count": 137,
     "metadata": {},
     "output_type": "execute_result"
    }
   ],
   "source": [
    "# strings have alphabetical order\n",
    "\"a\" > \"z\""
   ]
  },
  {
   "cell_type": "markdown",
   "metadata": {},
   "source": [
    "### Logical Operators\n",
    "\n",
    "Lastly, we have logical operators: `not`, `or`, and `and`. These work as you'd expect them to:"
   ]
  },
  {
   "cell_type": "code",
   "execution_count": 138,
   "metadata": {
    "tags": []
   },
   "outputs": [
    {
     "data": {
      "text/plain": [
       "True"
      ]
     },
     "execution_count": 138,
     "metadata": {},
     "output_type": "execute_result"
    }
   ],
   "source": [
    "not 3 > 8"
   ]
  },
  {
   "cell_type": "code",
   "execution_count": 139,
   "metadata": {
    "tags": []
   },
   "outputs": [
    {
     "data": {
      "text/plain": [
       "False"
      ]
     },
     "execution_count": 139,
     "metadata": {},
     "output_type": "execute_result"
    }
   ],
   "source": [
    "# with or, Python stops at the first false conditional\n",
    "(2 == 3) or (3 > 7)"
   ]
  },
  {
   "cell_type": "markdown",
   "metadata": {},
   "source": [
    "Here, play around with the `3`, below, to learn about [\"truthiness\"](https://docs.python.org/3/library/stdtypes.html#truth-value-testing)."
   ]
  },
  {
   "cell_type": "code",
   "execution_count": 140,
   "metadata": {
    "tags": []
   },
   "outputs": [
    {
     "data": {
      "text/plain": [
       "True"
      ]
     },
     "execution_count": 140,
     "metadata": {},
     "output_type": "execute_result"
    }
   ],
   "source": [
    "# Play around with the \"3\" here to learn what \"truthy\" means\n",
    "3 and (5 <= 10)"
   ]
  },
  {
   "cell_type": "markdown",
   "metadata": {},
   "source": [
    "### Logic\n",
    "\n",
    "There are three main logical \"phrases\" available in Python: `if`, `if-else`, and `if-elif-else`.\n",
    "\n",
    "*Note: Python 3.10 has now introduced the handy [`case` statement](https://learnpython.com/blog/python-match-case-statement/). But, I recommend avoiding this for now, at least until the world catches on.*"
   ]
  },
  {
   "cell_type": "markdown",
   "metadata": {},
   "source": [
    "**`if` statements**"
   ]
  },
  {
   "cell_type": "code",
   "execution_count": 141,
   "metadata": {
    "tags": []
   },
   "outputs": [
    {
     "data": {
      "text/plain": [
       "'good stuff'"
      ]
     },
     "execution_count": 141,
     "metadata": {},
     "output_type": "execute_result"
    }
   ],
   "source": [
    "x = 4  # adjust this value to see what happens\n",
    "\n",
    "# if statements always have this form\n",
    "if x < 5:\n",
    "    # code beneath the colon must be indented\n",
    "    result = \"good stuff\"\n",
    "    \n",
    "result"
   ]
  },
  {
   "cell_type": "code",
   "execution_count": 142,
   "metadata": {
    "tags": []
   },
   "outputs": [
    {
     "data": {
      "text/plain": [
       "'good stuff'"
      ]
     },
     "execution_count": 142,
     "metadata": {},
     "output_type": "execute_result"
    }
   ],
   "source": [
    "# use parentheses for complex comparisons\n",
    "if (x < 5) or (x > 20):\n",
    "    result = \"good stuff\"\n",
    "    \n",
    "result"
   ]
  },
  {
   "cell_type": "markdown",
   "metadata": {},
   "source": [
    "**`if-else` statements**"
   ]
  },
  {
   "cell_type": "code",
   "execution_count": 143,
   "metadata": {
    "tags": []
   },
   "outputs": [
    {
     "data": {
      "text/plain": [
       "'different stuff'"
      ]
     },
     "execution_count": 143,
     "metadata": {},
     "output_type": "execute_result"
    }
   ],
   "source": [
    "x = 20  # adjust this value to see what happens\n",
    "\n",
    "# with if-else, exactly one block will be run\n",
    "if x < 5:\n",
    "    result = \"good stuff\"\n",
    "else:\n",
    "    result = \"different stuff\"\n",
    "    \n",
    "result"
   ]
  },
  {
   "cell_type": "markdown",
   "metadata": {},
   "source": [
    "**`if-elif-else` statements**\n",
    "\n",
    "`elif` is a sort of hybrid between `if` and `else`. Once a condition is met, Python stops cascading through the rest of the conditions."
   ]
  },
  {
   "cell_type": "code",
   "execution_count": 144,
   "metadata": {
    "tags": []
   },
   "outputs": [
    {
     "data": {
      "text/plain": [
       "'medium stuff'"
      ]
     },
     "execution_count": 144,
     "metadata": {},
     "output_type": "execute_result"
    }
   ],
   "source": [
    "x = 8  # adjust this value to see what happens\n",
    "\n",
    "# with if-elif-else, exactly one block will be run\n",
    "if x < 5:\n",
    "    result = \"good stuff\"\n",
    "elif x < 10:\n",
    "    result = \"medium stuff\"\n",
    "else:\n",
    "    result = \"different stuff\"\n",
    "    \n",
    "result"
   ]
  },
  {
   "cell_type": "markdown",
   "metadata": {},
   "source": [
    "## Packages, Modules, and Objects\n",
    "\n",
    "Python is an [object-oriented programming language](https://realpython.com/python3-object-oriented-programming/), which basically means that everything in Python can be distilled into an \"entity\" with attributes and/or a \"process\" with steps to follow, and encapsulated in a variable-esque thing called an *object*. Objects can be defined in a .ipynb file (like this one), or in a proper Python \"module\" (a Python .py file). Then, modules are collected and organized in folders as a package (or \"library\"). In any code, you can reference modules or packages using the `import` statements we've seen above."
   ]
  },
  {
   "cell_type": "markdown",
   "metadata": {
    "tags": []
   },
   "source": [
    "### Packages and Libraries\n",
    "\n",
    "When you Google \"tenets of programming\", you'll find several lists of principles which programmers should follow (and, I agree, they should). However, two of the most common acronyms which come up are:\n",
    "\n",
    "1. **KISS: \"Keep It Short and Simple\"**. First, keep your code as simple as possible. It should be readable, easy to explain, and everything should have a very clear purpose.\n",
    "2. **DRY: \"Don't Repeat Yourself\"**. Secondly, avoid writing repetitive code. Use Python functionality in a clever way, such that any repetition is being done by the computer, not you.\n",
    "\n",
    "Staying true to these tenets, note that many other developers have written Python code into \"packages\" or \"libraries\" that you can `import` into your own code, which will both simplify your code, and keep you from repeating yourself."
   ]
  },
  {
   "cell_type": "code",
   "execution_count": 145,
   "metadata": {
    "tags": []
   },
   "outputs": [],
   "source": [
    "import re                          # import the whole package\n",
    "import math as m                   # rename the package to use later\n",
    "from collections import Counter    # import just one object from the package\n",
    "from os import getcwd, listdir     # import multiple objects from a package"
   ]
  },
  {
   "cell_type": "markdown",
   "metadata": {},
   "source": [
    "*Note: `re` stands for [regular expressions](https://www.computerhope.com/jargon/r/regex.htm), and [this](https://regex101.com/) is a good reference for testing them out.*"
   ]
  },
  {
   "cell_type": "markdown",
   "metadata": {},
   "source": [
    "### Functions and Classes\n",
    "\n",
    "A [function](https://melaniewalsh.github.io/Intro-Cultural-Analytics/02-Python/12-Functions.html) is a Python object which allows us to bundle up code to perform specific tasks. In it, we define a set of steps we want Python to take, given some input to return an output. Below is an example for how we can define a simple function. There are built-in functions (those which don't require you to `import` anything), those which come from other packages, and user-defined functions, which you define yourself."
   ]
  },
  {
   "cell_type": "markdown",
   "metadata": {},
   "source": [
    "**Built-In Functions**\n",
    "One popular built-in function is the `print()` function, which \"prints\" values to the console (or the space below a Jupyter notebook cell). Another is the `type()` function, which allows you to check for an object's data type."
   ]
  },
  {
   "cell_type": "code",
   "execution_count": 146,
   "metadata": {
    "tags": []
   },
   "outputs": [
    {
     "name": "stdout",
     "output_type": "stream",
     "text": [
      "hello world\n"
     ]
    }
   ],
   "source": [
    "print(\"hello world\")"
   ]
  },
  {
   "cell_type": "code",
   "execution_count": 147,
   "metadata": {
    "tags": []
   },
   "outputs": [
    {
     "name": "stdout",
     "output_type": "stream",
     "text": [
      "My integer is 5\n"
     ]
    }
   ],
   "source": [
    "# we can also use \"format strings\" to place variables in strings\n",
    "short_sentence = f\"My integer is {my_integer}\"\n",
    "print(short_sentence)"
   ]
  },
  {
   "cell_type": "code",
   "execution_count": 148,
   "metadata": {
    "tags": []
   },
   "outputs": [
    {
     "data": {
      "text/plain": [
       "NoneType"
      ]
     },
     "execution_count": 148,
     "metadata": {},
     "output_type": "execute_result"
    }
   ],
   "source": [
    "# determine the datatype of something\n",
    "type(None)"
   ]
  },
  {
   "cell_type": "code",
   "execution_count": 149,
   "metadata": {
    "tags": []
   },
   "outputs": [
    {
     "data": {
      "text/plain": [
       "float"
      ]
     },
     "execution_count": 149,
     "metadata": {},
     "output_type": "execute_result"
    }
   ],
   "source": [
    "type(4.0 ** 3)"
   ]
  },
  {
   "cell_type": "code",
   "execution_count": 150,
   "metadata": {
    "tags": []
   },
   "outputs": [
    {
     "data": {
      "text/plain": [
       "[1, 2, 4, 5, 10, 12, 37]"
      ]
     },
     "execution_count": 150,
     "metadata": {},
     "output_type": "execute_result"
    }
   ],
   "source": [
    "# sort lists\n",
    "sorted([2, 5, 4, 1, 10, 37, 12])"
   ]
  },
  {
   "cell_type": "markdown",
   "metadata": {},
   "source": [
    "**Packaged Functions**\n",
    "\n",
    "We can reference stand-alone functions, if they were imported (e.g., `getcwd()`, below), or we can use the period `.` to call functions or variables which are part of a module (or another object)."
   ]
  },
  {
   "cell_type": "code",
   "execution_count": 151,
   "metadata": {
    "tags": []
   },
   "outputs": [
    {
     "data": {
      "text/plain": [
       "'/Users/yuritziavila-robledo/Downloads/lab_1 (1)'"
      ]
     },
     "execution_count": 151,
     "metadata": {},
     "output_type": "execute_result"
    }
   ],
   "source": [
    "# prints the current working directory\n",
    "getcwd()"
   ]
  },
  {
   "cell_type": "code",
   "execution_count": 152,
   "metadata": {
    "tags": []
   },
   "outputs": [
    {
     "data": {
      "text/plain": [
       "['labutil', 'lab_1.ipynb', 'data']"
      ]
     },
     "execution_count": 152,
     "metadata": {},
     "output_type": "execute_result"
    }
   ],
   "source": [
    "# lists the names of the files in the current directory (notice the '.' abbreviation)\n",
    "listdir('.')"
   ]
  },
  {
   "cell_type": "code",
   "execution_count": 153,
   "metadata": {
    "tags": []
   },
   "outputs": [
    {
     "data": {
      "text/plain": [
       "1.0"
      ]
     },
     "execution_count": 153,
     "metadata": {},
     "output_type": "execute_result"
    }
   ],
   "source": [
    "# `sin` is a function from the `math` module, and `pi` is a variable from the same\n",
    "m.sin(m.pi / 2)"
   ]
  },
  {
   "cell_type": "markdown",
   "metadata": {},
   "source": [
    "**User-defined Functions**\n",
    "\n",
    "I encourage you to take a look at Walsh's [chapter on functions](https://melaniewalsh.github.io/Intro-Cultural-Analytics/02-Python/12-Functions.html), but as an example, we can define functions like the one below."
   ]
  },
  {
   "cell_type": "markdown",
   "metadata": {},
   "source": [
    "For this example, we're going to use the text of Lewis Carroll's *Alice in Wonderland* (from Walsh's [book](https://github.com/melaniewalsh/Intro-Cultural-Analytics)). But to do so, we need to access a file in our directory. `with` is a special kind of operator outside the scope of this class, but it suffices to say that it is a clean way to manage computational resources when running routines such as using the built-in function `open()` to open (and close) files."
   ]
  },
  {
   "cell_type": "code",
   "execution_count": 154,
   "metadata": {
    "tags": []
   },
   "outputs": [],
   "source": [
    "def book_words(filepath, split_pat=\"\\W+\"):\n",
    "    '''\n",
    "    Given a `filepath` to a book, split the text into individual words.\n",
    "    `split_pat` is the regex expression defining each split.\n",
    "    '''\n",
    "    with open(filepath, \"r\") as f:\n",
    "        book = f.read()\n",
    "    \n",
    "    words = re.split(split_pat, book.lower())\n",
    "    \n",
    "    return words"
   ]
  },
  {
   "cell_type": "markdown",
   "metadata": {},
   "source": [
    "A few things:\n",
    "* We define special variables called *arguments* in the parenthesis to use within the function. Those with an `=` are optional, with a default value.\n",
    "* Inside the triple quotations `''' ... '''` is the *docstring*, telling us what the function does and how to use it. **Every function should have a docstring**, even if it is very short. In Jupyter, you can peek at functions' docstrings using **Shift + Tab**.\n",
    "* The `return` statement dictates the output of the function.\n",
    "* Variables defined *inside* the function are called **local variables**. These are only \"available\" within the function. **Global variables** are defined outside the function (or using the `global` keyword), and they are available anywhere in the python file or where the module is imported."
   ]
  },
  {
   "cell_type": "code",
   "execution_count": 155,
   "metadata": {
    "tags": []
   },
   "outputs": [],
   "source": [
    "aiw_path = './data/Alice-in-Wonderland_Lewis-Carroll.txt'\n",
    "aiw_words = book_words(aiw_path)"
   ]
  },
  {
   "cell_type": "code",
   "execution_count": 156,
   "metadata": {
    "tags": []
   },
   "outputs": [
    {
     "name": "stdout",
     "output_type": "stream",
     "text": [
      "['the', 'project', 'gutenberg', 'ebook', 'of', 'alice', 's', 'adventures', 'in', 'wonderland']\n"
     ]
    }
   ],
   "source": [
    "print(aiw_words[:10])"
   ]
  },
  {
   "cell_type": "markdown",
   "metadata": {},
   "source": [
    "**(Using) Classes**\n",
    "\n",
    "The [*Class*](https://realpython.com/python-classes/) is probably the most common form of Python object. It is an abstract entity with well-defined attributes and behaviors (e.g., a shoe is an entity with a size and color, and it can also be worn). **We will not be creating new Python classes in this course**, but we will be using them.\n",
    "\n",
    "A class has *attributes* (variables) and *methods* (functions) which are specifically \"attached\" to the class. Either of them are accessed with the period `.`. Unlike normal variables/functions, class attributes and methods can interact with one another \"behind the scenes\", as they are all *part* of the same entity (i.e., the class itself).\n",
    "\n",
    "> You can find out what kinds of attributes or methods are available for a class by typing `.`, then typing **Tab**."
   ]
  },
  {
   "cell_type": "code",
   "execution_count": 157,
   "metadata": {
    "tags": []
   },
   "outputs": [
    {
     "data": {
      "text/plain": [
       "['this', 'is', 'a', 'string']"
      ]
     },
     "execution_count": 157,
     "metadata": {},
     "output_type": "execute_result"
    }
   ],
   "source": [
    "# in fact, a string is a class, with several methods\n",
    "\"this is a string\".split(' ')"
   ]
  },
  {
   "cell_type": "code",
   "execution_count": 158,
   "metadata": {
    "tags": []
   },
   "outputs": [
    {
     "data": {
      "text/plain": [
       "[1, 2, 4, 5, 7, 8, 10]"
      ]
     },
     "execution_count": 158,
     "metadata": {},
     "output_type": "execute_result"
    }
   ],
   "source": [
    "# as are lists\n",
    "append_list = [1, 2, 4, 5, 7, 8]\n",
    "append_list.append(10)\n",
    "append_list"
   ]
  },
  {
   "cell_type": "code",
   "execution_count": 159,
   "metadata": {
    "tags": []
   },
   "outputs": [
    {
     "data": {
      "text/plain": [
       "403"
      ]
     },
     "execution_count": 159,
     "metadata": {},
     "output_type": "execute_result"
    }
   ],
   "source": [
    "# here, we define a new instance of the `Counter` class (see above)\n",
    "counter = Counter(aiw_words)\n",
    "\n",
    "# One attribute of this class is a count for each word\n",
    "counter['alice']"
   ]
  },
  {
   "cell_type": "code",
   "execution_count": 160,
   "metadata": {
    "tags": []
   },
   "outputs": [
    {
     "data": {
      "text/plain": [
       "[('the', 1832),\n",
       " ('and', 944),\n",
       " ('to', 810),\n",
       " ('a', 695),\n",
       " ('of', 635),\n",
       " ('it', 607),\n",
       " ('she', 549),\n",
       " ('i', 524),\n",
       " ('you', 469),\n",
       " ('said', 460)]"
      ]
     },
     "execution_count": 160,
     "metadata": {},
     "output_type": "execute_result"
    }
   ],
   "source": [
    "# A method of this class is listing the `n` most common words\n",
    "counter.most_common(n = 10)"
   ]
  },
  {
   "cell_type": "markdown",
   "metadata": {},
   "source": [
    "Prepositions, conjunctions, and pronouns like these carry very little interesting information about the book. Words like these are called *[stop words](https://en.wikipedia.org/wiki/Stop_word)*, and we can filter them out before counting, if we like. To do this, we will use a [**list comprehension**](https://melaniewalsh.github.io/Intro-Cultural-Analytics/02-Python/10-Lists-Loops-Part2.html#list-comprehensions). This allows us to iterate through a collection of items, and create a new list of items."
   ]
  },
  {
   "cell_type": "code",
   "execution_count": 161,
   "metadata": {
    "tags": []
   },
   "outputs": [
    {
     "data": {
      "text/plain": [
       "[0, 2, 4, 6, 8]"
      ]
     },
     "execution_count": 161,
     "metadata": {},
     "output_type": "execute_result"
    }
   ],
   "source": [
    "numbers = [0, 1, 2, 3, 4, 5, 6, 7, 8, 9]\n",
    "\n",
    "# we can use the modulus operator to find even numbers\n",
    "[n for n in numbers if n % 2 == 0]"
   ]
  },
  {
   "cell_type": "markdown",
   "metadata": {},
   "source": [
    "Two special operators are the object \"identity\" operators: `is` or `is not`, which check whether an object *is* an instance of some object. You will likely only use these to determine if a variable is `None`. Also, `in` will return `True` if what precedes it is an element of what follows it."
   ]
  },
  {
   "cell_type": "code",
   "execution_count": 162,
   "metadata": {
    "tags": []
   },
   "outputs": [],
   "source": [
    "# always use clear, descriptive function names\n",
    "def most_common_words(words, n_top=None, stop_words=None):\n",
    "    if stop_words is not None:\n",
    "        words = [w for w in words if w not in stop_words]\n",
    "        \n",
    "    counter = Counter(words)\n",
    "    common = counter.most_common(n=n_top)\n",
    "    \n",
    "    return common"
   ]
  },
  {
   "cell_type": "code",
   "execution_count": 163,
   "metadata": {
    "tags": []
   },
   "outputs": [
    {
     "data": {
      "text/plain": [
       "[('alice', 403),\n",
       " ('gutenberg', 98),\n",
       " ('project', 88),\n",
       " ('queen', 76),\n",
       " ('thought', 74),\n",
       " ('turtle', 59),\n",
       " ('mock', 57),\n",
       " ('began', 57),\n",
       " ('tm', 57),\n",
       " ('hatter', 56),\n",
       " ('gryphon', 55),\n",
       " ('rabbit', 53)]"
      ]
     },
     "execution_count": 163,
     "metadata": {},
     "output_type": "execute_result"
    }
   ],
   "source": [
    "with open(\"./data/stop_words_english.txt\", \"r\") as f:\n",
    "    stop_words = f.read()\n",
    "\n",
    "most_common_words(aiw_words, n_top=12, stop_words=stop_words)"
   ]
  },
  {
   "cell_type": "markdown",
   "metadata": {},
   "source": [
    "### Modules (optional)\n",
    "\n",
    "Functions exist as a sort of short-hand: reusable Python structures which help us to avoid writing repetitive code blocks. I.e., instead of writing the same block of code multiple times, we simply call a single function — it saves room and keeps things clean. In the same way that functions (and classes) can be imported from third-party (or built-in) packages, they can also be imported from modules we build ourselves!\n",
    "\n",
    "\n",
    "\n",
    "1. Create a folder in this directory, and give it a unique name like \"labutil\". This will be our [Python package](https://docs.python.org/3/tutorial/modules.html#packages).\n",
    "2. In it, save a Python file called \\_\\_init\\_\\_.py (two underscores on either side of the name).\n",
    "    - This file can be completely empty.\n",
    "3. Save another Python file, named appropriately based on the functions you want in there, e.g., \"basics.py\".\n",
    "4. Build and test out your functions in Jupyter, and when you feel comfortable with them, *move* them into your Python file. Use Jupyter notebook *as a notebook*, and keep any reusable code (e.g., functions) in the Python file.\n",
    "5. Whenever you're working on a project, keep open your Jupyter notebook for building and testing code, and keep your IDE (e.g., VS Code) open for updating your functions.\n",
    "    - [PEP-8](https://pep8.org/) is the Python style guide, and for the most part, IDEs like VS Code naturally guide users to following it. However, if you're ever in doubt about how something should look, refer to PEP-8."
   ]
  },
  {
   "cell_type": "markdown",
   "metadata": {},
   "source": [
    "We will use the [autoreload](https://ipython.org/ipython-doc/3/config/extensions/autoreload.html) functionality Jupyter to make sure updates to our code reflect in the notebook:\n",
    "\n",
    "```python\n",
    "%load_ext autoreload      # edits to our .py file(s) will automatically update in Jupyter\n",
    "%aimport labutil.basics   # the modules (files) we want to \"auto\" import\n",
    "%autoreload 1             # a code to only autoreload the \"aimport\" modules, above\n",
    "```"
   ]
  },
  {
   "cell_type": "code",
   "execution_count": 164,
   "metadata": {},
   "outputs": [
    {
     "name": "stdout",
     "output_type": "stream",
     "text": [
      "The autoreload extension is already loaded. To reload it, use:\n",
      "  %reload_ext autoreload\n"
     ]
    }
   ],
   "source": [
    "%load_ext autoreload\n",
    "%aimport labutil.basics\n",
    "%autoreload 1"
   ]
  },
  {
   "cell_type": "code",
   "execution_count": 165,
   "metadata": {
    "tags": []
   },
   "outputs": [],
   "source": [
    "# we use <package>.<module> syntax, and the \"*\" means \"all\"\n",
    "from labutil.basics import *"
   ]
  },
  {
   "cell_type": "code",
   "execution_count": 166,
   "metadata": {},
   "outputs": [
    {
     "name": "stdout",
     "output_type": "stream",
     "text": [
      "all the stuff\n"
     ]
    }
   ],
   "source": [
    "# try changing the print statement in this function to see what happens\n",
    "my_func()"
   ]
  },
  {
   "cell_type": "markdown",
   "metadata": {},
   "source": [
    "# Exercises"
   ]
  },
  {
   "cell_type": "markdown",
   "metadata": {},
   "source": [
    "## Exercise 1\n",
    "\n",
    "Find the largest number in the Alice in Wonderland book. (Remember, we should have `aiw_words`.)\n",
    "\n",
    "- The regex pattern `\"\\d+\"` will match on any integer (without commas).\n",
    "- [re.match](https://docs.python.org/3/library/re.html#re.match) will return a \"truthy\" value if there is a match.\n",
    "- Recall the built-in function `sorted`. How can you reverse the ordering here?\n",
    "- Also, you can convert a string of digits to an integer with `int(characters)`."
   ]
  },
  {
   "cell_type": "code",
   "execution_count": 167,
   "metadata": {},
   "outputs": [
    {
     "name": "stdout",
     "output_type": "stream",
     "text": [
      "Requirement already satisfied: word2number in /Users/yuritziavila-robledo/Desktop/Data Science/i501_informatics/i501/lib/python3.11/site-packages (1.1)\n",
      "\n",
      "\u001b[1m[\u001b[0m\u001b[34;49mnotice\u001b[0m\u001b[1;39;49m]\u001b[0m\u001b[39;49m A new release of pip is available: \u001b[0m\u001b[31;49m23.2.1\u001b[0m\u001b[39;49m -> \u001b[0m\u001b[32;49m24.0\u001b[0m\n",
      "\u001b[1m[\u001b[0m\u001b[34;49mnotice\u001b[0m\u001b[1;39;49m]\u001b[0m\u001b[39;49m To update, run: \u001b[0m\u001b[32;49mpip install --upgrade pip\u001b[0m\n",
      "Note: you may need to restart the kernel to use updated packages.\n"
     ]
    }
   ],
   "source": [
    "pip install word2number"
   ]
  },
  {
   "cell_type": "code",
   "execution_count": 168,
   "metadata": {},
   "outputs": [],
   "source": [
    "from word2number import w2n"
   ]
  },
  {
   "cell_type": "code",
   "execution_count": 173,
   "metadata": {},
   "outputs": [
    {
     "name": "stdout",
     "output_type": "stream",
     "text": [
      "The largest number in Alice in Wonderland is: 6221541\n"
     ]
    }
   ],
   "source": [
    "# your code here\n",
    "\n",
    "regex_pattern = r\"\\d+\"\n",
    "matches=re.finditer(regex_pattern, ' '.join(aiw_words))\n",
    "numbers=[w2n.word_to_num(match.group())for match in matches]\n",
    "\n",
    "\n",
    "largest_number=max(numbers)\n",
    "print(\"The largest number in Alice in Wonderland is:\", largest_number)\n",
    "\n"
   ]
  },
  {
   "cell_type": "markdown",
   "metadata": {
    "tags": []
   },
   "source": [
    "## Exercise 2\n",
    "\n",
    "Write a function that calculates the average of a list of numbers called `numbers`.\n",
    "* `sum` is a built-in function, as is `len` (for length)."
   ]
  },
  {
   "cell_type": "code",
   "execution_count": 179,
   "metadata": {
    "tags": []
   },
   "outputs": [],
   "source": [
    "# your code here\n",
    "def average(numbers):\n",
    "    total=sum(numbers)\n",
    "    count=len(numbers)\n",
    "    average_list=total/count\n",
    "    print (average_list)"
   ]
  },
  {
   "cell_type": "code",
   "execution_count": 180,
   "metadata": {},
   "outputs": [
    {
     "name": "stdout",
     "output_type": "stream",
     "text": [
      "3.0\n"
     ]
    }
   ],
   "source": [
    "random_list_nums=[1,4,6,1]\n",
    "result_avg=average(random_list_nums)"
   ]
  },
  {
   "cell_type": "code",
   "execution_count": null,
   "metadata": {},
   "outputs": [],
   "source": []
  }
 ],
 "metadata": {
  "kernelspec": {
   "display_name": "i501",
   "language": "python",
   "name": "python3"
  },
  "language_info": {
   "codemirror_mode": {
    "name": "ipython",
    "version": 3
   },
   "file_extension": ".py",
   "mimetype": "text/x-python",
   "name": "python",
   "nbconvert_exporter": "python",
   "pygments_lexer": "ipython3",
   "version": "3.11.5"
  }
 },
 "nbformat": 4,
 "nbformat_minor": 4
}
