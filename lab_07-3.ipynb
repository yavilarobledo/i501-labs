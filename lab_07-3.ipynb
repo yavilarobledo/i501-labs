{
 "cells": [
  {
   "cell_type": "markdown",
   "id": "0154af6f-ac7f-4d6e-ba33-3b9fb24fad39",
   "metadata": {},
   "source": [
    "# Interactive Visualization with Plotly"
   ]
  },
  {
   "cell_type": "markdown",
   "id": "a0273f7a-3a37-4486-89a1-1791021f1b53",
   "metadata": {},
   "source": [
    "For this lab, you'll need to install Plotly. Make sure to follow *both* the [plotly](https://plotly.com/python/getting-started/#installation) steps and the [jupyter support](https://plotly.com/python/getting-started/#jupyterlab-support) steps."
   ]
  },
  {
   "cell_type": "markdown",
   "id": "22e7c867-6aed-4f51-89ed-914258be3122",
   "metadata": {},
   "source": [
    "[Plotly](https://plotly.com/python/) is an interactive visualization package which is as part of the [Plotly and Dash](https://plot.ly) enterprise. Here we'll showcase just a few graphs to get you acquainted with their [Plotly Express](https://plotly.com/python/plotly-express/) module. We'll use [data from the titanic disaster](https://www.kaggle.com/competitions/titanic/data)."
   ]
  },
  {
   "cell_type": "code",
   "execution_count": 1,
   "id": "faf3047a",
   "metadata": {},
   "outputs": [
    {
     "name": "stdout",
     "output_type": "stream",
     "text": [
      "Requirement already satisfied: plotly in /Users/yuritziavila-robledo/Desktop/Data Science/i501_informatics/i501/lib/python3.11/site-packages (5.20.0)\n",
      "Requirement already satisfied: tenacity>=6.2.0 in /Users/yuritziavila-robledo/Desktop/Data Science/i501_informatics/i501/lib/python3.11/site-packages (from plotly) (8.2.3)\n",
      "Requirement already satisfied: packaging in /Users/yuritziavila-robledo/Desktop/Data Science/i501_informatics/i501/lib/python3.11/site-packages (from plotly) (23.2)\n",
      "\n",
      "\u001b[1m[\u001b[0m\u001b[34;49mnotice\u001b[0m\u001b[1;39;49m]\u001b[0m\u001b[39;49m A new release of pip is available: \u001b[0m\u001b[31;49m23.2.1\u001b[0m\u001b[39;49m -> \u001b[0m\u001b[32;49m24.0\u001b[0m\n",
      "\u001b[1m[\u001b[0m\u001b[34;49mnotice\u001b[0m\u001b[1;39;49m]\u001b[0m\u001b[39;49m To update, run: \u001b[0m\u001b[32;49mpip install --upgrade pip\u001b[0m\n",
      "Note: you may need to restart the kernel to use updated packages.\n"
     ]
    }
   ],
   "source": [
    "pip install plotly"
   ]
  },
  {
   "cell_type": "code",
   "execution_count": 2,
   "id": "a8c1e687-0dcd-4d7a-84fe-b0756d0fa8e0",
   "metadata": {
    "tags": []
   },
   "outputs": [],
   "source": [
    "import plotly.express as px\n",
    "import pandas as pd"
   ]
  },
  {
   "cell_type": "code",
   "execution_count": 3,
   "id": "103f2afc-3037-4cbb-8e47-8187bdc146f3",
   "metadata": {
    "tags": []
   },
   "outputs": [],
   "source": [
    "df = pd.read_csv('/Users/yuritziavila-robledo/Downloads/titanic.csv')"
   ]
  },
  {
   "cell_type": "code",
   "execution_count": 4,
   "id": "2cc15772-2c52-4156-9911-49ece4907a25",
   "metadata": {
    "tags": []
   },
   "outputs": [
    {
     "name": "stdout",
     "output_type": "stream",
     "text": [
      "<class 'pandas.core.frame.DataFrame'>\n",
      "RangeIndex: 891 entries, 0 to 890\n",
      "Data columns (total 12 columns):\n",
      " #   Column       Non-Null Count  Dtype  \n",
      "---  ------       --------------  -----  \n",
      " 0   PassengerId  891 non-null    int64  \n",
      " 1   Survived     891 non-null    int64  \n",
      " 2   Pclass       891 non-null    int64  \n",
      " 3   Name         891 non-null    object \n",
      " 4   Sex          891 non-null    object \n",
      " 5   Age          714 non-null    float64\n",
      " 6   SibSp        891 non-null    int64  \n",
      " 7   Parch        891 non-null    int64  \n",
      " 8   Ticket       891 non-null    object \n",
      " 9   Fare         891 non-null    float64\n",
      " 10  Cabin        204 non-null    object \n",
      " 11  Embarked     889 non-null    object \n",
      "dtypes: float64(2), int64(5), object(5)\n",
      "memory usage: 83.7+ KB\n"
     ]
    }
   ],
   "source": [
    "df.info()"
   ]
  },
  {
   "cell_type": "markdown",
   "id": "f1606511-9659-4be0-9f14-5c2aa98d70c0",
   "metadata": {},
   "source": [
    "## Scatter Plots"
   ]
  },
  {
   "cell_type": "code",
   "execution_count": 5,
   "id": "8c2fc706-999b-4254-bdc0-c101abe6c0ac",
   "metadata": {
    "tags": []
   },
   "outputs": [
    {
     "data": {
      "application/vnd.plotly.v1+json": {
       "config": {
        "plotlyServerURL": "https://plot.ly"
       },
       "data": [
        {
         "customdata": [
          [
           "Braund, Mr. Owen Harris",
           "male"
          ],
          [
           "Cumings, Mrs. John Bradley (Florence Briggs Thayer)",
           "female"
          ],
          [
           "Heikkinen, Miss. Laina",
           "female"
          ],
          [
           "Futrelle, Mrs. Jacques Heath (Lily May Peel)",
           "female"
          ],
          [
           "Allen, Mr. William Henry",
           "male"
          ],
          [
           "Moran, Mr. James",
           "male"
          ],
          [
           "McCarthy, Mr. Timothy J",
           "male"
          ],
          [
           "Palsson, Master. Gosta Leonard",
           "male"
          ],
          [
           "Johnson, Mrs. Oscar W (Elisabeth Vilhelmina Berg)",
           "female"
          ],
          [
           "Nasser, Mrs. Nicholas (Adele Achem)",
           "female"
          ],
          [
           "Sandstrom, Miss. Marguerite Rut",
           "female"
          ],
          [
           "Bonnell, Miss. Elizabeth",
           "female"
          ],
          [
           "Saundercock, Mr. William Henry",
           "male"
          ],
          [
           "Andersson, Mr. Anders Johan",
           "male"
          ],
          [
           "Vestrom, Miss. Hulda Amanda Adolfina",
           "female"
          ],
          [
           "Hewlett, Mrs. (Mary D Kingcome) ",
           "female"
          ],
          [
           "Rice, Master. Eugene",
           "male"
          ],
          [
           "Williams, Mr. Charles Eugene",
           "male"
          ],
          [
           "Vander Planke, Mrs. Julius (Emelia Maria Vandemoortele)",
           "female"
          ],
          [
           "Masselmani, Mrs. Fatima",
           "female"
          ],
          [
           "Fynney, Mr. Joseph J",
           "male"
          ],
          [
           "Beesley, Mr. Lawrence",
           "male"
          ],
          [
           "McGowan, Miss. Anna \"Annie\"",
           "female"
          ],
          [
           "Sloper, Mr. William Thompson",
           "male"
          ],
          [
           "Palsson, Miss. Torborg Danira",
           "female"
          ],
          [
           "Asplund, Mrs. Carl Oscar (Selma Augusta Emilia Johansson)",
           "female"
          ],
          [
           "Emir, Mr. Farred Chehab",
           "male"
          ],
          [
           "Fortune, Mr. Charles Alexander",
           "male"
          ],
          [
           "O'Dwyer, Miss. Ellen \"Nellie\"",
           "female"
          ],
          [
           "Todoroff, Mr. Lalio",
           "male"
          ],
          [
           "Uruchurtu, Don. Manuel E",
           "male"
          ],
          [
           "Spencer, Mrs. William Augustus (Marie Eugenie)",
           "female"
          ],
          [
           "Glynn, Miss. Mary Agatha",
           "female"
          ],
          [
           "Wheadon, Mr. Edward H",
           "male"
          ],
          [
           "Meyer, Mr. Edgar Joseph",
           "male"
          ],
          [
           "Holverson, Mr. Alexander Oskar",
           "male"
          ],
          [
           "Mamee, Mr. Hanna",
           "male"
          ],
          [
           "Cann, Mr. Ernest Charles",
           "male"
          ],
          [
           "Vander Planke, Miss. Augusta Maria",
           "female"
          ],
          [
           "Nicola-Yarred, Miss. Jamila",
           "female"
          ],
          [
           "Ahlin, Mrs. Johan (Johanna Persdotter Larsson)",
           "female"
          ],
          [
           "Turpin, Mrs. William John Robert (Dorothy Ann Wonnacott)",
           "female"
          ],
          [
           "Kraeff, Mr. Theodor",
           "male"
          ],
          [
           "Laroche, Miss. Simonne Marie Anne Andree",
           "female"
          ],
          [
           "Devaney, Miss. Margaret Delia",
           "female"
          ],
          [
           "Rogers, Mr. William John",
           "male"
          ],
          [
           "Lennon, Mr. Denis",
           "male"
          ],
          [
           "O'Driscoll, Miss. Bridget",
           "female"
          ],
          [
           "Samaan, Mr. Youssef",
           "male"
          ],
          [
           "Arnold-Franchi, Mrs. Josef (Josefine Franchi)",
           "female"
          ],
          [
           "Panula, Master. Juha Niilo",
           "male"
          ],
          [
           "Nosworthy, Mr. Richard Cater",
           "male"
          ],
          [
           "Harper, Mrs. Henry Sleeper (Myna Haxtun)",
           "female"
          ],
          [
           "Faunthorpe, Mrs. Lizzie (Elizabeth Anne Wilkinson)",
           "female"
          ],
          [
           "Ostby, Mr. Engelhart Cornelius",
           "male"
          ],
          [
           "Woolner, Mr. Hugh",
           "male"
          ],
          [
           "Rugg, Miss. Emily",
           "female"
          ],
          [
           "Novel, Mr. Mansouer",
           "male"
          ],
          [
           "West, Miss. Constance Mirium",
           "female"
          ],
          [
           "Goodwin, Master. William Frederick",
           "male"
          ],
          [
           "Sirayanian, Mr. Orsen",
           "male"
          ],
          [
           "Icard, Miss. Amelie",
           "female"
          ],
          [
           "Harris, Mr. Henry Birkhardt",
           "male"
          ],
          [
           "Skoog, Master. Harald",
           "male"
          ],
          [
           "Stewart, Mr. Albert A",
           "male"
          ],
          [
           "Moubarek, Master. Gerios",
           "male"
          ],
          [
           "Nye, Mrs. (Elizabeth Ramell)",
           "female"
          ],
          [
           "Crease, Mr. Ernest James",
           "male"
          ],
          [
           "Andersson, Miss. Erna Alexandra",
           "female"
          ],
          [
           "Kink, Mr. Vincenz",
           "male"
          ],
          [
           "Jenkin, Mr. Stephen Curnow",
           "male"
          ],
          [
           "Goodwin, Miss. Lillian Amy",
           "female"
          ],
          [
           "Hood, Mr. Ambrose Jr",
           "male"
          ],
          [
           "Chronopoulos, Mr. Apostolos",
           "male"
          ],
          [
           "Bing, Mr. Lee",
           "male"
          ],
          [
           "Moen, Mr. Sigurd Hansen",
           "male"
          ],
          [
           "Staneff, Mr. Ivan",
           "male"
          ],
          [
           "Moutal, Mr. Rahamin Haim",
           "male"
          ],
          [
           "Caldwell, Master. Alden Gates",
           "male"
          ],
          [
           "Dowdell, Miss. Elizabeth",
           "female"
          ],
          [
           "Waelens, Mr. Achille",
           "male"
          ],
          [
           "Sheerlinck, Mr. Jan Baptist",
           "male"
          ],
          [
           "McDermott, Miss. Brigdet Delia",
           "female"
          ],
          [
           "Carrau, Mr. Francisco M",
           "male"
          ],
          [
           "Ilett, Miss. Bertha",
           "female"
          ],
          [
           "Backstrom, Mrs. Karl Alfred (Maria Mathilda Gustafsson)",
           "female"
          ],
          [
           "Ford, Mr. William Neal",
           "male"
          ],
          [
           "Slocovski, Mr. Selman Francis",
           "male"
          ],
          [
           "Fortune, Miss. Mabel Helen",
           "female"
          ],
          [
           "Celotti, Mr. Francesco",
           "male"
          ],
          [
           "Christmann, Mr. Emil",
           "male"
          ],
          [
           "Andreasson, Mr. Paul Edvin",
           "male"
          ],
          [
           "Chaffee, Mr. Herbert Fuller",
           "male"
          ],
          [
           "Dean, Mr. Bertram Frank",
           "male"
          ],
          [
           "Coxon, Mr. Daniel",
           "male"
          ],
          [
           "Shorney, Mr. Charles Joseph",
           "male"
          ],
          [
           "Goldschmidt, Mr. George B",
           "male"
          ],
          [
           "Greenfield, Mr. William Bertram",
           "male"
          ],
          [
           "Doling, Mrs. John T (Ada Julia Bone)",
           "female"
          ],
          [
           "Kantor, Mr. Sinai",
           "male"
          ],
          [
           "Petranec, Miss. Matilda",
           "female"
          ],
          [
           "Petroff, Mr. Pastcho (\"Pentcho\")",
           "male"
          ],
          [
           "White, Mr. Richard Frasar",
           "male"
          ],
          [
           "Johansson, Mr. Gustaf Joel",
           "male"
          ],
          [
           "Gustafsson, Mr. Anders Vilhelm",
           "male"
          ],
          [
           "Mionoff, Mr. Stoytcho",
           "male"
          ],
          [
           "Salkjelsvik, Miss. Anna Kristine",
           "female"
          ],
          [
           "Moss, Mr. Albert Johan",
           "male"
          ],
          [
           "Rekic, Mr. Tido",
           "male"
          ],
          [
           "Moran, Miss. Bertha",
           "female"
          ],
          [
           "Porter, Mr. Walter Chamberlain",
           "male"
          ],
          [
           "Zabour, Miss. Hileni",
           "female"
          ],
          [
           "Barton, Mr. David John",
           "male"
          ],
          [
           "Jussila, Miss. Katriina",
           "female"
          ],
          [
           "Attalah, Miss. Malake",
           "female"
          ],
          [
           "Pekoniemi, Mr. Edvard",
           "male"
          ],
          [
           "Connors, Mr. Patrick",
           "male"
          ],
          [
           "Turpin, Mr. William John Robert",
           "male"
          ],
          [
           "Baxter, Mr. Quigg Edmond",
           "male"
          ],
          [
           "Andersson, Miss. Ellis Anna Maria",
           "female"
          ],
          [
           "Hickman, Mr. Stanley George",
           "male"
          ],
          [
           "Moore, Mr. Leonard Charles",
           "male"
          ],
          [
           "Nasser, Mr. Nicholas",
           "male"
          ],
          [
           "Webber, Miss. Susan",
           "female"
          ],
          [
           "White, Mr. Percival Wayland",
           "male"
          ],
          [
           "Nicola-Yarred, Master. Elias",
           "male"
          ],
          [
           "McMahon, Mr. Martin",
           "male"
          ],
          [
           "Madsen, Mr. Fridtjof Arne",
           "male"
          ],
          [
           "Peter, Miss. Anna",
           "female"
          ],
          [
           "Ekstrom, Mr. Johan",
           "male"
          ],
          [
           "Drazenoic, Mr. Jozef",
           "male"
          ],
          [
           "Coelho, Mr. Domingos Fernandeo",
           "male"
          ],
          [
           "Robins, Mrs. Alexander A (Grace Charity Laury)",
           "female"
          ],
          [
           "Weisz, Mrs. Leopold (Mathilde Francoise Pede)",
           "female"
          ],
          [
           "Sobey, Mr. Samuel James Hayden",
           "male"
          ],
          [
           "Richard, Mr. Emile",
           "male"
          ],
          [
           "Newsom, Miss. Helen Monypeny",
           "female"
          ],
          [
           "Futrelle, Mr. Jacques Heath",
           "male"
          ],
          [
           "Osen, Mr. Olaf Elon",
           "male"
          ],
          [
           "Giglio, Mr. Victor",
           "male"
          ],
          [
           "Boulos, Mrs. Joseph (Sultana)",
           "female"
          ],
          [
           "Nysten, Miss. Anna Sofia",
           "female"
          ],
          [
           "Hakkarainen, Mrs. Pekka Pietari (Elin Matilda Dolck)",
           "female"
          ],
          [
           "Burke, Mr. Jeremiah",
           "male"
          ],
          [
           "Andrew, Mr. Edgardo Samuel",
           "male"
          ],
          [
           "Nicholls, Mr. Joseph Charles",
           "male"
          ],
          [
           "Andersson, Mr. August Edvard (\"Wennerstrom\")",
           "male"
          ],
          [
           "Ford, Miss. Robina Maggie \"Ruby\"",
           "female"
          ],
          [
           "Navratil, Mr. Michel (\"Louis M Hoffman\")",
           "male"
          ],
          [
           "Byles, Rev. Thomas Roussel Davids",
           "male"
          ],
          [
           "Bateman, Rev. Robert James",
           "male"
          ],
          [
           "Pears, Mrs. Thomas (Edith Wearne)",
           "female"
          ],
          [
           "Meo, Mr. Alfonzo",
           "male"
          ],
          [
           "van Billiard, Mr. Austin Blyler",
           "male"
          ],
          [
           "Olsen, Mr. Ole Martin",
           "male"
          ],
          [
           "Williams, Mr. Charles Duane",
           "male"
          ],
          [
           "Gilnagh, Miss. Katherine \"Katie\"",
           "female"
          ],
          [
           "Corn, Mr. Harry",
           "male"
          ],
          [
           "Smiljanic, Mr. Mile",
           "male"
          ],
          [
           "Sage, Master. Thomas Henry",
           "male"
          ],
          [
           "Cribb, Mr. John Hatfield",
           "male"
          ],
          [
           "Watt, Mrs. James (Elizabeth \"Bessie\" Inglis Milne)",
           "female"
          ],
          [
           "Bengtsson, Mr. John Viktor",
           "male"
          ],
          [
           "Calic, Mr. Jovo",
           "male"
          ],
          [
           "Panula, Master. Eino Viljami",
           "male"
          ],
          [
           "Goldsmith, Master. Frank John William \"Frankie\"",
           "male"
          ],
          [
           "Chibnall, Mrs. (Edith Martha Bowerman)",
           "female"
          ],
          [
           "Skoog, Mrs. William (Anna Bernhardina Karlsson)",
           "female"
          ],
          [
           "Baumann, Mr. John D",
           "male"
          ],
          [
           "Ling, Mr. Lee",
           "male"
          ],
          [
           "Van der hoef, Mr. Wyckoff",
           "male"
          ],
          [
           "Rice, Master. Arthur",
           "male"
          ],
          [
           "Johnson, Miss. Eleanor Ileen",
           "female"
          ],
          [
           "Sivola, Mr. Antti Wilhelm",
           "male"
          ],
          [
           "Smith, Mr. James Clinch",
           "male"
          ],
          [
           "Klasen, Mr. Klas Albin",
           "male"
          ],
          [
           "Lefebre, Master. Henry Forbes",
           "male"
          ],
          [
           "Isham, Miss. Ann Elizabeth",
           "female"
          ],
          [
           "Hale, Mr. Reginald",
           "male"
          ],
          [
           "Leonard, Mr. Lionel",
           "male"
          ],
          [
           "Sage, Miss. Constance Gladys",
           "female"
          ],
          [
           "Pernot, Mr. Rene",
           "male"
          ],
          [
           "Asplund, Master. Clarence Gustaf Hugo",
           "male"
          ],
          [
           "Becker, Master. Richard F",
           "male"
          ],
          [
           "Kink-Heilmann, Miss. Luise Gretchen",
           "female"
          ],
          [
           "Rood, Mr. Hugh Roscoe",
           "male"
          ],
          [
           "O'Brien, Mrs. Thomas (Johanna \"Hannah\" Godfrey)",
           "female"
          ],
          [
           "Romaine, Mr. Charles Hallace (\"Mr C Rolmane\")",
           "male"
          ],
          [
           "Bourke, Mr. John",
           "male"
          ],
          [
           "Turcin, Mr. Stjepan",
           "male"
          ],
          [
           "Pinsky, Mrs. (Rosa)",
           "female"
          ],
          [
           "Carbines, Mr. William",
           "male"
          ],
          [
           "Andersen-Jensen, Miss. Carla Christine Nielsine",
           "female"
          ],
          [
           "Navratil, Master. Michel M",
           "male"
          ],
          [
           "Brown, Mrs. James Joseph (Margaret Tobin)",
           "female"
          ],
          [
           "Lurette, Miss. Elise",
           "female"
          ],
          [
           "Mernagh, Mr. Robert",
           "male"
          ],
          [
           "Olsen, Mr. Karl Siegwart Andreas",
           "male"
          ],
          [
           "Madigan, Miss. Margaret \"Maggie\"",
           "female"
          ],
          [
           "Yrois, Miss. Henriette (\"Mrs Harbeck\")",
           "female"
          ],
          [
           "Vande Walle, Mr. Nestor Cyriel",
           "male"
          ],
          [
           "Sage, Mr. Frederick",
           "male"
          ],
          [
           "Johanson, Mr. Jakob Alfred",
           "male"
          ],
          [
           "Youseff, Mr. Gerious",
           "male"
          ],
          [
           "Cohen, Mr. Gurshon \"Gus\"",
           "male"
          ],
          [
           "Strom, Miss. Telma Matilda",
           "female"
          ],
          [
           "Backstrom, Mr. Karl Alfred",
           "male"
          ],
          [
           "Albimona, Mr. Nassef Cassem",
           "male"
          ],
          [
           "Carr, Miss. Helen \"Ellen\"",
           "female"
          ],
          [
           "Blank, Mr. Henry",
           "male"
          ],
          [
           "Ali, Mr. Ahmed",
           "male"
          ],
          [
           "Cameron, Miss. Clear Annie",
           "female"
          ],
          [
           "Perkin, Mr. John Henry",
           "male"
          ],
          [
           "Givard, Mr. Hans Kristensen",
           "male"
          ],
          [
           "Kiernan, Mr. Philip",
           "male"
          ],
          [
           "Newell, Miss. Madeleine",
           "female"
          ],
          [
           "Honkanen, Miss. Eliina",
           "female"
          ],
          [
           "Jacobsohn, Mr. Sidney Samuel",
           "male"
          ],
          [
           "Bazzani, Miss. Albina",
           "female"
          ],
          [
           "Harris, Mr. Walter",
           "male"
          ],
          [
           "Sunderland, Mr. Victor Francis",
           "male"
          ],
          [
           "Bracken, Mr. James H",
           "male"
          ],
          [
           "Green, Mr. George Henry",
           "male"
          ],
          [
           "Nenkoff, Mr. Christo",
           "male"
          ],
          [
           "Hoyt, Mr. Frederick Maxfield",
           "male"
          ],
          [
           "Berglund, Mr. Karl Ivar Sven",
           "male"
          ],
          [
           "Mellors, Mr. William John",
           "male"
          ],
          [
           "Lovell, Mr. John Hall (\"Henry\")",
           "male"
          ],
          [
           "Fahlstrom, Mr. Arne Jonas",
           "male"
          ],
          [
           "Lefebre, Miss. Mathilde",
           "female"
          ],
          [
           "Harris, Mrs. Henry Birkhardt (Irene Wallach)",
           "female"
          ],
          [
           "Larsson, Mr. Bengt Edvin",
           "male"
          ],
          [
           "Sjostedt, Mr. Ernst Adolf",
           "male"
          ],
          [
           "Asplund, Miss. Lillian Gertrud",
           "female"
          ],
          [
           "Leyson, Mr. Robert William Norman",
           "male"
          ],
          [
           "Harknett, Miss. Alice Phoebe",
           "female"
          ],
          [
           "Hold, Mr. Stephen",
           "male"
          ],
          [
           "Collyer, Miss. Marjorie \"Lottie\"",
           "female"
          ],
          [
           "Pengelly, Mr. Frederick William",
           "male"
          ],
          [
           "Hunt, Mr. George Henry",
           "male"
          ],
          [
           "Zabour, Miss. Thamine",
           "female"
          ],
          [
           "Murphy, Miss. Katherine \"Kate\"",
           "female"
          ],
          [
           "Coleridge, Mr. Reginald Charles",
           "male"
          ],
          [
           "Maenpaa, Mr. Matti Alexanteri",
           "male"
          ],
          [
           "Attalah, Mr. Sleiman",
           "male"
          ],
          [
           "Minahan, Dr. William Edward",
           "male"
          ],
          [
           "Lindahl, Miss. Agda Thorilda Viktoria",
           "female"
          ],
          [
           "Hamalainen, Mrs. William (Anna)",
           "female"
          ],
          [
           "Beckwith, Mr. Richard Leonard",
           "male"
          ],
          [
           "Carter, Rev. Ernest Courtenay",
           "male"
          ],
          [
           "Reed, Mr. James George",
           "male"
          ],
          [
           "Strom, Mrs. Wilhelm (Elna Matilda Persson)",
           "female"
          ],
          [
           "Stead, Mr. William Thomas",
           "male"
          ],
          [
           "Lobb, Mr. William Arthur",
           "male"
          ],
          [
           "Rosblom, Mrs. Viktor (Helena Wilhelmina)",
           "female"
          ],
          [
           "Touma, Mrs. Darwis (Hanne Youssef Razi)",
           "female"
          ],
          [
           "Thorne, Mrs. Gertrude Maybelle",
           "female"
          ],
          [
           "Cherry, Miss. Gladys",
           "female"
          ],
          [
           "Ward, Miss. Anna",
           "female"
          ],
          [
           "Parrish, Mrs. (Lutie Davis)",
           "female"
          ],
          [
           "Smith, Mr. Thomas",
           "male"
          ],
          [
           "Asplund, Master. Edvin Rojj Felix",
           "male"
          ],
          [
           "Taussig, Mr. Emil",
           "male"
          ],
          [
           "Harrison, Mr. William",
           "male"
          ],
          [
           "Henry, Miss. Delia",
           "female"
          ],
          [
           "Reeves, Mr. David",
           "male"
          ],
          [
           "Panula, Mr. Ernesti Arvid",
           "male"
          ],
          [
           "Persson, Mr. Ernst Ulrik",
           "male"
          ],
          [
           "Graham, Mrs. William Thompson (Edith Junkins)",
           "female"
          ],
          [
           "Bissette, Miss. Amelia",
           "female"
          ],
          [
           "Cairns, Mr. Alexander",
           "male"
          ],
          [
           "Tornquist, Mr. William Henry",
           "male"
          ],
          [
           "Mellinger, Mrs. (Elizabeth Anne Maidment)",
           "female"
          ],
          [
           "Natsch, Mr. Charles H",
           "male"
          ],
          [
           "Healy, Miss. Hanora \"Nora\"",
           "female"
          ],
          [
           "Andrews, Miss. Kornelia Theodosia",
           "female"
          ],
          [
           "Lindblom, Miss. Augusta Charlotta",
           "female"
          ],
          [
           "Parkes, Mr. Francis \"Frank\"",
           "male"
          ],
          [
           "Rice, Master. Eric",
           "male"
          ],
          [
           "Abbott, Mrs. Stanton (Rosa Hunt)",
           "female"
          ],
          [
           "Duane, Mr. Frank",
           "male"
          ],
          [
           "Olsson, Mr. Nils Johan Goransson",
           "male"
          ],
          [
           "de Pelsmaeker, Mr. Alfons",
           "male"
          ],
          [
           "Dorking, Mr. Edward Arthur",
           "male"
          ],
          [
           "Smith, Mr. Richard William",
           "male"
          ],
          [
           "Stankovic, Mr. Ivan",
           "male"
          ],
          [
           "de Mulder, Mr. Theodore",
           "male"
          ],
          [
           "Naidenoff, Mr. Penko",
           "male"
          ],
          [
           "Hosono, Mr. Masabumi",
           "male"
          ],
          [
           "Connolly, Miss. Kate",
           "female"
          ],
          [
           "Barber, Miss. Ellen \"Nellie\"",
           "female"
          ],
          [
           "Bishop, Mrs. Dickinson H (Helen Walton)",
           "female"
          ],
          [
           "Levy, Mr. Rene Jacques",
           "male"
          ],
          [
           "Haas, Miss. Aloisia",
           "female"
          ],
          [
           "Mineff, Mr. Ivan",
           "male"
          ],
          [
           "Lewy, Mr. Ervin G",
           "male"
          ],
          [
           "Hanna, Mr. Mansour",
           "male"
          ],
          [
           "Allison, Miss. Helen Loraine",
           "female"
          ],
          [
           "Saalfeld, Mr. Adolphe",
           "male"
          ],
          [
           "Baxter, Mrs. James (Helene DeLaudeniere Chaput)",
           "female"
          ],
          [
           "Kelly, Miss. Anna Katherine \"Annie Kate\"",
           "female"
          ],
          [
           "McCoy, Mr. Bernard",
           "male"
          ],
          [
           "Johnson, Mr. William Cahoone Jr",
           "male"
          ],
          [
           "Keane, Miss. Nora A",
           "female"
          ],
          [
           "Williams, Mr. Howard Hugh \"Harry\"",
           "male"
          ],
          [
           "Allison, Master. Hudson Trevor",
           "male"
          ],
          [
           "Fleming, Miss. Margaret",
           "female"
          ],
          [
           "Penasco y Castellana, Mrs. Victor de Satode (Maria Josefa Perez de Soto y Vallejo)",
           "female"
          ],
          [
           "Abelson, Mr. Samuel",
           "male"
          ],
          [
           "Francatelli, Miss. Laura Mabel",
           "female"
          ],
          [
           "Hays, Miss. Margaret Bechstein",
           "female"
          ],
          [
           "Ryerson, Miss. Emily Borie",
           "female"
          ],
          [
           "Lahtinen, Mrs. William (Anna Sylfven)",
           "female"
          ],
          [
           "Hendekovic, Mr. Ignjac",
           "male"
          ],
          [
           "Hart, Mr. Benjamin",
           "male"
          ],
          [
           "Nilsson, Miss. Helmina Josefina",
           "female"
          ],
          [
           "Kantor, Mrs. Sinai (Miriam Sternin)",
           "female"
          ],
          [
           "Moraweck, Dr. Ernest",
           "male"
          ],
          [
           "Wick, Miss. Mary Natalie",
           "female"
          ],
          [
           "Spedden, Mrs. Frederic Oakley (Margaretta Corning Stone)",
           "female"
          ],
          [
           "Dennis, Mr. Samuel",
           "male"
          ],
          [
           "Danoff, Mr. Yoto",
           "male"
          ],
          [
           "Slayter, Miss. Hilda Mary",
           "female"
          ],
          [
           "Caldwell, Mrs. Albert Francis (Sylvia Mae Harbaugh)",
           "female"
          ],
          [
           "Sage, Mr. George John Jr",
           "male"
          ],
          [
           "Young, Miss. Marie Grice",
           "female"
          ],
          [
           "Nysveen, Mr. Johan Hansen",
           "male"
          ],
          [
           "Ball, Mrs. (Ada E Hall)",
           "female"
          ],
          [
           "Goldsmith, Mrs. Frank John (Emily Alice Brown)",
           "female"
          ],
          [
           "Hippach, Miss. Jean Gertrude",
           "female"
          ],
          [
           "McCoy, Miss. Agnes",
           "female"
          ],
          [
           "Partner, Mr. Austen",
           "male"
          ],
          [
           "Graham, Mr. George Edward",
           "male"
          ],
          [
           "Vander Planke, Mr. Leo Edmondus",
           "male"
          ],
          [
           "Frauenthal, Mrs. Henry William (Clara Heinsheimer)",
           "female"
          ],
          [
           "Denkoff, Mr. Mitto",
           "male"
          ],
          [
           "Pears, Mr. Thomas Clinton",
           "male"
          ],
          [
           "Burns, Miss. Elizabeth Margaret",
           "female"
          ],
          [
           "Dahl, Mr. Karl Edwart",
           "male"
          ],
          [
           "Blackwell, Mr. Stephen Weart",
           "male"
          ],
          [
           "Navratil, Master. Edmond Roger",
           "male"
          ],
          [
           "Fortune, Miss. Alice Elizabeth",
           "female"
          ],
          [
           "Collander, Mr. Erik Gustaf",
           "male"
          ],
          [
           "Sedgwick, Mr. Charles Frederick Waddington",
           "male"
          ],
          [
           "Fox, Mr. Stanley Hubert",
           "male"
          ],
          [
           "Brown, Miss. Amelia \"Mildred\"",
           "female"
          ],
          [
           "Smith, Miss. Marion Elsie",
           "female"
          ],
          [
           "Davison, Mrs. Thomas Henry (Mary E Finck)",
           "female"
          ],
          [
           "Coutts, Master. William Loch \"William\"",
           "male"
          ],
          [
           "Dimic, Mr. Jovan",
           "male"
          ],
          [
           "Odahl, Mr. Nils Martin",
           "male"
          ],
          [
           "Williams-Lambert, Mr. Fletcher Fellows",
           "male"
          ],
          [
           "Elias, Mr. Tannous",
           "male"
          ],
          [
           "Arnold-Franchi, Mr. Josef",
           "male"
          ],
          [
           "Yousif, Mr. Wazli",
           "male"
          ],
          [
           "Vanden Steen, Mr. Leo Peter",
           "male"
          ],
          [
           "Bowerman, Miss. Elsie Edith",
           "female"
          ],
          [
           "Funk, Miss. Annie Clemmer",
           "female"
          ],
          [
           "McGovern, Miss. Mary",
           "female"
          ],
          [
           "Mockler, Miss. Helen Mary \"Ellie\"",
           "female"
          ],
          [
           "Skoog, Mr. Wilhelm",
           "male"
          ],
          [
           "del Carlo, Mr. Sebastiano",
           "male"
          ],
          [
           "Barbara, Mrs. (Catherine David)",
           "female"
          ],
          [
           "Asim, Mr. Adola",
           "male"
          ],
          [
           "O'Brien, Mr. Thomas",
           "male"
          ],
          [
           "Adahl, Mr. Mauritz Nils Martin",
           "male"
          ],
          [
           "Warren, Mrs. Frank Manley (Anna Sophia Atkinson)",
           "female"
          ],
          [
           "Moussa, Mrs. (Mantoura Boulos)",
           "female"
          ],
          [
           "Jermyn, Miss. Annie",
           "female"
          ],
          [
           "Aubart, Mme. Leontine Pauline",
           "female"
          ],
          [
           "Harder, Mr. George Achilles",
           "male"
          ],
          [
           "Wiklund, Mr. Jakob Alfred",
           "male"
          ],
          [
           "Beavan, Mr. William Thomas",
           "male"
          ],
          [
           "Ringhini, Mr. Sante",
           "male"
          ],
          [
           "Palsson, Miss. Stina Viola",
           "female"
          ],
          [
           "Meyer, Mrs. Edgar Joseph (Leila Saks)",
           "female"
          ],
          [
           "Landergren, Miss. Aurora Adelia",
           "female"
          ],
          [
           "Widener, Mr. Harry Elkins",
           "male"
          ],
          [
           "Betros, Mr. Tannous",
           "male"
          ],
          [
           "Gustafsson, Mr. Karl Gideon",
           "male"
          ],
          [
           "Bidois, Miss. Rosalie",
           "female"
          ],
          [
           "Nakid, Miss. Maria (\"Mary\")",
           "female"
          ],
          [
           "Tikkanen, Mr. Juho",
           "male"
          ],
          [
           "Holverson, Mrs. Alexander Oskar (Mary Aline Towner)",
           "female"
          ],
          [
           "Plotcharsky, Mr. Vasil",
           "male"
          ],
          [
           "Davies, Mr. Charles Henry",
           "male"
          ],
          [
           "Goodwin, Master. Sidney Leonard",
           "male"
          ],
          [
           "Buss, Miss. Kate",
           "female"
          ],
          [
           "Sadlier, Mr. Matthew",
           "male"
          ],
          [
           "Lehmann, Miss. Bertha",
           "female"
          ],
          [
           "Carter, Mr. William Ernest",
           "male"
          ],
          [
           "Jansson, Mr. Carl Olof",
           "male"
          ],
          [
           "Gustafsson, Mr. Johan Birger",
           "male"
          ],
          [
           "Newell, Miss. Marjorie",
           "female"
          ],
          [
           "Sandstrom, Mrs. Hjalmar (Agnes Charlotta Bengtsson)",
           "female"
          ],
          [
           "Johansson, Mr. Erik",
           "male"
          ],
          [
           "Olsson, Miss. Elina",
           "female"
          ],
          [
           "McKane, Mr. Peter David",
           "male"
          ],
          [
           "Pain, Dr. Alfred",
           "male"
          ],
          [
           "Trout, Mrs. William H (Jessie L)",
           "female"
          ],
          [
           "Niskanen, Mr. Juha",
           "male"
          ],
          [
           "Adams, Mr. John",
           "male"
          ],
          [
           "Jussila, Miss. Mari Aina",
           "female"
          ],
          [
           "Hakkarainen, Mr. Pekka Pietari",
           "male"
          ],
          [
           "Oreskovic, Miss. Marija",
           "female"
          ],
          [
           "Gale, Mr. Shadrach",
           "male"
          ],
          [
           "Widegren, Mr. Carl/Charles Peter",
           "male"
          ],
          [
           "Richards, Master. William Rowe",
           "male"
          ],
          [
           "Birkeland, Mr. Hans Martin Monsen",
           "male"
          ],
          [
           "Lefebre, Miss. Ida",
           "female"
          ],
          [
           "Sdycoff, Mr. Todor",
           "male"
          ],
          [
           "Hart, Mr. Henry",
           "male"
          ],
          [
           "Minahan, Miss. Daisy E",
           "female"
          ],
          [
           "Cunningham, Mr. Alfred Fleming",
           "male"
          ],
          [
           "Sundman, Mr. Johan Julian",
           "male"
          ],
          [
           "Meek, Mrs. Thomas (Annie Louise Rowley)",
           "female"
          ],
          [
           "Drew, Mrs. James Vivian (Lulu Thorne Christian)",
           "female"
          ],
          [
           "Silven, Miss. Lyyli Karoliina",
           "female"
          ],
          [
           "Matthews, Mr. William John",
           "male"
          ],
          [
           "Van Impe, Miss. Catharina",
           "female"
          ],
          [
           "Gheorgheff, Mr. Stanio",
           "male"
          ],
          [
           "Charters, Mr. David",
           "male"
          ],
          [
           "Zimmerman, Mr. Leo",
           "male"
          ],
          [
           "Danbom, Mrs. Ernst Gilbert (Anna Sigrid Maria Brogren)",
           "female"
          ],
          [
           "Rosblom, Mr. Viktor Richard",
           "male"
          ],
          [
           "Wiseman, Mr. Phillippe",
           "male"
          ],
          [
           "Clarke, Mrs. Charles V (Ada Maria Winfield)",
           "female"
          ],
          [
           "Phillips, Miss. Kate Florence (\"Mrs Kate Louise Phillips Marshall\")",
           "female"
          ],
          [
           "Flynn, Mr. James",
           "male"
          ],
          [
           "Pickard, Mr. Berk (Berk Trembisky)",
           "male"
          ],
          [
           "Bjornstrom-Steffansson, Mr. Mauritz Hakan",
           "male"
          ],
          [
           "Thorneycroft, Mrs. Percival (Florence Kate White)",
           "female"
          ],
          [
           "Louch, Mrs. Charles Alexander (Alice Adelaide Slow)",
           "female"
          ],
          [
           "Kallio, Mr. Nikolai Erland",
           "male"
          ],
          [
           "Silvey, Mr. William Baird",
           "male"
          ],
          [
           "Carter, Miss. Lucile Polk",
           "female"
          ],
          [
           "Ford, Miss. Doolina Margaret \"Daisy\"",
           "female"
          ],
          [
           "Richards, Mrs. Sidney (Emily Hocking)",
           "female"
          ],
          [
           "Fortune, Mr. Mark",
           "male"
          ],
          [
           "Kvillner, Mr. Johan Henrik Johannesson",
           "male"
          ],
          [
           "Hart, Mrs. Benjamin (Esther Ada Bloomfield)",
           "female"
          ],
          [
           "Hampe, Mr. Leon",
           "male"
          ],
          [
           "Petterson, Mr. Johan Emil",
           "male"
          ],
          [
           "Reynaldo, Ms. Encarnacion",
           "female"
          ],
          [
           "Johannesen-Bratthammer, Mr. Bernt",
           "male"
          ],
          [
           "Dodge, Master. Washington",
           "male"
          ],
          [
           "Mellinger, Miss. Madeleine Violet",
           "female"
          ],
          [
           "Seward, Mr. Frederic Kimber",
           "male"
          ],
          [
           "Baclini, Miss. Marie Catherine",
           "female"
          ],
          [
           "Peuchen, Major. Arthur Godfrey",
           "male"
          ],
          [
           "West, Mr. Edwy Arthur",
           "male"
          ],
          [
           "Hagland, Mr. Ingvald Olai Olsen",
           "male"
          ],
          [
           "Foreman, Mr. Benjamin Laventall",
           "male"
          ],
          [
           "Goldenberg, Mr. Samuel L",
           "male"
          ],
          [
           "Peduzzi, Mr. Joseph",
           "male"
          ],
          [
           "Jalsevac, Mr. Ivan",
           "male"
          ],
          [
           "Millet, Mr. Francis Davis",
           "male"
          ],
          [
           "Kenyon, Mrs. Frederick R (Marion)",
           "female"
          ],
          [
           "Toomey, Miss. Ellen",
           "female"
          ],
          [
           "O'Connor, Mr. Maurice",
           "male"
          ],
          [
           "Anderson, Mr. Harry",
           "male"
          ],
          [
           "Morley, Mr. William",
           "male"
          ],
          [
           "Gee, Mr. Arthur H",
           "male"
          ],
          [
           "Milling, Mr. Jacob Christian",
           "male"
          ],
          [
           "Maisner, Mr. Simon",
           "male"
          ],
          [
           "Goncalves, Mr. Manuel Estanslas",
           "male"
          ],
          [
           "Campbell, Mr. William",
           "male"
          ],
          [
           "Smart, Mr. John Montgomery",
           "male"
          ],
          [
           "Scanlan, Mr. James",
           "male"
          ],
          [
           "Baclini, Miss. Helene Barbara",
           "female"
          ],
          [
           "Keefe, Mr. Arthur",
           "male"
          ],
          [
           "Cacic, Mr. Luka",
           "male"
          ],
          [
           "West, Mrs. Edwy Arthur (Ada Mary Worth)",
           "female"
          ],
          [
           "Jerwan, Mrs. Amin S (Marie Marthe Thuillard)",
           "female"
          ],
          [
           "Strandberg, Miss. Ida Sofia",
           "female"
          ],
          [
           "Clifford, Mr. George Quincy",
           "male"
          ],
          [
           "Renouf, Mr. Peter Henry",
           "male"
          ],
          [
           "Braund, Mr. Lewis Richard",
           "male"
          ],
          [
           "Karlsson, Mr. Nils August",
           "male"
          ],
          [
           "Hirvonen, Miss. Hildur E",
           "female"
          ],
          [
           "Goodwin, Master. Harold Victor",
           "male"
          ],
          [
           "Frost, Mr. Anthony Wood \"Archie\"",
           "male"
          ],
          [
           "Rouse, Mr. Richard Henry",
           "male"
          ],
          [
           "Turkula, Mrs. (Hedwig)",
           "female"
          ],
          [
           "Bishop, Mr. Dickinson H",
           "male"
          ],
          [
           "Lefebre, Miss. Jeannie",
           "female"
          ],
          [
           "Hoyt, Mrs. Frederick Maxfield (Jane Anne Forby)",
           "female"
          ],
          [
           "Kent, Mr. Edward Austin",
           "male"
          ],
          [
           "Somerton, Mr. Francis William",
           "male"
          ],
          [
           "Coutts, Master. Eden Leslie \"Neville\"",
           "male"
          ],
          [
           "Hagland, Mr. Konrad Mathias Reiersen",
           "male"
          ],
          [
           "Windelov, Mr. Einar",
           "male"
          ],
          [
           "Molson, Mr. Harry Markland",
           "male"
          ],
          [
           "Artagaveytia, Mr. Ramon",
           "male"
          ],
          [
           "Stanley, Mr. Edward Roland",
           "male"
          ],
          [
           "Yousseff, Mr. Gerious",
           "male"
          ],
          [
           "Eustis, Miss. Elizabeth Mussey",
           "female"
          ],
          [
           "Shellard, Mr. Frederick William",
           "male"
          ],
          [
           "Allison, Mrs. Hudson J C (Bessie Waldo Daniels)",
           "female"
          ],
          [
           "Svensson, Mr. Olof",
           "male"
          ],
          [
           "Calic, Mr. Petar",
           "male"
          ],
          [
           "Canavan, Miss. Mary",
           "female"
          ],
          [
           "O'Sullivan, Miss. Bridget Mary",
           "female"
          ],
          [
           "Laitinen, Miss. Kristina Sofia",
           "female"
          ],
          [
           "Maioni, Miss. Roberta",
           "female"
          ],
          [
           "Penasco y Castellana, Mr. Victor de Satode",
           "male"
          ],
          [
           "Quick, Mrs. Frederick Charles (Jane Richards)",
           "female"
          ],
          [
           "Bradley, Mr. George (\"George Arthur Brayton\")",
           "male"
          ],
          [
           "Olsen, Mr. Henry Margido",
           "male"
          ],
          [
           "Lang, Mr. Fang",
           "male"
          ],
          [
           "Daly, Mr. Eugene Patrick",
           "male"
          ],
          [
           "Webber, Mr. James",
           "male"
          ],
          [
           "McGough, Mr. James Robert",
           "male"
          ],
          [
           "Rothschild, Mrs. Martin (Elizabeth L. Barrett)",
           "female"
          ],
          [
           "Coleff, Mr. Satio",
           "male"
          ],
          [
           "Walker, Mr. William Anderson",
           "male"
          ],
          [
           "Lemore, Mrs. (Amelia Milley)",
           "female"
          ],
          [
           "Ryan, Mr. Patrick",
           "male"
          ],
          [
           "Angle, Mrs. William A (Florence \"Mary\" Agnes Hughes)",
           "female"
          ],
          [
           "Pavlovic, Mr. Stefo",
           "male"
          ],
          [
           "Perreault, Miss. Anne",
           "female"
          ],
          [
           "Vovk, Mr. Janko",
           "male"
          ],
          [
           "Lahoud, Mr. Sarkis",
           "male"
          ],
          [
           "Hippach, Mrs. Louis Albert (Ida Sophia Fischer)",
           "female"
          ],
          [
           "Kassem, Mr. Fared",
           "male"
          ],
          [
           "Farrell, Mr. James",
           "male"
          ],
          [
           "Ridsdale, Miss. Lucy",
           "female"
          ],
          [
           "Farthing, Mr. John",
           "male"
          ],
          [
           "Salonen, Mr. Johan Werner",
           "male"
          ],
          [
           "Hocking, Mr. Richard George",
           "male"
          ],
          [
           "Quick, Miss. Phyllis May",
           "female"
          ],
          [
           "Toufik, Mr. Nakli",
           "male"
          ],
          [
           "Elias, Mr. Joseph Jr",
           "male"
          ],
          [
           "Peter, Mrs. Catherine (Catherine Rizk)",
           "female"
          ],
          [
           "Cacic, Miss. Marija",
           "female"
          ],
          [
           "Hart, Miss. Eva Miriam",
           "female"
          ],
          [
           "Butt, Major. Archibald Willingham",
           "male"
          ],
          [
           "LeRoy, Miss. Bertha",
           "female"
          ],
          [
           "Risien, Mr. Samuel Beard",
           "male"
          ],
          [
           "Frolicher, Miss. Hedwig Margaritha",
           "female"
          ],
          [
           "Crosby, Miss. Harriet R",
           "female"
          ],
          [
           "Andersson, Miss. Ingeborg Constanzia",
           "female"
          ],
          [
           "Andersson, Miss. Sigrid Elisabeth",
           "female"
          ],
          [
           "Beane, Mr. Edward",
           "male"
          ],
          [
           "Douglas, Mr. Walter Donald",
           "male"
          ],
          [
           "Nicholson, Mr. Arthur Ernest",
           "male"
          ],
          [
           "Beane, Mrs. Edward (Ethel Clarke)",
           "female"
          ],
          [
           "Padro y Manent, Mr. Julian",
           "male"
          ],
          [
           "Goldsmith, Mr. Frank John",
           "male"
          ],
          [
           "Davies, Master. John Morgan Jr",
           "male"
          ],
          [
           "Thayer, Mr. John Borland Jr",
           "male"
          ],
          [
           "Sharp, Mr. Percival James R",
           "male"
          ],
          [
           "O'Brien, Mr. Timothy",
           "male"
          ],
          [
           "Leeni, Mr. Fahim (\"Philip Zenni\")",
           "male"
          ],
          [
           "Ohman, Miss. Velin",
           "female"
          ],
          [
           "Wright, Mr. George",
           "male"
          ],
          [
           "Duff Gordon, Lady. (Lucille Christiana Sutherland) (\"Mrs Morgan\")",
           "female"
          ],
          [
           "Robbins, Mr. Victor",
           "male"
          ],
          [
           "Taussig, Mrs. Emil (Tillie Mandelbaum)",
           "female"
          ],
          [
           "de Messemaeker, Mrs. Guillaume Joseph (Emma)",
           "female"
          ],
          [
           "Morrow, Mr. Thomas Rowan",
           "male"
          ],
          [
           "Sivic, Mr. Husein",
           "male"
          ],
          [
           "Norman, Mr. Robert Douglas",
           "male"
          ],
          [
           "Simmons, Mr. John",
           "male"
          ],
          [
           "Meanwell, Miss. (Marion Ogden)",
           "female"
          ],
          [
           "Davies, Mr. Alfred J",
           "male"
          ],
          [
           "Stoytcheff, Mr. Ilia",
           "male"
          ],
          [
           "Palsson, Mrs. Nils (Alma Cornelia Berglund)",
           "female"
          ],
          [
           "Doharr, Mr. Tannous",
           "male"
          ],
          [
           "Jonsson, Mr. Carl",
           "male"
          ],
          [
           "Harris, Mr. George",
           "male"
          ],
          [
           "Appleton, Mrs. Edward Dale (Charlotte Lamson)",
           "female"
          ],
          [
           "Flynn, Mr. John Irwin (\"Irving\")",
           "male"
          ],
          [
           "Kelly, Miss. Mary",
           "female"
          ],
          [
           "Rush, Mr. Alfred George John",
           "male"
          ],
          [
           "Patchett, Mr. George",
           "male"
          ],
          [
           "Garside, Miss. Ethel",
           "female"
          ],
          [
           "Silvey, Mrs. William Baird (Alice Munger)",
           "female"
          ],
          [
           "Caram, Mrs. Joseph (Maria Elias)",
           "female"
          ],
          [
           "Jussila, Mr. Eiriik",
           "male"
          ],
          [
           "Christy, Miss. Julie Rachel",
           "female"
          ],
          [
           "Thayer, Mrs. John Borland (Marian Longstreth Morris)",
           "female"
          ],
          [
           "Downton, Mr. William James",
           "male"
          ],
          [
           "Ross, Mr. John Hugo",
           "male"
          ],
          [
           "Paulner, Mr. Uscher",
           "male"
          ],
          [
           "Taussig, Miss. Ruth",
           "female"
          ],
          [
           "Jarvis, Mr. John Denzil",
           "male"
          ],
          [
           "Frolicher-Stehli, Mr. Maxmillian",
           "male"
          ],
          [
           "Gilinski, Mr. Eliezer",
           "male"
          ],
          [
           "Murdlin, Mr. Joseph",
           "male"
          ],
          [
           "Rintamaki, Mr. Matti",
           "male"
          ],
          [
           "Stephenson, Mrs. Walter Bertram (Martha Eustis)",
           "female"
          ],
          [
           "Elsbury, Mr. William James",
           "male"
          ],
          [
           "Bourke, Miss. Mary",
           "female"
          ],
          [
           "Chapman, Mr. John Henry",
           "male"
          ],
          [
           "Van Impe, Mr. Jean Baptiste",
           "male"
          ],
          [
           "Leitch, Miss. Jessie Wills",
           "female"
          ],
          [
           "Johnson, Mr. Alfred",
           "male"
          ],
          [
           "Boulos, Mr. Hanna",
           "male"
          ],
          [
           "Duff Gordon, Sir. Cosmo Edmund (\"Mr Morgan\")",
           "male"
          ],
          [
           "Jacobsohn, Mrs. Sidney Samuel (Amy Frances Christy)",
           "female"
          ],
          [
           "Slabenoff, Mr. Petco",
           "male"
          ],
          [
           "Harrington, Mr. Charles H",
           "male"
          ],
          [
           "Torber, Mr. Ernst William",
           "male"
          ],
          [
           "Homer, Mr. Harry (\"Mr E Haven\")",
           "male"
          ],
          [
           "Lindell, Mr. Edvard Bengtsson",
           "male"
          ],
          [
           "Karaic, Mr. Milan",
           "male"
          ],
          [
           "Daniel, Mr. Robert Williams",
           "male"
          ],
          [
           "Laroche, Mrs. Joseph (Juliette Marie Louise Lafargue)",
           "female"
          ],
          [
           "Shutes, Miss. Elizabeth W",
           "female"
          ],
          [
           "Andersson, Mrs. Anders Johan (Alfrida Konstantia Brogren)",
           "female"
          ],
          [
           "Jardin, Mr. Jose Neto",
           "male"
          ],
          [
           "Murphy, Miss. Margaret Jane",
           "female"
          ],
          [
           "Horgan, Mr. John",
           "male"
          ],
          [
           "Brocklebank, Mr. William Alfred",
           "male"
          ],
          [
           "Herman, Miss. Alice",
           "female"
          ],
          [
           "Danbom, Mr. Ernst Gilbert",
           "male"
          ],
          [
           "Lobb, Mrs. William Arthur (Cordelia K Stanlick)",
           "female"
          ],
          [
           "Becker, Miss. Marion Louise",
           "female"
          ],
          [
           "Gavey, Mr. Lawrence",
           "male"
          ],
          [
           "Yasbeck, Mr. Antoni",
           "male"
          ],
          [
           "Kimball, Mr. Edwin Nelson Jr",
           "male"
          ],
          [
           "Nakid, Mr. Sahid",
           "male"
          ],
          [
           "Hansen, Mr. Henry Damsgaard",
           "male"
          ],
          [
           "Bowen, Mr. David John \"Dai\"",
           "male"
          ],
          [
           "Sutton, Mr. Frederick",
           "male"
          ],
          [
           "Kirkland, Rev. Charles Leonard",
           "male"
          ],
          [
           "Longley, Miss. Gretchen Fiske",
           "female"
          ],
          [
           "Bostandyeff, Mr. Guentcho",
           "male"
          ],
          [
           "O'Connell, Mr. Patrick D",
           "male"
          ],
          [
           "Barkworth, Mr. Algernon Henry Wilson",
           "male"
          ],
          [
           "Lundahl, Mr. Johan Svensson",
           "male"
          ],
          [
           "Stahelin-Maeglin, Dr. Max",
           "male"
          ],
          [
           "Parr, Mr. William Henry Marsh",
           "male"
          ],
          [
           "Skoog, Miss. Mabel",
           "female"
          ],
          [
           "Davis, Miss. Mary",
           "female"
          ],
          [
           "Leinonen, Mr. Antti Gustaf",
           "male"
          ],
          [
           "Collyer, Mr. Harvey",
           "male"
          ],
          [
           "Panula, Mrs. Juha (Maria Emilia Ojala)",
           "female"
          ],
          [
           "Thorneycroft, Mr. Percival",
           "male"
          ],
          [
           "Jensen, Mr. Hans Peder",
           "male"
          ],
          [
           "Sagesser, Mlle. Emma",
           "female"
          ],
          [
           "Skoog, Miss. Margit Elizabeth",
           "female"
          ],
          [
           "Foo, Mr. Choong",
           "male"
          ],
          [
           "Baclini, Miss. Eugenie",
           "female"
          ],
          [
           "Harper, Mr. Henry Sleeper",
           "male"
          ],
          [
           "Cor, Mr. Liudevit",
           "male"
          ],
          [
           "Simonius-Blumer, Col. Oberst Alfons",
           "male"
          ],
          [
           "Willey, Mr. Edward",
           "male"
          ],
          [
           "Stanley, Miss. Amy Zillah Elsie",
           "female"
          ],
          [
           "Mitkoff, Mr. Mito",
           "male"
          ],
          [
           "Doling, Miss. Elsie",
           "female"
          ],
          [
           "Kalvik, Mr. Johannes Halvorsen",
           "male"
          ],
          [
           "O'Leary, Miss. Hanora \"Norah\"",
           "female"
          ],
          [
           "Hegarty, Miss. Hanora \"Nora\"",
           "female"
          ],
          [
           "Hickman, Mr. Leonard Mark",
           "male"
          ],
          [
           "Radeff, Mr. Alexander",
           "male"
          ],
          [
           "Bourke, Mrs. John (Catherine)",
           "female"
          ],
          [
           "Eitemiller, Mr. George Floyd",
           "male"
          ],
          [
           "Newell, Mr. Arthur Webster",
           "male"
          ],
          [
           "Frauenthal, Dr. Henry William",
           "male"
          ],
          [
           "Badt, Mr. Mohamed",
           "male"
          ],
          [
           "Colley, Mr. Edward Pomeroy",
           "male"
          ],
          [
           "Coleff, Mr. Peju",
           "male"
          ],
          [
           "Lindqvist, Mr. Eino William",
           "male"
          ],
          [
           "Hickman, Mr. Lewis",
           "male"
          ],
          [
           "Butler, Mr. Reginald Fenton",
           "male"
          ],
          [
           "Rommetvedt, Mr. Knud Paust",
           "male"
          ],
          [
           "Cook, Mr. Jacob",
           "male"
          ],
          [
           "Taylor, Mrs. Elmer Zebley (Juliet Cummins Wright)",
           "female"
          ],
          [
           "Brown, Mrs. Thomas William Solomon (Elizabeth Catherine Ford)",
           "female"
          ],
          [
           "Davidson, Mr. Thornton",
           "male"
          ],
          [
           "Mitchell, Mr. Henry Michael",
           "male"
          ],
          [
           "Wilhelms, Mr. Charles",
           "male"
          ],
          [
           "Watson, Mr. Ennis Hastings",
           "male"
          ],
          [
           "Edvardsson, Mr. Gustaf Hjalmar",
           "male"
          ],
          [
           "Sawyer, Mr. Frederick Charles",
           "male"
          ],
          [
           "Turja, Miss. Anna Sofia",
           "female"
          ],
          [
           "Goodwin, Mrs. Frederick (Augusta Tyler)",
           "female"
          ],
          [
           "Cardeza, Mr. Thomas Drake Martinez",
           "male"
          ],
          [
           "Peters, Miss. Katie",
           "female"
          ],
          [
           "Hassab, Mr. Hammad",
           "male"
          ],
          [
           "Olsvigen, Mr. Thor Anderson",
           "male"
          ],
          [
           "Goodwin, Mr. Charles Edward",
           "male"
          ],
          [
           "Brown, Mr. Thomas William Solomon",
           "male"
          ],
          [
           "Laroche, Mr. Joseph Philippe Lemercier",
           "male"
          ],
          [
           "Panula, Mr. Jaako Arnold",
           "male"
          ],
          [
           "Dakic, Mr. Branko",
           "male"
          ],
          [
           "Fischer, Mr. Eberhard Thelander",
           "male"
          ],
          [
           "Madill, Miss. Georgette Alexandra",
           "female"
          ],
          [
           "Dick, Mr. Albert Adrian",
           "male"
          ],
          [
           "Karun, Miss. Manca",
           "female"
          ],
          [
           "Lam, Mr. Ali",
           "male"
          ],
          [
           "Saad, Mr. Khalil",
           "male"
          ],
          [
           "Weir, Col. John",
           "male"
          ],
          [
           "Chapman, Mr. Charles Henry",
           "male"
          ],
          [
           "Kelly, Mr. James",
           "male"
          ],
          [
           "Mullens, Miss. Katherine \"Katie\"",
           "female"
          ],
          [
           "Thayer, Mr. John Borland",
           "male"
          ],
          [
           "Humblen, Mr. Adolf Mathias Nicolai Olsen",
           "male"
          ],
          [
           "Astor, Mrs. John Jacob (Madeleine Talmadge Force)",
           "female"
          ],
          [
           "Silverthorne, Mr. Spencer Victor",
           "male"
          ],
          [
           "Barbara, Miss. Saiide",
           "female"
          ],
          [
           "Gallagher, Mr. Martin",
           "male"
          ],
          [
           "Hansen, Mr. Henrik Juul",
           "male"
          ],
          [
           "Morley, Mr. Henry Samuel (\"Mr Henry Marshall\")",
           "male"
          ],
          [
           "Kelly, Mrs. Florence \"Fannie\"",
           "female"
          ],
          [
           "Calderhead, Mr. Edward Pennington",
           "male"
          ],
          [
           "Cleaver, Miss. Alice",
           "female"
          ],
          [
           "Moubarek, Master. Halim Gonios (\"William George\")",
           "male"
          ],
          [
           "Mayne, Mlle. Berthe Antonine (\"Mrs de Villiers\")",
           "female"
          ],
          [
           "Klaber, Mr. Herman",
           "male"
          ],
          [
           "Taylor, Mr. Elmer Zebley",
           "male"
          ],
          [
           "Larsson, Mr. August Viktor",
           "male"
          ],
          [
           "Greenberg, Mr. Samuel",
           "male"
          ],
          [
           "Soholt, Mr. Peter Andreas Lauritz Andersen",
           "male"
          ],
          [
           "Endres, Miss. Caroline Louise",
           "female"
          ],
          [
           "Troutt, Miss. Edwina Celia \"Winnie\"",
           "female"
          ],
          [
           "McEvoy, Mr. Michael",
           "male"
          ],
          [
           "Johnson, Mr. Malkolm Joackim",
           "male"
          ],
          [
           "Harper, Miss. Annie Jessie \"Nina\"",
           "female"
          ],
          [
           "Jensen, Mr. Svend Lauritz",
           "male"
          ],
          [
           "Gillespie, Mr. William Henry",
           "male"
          ],
          [
           "Hodges, Mr. Henry Price",
           "male"
          ],
          [
           "Chambers, Mr. Norman Campbell",
           "male"
          ],
          [
           "Oreskovic, Mr. Luka",
           "male"
          ],
          [
           "Renouf, Mrs. Peter Henry (Lillian Jefferys)",
           "female"
          ],
          [
           "Mannion, Miss. Margareth",
           "female"
          ],
          [
           "Bryhl, Mr. Kurt Arnold Gottfrid",
           "male"
          ],
          [
           "Ilmakangas, Miss. Pieta Sofia",
           "female"
          ],
          [
           "Allen, Miss. Elisabeth Walton",
           "female"
          ],
          [
           "Hassan, Mr. Houssein G N",
           "male"
          ],
          [
           "Knight, Mr. Robert J",
           "male"
          ],
          [
           "Berriman, Mr. William John",
           "male"
          ],
          [
           "Troupiansky, Mr. Moses Aaron",
           "male"
          ],
          [
           "Williams, Mr. Leslie",
           "male"
          ],
          [
           "Ford, Mrs. Edward (Margaret Ann Watson)",
           "female"
          ],
          [
           "Lesurer, Mr. Gustave J",
           "male"
          ],
          [
           "Ivanoff, Mr. Kanio",
           "male"
          ],
          [
           "Nankoff, Mr. Minko",
           "male"
          ],
          [
           "Hawksford, Mr. Walter James",
           "male"
          ],
          [
           "Cavendish, Mr. Tyrell William",
           "male"
          ],
          [
           "Ryerson, Miss. Susan Parker \"Suzette\"",
           "female"
          ],
          [
           "McNamee, Mr. Neal",
           "male"
          ],
          [
           "Stranden, Mr. Juho",
           "male"
          ],
          [
           "Crosby, Capt. Edward Gifford",
           "male"
          ],
          [
           "Abbott, Mr. Rossmore Edward",
           "male"
          ],
          [
           "Sinkkonen, Miss. Anna",
           "female"
          ],
          [
           "Marvin, Mr. Daniel Warner",
           "male"
          ],
          [
           "Connaghton, Mr. Michael",
           "male"
          ],
          [
           "Wells, Miss. Joan",
           "female"
          ],
          [
           "Moor, Master. Meier",
           "male"
          ],
          [
           "Vande Velde, Mr. Johannes Joseph",
           "male"
          ],
          [
           "Jonkoff, Mr. Lalio",
           "male"
          ],
          [
           "Herman, Mrs. Samuel (Jane Laver)",
           "female"
          ],
          [
           "Hamalainen, Master. Viljo",
           "male"
          ],
          [
           "Carlsson, Mr. August Sigfrid",
           "male"
          ],
          [
           "Bailey, Mr. Percy Andrew",
           "male"
          ],
          [
           "Theobald, Mr. Thomas Leonard",
           "male"
          ],
          [
           "Rothes, the Countess. of (Lucy Noel Martha Dyer-Edwards)",
           "female"
          ],
          [
           "Garfirth, Mr. John",
           "male"
          ],
          [
           "Nirva, Mr. Iisakki Antino Aijo",
           "male"
          ],
          [
           "Barah, Mr. Hanna Assi",
           "male"
          ],
          [
           "Carter, Mrs. William Ernest (Lucile Polk)",
           "female"
          ],
          [
           "Eklund, Mr. Hans Linus",
           "male"
          ],
          [
           "Hogeboom, Mrs. John C (Anna Andrews)",
           "female"
          ],
          [
           "Brewe, Dr. Arthur Jackson",
           "male"
          ],
          [
           "Mangan, Miss. Mary",
           "female"
          ],
          [
           "Moran, Mr. Daniel J",
           "male"
          ],
          [
           "Gronnestad, Mr. Daniel Danielsen",
           "male"
          ],
          [
           "Lievens, Mr. Rene Aime",
           "male"
          ],
          [
           "Jensen, Mr. Niels Peder",
           "male"
          ],
          [
           "Mack, Mrs. (Mary)",
           "female"
          ],
          [
           "Elias, Mr. Dibo",
           "male"
          ],
          [
           "Hocking, Mrs. Elizabeth (Eliza Needs)",
           "female"
          ],
          [
           "Myhrman, Mr. Pehr Fabian Oliver Malkolm",
           "male"
          ],
          [
           "Tobin, Mr. Roger",
           "male"
          ],
          [
           "Emanuel, Miss. Virginia Ethel",
           "female"
          ],
          [
           "Kilgannon, Mr. Thomas J",
           "male"
          ],
          [
           "Robert, Mrs. Edward Scott (Elisabeth Walton McMillan)",
           "female"
          ],
          [
           "Ayoub, Miss. Banoura",
           "female"
          ],
          [
           "Dick, Mrs. Albert Adrian (Vera Gillespie)",
           "female"
          ],
          [
           "Long, Mr. Milton Clyde",
           "male"
          ],
          [
           "Johnston, Mr. Andrew G",
           "male"
          ],
          [
           "Ali, Mr. William",
           "male"
          ],
          [
           "Harmer, Mr. Abraham (David Lishin)",
           "male"
          ],
          [
           "Sjoblom, Miss. Anna Sofia",
           "female"
          ],
          [
           "Rice, Master. George Hugh",
           "male"
          ],
          [
           "Dean, Master. Bertram Vere",
           "male"
          ],
          [
           "Guggenheim, Mr. Benjamin",
           "male"
          ],
          [
           "Keane, Mr. Andrew \"Andy\"",
           "male"
          ],
          [
           "Gaskell, Mr. Alfred",
           "male"
          ],
          [
           "Sage, Miss. Stella Anna",
           "female"
          ],
          [
           "Hoyt, Mr. William Fisher",
           "male"
          ],
          [
           "Dantcheff, Mr. Ristiu",
           "male"
          ],
          [
           "Otter, Mr. Richard",
           "male"
          ],
          [
           "Leader, Dr. Alice (Farnham)",
           "female"
          ],
          [
           "Osman, Mrs. Mara",
           "female"
          ],
          [
           "Ibrahim Shawah, Mr. Yousseff",
           "male"
          ],
          [
           "Van Impe, Mrs. Jean Baptiste (Rosalie Paula Govaert)",
           "female"
          ],
          [
           "Ponesell, Mr. Martin",
           "male"
          ],
          [
           "Collyer, Mrs. Harvey (Charlotte Annie Tate)",
           "female"
          ],
          [
           "Carter, Master. William Thornton II",
           "male"
          ],
          [
           "Thomas, Master. Assad Alexander",
           "male"
          ],
          [
           "Hedman, Mr. Oskar Arvid",
           "male"
          ],
          [
           "Johansson, Mr. Karl Johan",
           "male"
          ],
          [
           "Andrews, Mr. Thomas Jr",
           "male"
          ],
          [
           "Pettersson, Miss. Ellen Natalia",
           "female"
          ],
          [
           "Meyer, Mr. August",
           "male"
          ],
          [
           "Chambers, Mrs. Norman Campbell (Bertha Griggs)",
           "female"
          ],
          [
           "Alexander, Mr. William",
           "male"
          ],
          [
           "Lester, Mr. James",
           "male"
          ],
          [
           "Slemen, Mr. Richard James",
           "male"
          ],
          [
           "Andersson, Miss. Ebba Iris Alfrida",
           "female"
          ],
          [
           "Tomlin, Mr. Ernest Portage",
           "male"
          ],
          [
           "Fry, Mr. Richard",
           "male"
          ],
          [
           "Heininen, Miss. Wendla Maria",
           "female"
          ],
          [
           "Mallet, Mr. Albert",
           "male"
          ],
          [
           "Holm, Mr. John Fredrik Alexander",
           "male"
          ],
          [
           "Skoog, Master. Karl Thorsten",
           "male"
          ],
          [
           "Hays, Mrs. Charles Melville (Clara Jennings Gregg)",
           "female"
          ],
          [
           "Lulic, Mr. Nikola",
           "male"
          ],
          [
           "Reuchlin, Jonkheer. John George",
           "male"
          ],
          [
           "Moor, Mrs. (Beila)",
           "female"
          ],
          [
           "Panula, Master. Urho Abraham",
           "male"
          ],
          [
           "Flynn, Mr. John",
           "male"
          ],
          [
           "Lam, Mr. Len",
           "male"
          ],
          [
           "Mallet, Master. Andre",
           "male"
          ],
          [
           "McCormack, Mr. Thomas Joseph",
           "male"
          ],
          [
           "Stone, Mrs. George Nelson (Martha Evelyn)",
           "female"
          ],
          [
           "Yasbeck, Mrs. Antoni (Selini Alexander)",
           "female"
          ],
          [
           "Richards, Master. George Sibley",
           "male"
          ],
          [
           "Saad, Mr. Amin",
           "male"
          ],
          [
           "Augustsson, Mr. Albert",
           "male"
          ],
          [
           "Allum, Mr. Owen George",
           "male"
          ],
          [
           "Compton, Miss. Sara Rebecca",
           "female"
          ],
          [
           "Pasic, Mr. Jakob",
           "male"
          ],
          [
           "Sirota, Mr. Maurice",
           "male"
          ],
          [
           "Chip, Mr. Chang",
           "male"
          ],
          [
           "Marechal, Mr. Pierre",
           "male"
          ],
          [
           "Alhomaki, Mr. Ilmari Rudolf",
           "male"
          ],
          [
           "Mudd, Mr. Thomas Charles",
           "male"
          ],
          [
           "Serepeca, Miss. Augusta",
           "female"
          ],
          [
           "Lemberopolous, Mr. Peter L",
           "male"
          ],
          [
           "Culumovic, Mr. Jeso",
           "male"
          ],
          [
           "Abbing, Mr. Anthony",
           "male"
          ],
          [
           "Sage, Mr. Douglas Bullen",
           "male"
          ],
          [
           "Markoff, Mr. Marin",
           "male"
          ],
          [
           "Harper, Rev. John",
           "male"
          ],
          [
           "Goldenberg, Mrs. Samuel L (Edwiga Grabowska)",
           "female"
          ],
          [
           "Andersson, Master. Sigvard Harald Elias",
           "male"
          ],
          [
           "Svensson, Mr. Johan",
           "male"
          ],
          [
           "Boulos, Miss. Nourelain",
           "female"
          ],
          [
           "Lines, Miss. Mary Conover",
           "female"
          ],
          [
           "Carter, Mrs. Ernest Courtenay (Lilian Hughes)",
           "female"
          ],
          [
           "Aks, Mrs. Sam (Leah Rosen)",
           "female"
          ],
          [
           "Wick, Mrs. George Dennick (Mary Hitchcock)",
           "female"
          ],
          [
           "Daly, Mr. Peter Denis ",
           "male"
          ],
          [
           "Baclini, Mrs. Solomon (Latifa Qurban)",
           "female"
          ],
          [
           "Razi, Mr. Raihed",
           "male"
          ],
          [
           "Hansen, Mr. Claus Peter",
           "male"
          ],
          [
           "Giles, Mr. Frederick Edward",
           "male"
          ],
          [
           "Swift, Mrs. Frederick Joel (Margaret Welles Barron)",
           "female"
          ],
          [
           "Sage, Miss. Dorothy Edith \"Dolly\"",
           "female"
          ],
          [
           "Gill, Mr. John William",
           "male"
          ],
          [
           "Bystrom, Mrs. (Karolina)",
           "female"
          ],
          [
           "Duran y More, Miss. Asuncion",
           "female"
          ],
          [
           "Roebling, Mr. Washington Augustus II",
           "male"
          ],
          [
           "van Melkebeke, Mr. Philemon",
           "male"
          ],
          [
           "Johnson, Master. Harold Theodor",
           "male"
          ],
          [
           "Balkic, Mr. Cerin",
           "male"
          ],
          [
           "Beckwith, Mrs. Richard Leonard (Sallie Monypeny)",
           "female"
          ],
          [
           "Carlsson, Mr. Frans Olof",
           "male"
          ],
          [
           "Vander Cruyssen, Mr. Victor",
           "male"
          ],
          [
           "Abelson, Mrs. Samuel (Hannah Wizosky)",
           "female"
          ],
          [
           "Najib, Miss. Adele Kiamie \"Jane\"",
           "female"
          ],
          [
           "Gustafsson, Mr. Alfred Ossian",
           "male"
          ],
          [
           "Petroff, Mr. Nedelio",
           "male"
          ],
          [
           "Laleff, Mr. Kristo",
           "male"
          ],
          [
           "Potter, Mrs. Thomas Jr (Lily Alexenia Wilson)",
           "female"
          ],
          [
           "Shelley, Mrs. William (Imanita Parrish Hall)",
           "female"
          ],
          [
           "Markun, Mr. Johann",
           "male"
          ],
          [
           "Dahlberg, Miss. Gerda Ulrika",
           "female"
          ],
          [
           "Banfield, Mr. Frederick James",
           "male"
          ],
          [
           "Sutehall, Mr. Henry Jr",
           "male"
          ],
          [
           "Rice, Mrs. William (Margaret Norton)",
           "female"
          ],
          [
           "Montvila, Rev. Juozas",
           "male"
          ],
          [
           "Graham, Miss. Margaret Edith",
           "female"
          ],
          [
           "Johnston, Miss. Catherine Helen \"Carrie\"",
           "female"
          ],
          [
           "Behr, Mr. Karl Howell",
           "male"
          ],
          [
           "Dooley, Mr. Patrick",
           "male"
          ]
         ],
         "hovertemplate": "Age=%{x}<br>Fare=%{y}<br>Name=%{customdata[0]}<br>Sex=%{customdata[1]}<extra></extra>",
         "legendgroup": "",
         "marker": {
          "color": "#3182bd",
          "symbol": "circle"
         },
         "mode": "markers",
         "name": "",
         "orientation": "v",
         "showlegend": false,
         "type": "scatter",
         "x": [
          22,
          38,
          26,
          35,
          35,
          null,
          54,
          2,
          27,
          14,
          4,
          58,
          20,
          39,
          14,
          55,
          2,
          null,
          31,
          null,
          35,
          34,
          15,
          28,
          8,
          38,
          null,
          19,
          null,
          null,
          40,
          null,
          null,
          66,
          28,
          42,
          null,
          21,
          18,
          14,
          40,
          27,
          null,
          3,
          19,
          null,
          null,
          null,
          null,
          18,
          7,
          21,
          49,
          29,
          65,
          null,
          21,
          28.5,
          5,
          11,
          22,
          38,
          45,
          4,
          null,
          null,
          29,
          19,
          17,
          26,
          32,
          16,
          21,
          26,
          32,
          25,
          null,
          null,
          0.83,
          30,
          22,
          29,
          null,
          28,
          17,
          33,
          16,
          null,
          23,
          24,
          29,
          20,
          46,
          26,
          59,
          null,
          71,
          23,
          34,
          34,
          28,
          null,
          21,
          33,
          37,
          28,
          21,
          null,
          38,
          null,
          47,
          14.5,
          22,
          20,
          17,
          21,
          70.5,
          29,
          24,
          2,
          21,
          null,
          32.5,
          32.5,
          54,
          12,
          null,
          24,
          null,
          45,
          33,
          20,
          47,
          29,
          25,
          23,
          19,
          37,
          16,
          24,
          null,
          22,
          24,
          19,
          18,
          19,
          27,
          9,
          36.5,
          42,
          51,
          22,
          55.5,
          40.5,
          null,
          51,
          16,
          30,
          null,
          null,
          44,
          40,
          26,
          17,
          1,
          9,
          null,
          45,
          null,
          28,
          61,
          4,
          1,
          21,
          56,
          18,
          null,
          50,
          30,
          36,
          null,
          null,
          9,
          1,
          4,
          null,
          null,
          45,
          40,
          36,
          32,
          19,
          19,
          3,
          44,
          58,
          null,
          42,
          null,
          24,
          28,
          null,
          34,
          45.5,
          18,
          2,
          32,
          26,
          16,
          40,
          24,
          35,
          22,
          30,
          null,
          31,
          27,
          42,
          32,
          30,
          16,
          27,
          51,
          null,
          38,
          22,
          19,
          20.5,
          18,
          null,
          35,
          29,
          59,
          5,
          24,
          null,
          44,
          8,
          19,
          33,
          null,
          null,
          29,
          22,
          30,
          44,
          25,
          24,
          37,
          54,
          null,
          29,
          62,
          30,
          41,
          29,
          null,
          30,
          35,
          50,
          null,
          3,
          52,
          40,
          null,
          36,
          16,
          25,
          58,
          35,
          null,
          25,
          41,
          37,
          null,
          63,
          45,
          null,
          7,
          35,
          65,
          28,
          16,
          19,
          null,
          33,
          30,
          22,
          42,
          22,
          26,
          19,
          36,
          24,
          24,
          null,
          23.5,
          2,
          null,
          50,
          null,
          null,
          19,
          null,
          null,
          0.92,
          null,
          17,
          30,
          30,
          24,
          18,
          26,
          28,
          43,
          26,
          24,
          54,
          31,
          40,
          22,
          27,
          30,
          22,
          null,
          36,
          61,
          36,
          31,
          16,
          null,
          45.5,
          38,
          16,
          null,
          null,
          29,
          41,
          45,
          45,
          2,
          24,
          28,
          25,
          36,
          24,
          40,
          null,
          3,
          42,
          23,
          null,
          15,
          25,
          null,
          28,
          22,
          38,
          null,
          null,
          40,
          29,
          45,
          35,
          null,
          30,
          60,
          null,
          null,
          24,
          25,
          18,
          19,
          22,
          3,
          null,
          22,
          27,
          20,
          19,
          42,
          1,
          32,
          35,
          null,
          18,
          1,
          36,
          null,
          17,
          36,
          21,
          28,
          23,
          24,
          22,
          31,
          46,
          23,
          28,
          39,
          26,
          21,
          28,
          20,
          34,
          51,
          3,
          21,
          null,
          null,
          null,
          33,
          null,
          44,
          null,
          34,
          18,
          30,
          10,
          null,
          21,
          29,
          28,
          18,
          null,
          28,
          19,
          null,
          32,
          28,
          null,
          42,
          17,
          50,
          14,
          21,
          24,
          64,
          31,
          45,
          20,
          25,
          28,
          null,
          4,
          13,
          34,
          5,
          52,
          36,
          null,
          30,
          49,
          null,
          29,
          65,
          null,
          50,
          null,
          48,
          34,
          47,
          48,
          null,
          38,
          null,
          56,
          null,
          0.75,
          null,
          38,
          33,
          23,
          22,
          null,
          34,
          29,
          22,
          2,
          9,
          null,
          50,
          63,
          25,
          null,
          35,
          58,
          30,
          9,
          null,
          21,
          55,
          71,
          21,
          null,
          54,
          null,
          25,
          24,
          17,
          21,
          null,
          37,
          16,
          18,
          33,
          null,
          28,
          26,
          29,
          null,
          36,
          54,
          24,
          47,
          34,
          null,
          36,
          32,
          30,
          22,
          null,
          44,
          null,
          40.5,
          50,
          null,
          39,
          23,
          2,
          null,
          17,
          null,
          30,
          7,
          45,
          30,
          null,
          22,
          36,
          9,
          11,
          32,
          50,
          64,
          19,
          null,
          33,
          8,
          17,
          27,
          null,
          22,
          22,
          62,
          48,
          null,
          39,
          36,
          null,
          40,
          28,
          null,
          null,
          24,
          19,
          29,
          null,
          32,
          62,
          53,
          36,
          null,
          16,
          19,
          34,
          39,
          null,
          32,
          25,
          39,
          54,
          36,
          null,
          18,
          47,
          60,
          22,
          null,
          35,
          52,
          47,
          null,
          37,
          36,
          null,
          49,
          null,
          49,
          24,
          null,
          null,
          44,
          35,
          36,
          30,
          27,
          22,
          40,
          39,
          null,
          null,
          null,
          35,
          24,
          34,
          26,
          4,
          26,
          27,
          42,
          20,
          21,
          21,
          61,
          57,
          21,
          26,
          null,
          80,
          51,
          32,
          null,
          9,
          28,
          32,
          31,
          41,
          null,
          20,
          24,
          2,
          null,
          0.75,
          48,
          19,
          56,
          null,
          23,
          null,
          18,
          21,
          null,
          18,
          24,
          null,
          32,
          23,
          58,
          50,
          40,
          47,
          36,
          20,
          32,
          25,
          null,
          43,
          null,
          40,
          31,
          70,
          31,
          null,
          18,
          24.5,
          18,
          43,
          36,
          null,
          27,
          20,
          14,
          60,
          25,
          14,
          19,
          18,
          15,
          31,
          4,
          null,
          25,
          60,
          52,
          44,
          null,
          49,
          42,
          18,
          35,
          18,
          25,
          26,
          39,
          45,
          42,
          22,
          null,
          24,
          null,
          48,
          29,
          52,
          19,
          38,
          27,
          null,
          33,
          6,
          17,
          34,
          50,
          27,
          20,
          30,
          null,
          25,
          25,
          29,
          11,
          null,
          23,
          23,
          28.5,
          48,
          35,
          null,
          null,
          null,
          36,
          21,
          24,
          31,
          70,
          16,
          30,
          19,
          31,
          4,
          6,
          33,
          23,
          48,
          0.67,
          28,
          18,
          34,
          33,
          null,
          41,
          20,
          36,
          16,
          51,
          null,
          30.5,
          null,
          32,
          24,
          48,
          57,
          null,
          54,
          18,
          null,
          5,
          null,
          43,
          13,
          17,
          29,
          null,
          25,
          25,
          18,
          8,
          1,
          46,
          null,
          16,
          null,
          null,
          25,
          39,
          49,
          31,
          30,
          30,
          34,
          31,
          11,
          0.42,
          27,
          31,
          39,
          18,
          39,
          33,
          26,
          39,
          35,
          6,
          30.5,
          null,
          23,
          31,
          43,
          10,
          52,
          27,
          38,
          27,
          2,
          null,
          null,
          1,
          null,
          62,
          15,
          0.83,
          null,
          23,
          18,
          39,
          21,
          null,
          32,
          null,
          20,
          16,
          30,
          34.5,
          17,
          42,
          null,
          35,
          28,
          null,
          4,
          74,
          9,
          16,
          44,
          18,
          45,
          51,
          24,
          null,
          41,
          21,
          48,
          null,
          24,
          42,
          27,
          31,
          null,
          4,
          26,
          47,
          33,
          47,
          28,
          15,
          20,
          19,
          null,
          56,
          25,
          33,
          22,
          28,
          25,
          39,
          27,
          19,
          null,
          26,
          32
         ],
         "xaxis": "x",
         "y": [
          7.25,
          71.2833,
          7.925,
          53.1,
          8.05,
          8.4583,
          51.8625,
          21.075,
          11.1333,
          30.0708,
          16.7,
          26.55,
          8.05,
          31.275,
          7.8542,
          16,
          29.125,
          13,
          18,
          7.225,
          26,
          13,
          8.0292,
          35.5,
          21.075,
          31.3875,
          7.225,
          263,
          7.8792,
          7.8958,
          27.7208,
          146.5208,
          7.75,
          10.5,
          82.1708,
          52,
          7.2292,
          8.05,
          18,
          11.2417,
          9.475,
          21,
          7.8958,
          41.5792,
          7.8792,
          8.05,
          15.5,
          7.75,
          21.6792,
          17.8,
          39.6875,
          7.8,
          76.7292,
          26,
          61.9792,
          35.5,
          10.5,
          7.2292,
          27.75,
          46.9,
          7.2292,
          80,
          83.475,
          27.9,
          27.7208,
          15.2458,
          10.5,
          8.1583,
          7.925,
          8.6625,
          10.5,
          46.9,
          73.5,
          14.4542,
          56.4958,
          7.65,
          7.8958,
          8.05,
          29,
          12.475,
          9,
          9.5,
          7.7875,
          47.1,
          10.5,
          15.85,
          34.375,
          8.05,
          263,
          8.05,
          8.05,
          7.8542,
          61.175,
          20.575,
          7.25,
          8.05,
          34.6542,
          63.3583,
          23,
          26,
          7.8958,
          7.8958,
          77.2875,
          8.6542,
          7.925,
          7.8958,
          7.65,
          7.775,
          7.8958,
          24.15,
          52,
          14.4542,
          8.05,
          9.825,
          14.4583,
          7.925,
          7.75,
          21,
          247.5208,
          31.275,
          73.5,
          8.05,
          30.0708,
          13,
          77.2875,
          11.2417,
          7.75,
          7.1417,
          22.3583,
          6.975,
          7.8958,
          7.05,
          14.5,
          26,
          13,
          15.0458,
          26.2833,
          53.1,
          9.2167,
          79.2,
          15.2458,
          7.75,
          15.85,
          6.75,
          11.5,
          36.75,
          7.7958,
          34.375,
          26,
          13,
          12.525,
          66.6,
          8.05,
          14.5,
          7.3125,
          61.3792,
          7.7333,
          8.05,
          8.6625,
          69.55,
          16.1,
          15.75,
          7.775,
          8.6625,
          39.6875,
          20.525,
          55,
          27.9,
          25.925,
          56.4958,
          33.5,
          29.125,
          11.1333,
          7.925,
          30.6958,
          7.8542,
          25.4667,
          28.7125,
          13,
          0,
          69.55,
          15.05,
          31.3875,
          39,
          22.025,
          50,
          15.5,
          26.55,
          15.5,
          7.8958,
          13,
          13,
          7.8542,
          26,
          27.7208,
          146.5208,
          7.75,
          8.4042,
          7.75,
          13,
          9.5,
          69.55,
          6.4958,
          7.225,
          8.05,
          10.4625,
          15.85,
          18.7875,
          7.75,
          31,
          7.05,
          21,
          7.25,
          13,
          7.75,
          113.275,
          7.925,
          27,
          76.2917,
          10.5,
          8.05,
          13,
          8.05,
          7.8958,
          90,
          9.35,
          10.5,
          7.25,
          13,
          25.4667,
          83.475,
          7.775,
          13.5,
          31.3875,
          10.5,
          7.55,
          26,
          26.25,
          10.5,
          12.275,
          14.4542,
          15.5,
          10.5,
          7.125,
          7.225,
          90,
          7.775,
          14.5,
          52.5542,
          26,
          7.25,
          10.4625,
          26.55,
          16.1,
          20.2125,
          15.2458,
          79.2,
          86.5,
          512.3292,
          26,
          7.75,
          31.3875,
          79.65,
          0,
          7.75,
          10.5,
          39.6875,
          7.775,
          153.4625,
          135.6333,
          31,
          0,
          19.5,
          29.7,
          7.75,
          77.9583,
          7.75,
          0,
          29.125,
          20.25,
          7.75,
          7.8542,
          9.5,
          8.05,
          26,
          8.6625,
          9.5,
          7.8958,
          13,
          7.75,
          78.85,
          91.0792,
          12.875,
          8.85,
          7.8958,
          27.7208,
          7.2292,
          151.55,
          30.5,
          247.5208,
          7.75,
          23.25,
          0,
          12.35,
          8.05,
          151.55,
          110.8833,
          108.9,
          24,
          56.9292,
          83.1583,
          262.375,
          26,
          7.8958,
          26.25,
          7.8542,
          26,
          14,
          164.8667,
          134.5,
          7.25,
          7.8958,
          12.35,
          29,
          69.55,
          135.6333,
          6.2375,
          13,
          20.525,
          57.9792,
          23.25,
          28.5,
          153.4625,
          18,
          133.65,
          7.8958,
          66.6,
          134.5,
          8.05,
          35.5,
          26,
          263,
          13,
          13,
          13,
          13,
          13,
          16.1,
          15.9,
          8.6625,
          9.225,
          35,
          7.2292,
          17.8,
          7.225,
          9.5,
          55,
          13,
          7.8792,
          7.8792,
          27.9,
          27.7208,
          14.4542,
          7.05,
          15.5,
          7.25,
          75.25,
          7.2292,
          7.75,
          69.3,
          55.4417,
          6.4958,
          8.05,
          135.6333,
          21.075,
          82.1708,
          7.25,
          211.5,
          4.0125,
          7.775,
          227.525,
          15.7417,
          7.925,
          52,
          7.8958,
          73.5,
          46.9,
          13,
          7.7292,
          12,
          120,
          7.7958,
          7.925,
          113.275,
          16.7,
          7.7958,
          7.8542,
          26,
          10.5,
          12.65,
          7.925,
          8.05,
          9.825,
          15.85,
          8.6625,
          21,
          7.75,
          18.75,
          7.775,
          25.4667,
          7.8958,
          6.8583,
          90,
          0,
          7.925,
          8.05,
          32.5,
          13,
          13,
          24.15,
          7.8958,
          7.7333,
          7.875,
          14.4,
          20.2125,
          7.25,
          26,
          26,
          7.75,
          8.05,
          26.55,
          16.1,
          26,
          7.125,
          55.9,
          120,
          34.375,
          18.75,
          263,
          10.5,
          26.25,
          9.5,
          7.775,
          13,
          8.1125,
          81.8583,
          19.5,
          26.55,
          19.2583,
          30.5,
          27.75,
          19.9667,
          27.75,
          89.1042,
          8.05,
          7.8958,
          26.55,
          51.8625,
          10.5,
          7.75,
          26.55,
          8.05,
          38.5,
          13,
          8.05,
          7.05,
          0,
          26.55,
          7.725,
          19.2583,
          7.25,
          8.6625,
          27.75,
          13.7917,
          9.8375,
          52,
          21,
          7.0458,
          7.5208,
          12.2875,
          46.9,
          0,
          8.05,
          9.5875,
          91.0792,
          25.4667,
          90,
          29.7,
          8.05,
          15.9,
          19.9667,
          7.25,
          30.5,
          49.5042,
          8.05,
          14.4583,
          78.2667,
          15.1,
          151.55,
          7.7958,
          8.6625,
          7.75,
          7.6292,
          9.5875,
          86.5,
          108.9,
          26,
          26.55,
          22.525,
          56.4958,
          7.75,
          8.05,
          26.2875,
          59.4,
          7.4958,
          34.0208,
          10.5,
          24.15,
          26,
          7.8958,
          93.5,
          7.8958,
          7.225,
          57.9792,
          7.2292,
          7.75,
          10.5,
          221.7792,
          7.925,
          11.5,
          26,
          7.2292,
          7.2292,
          22.3583,
          8.6625,
          26.25,
          26.55,
          106.425,
          14.5,
          49.5,
          71,
          31.275,
          31.275,
          26,
          106.425,
          26,
          26,
          13.8625,
          20.525,
          36.75,
          110.8833,
          26,
          7.8292,
          7.225,
          7.775,
          26.55,
          39.6,
          227.525,
          79.65,
          17.4,
          7.75,
          7.8958,
          13.5,
          8.05,
          8.05,
          24.15,
          7.8958,
          21.075,
          7.2292,
          7.8542,
          10.5,
          51.4792,
          26.3875,
          7.75,
          8.05,
          14.5,
          13,
          55.9,
          14.4583,
          7.925,
          30,
          110.8833,
          26,
          40.125,
          8.7125,
          79.65,
          15,
          79.2,
          8.05,
          8.05,
          7.125,
          78.2667,
          7.25,
          7.75,
          26,
          24.15,
          33,
          0,
          7.225,
          56.9292,
          27,
          7.8958,
          42.4,
          8.05,
          26.55,
          15.55,
          7.8958,
          30.5,
          41.5792,
          153.4625,
          31.275,
          7.05,
          15.5,
          7.75,
          8.05,
          65,
          14.4,
          16.1,
          39,
          10.5,
          14.4542,
          52.5542,
          15.7417,
          7.8542,
          16.1,
          32.3208,
          12.35,
          77.9583,
          7.8958,
          7.7333,
          30,
          7.0542,
          30.5,
          0,
          27.9,
          13,
          7.925,
          26.25,
          39.6875,
          16.1,
          7.8542,
          69.3,
          27.9,
          56.4958,
          19.2583,
          76.7292,
          7.8958,
          35.5,
          7.55,
          7.55,
          7.8958,
          23,
          8.4333,
          7.8292,
          6.75,
          73.5,
          7.8958,
          15.5,
          13,
          113.275,
          133.65,
          7.225,
          25.5875,
          7.4958,
          7.925,
          73.5,
          13,
          7.775,
          8.05,
          52,
          39,
          52,
          10.5,
          13,
          0,
          7.775,
          8.05,
          9.8417,
          46.9,
          512.3292,
          8.1375,
          76.7292,
          9.225,
          46.9,
          39,
          41.5792,
          39.6875,
          10.1708,
          7.7958,
          211.3375,
          57,
          13.4167,
          56.4958,
          7.225,
          26.55,
          13.5,
          8.05,
          7.7333,
          110.8833,
          7.65,
          227.525,
          26.2875,
          14.4542,
          7.7417,
          7.8542,
          26,
          13.5,
          26.2875,
          151.55,
          15.2458,
          49.5042,
          26.55,
          52,
          9.4833,
          13,
          7.65,
          227.525,
          10.5,
          15.5,
          7.775,
          33,
          7.0542,
          13,
          13,
          53.1,
          8.6625,
          21,
          7.7375,
          26,
          7.925,
          211.3375,
          18.7875,
          0,
          13,
          13,
          16.1,
          34.375,
          512.3292,
          7.8958,
          7.8958,
          30,
          78.85,
          262.375,
          16.1,
          7.925,
          71,
          20.25,
          13,
          53.1,
          7.75,
          23,
          12.475,
          9.5,
          7.8958,
          65,
          14.5,
          7.7958,
          11.5,
          8.05,
          86.5,
          14.5,
          7.125,
          7.2292,
          120,
          7.775,
          77.9583,
          39.6,
          7.75,
          24.15,
          8.3625,
          9.5,
          7.8542,
          10.5,
          7.225,
          23,
          7.75,
          7.75,
          12.475,
          7.7375,
          211.3375,
          7.2292,
          57,
          30,
          23.45,
          7.05,
          7.25,
          7.4958,
          29.125,
          20.575,
          79.2,
          7.75,
          26,
          69.55,
          30.6958,
          7.8958,
          13,
          25.9292,
          8.6833,
          7.2292,
          24.15,
          13,
          26.25,
          120,
          8.5167,
          6.975,
          7.775,
          0,
          7.775,
          13,
          53.1,
          7.8875,
          24.15,
          10.5,
          31.275,
          8.05,
          0,
          7.925,
          37.0042,
          6.45,
          27.9,
          93.5,
          8.6625,
          0,
          12.475,
          39.6875,
          6.95,
          56.4958,
          37.0042,
          7.75,
          80,
          14.4542,
          18.75,
          7.2292,
          7.8542,
          8.3,
          83.1583,
          8.6625,
          8.05,
          56.4958,
          29.7,
          7.925,
          10.5,
          31,
          6.4375,
          8.6625,
          7.55,
          69.55,
          7.8958,
          33,
          89.1042,
          31.275,
          7.775,
          15.2458,
          39.4,
          26,
          9.35,
          164.8667,
          26.55,
          19.2583,
          7.2292,
          14.1083,
          11.5,
          25.9292,
          69.55,
          13,
          13,
          13.8583,
          50.4958,
          9.5,
          11.1333,
          7.8958,
          52.5542,
          5,
          9,
          24,
          7.225,
          9.8458,
          7.8958,
          7.8958,
          83.1583,
          26,
          7.8958,
          10.5167,
          10.5,
          7.05,
          29.125,
          13,
          30,
          23.45,
          30,
          7.75
         ],
         "yaxis": "y"
        }
       ],
       "layout": {
        "legend": {
         "tracegroupgap": 0
        },
        "margin": {
         "t": 60
        },
        "template": {
         "data": {
          "bar": [
           {
            "error_x": {
             "color": "#2a3f5f"
            },
            "error_y": {
             "color": "#2a3f5f"
            },
            "marker": {
             "line": {
              "color": "white",
              "width": 0.5
             },
             "pattern": {
              "fillmode": "overlay",
              "size": 10,
              "solidity": 0.2
             }
            },
            "type": "bar"
           }
          ],
          "barpolar": [
           {
            "marker": {
             "line": {
              "color": "white",
              "width": 0.5
             },
             "pattern": {
              "fillmode": "overlay",
              "size": 10,
              "solidity": 0.2
             }
            },
            "type": "barpolar"
           }
          ],
          "carpet": [
           {
            "aaxis": {
             "endlinecolor": "#2a3f5f",
             "gridcolor": "#C8D4E3",
             "linecolor": "#C8D4E3",
             "minorgridcolor": "#C8D4E3",
             "startlinecolor": "#2a3f5f"
            },
            "baxis": {
             "endlinecolor": "#2a3f5f",
             "gridcolor": "#C8D4E3",
             "linecolor": "#C8D4E3",
             "minorgridcolor": "#C8D4E3",
             "startlinecolor": "#2a3f5f"
            },
            "type": "carpet"
           }
          ],
          "choropleth": [
           {
            "colorbar": {
             "outlinewidth": 0,
             "ticks": ""
            },
            "type": "choropleth"
           }
          ],
          "contour": [
           {
            "colorbar": {
             "outlinewidth": 0,
             "ticks": ""
            },
            "colorscale": [
             [
              0,
              "#0d0887"
             ],
             [
              0.1111111111111111,
              "#46039f"
             ],
             [
              0.2222222222222222,
              "#7201a8"
             ],
             [
              0.3333333333333333,
              "#9c179e"
             ],
             [
              0.4444444444444444,
              "#bd3786"
             ],
             [
              0.5555555555555556,
              "#d8576b"
             ],
             [
              0.6666666666666666,
              "#ed7953"
             ],
             [
              0.7777777777777778,
              "#fb9f3a"
             ],
             [
              0.8888888888888888,
              "#fdca26"
             ],
             [
              1,
              "#f0f921"
             ]
            ],
            "type": "contour"
           }
          ],
          "contourcarpet": [
           {
            "colorbar": {
             "outlinewidth": 0,
             "ticks": ""
            },
            "type": "contourcarpet"
           }
          ],
          "heatmap": [
           {
            "colorbar": {
             "outlinewidth": 0,
             "ticks": ""
            },
            "colorscale": [
             [
              0,
              "#0d0887"
             ],
             [
              0.1111111111111111,
              "#46039f"
             ],
             [
              0.2222222222222222,
              "#7201a8"
             ],
             [
              0.3333333333333333,
              "#9c179e"
             ],
             [
              0.4444444444444444,
              "#bd3786"
             ],
             [
              0.5555555555555556,
              "#d8576b"
             ],
             [
              0.6666666666666666,
              "#ed7953"
             ],
             [
              0.7777777777777778,
              "#fb9f3a"
             ],
             [
              0.8888888888888888,
              "#fdca26"
             ],
             [
              1,
              "#f0f921"
             ]
            ],
            "type": "heatmap"
           }
          ],
          "heatmapgl": [
           {
            "colorbar": {
             "outlinewidth": 0,
             "ticks": ""
            },
            "colorscale": [
             [
              0,
              "#0d0887"
             ],
             [
              0.1111111111111111,
              "#46039f"
             ],
             [
              0.2222222222222222,
              "#7201a8"
             ],
             [
              0.3333333333333333,
              "#9c179e"
             ],
             [
              0.4444444444444444,
              "#bd3786"
             ],
             [
              0.5555555555555556,
              "#d8576b"
             ],
             [
              0.6666666666666666,
              "#ed7953"
             ],
             [
              0.7777777777777778,
              "#fb9f3a"
             ],
             [
              0.8888888888888888,
              "#fdca26"
             ],
             [
              1,
              "#f0f921"
             ]
            ],
            "type": "heatmapgl"
           }
          ],
          "histogram": [
           {
            "marker": {
             "pattern": {
              "fillmode": "overlay",
              "size": 10,
              "solidity": 0.2
             }
            },
            "type": "histogram"
           }
          ],
          "histogram2d": [
           {
            "colorbar": {
             "outlinewidth": 0,
             "ticks": ""
            },
            "colorscale": [
             [
              0,
              "#0d0887"
             ],
             [
              0.1111111111111111,
              "#46039f"
             ],
             [
              0.2222222222222222,
              "#7201a8"
             ],
             [
              0.3333333333333333,
              "#9c179e"
             ],
             [
              0.4444444444444444,
              "#bd3786"
             ],
             [
              0.5555555555555556,
              "#d8576b"
             ],
             [
              0.6666666666666666,
              "#ed7953"
             ],
             [
              0.7777777777777778,
              "#fb9f3a"
             ],
             [
              0.8888888888888888,
              "#fdca26"
             ],
             [
              1,
              "#f0f921"
             ]
            ],
            "type": "histogram2d"
           }
          ],
          "histogram2dcontour": [
           {
            "colorbar": {
             "outlinewidth": 0,
             "ticks": ""
            },
            "colorscale": [
             [
              0,
              "#0d0887"
             ],
             [
              0.1111111111111111,
              "#46039f"
             ],
             [
              0.2222222222222222,
              "#7201a8"
             ],
             [
              0.3333333333333333,
              "#9c179e"
             ],
             [
              0.4444444444444444,
              "#bd3786"
             ],
             [
              0.5555555555555556,
              "#d8576b"
             ],
             [
              0.6666666666666666,
              "#ed7953"
             ],
             [
              0.7777777777777778,
              "#fb9f3a"
             ],
             [
              0.8888888888888888,
              "#fdca26"
             ],
             [
              1,
              "#f0f921"
             ]
            ],
            "type": "histogram2dcontour"
           }
          ],
          "mesh3d": [
           {
            "colorbar": {
             "outlinewidth": 0,
             "ticks": ""
            },
            "type": "mesh3d"
           }
          ],
          "parcoords": [
           {
            "line": {
             "colorbar": {
              "outlinewidth": 0,
              "ticks": ""
             }
            },
            "type": "parcoords"
           }
          ],
          "pie": [
           {
            "automargin": true,
            "type": "pie"
           }
          ],
          "scatter": [
           {
            "fillpattern": {
             "fillmode": "overlay",
             "size": 10,
             "solidity": 0.2
            },
            "type": "scatter"
           }
          ],
          "scatter3d": [
           {
            "line": {
             "colorbar": {
              "outlinewidth": 0,
              "ticks": ""
             }
            },
            "marker": {
             "colorbar": {
              "outlinewidth": 0,
              "ticks": ""
             }
            },
            "type": "scatter3d"
           }
          ],
          "scattercarpet": [
           {
            "marker": {
             "colorbar": {
              "outlinewidth": 0,
              "ticks": ""
             }
            },
            "type": "scattercarpet"
           }
          ],
          "scattergeo": [
           {
            "marker": {
             "colorbar": {
              "outlinewidth": 0,
              "ticks": ""
             }
            },
            "type": "scattergeo"
           }
          ],
          "scattergl": [
           {
            "marker": {
             "colorbar": {
              "outlinewidth": 0,
              "ticks": ""
             }
            },
            "type": "scattergl"
           }
          ],
          "scattermapbox": [
           {
            "marker": {
             "colorbar": {
              "outlinewidth": 0,
              "ticks": ""
             }
            },
            "type": "scattermapbox"
           }
          ],
          "scatterpolar": [
           {
            "marker": {
             "colorbar": {
              "outlinewidth": 0,
              "ticks": ""
             }
            },
            "type": "scatterpolar"
           }
          ],
          "scatterpolargl": [
           {
            "marker": {
             "colorbar": {
              "outlinewidth": 0,
              "ticks": ""
             }
            },
            "type": "scatterpolargl"
           }
          ],
          "scatterternary": [
           {
            "marker": {
             "colorbar": {
              "outlinewidth": 0,
              "ticks": ""
             }
            },
            "type": "scatterternary"
           }
          ],
          "surface": [
           {
            "colorbar": {
             "outlinewidth": 0,
             "ticks": ""
            },
            "colorscale": [
             [
              0,
              "#0d0887"
             ],
             [
              0.1111111111111111,
              "#46039f"
             ],
             [
              0.2222222222222222,
              "#7201a8"
             ],
             [
              0.3333333333333333,
              "#9c179e"
             ],
             [
              0.4444444444444444,
              "#bd3786"
             ],
             [
              0.5555555555555556,
              "#d8576b"
             ],
             [
              0.6666666666666666,
              "#ed7953"
             ],
             [
              0.7777777777777778,
              "#fb9f3a"
             ],
             [
              0.8888888888888888,
              "#fdca26"
             ],
             [
              1,
              "#f0f921"
             ]
            ],
            "type": "surface"
           }
          ],
          "table": [
           {
            "cells": {
             "fill": {
              "color": "#EBF0F8"
             },
             "line": {
              "color": "white"
             }
            },
            "header": {
             "fill": {
              "color": "#C8D4E3"
             },
             "line": {
              "color": "white"
             }
            },
            "type": "table"
           }
          ]
         },
         "layout": {
          "annotationdefaults": {
           "arrowcolor": "#2a3f5f",
           "arrowhead": 0,
           "arrowwidth": 1
          },
          "autotypenumbers": "strict",
          "coloraxis": {
           "colorbar": {
            "outlinewidth": 0,
            "ticks": ""
           }
          },
          "colorscale": {
           "diverging": [
            [
             0,
             "#8e0152"
            ],
            [
             0.1,
             "#c51b7d"
            ],
            [
             0.2,
             "#de77ae"
            ],
            [
             0.3,
             "#f1b6da"
            ],
            [
             0.4,
             "#fde0ef"
            ],
            [
             0.5,
             "#f7f7f7"
            ],
            [
             0.6,
             "#e6f5d0"
            ],
            [
             0.7,
             "#b8e186"
            ],
            [
             0.8,
             "#7fbc41"
            ],
            [
             0.9,
             "#4d9221"
            ],
            [
             1,
             "#276419"
            ]
           ],
           "sequential": [
            [
             0,
             "#0d0887"
            ],
            [
             0.1111111111111111,
             "#46039f"
            ],
            [
             0.2222222222222222,
             "#7201a8"
            ],
            [
             0.3333333333333333,
             "#9c179e"
            ],
            [
             0.4444444444444444,
             "#bd3786"
            ],
            [
             0.5555555555555556,
             "#d8576b"
            ],
            [
             0.6666666666666666,
             "#ed7953"
            ],
            [
             0.7777777777777778,
             "#fb9f3a"
            ],
            [
             0.8888888888888888,
             "#fdca26"
            ],
            [
             1,
             "#f0f921"
            ]
           ],
           "sequentialminus": [
            [
             0,
             "#0d0887"
            ],
            [
             0.1111111111111111,
             "#46039f"
            ],
            [
             0.2222222222222222,
             "#7201a8"
            ],
            [
             0.3333333333333333,
             "#9c179e"
            ],
            [
             0.4444444444444444,
             "#bd3786"
            ],
            [
             0.5555555555555556,
             "#d8576b"
            ],
            [
             0.6666666666666666,
             "#ed7953"
            ],
            [
             0.7777777777777778,
             "#fb9f3a"
            ],
            [
             0.8888888888888888,
             "#fdca26"
            ],
            [
             1,
             "#f0f921"
            ]
           ]
          },
          "colorway": [
           "#636efa",
           "#EF553B",
           "#00cc96",
           "#ab63fa",
           "#FFA15A",
           "#19d3f3",
           "#FF6692",
           "#B6E880",
           "#FF97FF",
           "#FECB52"
          ],
          "font": {
           "color": "#2a3f5f"
          },
          "geo": {
           "bgcolor": "white",
           "lakecolor": "white",
           "landcolor": "white",
           "showlakes": true,
           "showland": true,
           "subunitcolor": "#C8D4E3"
          },
          "hoverlabel": {
           "align": "left"
          },
          "hovermode": "closest",
          "mapbox": {
           "style": "light"
          },
          "paper_bgcolor": "white",
          "plot_bgcolor": "white",
          "polar": {
           "angularaxis": {
            "gridcolor": "#EBF0F8",
            "linecolor": "#EBF0F8",
            "ticks": ""
           },
           "bgcolor": "white",
           "radialaxis": {
            "gridcolor": "#EBF0F8",
            "linecolor": "#EBF0F8",
            "ticks": ""
           }
          },
          "scene": {
           "xaxis": {
            "backgroundcolor": "white",
            "gridcolor": "#DFE8F3",
            "gridwidth": 2,
            "linecolor": "#EBF0F8",
            "showbackground": true,
            "ticks": "",
            "zerolinecolor": "#EBF0F8"
           },
           "yaxis": {
            "backgroundcolor": "white",
            "gridcolor": "#DFE8F3",
            "gridwidth": 2,
            "linecolor": "#EBF0F8",
            "showbackground": true,
            "ticks": "",
            "zerolinecolor": "#EBF0F8"
           },
           "zaxis": {
            "backgroundcolor": "white",
            "gridcolor": "#DFE8F3",
            "gridwidth": 2,
            "linecolor": "#EBF0F8",
            "showbackground": true,
            "ticks": "",
            "zerolinecolor": "#EBF0F8"
           }
          },
          "shapedefaults": {
           "line": {
            "color": "#2a3f5f"
           }
          },
          "ternary": {
           "aaxis": {
            "gridcolor": "#DFE8F3",
            "linecolor": "#A2B1C6",
            "ticks": ""
           },
           "baxis": {
            "gridcolor": "#DFE8F3",
            "linecolor": "#A2B1C6",
            "ticks": ""
           },
           "bgcolor": "white",
           "caxis": {
            "gridcolor": "#DFE8F3",
            "linecolor": "#A2B1C6",
            "ticks": ""
           }
          },
          "title": {
           "x": 0.05
          },
          "xaxis": {
           "automargin": true,
           "gridcolor": "#EBF0F8",
           "linecolor": "#EBF0F8",
           "ticks": "",
           "title": {
            "standoff": 15
           },
           "zerolinecolor": "#EBF0F8",
           "zerolinewidth": 2
          },
          "yaxis": {
           "automargin": true,
           "gridcolor": "#EBF0F8",
           "linecolor": "#EBF0F8",
           "ticks": "",
           "title": {
            "standoff": 15
           },
           "zerolinecolor": "#EBF0F8",
           "zerolinewidth": 2
          }
         }
        },
        "xaxis": {
         "anchor": "y",
         "domain": [
          0,
          1
         ],
         "title": {
          "text": "Age"
         }
        },
        "yaxis": {
         "anchor": "x",
         "domain": [
          0,
          1
         ],
         "title": {
          "text": "Fare"
         },
         "type": "log"
        }
       }
      }
     },
     "metadata": {},
     "output_type": "display_data"
    }
   ],
   "source": [
    "fig = px.scatter(data_frame=df,\n",
    "                 x='Age',\n",
    "                 y='Fare',\n",
    "                 hover_data=['Name', 'Sex'],\n",
    "                 template='plotly_white',\n",
    "                 color_discrete_sequence=['#3182bd'],\n",
    "                 log_y=True)\n",
    "fig.show()"
   ]
  },
  {
   "cell_type": "markdown",
   "id": "a3a70154-a985-4850-b54e-0f5495f33de4",
   "metadata": {},
   "source": [
    "## Bar Charts\n",
    "\n",
    "We can create some [interesting bar chart variations](https://plot.ly/python/bar-charts/):"
   ]
  },
  {
   "cell_type": "code",
   "execution_count": 6,
   "id": "355a8a54-6e9d-4ffc-9960-251bb7d04938",
   "metadata": {
    "tags": []
   },
   "outputs": [
    {
     "data": {
      "application/vnd.plotly.v1+json": {
       "config": {
        "plotlyServerURL": "https://plot.ly"
       },
       "data": [
        {
         "alignmentgroup": "True",
         "customdata": [
          [
           "Braund, Mr. Owen Harris"
          ],
          [
           "Cumings, Mrs. John Bradley (Florence Briggs Thayer)"
          ],
          [
           "Heikkinen, Miss. Laina"
          ],
          [
           "Futrelle, Mrs. Jacques Heath (Lily May Peel)"
          ],
          [
           "Allen, Mr. William Henry"
          ],
          [
           "Moran, Mr. James"
          ],
          [
           "McCarthy, Mr. Timothy J"
          ],
          [
           "Palsson, Master. Gosta Leonard"
          ],
          [
           "Johnson, Mrs. Oscar W (Elisabeth Vilhelmina Berg)"
          ],
          [
           "Nasser, Mrs. Nicholas (Adele Achem)"
          ],
          [
           "Sandstrom, Miss. Marguerite Rut"
          ],
          [
           "Bonnell, Miss. Elizabeth"
          ],
          [
           "Saundercock, Mr. William Henry"
          ],
          [
           "Andersson, Mr. Anders Johan"
          ],
          [
           "Vestrom, Miss. Hulda Amanda Adolfina"
          ],
          [
           "Hewlett, Mrs. (Mary D Kingcome) "
          ],
          [
           "Rice, Master. Eugene"
          ],
          [
           "Williams, Mr. Charles Eugene"
          ],
          [
           "Vander Planke, Mrs. Julius (Emelia Maria Vandemoortele)"
          ],
          [
           "Masselmani, Mrs. Fatima"
          ],
          [
           "Fynney, Mr. Joseph J"
          ],
          [
           "Beesley, Mr. Lawrence"
          ],
          [
           "McGowan, Miss. Anna \"Annie\""
          ],
          [
           "Sloper, Mr. William Thompson"
          ],
          [
           "Palsson, Miss. Torborg Danira"
          ],
          [
           "Asplund, Mrs. Carl Oscar (Selma Augusta Emilia Johansson)"
          ],
          [
           "Emir, Mr. Farred Chehab"
          ],
          [
           "Fortune, Mr. Charles Alexander"
          ],
          [
           "O'Dwyer, Miss. Ellen \"Nellie\""
          ],
          [
           "Todoroff, Mr. Lalio"
          ],
          [
           "Uruchurtu, Don. Manuel E"
          ],
          [
           "Spencer, Mrs. William Augustus (Marie Eugenie)"
          ],
          [
           "Glynn, Miss. Mary Agatha"
          ],
          [
           "Wheadon, Mr. Edward H"
          ],
          [
           "Meyer, Mr. Edgar Joseph"
          ],
          [
           "Holverson, Mr. Alexander Oskar"
          ],
          [
           "Mamee, Mr. Hanna"
          ],
          [
           "Cann, Mr. Ernest Charles"
          ],
          [
           "Vander Planke, Miss. Augusta Maria"
          ],
          [
           "Nicola-Yarred, Miss. Jamila"
          ],
          [
           "Ahlin, Mrs. Johan (Johanna Persdotter Larsson)"
          ],
          [
           "Turpin, Mrs. William John Robert (Dorothy Ann Wonnacott)"
          ],
          [
           "Kraeff, Mr. Theodor"
          ],
          [
           "Laroche, Miss. Simonne Marie Anne Andree"
          ],
          [
           "Devaney, Miss. Margaret Delia"
          ],
          [
           "Rogers, Mr. William John"
          ],
          [
           "Lennon, Mr. Denis"
          ],
          [
           "O'Driscoll, Miss. Bridget"
          ],
          [
           "Samaan, Mr. Youssef"
          ],
          [
           "Arnold-Franchi, Mrs. Josef (Josefine Franchi)"
          ],
          [
           "Panula, Master. Juha Niilo"
          ],
          [
           "Nosworthy, Mr. Richard Cater"
          ],
          [
           "Harper, Mrs. Henry Sleeper (Myna Haxtun)"
          ],
          [
           "Faunthorpe, Mrs. Lizzie (Elizabeth Anne Wilkinson)"
          ],
          [
           "Ostby, Mr. Engelhart Cornelius"
          ],
          [
           "Woolner, Mr. Hugh"
          ],
          [
           "Rugg, Miss. Emily"
          ],
          [
           "Novel, Mr. Mansouer"
          ],
          [
           "West, Miss. Constance Mirium"
          ],
          [
           "Goodwin, Master. William Frederick"
          ],
          [
           "Sirayanian, Mr. Orsen"
          ],
          [
           "Icard, Miss. Amelie"
          ],
          [
           "Harris, Mr. Henry Birkhardt"
          ],
          [
           "Skoog, Master. Harald"
          ],
          [
           "Stewart, Mr. Albert A"
          ],
          [
           "Moubarek, Master. Gerios"
          ],
          [
           "Nye, Mrs. (Elizabeth Ramell)"
          ],
          [
           "Crease, Mr. Ernest James"
          ],
          [
           "Andersson, Miss. Erna Alexandra"
          ],
          [
           "Kink, Mr. Vincenz"
          ],
          [
           "Jenkin, Mr. Stephen Curnow"
          ],
          [
           "Goodwin, Miss. Lillian Amy"
          ],
          [
           "Hood, Mr. Ambrose Jr"
          ],
          [
           "Chronopoulos, Mr. Apostolos"
          ],
          [
           "Bing, Mr. Lee"
          ],
          [
           "Moen, Mr. Sigurd Hansen"
          ],
          [
           "Staneff, Mr. Ivan"
          ],
          [
           "Moutal, Mr. Rahamin Haim"
          ],
          [
           "Caldwell, Master. Alden Gates"
          ],
          [
           "Dowdell, Miss. Elizabeth"
          ],
          [
           "Waelens, Mr. Achille"
          ],
          [
           "Sheerlinck, Mr. Jan Baptist"
          ],
          [
           "McDermott, Miss. Brigdet Delia"
          ],
          [
           "Carrau, Mr. Francisco M"
          ],
          [
           "Ilett, Miss. Bertha"
          ],
          [
           "Backstrom, Mrs. Karl Alfred (Maria Mathilda Gustafsson)"
          ],
          [
           "Ford, Mr. William Neal"
          ],
          [
           "Slocovski, Mr. Selman Francis"
          ],
          [
           "Fortune, Miss. Mabel Helen"
          ],
          [
           "Celotti, Mr. Francesco"
          ],
          [
           "Christmann, Mr. Emil"
          ],
          [
           "Andreasson, Mr. Paul Edvin"
          ],
          [
           "Chaffee, Mr. Herbert Fuller"
          ],
          [
           "Dean, Mr. Bertram Frank"
          ],
          [
           "Coxon, Mr. Daniel"
          ],
          [
           "Shorney, Mr. Charles Joseph"
          ],
          [
           "Goldschmidt, Mr. George B"
          ],
          [
           "Greenfield, Mr. William Bertram"
          ],
          [
           "Doling, Mrs. John T (Ada Julia Bone)"
          ],
          [
           "Kantor, Mr. Sinai"
          ],
          [
           "Petranec, Miss. Matilda"
          ],
          [
           "Petroff, Mr. Pastcho (\"Pentcho\")"
          ],
          [
           "White, Mr. Richard Frasar"
          ],
          [
           "Johansson, Mr. Gustaf Joel"
          ],
          [
           "Gustafsson, Mr. Anders Vilhelm"
          ],
          [
           "Mionoff, Mr. Stoytcho"
          ],
          [
           "Salkjelsvik, Miss. Anna Kristine"
          ],
          [
           "Moss, Mr. Albert Johan"
          ],
          [
           "Rekic, Mr. Tido"
          ],
          [
           "Moran, Miss. Bertha"
          ],
          [
           "Porter, Mr. Walter Chamberlain"
          ],
          [
           "Zabour, Miss. Hileni"
          ],
          [
           "Barton, Mr. David John"
          ],
          [
           "Jussila, Miss. Katriina"
          ],
          [
           "Attalah, Miss. Malake"
          ],
          [
           "Pekoniemi, Mr. Edvard"
          ],
          [
           "Connors, Mr. Patrick"
          ],
          [
           "Turpin, Mr. William John Robert"
          ],
          [
           "Baxter, Mr. Quigg Edmond"
          ],
          [
           "Andersson, Miss. Ellis Anna Maria"
          ],
          [
           "Hickman, Mr. Stanley George"
          ],
          [
           "Moore, Mr. Leonard Charles"
          ],
          [
           "Nasser, Mr. Nicholas"
          ],
          [
           "Webber, Miss. Susan"
          ],
          [
           "White, Mr. Percival Wayland"
          ],
          [
           "Nicola-Yarred, Master. Elias"
          ],
          [
           "McMahon, Mr. Martin"
          ],
          [
           "Madsen, Mr. Fridtjof Arne"
          ],
          [
           "Peter, Miss. Anna"
          ],
          [
           "Ekstrom, Mr. Johan"
          ],
          [
           "Drazenoic, Mr. Jozef"
          ],
          [
           "Coelho, Mr. Domingos Fernandeo"
          ],
          [
           "Robins, Mrs. Alexander A (Grace Charity Laury)"
          ],
          [
           "Weisz, Mrs. Leopold (Mathilde Francoise Pede)"
          ],
          [
           "Sobey, Mr. Samuel James Hayden"
          ],
          [
           "Richard, Mr. Emile"
          ],
          [
           "Newsom, Miss. Helen Monypeny"
          ],
          [
           "Futrelle, Mr. Jacques Heath"
          ],
          [
           "Osen, Mr. Olaf Elon"
          ],
          [
           "Giglio, Mr. Victor"
          ],
          [
           "Boulos, Mrs. Joseph (Sultana)"
          ],
          [
           "Nysten, Miss. Anna Sofia"
          ],
          [
           "Hakkarainen, Mrs. Pekka Pietari (Elin Matilda Dolck)"
          ],
          [
           "Burke, Mr. Jeremiah"
          ],
          [
           "Andrew, Mr. Edgardo Samuel"
          ],
          [
           "Nicholls, Mr. Joseph Charles"
          ],
          [
           "Andersson, Mr. August Edvard (\"Wennerstrom\")"
          ],
          [
           "Ford, Miss. Robina Maggie \"Ruby\""
          ],
          [
           "Navratil, Mr. Michel (\"Louis M Hoffman\")"
          ],
          [
           "Byles, Rev. Thomas Roussel Davids"
          ],
          [
           "Bateman, Rev. Robert James"
          ],
          [
           "Pears, Mrs. Thomas (Edith Wearne)"
          ],
          [
           "Meo, Mr. Alfonzo"
          ],
          [
           "van Billiard, Mr. Austin Blyler"
          ],
          [
           "Olsen, Mr. Ole Martin"
          ],
          [
           "Williams, Mr. Charles Duane"
          ],
          [
           "Gilnagh, Miss. Katherine \"Katie\""
          ],
          [
           "Corn, Mr. Harry"
          ],
          [
           "Smiljanic, Mr. Mile"
          ],
          [
           "Sage, Master. Thomas Henry"
          ],
          [
           "Cribb, Mr. John Hatfield"
          ],
          [
           "Watt, Mrs. James (Elizabeth \"Bessie\" Inglis Milne)"
          ],
          [
           "Bengtsson, Mr. John Viktor"
          ],
          [
           "Calic, Mr. Jovo"
          ],
          [
           "Panula, Master. Eino Viljami"
          ],
          [
           "Goldsmith, Master. Frank John William \"Frankie\""
          ],
          [
           "Chibnall, Mrs. (Edith Martha Bowerman)"
          ],
          [
           "Skoog, Mrs. William (Anna Bernhardina Karlsson)"
          ],
          [
           "Baumann, Mr. John D"
          ],
          [
           "Ling, Mr. Lee"
          ],
          [
           "Van der hoef, Mr. Wyckoff"
          ],
          [
           "Rice, Master. Arthur"
          ],
          [
           "Johnson, Miss. Eleanor Ileen"
          ],
          [
           "Sivola, Mr. Antti Wilhelm"
          ],
          [
           "Smith, Mr. James Clinch"
          ],
          [
           "Klasen, Mr. Klas Albin"
          ],
          [
           "Lefebre, Master. Henry Forbes"
          ],
          [
           "Isham, Miss. Ann Elizabeth"
          ],
          [
           "Hale, Mr. Reginald"
          ],
          [
           "Leonard, Mr. Lionel"
          ],
          [
           "Sage, Miss. Constance Gladys"
          ],
          [
           "Pernot, Mr. Rene"
          ],
          [
           "Asplund, Master. Clarence Gustaf Hugo"
          ],
          [
           "Becker, Master. Richard F"
          ],
          [
           "Kink-Heilmann, Miss. Luise Gretchen"
          ],
          [
           "Rood, Mr. Hugh Roscoe"
          ],
          [
           "O'Brien, Mrs. Thomas (Johanna \"Hannah\" Godfrey)"
          ],
          [
           "Romaine, Mr. Charles Hallace (\"Mr C Rolmane\")"
          ],
          [
           "Bourke, Mr. John"
          ],
          [
           "Turcin, Mr. Stjepan"
          ],
          [
           "Pinsky, Mrs. (Rosa)"
          ],
          [
           "Carbines, Mr. William"
          ],
          [
           "Andersen-Jensen, Miss. Carla Christine Nielsine"
          ],
          [
           "Navratil, Master. Michel M"
          ],
          [
           "Brown, Mrs. James Joseph (Margaret Tobin)"
          ],
          [
           "Lurette, Miss. Elise"
          ],
          [
           "Mernagh, Mr. Robert"
          ],
          [
           "Olsen, Mr. Karl Siegwart Andreas"
          ],
          [
           "Madigan, Miss. Margaret \"Maggie\""
          ],
          [
           "Yrois, Miss. Henriette (\"Mrs Harbeck\")"
          ],
          [
           "Vande Walle, Mr. Nestor Cyriel"
          ],
          [
           "Sage, Mr. Frederick"
          ],
          [
           "Johanson, Mr. Jakob Alfred"
          ],
          [
           "Youseff, Mr. Gerious"
          ],
          [
           "Cohen, Mr. Gurshon \"Gus\""
          ],
          [
           "Strom, Miss. Telma Matilda"
          ],
          [
           "Backstrom, Mr. Karl Alfred"
          ],
          [
           "Albimona, Mr. Nassef Cassem"
          ],
          [
           "Carr, Miss. Helen \"Ellen\""
          ],
          [
           "Blank, Mr. Henry"
          ],
          [
           "Ali, Mr. Ahmed"
          ],
          [
           "Cameron, Miss. Clear Annie"
          ],
          [
           "Perkin, Mr. John Henry"
          ],
          [
           "Givard, Mr. Hans Kristensen"
          ],
          [
           "Kiernan, Mr. Philip"
          ],
          [
           "Newell, Miss. Madeleine"
          ],
          [
           "Honkanen, Miss. Eliina"
          ],
          [
           "Jacobsohn, Mr. Sidney Samuel"
          ],
          [
           "Bazzani, Miss. Albina"
          ],
          [
           "Harris, Mr. Walter"
          ],
          [
           "Sunderland, Mr. Victor Francis"
          ],
          [
           "Bracken, Mr. James H"
          ],
          [
           "Green, Mr. George Henry"
          ],
          [
           "Nenkoff, Mr. Christo"
          ],
          [
           "Hoyt, Mr. Frederick Maxfield"
          ],
          [
           "Berglund, Mr. Karl Ivar Sven"
          ],
          [
           "Mellors, Mr. William John"
          ],
          [
           "Lovell, Mr. John Hall (\"Henry\")"
          ],
          [
           "Fahlstrom, Mr. Arne Jonas"
          ],
          [
           "Lefebre, Miss. Mathilde"
          ],
          [
           "Harris, Mrs. Henry Birkhardt (Irene Wallach)"
          ],
          [
           "Larsson, Mr. Bengt Edvin"
          ],
          [
           "Sjostedt, Mr. Ernst Adolf"
          ],
          [
           "Asplund, Miss. Lillian Gertrud"
          ],
          [
           "Leyson, Mr. Robert William Norman"
          ],
          [
           "Harknett, Miss. Alice Phoebe"
          ],
          [
           "Hold, Mr. Stephen"
          ],
          [
           "Collyer, Miss. Marjorie \"Lottie\""
          ],
          [
           "Pengelly, Mr. Frederick William"
          ],
          [
           "Hunt, Mr. George Henry"
          ],
          [
           "Zabour, Miss. Thamine"
          ],
          [
           "Murphy, Miss. Katherine \"Kate\""
          ],
          [
           "Coleridge, Mr. Reginald Charles"
          ],
          [
           "Maenpaa, Mr. Matti Alexanteri"
          ],
          [
           "Attalah, Mr. Sleiman"
          ],
          [
           "Minahan, Dr. William Edward"
          ],
          [
           "Lindahl, Miss. Agda Thorilda Viktoria"
          ],
          [
           "Hamalainen, Mrs. William (Anna)"
          ],
          [
           "Beckwith, Mr. Richard Leonard"
          ],
          [
           "Carter, Rev. Ernest Courtenay"
          ],
          [
           "Reed, Mr. James George"
          ],
          [
           "Strom, Mrs. Wilhelm (Elna Matilda Persson)"
          ],
          [
           "Stead, Mr. William Thomas"
          ],
          [
           "Lobb, Mr. William Arthur"
          ],
          [
           "Rosblom, Mrs. Viktor (Helena Wilhelmina)"
          ],
          [
           "Touma, Mrs. Darwis (Hanne Youssef Razi)"
          ],
          [
           "Thorne, Mrs. Gertrude Maybelle"
          ],
          [
           "Cherry, Miss. Gladys"
          ],
          [
           "Ward, Miss. Anna"
          ],
          [
           "Parrish, Mrs. (Lutie Davis)"
          ],
          [
           "Smith, Mr. Thomas"
          ],
          [
           "Asplund, Master. Edvin Rojj Felix"
          ],
          [
           "Taussig, Mr. Emil"
          ],
          [
           "Harrison, Mr. William"
          ],
          [
           "Henry, Miss. Delia"
          ],
          [
           "Reeves, Mr. David"
          ],
          [
           "Panula, Mr. Ernesti Arvid"
          ],
          [
           "Persson, Mr. Ernst Ulrik"
          ],
          [
           "Graham, Mrs. William Thompson (Edith Junkins)"
          ],
          [
           "Bissette, Miss. Amelia"
          ],
          [
           "Cairns, Mr. Alexander"
          ],
          [
           "Tornquist, Mr. William Henry"
          ],
          [
           "Mellinger, Mrs. (Elizabeth Anne Maidment)"
          ],
          [
           "Natsch, Mr. Charles H"
          ],
          [
           "Healy, Miss. Hanora \"Nora\""
          ],
          [
           "Andrews, Miss. Kornelia Theodosia"
          ],
          [
           "Lindblom, Miss. Augusta Charlotta"
          ],
          [
           "Parkes, Mr. Francis \"Frank\""
          ],
          [
           "Rice, Master. Eric"
          ],
          [
           "Abbott, Mrs. Stanton (Rosa Hunt)"
          ],
          [
           "Duane, Mr. Frank"
          ],
          [
           "Olsson, Mr. Nils Johan Goransson"
          ],
          [
           "de Pelsmaeker, Mr. Alfons"
          ],
          [
           "Dorking, Mr. Edward Arthur"
          ],
          [
           "Smith, Mr. Richard William"
          ],
          [
           "Stankovic, Mr. Ivan"
          ],
          [
           "de Mulder, Mr. Theodore"
          ],
          [
           "Naidenoff, Mr. Penko"
          ],
          [
           "Hosono, Mr. Masabumi"
          ],
          [
           "Connolly, Miss. Kate"
          ],
          [
           "Barber, Miss. Ellen \"Nellie\""
          ],
          [
           "Bishop, Mrs. Dickinson H (Helen Walton)"
          ],
          [
           "Levy, Mr. Rene Jacques"
          ],
          [
           "Haas, Miss. Aloisia"
          ],
          [
           "Mineff, Mr. Ivan"
          ],
          [
           "Lewy, Mr. Ervin G"
          ],
          [
           "Hanna, Mr. Mansour"
          ],
          [
           "Allison, Miss. Helen Loraine"
          ],
          [
           "Saalfeld, Mr. Adolphe"
          ],
          [
           "Baxter, Mrs. James (Helene DeLaudeniere Chaput)"
          ],
          [
           "Kelly, Miss. Anna Katherine \"Annie Kate\""
          ],
          [
           "McCoy, Mr. Bernard"
          ],
          [
           "Johnson, Mr. William Cahoone Jr"
          ],
          [
           "Keane, Miss. Nora A"
          ],
          [
           "Williams, Mr. Howard Hugh \"Harry\""
          ],
          [
           "Allison, Master. Hudson Trevor"
          ],
          [
           "Fleming, Miss. Margaret"
          ],
          [
           "Penasco y Castellana, Mrs. Victor de Satode (Maria Josefa Perez de Soto y Vallejo)"
          ],
          [
           "Abelson, Mr. Samuel"
          ],
          [
           "Francatelli, Miss. Laura Mabel"
          ],
          [
           "Hays, Miss. Margaret Bechstein"
          ],
          [
           "Ryerson, Miss. Emily Borie"
          ],
          [
           "Lahtinen, Mrs. William (Anna Sylfven)"
          ],
          [
           "Hendekovic, Mr. Ignjac"
          ],
          [
           "Hart, Mr. Benjamin"
          ],
          [
           "Nilsson, Miss. Helmina Josefina"
          ],
          [
           "Kantor, Mrs. Sinai (Miriam Sternin)"
          ],
          [
           "Moraweck, Dr. Ernest"
          ],
          [
           "Wick, Miss. Mary Natalie"
          ],
          [
           "Spedden, Mrs. Frederic Oakley (Margaretta Corning Stone)"
          ],
          [
           "Dennis, Mr. Samuel"
          ],
          [
           "Danoff, Mr. Yoto"
          ],
          [
           "Slayter, Miss. Hilda Mary"
          ],
          [
           "Caldwell, Mrs. Albert Francis (Sylvia Mae Harbaugh)"
          ],
          [
           "Sage, Mr. George John Jr"
          ],
          [
           "Young, Miss. Marie Grice"
          ],
          [
           "Nysveen, Mr. Johan Hansen"
          ],
          [
           "Ball, Mrs. (Ada E Hall)"
          ],
          [
           "Goldsmith, Mrs. Frank John (Emily Alice Brown)"
          ],
          [
           "Hippach, Miss. Jean Gertrude"
          ],
          [
           "McCoy, Miss. Agnes"
          ],
          [
           "Partner, Mr. Austen"
          ],
          [
           "Graham, Mr. George Edward"
          ],
          [
           "Vander Planke, Mr. Leo Edmondus"
          ],
          [
           "Frauenthal, Mrs. Henry William (Clara Heinsheimer)"
          ],
          [
           "Denkoff, Mr. Mitto"
          ],
          [
           "Pears, Mr. Thomas Clinton"
          ],
          [
           "Burns, Miss. Elizabeth Margaret"
          ],
          [
           "Dahl, Mr. Karl Edwart"
          ],
          [
           "Blackwell, Mr. Stephen Weart"
          ],
          [
           "Navratil, Master. Edmond Roger"
          ],
          [
           "Fortune, Miss. Alice Elizabeth"
          ],
          [
           "Collander, Mr. Erik Gustaf"
          ],
          [
           "Sedgwick, Mr. Charles Frederick Waddington"
          ],
          [
           "Fox, Mr. Stanley Hubert"
          ],
          [
           "Brown, Miss. Amelia \"Mildred\""
          ],
          [
           "Smith, Miss. Marion Elsie"
          ],
          [
           "Davison, Mrs. Thomas Henry (Mary E Finck)"
          ],
          [
           "Coutts, Master. William Loch \"William\""
          ],
          [
           "Dimic, Mr. Jovan"
          ],
          [
           "Odahl, Mr. Nils Martin"
          ],
          [
           "Williams-Lambert, Mr. Fletcher Fellows"
          ],
          [
           "Elias, Mr. Tannous"
          ],
          [
           "Arnold-Franchi, Mr. Josef"
          ],
          [
           "Yousif, Mr. Wazli"
          ],
          [
           "Vanden Steen, Mr. Leo Peter"
          ],
          [
           "Bowerman, Miss. Elsie Edith"
          ],
          [
           "Funk, Miss. Annie Clemmer"
          ],
          [
           "McGovern, Miss. Mary"
          ],
          [
           "Mockler, Miss. Helen Mary \"Ellie\""
          ],
          [
           "Skoog, Mr. Wilhelm"
          ],
          [
           "del Carlo, Mr. Sebastiano"
          ],
          [
           "Barbara, Mrs. (Catherine David)"
          ],
          [
           "Asim, Mr. Adola"
          ],
          [
           "O'Brien, Mr. Thomas"
          ],
          [
           "Adahl, Mr. Mauritz Nils Martin"
          ],
          [
           "Warren, Mrs. Frank Manley (Anna Sophia Atkinson)"
          ],
          [
           "Moussa, Mrs. (Mantoura Boulos)"
          ],
          [
           "Jermyn, Miss. Annie"
          ],
          [
           "Aubart, Mme. Leontine Pauline"
          ],
          [
           "Harder, Mr. George Achilles"
          ],
          [
           "Wiklund, Mr. Jakob Alfred"
          ],
          [
           "Beavan, Mr. William Thomas"
          ],
          [
           "Ringhini, Mr. Sante"
          ],
          [
           "Palsson, Miss. Stina Viola"
          ],
          [
           "Meyer, Mrs. Edgar Joseph (Leila Saks)"
          ],
          [
           "Landergren, Miss. Aurora Adelia"
          ],
          [
           "Widener, Mr. Harry Elkins"
          ],
          [
           "Betros, Mr. Tannous"
          ],
          [
           "Gustafsson, Mr. Karl Gideon"
          ],
          [
           "Bidois, Miss. Rosalie"
          ],
          [
           "Nakid, Miss. Maria (\"Mary\")"
          ],
          [
           "Tikkanen, Mr. Juho"
          ],
          [
           "Holverson, Mrs. Alexander Oskar (Mary Aline Towner)"
          ],
          [
           "Plotcharsky, Mr. Vasil"
          ],
          [
           "Davies, Mr. Charles Henry"
          ],
          [
           "Goodwin, Master. Sidney Leonard"
          ],
          [
           "Buss, Miss. Kate"
          ],
          [
           "Sadlier, Mr. Matthew"
          ],
          [
           "Lehmann, Miss. Bertha"
          ],
          [
           "Carter, Mr. William Ernest"
          ],
          [
           "Jansson, Mr. Carl Olof"
          ],
          [
           "Gustafsson, Mr. Johan Birger"
          ],
          [
           "Newell, Miss. Marjorie"
          ],
          [
           "Sandstrom, Mrs. Hjalmar (Agnes Charlotta Bengtsson)"
          ],
          [
           "Johansson, Mr. Erik"
          ],
          [
           "Olsson, Miss. Elina"
          ],
          [
           "McKane, Mr. Peter David"
          ],
          [
           "Pain, Dr. Alfred"
          ],
          [
           "Trout, Mrs. William H (Jessie L)"
          ],
          [
           "Niskanen, Mr. Juha"
          ],
          [
           "Adams, Mr. John"
          ],
          [
           "Jussila, Miss. Mari Aina"
          ],
          [
           "Hakkarainen, Mr. Pekka Pietari"
          ],
          [
           "Oreskovic, Miss. Marija"
          ],
          [
           "Gale, Mr. Shadrach"
          ],
          [
           "Widegren, Mr. Carl/Charles Peter"
          ],
          [
           "Richards, Master. William Rowe"
          ],
          [
           "Birkeland, Mr. Hans Martin Monsen"
          ],
          [
           "Lefebre, Miss. Ida"
          ],
          [
           "Sdycoff, Mr. Todor"
          ],
          [
           "Hart, Mr. Henry"
          ],
          [
           "Minahan, Miss. Daisy E"
          ],
          [
           "Cunningham, Mr. Alfred Fleming"
          ],
          [
           "Sundman, Mr. Johan Julian"
          ],
          [
           "Meek, Mrs. Thomas (Annie Louise Rowley)"
          ],
          [
           "Drew, Mrs. James Vivian (Lulu Thorne Christian)"
          ],
          [
           "Silven, Miss. Lyyli Karoliina"
          ],
          [
           "Matthews, Mr. William John"
          ],
          [
           "Van Impe, Miss. Catharina"
          ],
          [
           "Gheorgheff, Mr. Stanio"
          ],
          [
           "Charters, Mr. David"
          ],
          [
           "Zimmerman, Mr. Leo"
          ],
          [
           "Danbom, Mrs. Ernst Gilbert (Anna Sigrid Maria Brogren)"
          ],
          [
           "Rosblom, Mr. Viktor Richard"
          ],
          [
           "Wiseman, Mr. Phillippe"
          ],
          [
           "Clarke, Mrs. Charles V (Ada Maria Winfield)"
          ],
          [
           "Phillips, Miss. Kate Florence (\"Mrs Kate Louise Phillips Marshall\")"
          ],
          [
           "Flynn, Mr. James"
          ],
          [
           "Pickard, Mr. Berk (Berk Trembisky)"
          ],
          [
           "Bjornstrom-Steffansson, Mr. Mauritz Hakan"
          ],
          [
           "Thorneycroft, Mrs. Percival (Florence Kate White)"
          ],
          [
           "Louch, Mrs. Charles Alexander (Alice Adelaide Slow)"
          ],
          [
           "Kallio, Mr. Nikolai Erland"
          ],
          [
           "Silvey, Mr. William Baird"
          ],
          [
           "Carter, Miss. Lucile Polk"
          ],
          [
           "Ford, Miss. Doolina Margaret \"Daisy\""
          ],
          [
           "Richards, Mrs. Sidney (Emily Hocking)"
          ],
          [
           "Fortune, Mr. Mark"
          ],
          [
           "Kvillner, Mr. Johan Henrik Johannesson"
          ],
          [
           "Hart, Mrs. Benjamin (Esther Ada Bloomfield)"
          ],
          [
           "Hampe, Mr. Leon"
          ],
          [
           "Petterson, Mr. Johan Emil"
          ],
          [
           "Reynaldo, Ms. Encarnacion"
          ],
          [
           "Johannesen-Bratthammer, Mr. Bernt"
          ],
          [
           "Dodge, Master. Washington"
          ],
          [
           "Mellinger, Miss. Madeleine Violet"
          ],
          [
           "Seward, Mr. Frederic Kimber"
          ],
          [
           "Baclini, Miss. Marie Catherine"
          ],
          [
           "Peuchen, Major. Arthur Godfrey"
          ],
          [
           "West, Mr. Edwy Arthur"
          ],
          [
           "Hagland, Mr. Ingvald Olai Olsen"
          ],
          [
           "Foreman, Mr. Benjamin Laventall"
          ],
          [
           "Goldenberg, Mr. Samuel L"
          ],
          [
           "Peduzzi, Mr. Joseph"
          ],
          [
           "Jalsevac, Mr. Ivan"
          ],
          [
           "Millet, Mr. Francis Davis"
          ],
          [
           "Kenyon, Mrs. Frederick R (Marion)"
          ],
          [
           "Toomey, Miss. Ellen"
          ],
          [
           "O'Connor, Mr. Maurice"
          ],
          [
           "Anderson, Mr. Harry"
          ],
          [
           "Morley, Mr. William"
          ],
          [
           "Gee, Mr. Arthur H"
          ],
          [
           "Milling, Mr. Jacob Christian"
          ],
          [
           "Maisner, Mr. Simon"
          ],
          [
           "Goncalves, Mr. Manuel Estanslas"
          ],
          [
           "Campbell, Mr. William"
          ],
          [
           "Smart, Mr. John Montgomery"
          ],
          [
           "Scanlan, Mr. James"
          ],
          [
           "Baclini, Miss. Helene Barbara"
          ],
          [
           "Keefe, Mr. Arthur"
          ],
          [
           "Cacic, Mr. Luka"
          ],
          [
           "West, Mrs. Edwy Arthur (Ada Mary Worth)"
          ],
          [
           "Jerwan, Mrs. Amin S (Marie Marthe Thuillard)"
          ],
          [
           "Strandberg, Miss. Ida Sofia"
          ],
          [
           "Clifford, Mr. George Quincy"
          ],
          [
           "Renouf, Mr. Peter Henry"
          ],
          [
           "Braund, Mr. Lewis Richard"
          ],
          [
           "Karlsson, Mr. Nils August"
          ],
          [
           "Hirvonen, Miss. Hildur E"
          ],
          [
           "Goodwin, Master. Harold Victor"
          ],
          [
           "Frost, Mr. Anthony Wood \"Archie\""
          ],
          [
           "Rouse, Mr. Richard Henry"
          ],
          [
           "Turkula, Mrs. (Hedwig)"
          ],
          [
           "Bishop, Mr. Dickinson H"
          ],
          [
           "Lefebre, Miss. Jeannie"
          ],
          [
           "Hoyt, Mrs. Frederick Maxfield (Jane Anne Forby)"
          ],
          [
           "Kent, Mr. Edward Austin"
          ],
          [
           "Somerton, Mr. Francis William"
          ],
          [
           "Coutts, Master. Eden Leslie \"Neville\""
          ],
          [
           "Hagland, Mr. Konrad Mathias Reiersen"
          ],
          [
           "Windelov, Mr. Einar"
          ],
          [
           "Molson, Mr. Harry Markland"
          ],
          [
           "Artagaveytia, Mr. Ramon"
          ],
          [
           "Stanley, Mr. Edward Roland"
          ],
          [
           "Yousseff, Mr. Gerious"
          ],
          [
           "Eustis, Miss. Elizabeth Mussey"
          ],
          [
           "Shellard, Mr. Frederick William"
          ],
          [
           "Allison, Mrs. Hudson J C (Bessie Waldo Daniels)"
          ],
          [
           "Svensson, Mr. Olof"
          ],
          [
           "Calic, Mr. Petar"
          ],
          [
           "Canavan, Miss. Mary"
          ],
          [
           "O'Sullivan, Miss. Bridget Mary"
          ],
          [
           "Laitinen, Miss. Kristina Sofia"
          ],
          [
           "Maioni, Miss. Roberta"
          ],
          [
           "Penasco y Castellana, Mr. Victor de Satode"
          ],
          [
           "Quick, Mrs. Frederick Charles (Jane Richards)"
          ],
          [
           "Bradley, Mr. George (\"George Arthur Brayton\")"
          ],
          [
           "Olsen, Mr. Henry Margido"
          ],
          [
           "Lang, Mr. Fang"
          ],
          [
           "Daly, Mr. Eugene Patrick"
          ],
          [
           "Webber, Mr. James"
          ],
          [
           "McGough, Mr. James Robert"
          ],
          [
           "Rothschild, Mrs. Martin (Elizabeth L. Barrett)"
          ],
          [
           "Coleff, Mr. Satio"
          ],
          [
           "Walker, Mr. William Anderson"
          ],
          [
           "Lemore, Mrs. (Amelia Milley)"
          ],
          [
           "Ryan, Mr. Patrick"
          ],
          [
           "Angle, Mrs. William A (Florence \"Mary\" Agnes Hughes)"
          ],
          [
           "Pavlovic, Mr. Stefo"
          ],
          [
           "Perreault, Miss. Anne"
          ],
          [
           "Vovk, Mr. Janko"
          ],
          [
           "Lahoud, Mr. Sarkis"
          ],
          [
           "Hippach, Mrs. Louis Albert (Ida Sophia Fischer)"
          ],
          [
           "Kassem, Mr. Fared"
          ],
          [
           "Farrell, Mr. James"
          ],
          [
           "Ridsdale, Miss. Lucy"
          ],
          [
           "Farthing, Mr. John"
          ],
          [
           "Salonen, Mr. Johan Werner"
          ],
          [
           "Hocking, Mr. Richard George"
          ],
          [
           "Quick, Miss. Phyllis May"
          ],
          [
           "Toufik, Mr. Nakli"
          ],
          [
           "Elias, Mr. Joseph Jr"
          ],
          [
           "Peter, Mrs. Catherine (Catherine Rizk)"
          ],
          [
           "Cacic, Miss. Marija"
          ],
          [
           "Hart, Miss. Eva Miriam"
          ],
          [
           "Butt, Major. Archibald Willingham"
          ],
          [
           "LeRoy, Miss. Bertha"
          ],
          [
           "Risien, Mr. Samuel Beard"
          ],
          [
           "Frolicher, Miss. Hedwig Margaritha"
          ],
          [
           "Crosby, Miss. Harriet R"
          ],
          [
           "Andersson, Miss. Ingeborg Constanzia"
          ],
          [
           "Andersson, Miss. Sigrid Elisabeth"
          ],
          [
           "Beane, Mr. Edward"
          ],
          [
           "Douglas, Mr. Walter Donald"
          ],
          [
           "Nicholson, Mr. Arthur Ernest"
          ],
          [
           "Beane, Mrs. Edward (Ethel Clarke)"
          ],
          [
           "Padro y Manent, Mr. Julian"
          ],
          [
           "Goldsmith, Mr. Frank John"
          ],
          [
           "Davies, Master. John Morgan Jr"
          ],
          [
           "Thayer, Mr. John Borland Jr"
          ],
          [
           "Sharp, Mr. Percival James R"
          ],
          [
           "O'Brien, Mr. Timothy"
          ],
          [
           "Leeni, Mr. Fahim (\"Philip Zenni\")"
          ],
          [
           "Ohman, Miss. Velin"
          ],
          [
           "Wright, Mr. George"
          ],
          [
           "Duff Gordon, Lady. (Lucille Christiana Sutherland) (\"Mrs Morgan\")"
          ],
          [
           "Robbins, Mr. Victor"
          ],
          [
           "Taussig, Mrs. Emil (Tillie Mandelbaum)"
          ],
          [
           "de Messemaeker, Mrs. Guillaume Joseph (Emma)"
          ],
          [
           "Morrow, Mr. Thomas Rowan"
          ],
          [
           "Sivic, Mr. Husein"
          ],
          [
           "Norman, Mr. Robert Douglas"
          ],
          [
           "Simmons, Mr. John"
          ],
          [
           "Meanwell, Miss. (Marion Ogden)"
          ],
          [
           "Davies, Mr. Alfred J"
          ],
          [
           "Stoytcheff, Mr. Ilia"
          ],
          [
           "Palsson, Mrs. Nils (Alma Cornelia Berglund)"
          ],
          [
           "Doharr, Mr. Tannous"
          ],
          [
           "Jonsson, Mr. Carl"
          ],
          [
           "Harris, Mr. George"
          ],
          [
           "Appleton, Mrs. Edward Dale (Charlotte Lamson)"
          ],
          [
           "Flynn, Mr. John Irwin (\"Irving\")"
          ],
          [
           "Kelly, Miss. Mary"
          ],
          [
           "Rush, Mr. Alfred George John"
          ],
          [
           "Patchett, Mr. George"
          ],
          [
           "Garside, Miss. Ethel"
          ],
          [
           "Silvey, Mrs. William Baird (Alice Munger)"
          ],
          [
           "Caram, Mrs. Joseph (Maria Elias)"
          ],
          [
           "Jussila, Mr. Eiriik"
          ],
          [
           "Christy, Miss. Julie Rachel"
          ],
          [
           "Thayer, Mrs. John Borland (Marian Longstreth Morris)"
          ],
          [
           "Downton, Mr. William James"
          ],
          [
           "Ross, Mr. John Hugo"
          ],
          [
           "Paulner, Mr. Uscher"
          ],
          [
           "Taussig, Miss. Ruth"
          ],
          [
           "Jarvis, Mr. John Denzil"
          ],
          [
           "Frolicher-Stehli, Mr. Maxmillian"
          ],
          [
           "Gilinski, Mr. Eliezer"
          ],
          [
           "Murdlin, Mr. Joseph"
          ],
          [
           "Rintamaki, Mr. Matti"
          ],
          [
           "Stephenson, Mrs. Walter Bertram (Martha Eustis)"
          ],
          [
           "Elsbury, Mr. William James"
          ],
          [
           "Bourke, Miss. Mary"
          ],
          [
           "Chapman, Mr. John Henry"
          ],
          [
           "Van Impe, Mr. Jean Baptiste"
          ],
          [
           "Leitch, Miss. Jessie Wills"
          ],
          [
           "Johnson, Mr. Alfred"
          ],
          [
           "Boulos, Mr. Hanna"
          ],
          [
           "Duff Gordon, Sir. Cosmo Edmund (\"Mr Morgan\")"
          ],
          [
           "Jacobsohn, Mrs. Sidney Samuel (Amy Frances Christy)"
          ],
          [
           "Slabenoff, Mr. Petco"
          ],
          [
           "Harrington, Mr. Charles H"
          ],
          [
           "Torber, Mr. Ernst William"
          ],
          [
           "Homer, Mr. Harry (\"Mr E Haven\")"
          ],
          [
           "Lindell, Mr. Edvard Bengtsson"
          ],
          [
           "Karaic, Mr. Milan"
          ],
          [
           "Daniel, Mr. Robert Williams"
          ],
          [
           "Laroche, Mrs. Joseph (Juliette Marie Louise Lafargue)"
          ],
          [
           "Shutes, Miss. Elizabeth W"
          ],
          [
           "Andersson, Mrs. Anders Johan (Alfrida Konstantia Brogren)"
          ],
          [
           "Jardin, Mr. Jose Neto"
          ],
          [
           "Murphy, Miss. Margaret Jane"
          ],
          [
           "Horgan, Mr. John"
          ],
          [
           "Brocklebank, Mr. William Alfred"
          ],
          [
           "Herman, Miss. Alice"
          ],
          [
           "Danbom, Mr. Ernst Gilbert"
          ],
          [
           "Lobb, Mrs. William Arthur (Cordelia K Stanlick)"
          ],
          [
           "Becker, Miss. Marion Louise"
          ],
          [
           "Gavey, Mr. Lawrence"
          ],
          [
           "Yasbeck, Mr. Antoni"
          ],
          [
           "Kimball, Mr. Edwin Nelson Jr"
          ],
          [
           "Nakid, Mr. Sahid"
          ],
          [
           "Hansen, Mr. Henry Damsgaard"
          ],
          [
           "Bowen, Mr. David John \"Dai\""
          ],
          [
           "Sutton, Mr. Frederick"
          ],
          [
           "Kirkland, Rev. Charles Leonard"
          ],
          [
           "Longley, Miss. Gretchen Fiske"
          ],
          [
           "Bostandyeff, Mr. Guentcho"
          ],
          [
           "O'Connell, Mr. Patrick D"
          ],
          [
           "Barkworth, Mr. Algernon Henry Wilson"
          ],
          [
           "Lundahl, Mr. Johan Svensson"
          ],
          [
           "Stahelin-Maeglin, Dr. Max"
          ],
          [
           "Parr, Mr. William Henry Marsh"
          ],
          [
           "Skoog, Miss. Mabel"
          ],
          [
           "Davis, Miss. Mary"
          ],
          [
           "Leinonen, Mr. Antti Gustaf"
          ],
          [
           "Collyer, Mr. Harvey"
          ],
          [
           "Panula, Mrs. Juha (Maria Emilia Ojala)"
          ],
          [
           "Thorneycroft, Mr. Percival"
          ],
          [
           "Jensen, Mr. Hans Peder"
          ],
          [
           "Sagesser, Mlle. Emma"
          ],
          [
           "Skoog, Miss. Margit Elizabeth"
          ],
          [
           "Foo, Mr. Choong"
          ],
          [
           "Baclini, Miss. Eugenie"
          ],
          [
           "Harper, Mr. Henry Sleeper"
          ],
          [
           "Cor, Mr. Liudevit"
          ],
          [
           "Simonius-Blumer, Col. Oberst Alfons"
          ],
          [
           "Willey, Mr. Edward"
          ],
          [
           "Stanley, Miss. Amy Zillah Elsie"
          ],
          [
           "Mitkoff, Mr. Mito"
          ],
          [
           "Doling, Miss. Elsie"
          ],
          [
           "Kalvik, Mr. Johannes Halvorsen"
          ],
          [
           "O'Leary, Miss. Hanora \"Norah\""
          ],
          [
           "Hegarty, Miss. Hanora \"Nora\""
          ],
          [
           "Hickman, Mr. Leonard Mark"
          ],
          [
           "Radeff, Mr. Alexander"
          ],
          [
           "Bourke, Mrs. John (Catherine)"
          ],
          [
           "Eitemiller, Mr. George Floyd"
          ],
          [
           "Newell, Mr. Arthur Webster"
          ],
          [
           "Frauenthal, Dr. Henry William"
          ],
          [
           "Badt, Mr. Mohamed"
          ],
          [
           "Colley, Mr. Edward Pomeroy"
          ],
          [
           "Coleff, Mr. Peju"
          ],
          [
           "Lindqvist, Mr. Eino William"
          ],
          [
           "Hickman, Mr. Lewis"
          ],
          [
           "Butler, Mr. Reginald Fenton"
          ],
          [
           "Rommetvedt, Mr. Knud Paust"
          ],
          [
           "Cook, Mr. Jacob"
          ],
          [
           "Taylor, Mrs. Elmer Zebley (Juliet Cummins Wright)"
          ],
          [
           "Brown, Mrs. Thomas William Solomon (Elizabeth Catherine Ford)"
          ],
          [
           "Davidson, Mr. Thornton"
          ],
          [
           "Mitchell, Mr. Henry Michael"
          ],
          [
           "Wilhelms, Mr. Charles"
          ],
          [
           "Watson, Mr. Ennis Hastings"
          ],
          [
           "Edvardsson, Mr. Gustaf Hjalmar"
          ],
          [
           "Sawyer, Mr. Frederick Charles"
          ],
          [
           "Turja, Miss. Anna Sofia"
          ],
          [
           "Goodwin, Mrs. Frederick (Augusta Tyler)"
          ],
          [
           "Cardeza, Mr. Thomas Drake Martinez"
          ],
          [
           "Peters, Miss. Katie"
          ],
          [
           "Hassab, Mr. Hammad"
          ],
          [
           "Olsvigen, Mr. Thor Anderson"
          ],
          [
           "Goodwin, Mr. Charles Edward"
          ],
          [
           "Brown, Mr. Thomas William Solomon"
          ],
          [
           "Laroche, Mr. Joseph Philippe Lemercier"
          ],
          [
           "Panula, Mr. Jaako Arnold"
          ],
          [
           "Dakic, Mr. Branko"
          ],
          [
           "Fischer, Mr. Eberhard Thelander"
          ],
          [
           "Madill, Miss. Georgette Alexandra"
          ],
          [
           "Dick, Mr. Albert Adrian"
          ],
          [
           "Karun, Miss. Manca"
          ],
          [
           "Lam, Mr. Ali"
          ],
          [
           "Saad, Mr. Khalil"
          ],
          [
           "Weir, Col. John"
          ],
          [
           "Chapman, Mr. Charles Henry"
          ],
          [
           "Kelly, Mr. James"
          ],
          [
           "Mullens, Miss. Katherine \"Katie\""
          ],
          [
           "Thayer, Mr. John Borland"
          ],
          [
           "Humblen, Mr. Adolf Mathias Nicolai Olsen"
          ],
          [
           "Astor, Mrs. John Jacob (Madeleine Talmadge Force)"
          ],
          [
           "Silverthorne, Mr. Spencer Victor"
          ],
          [
           "Barbara, Miss. Saiide"
          ],
          [
           "Gallagher, Mr. Martin"
          ],
          [
           "Hansen, Mr. Henrik Juul"
          ],
          [
           "Morley, Mr. Henry Samuel (\"Mr Henry Marshall\")"
          ],
          [
           "Kelly, Mrs. Florence \"Fannie\""
          ],
          [
           "Calderhead, Mr. Edward Pennington"
          ],
          [
           "Cleaver, Miss. Alice"
          ],
          [
           "Moubarek, Master. Halim Gonios (\"William George\")"
          ],
          [
           "Mayne, Mlle. Berthe Antonine (\"Mrs de Villiers\")"
          ],
          [
           "Klaber, Mr. Herman"
          ],
          [
           "Taylor, Mr. Elmer Zebley"
          ],
          [
           "Larsson, Mr. August Viktor"
          ],
          [
           "Greenberg, Mr. Samuel"
          ],
          [
           "Soholt, Mr. Peter Andreas Lauritz Andersen"
          ],
          [
           "Endres, Miss. Caroline Louise"
          ],
          [
           "Troutt, Miss. Edwina Celia \"Winnie\""
          ],
          [
           "McEvoy, Mr. Michael"
          ],
          [
           "Johnson, Mr. Malkolm Joackim"
          ],
          [
           "Harper, Miss. Annie Jessie \"Nina\""
          ],
          [
           "Jensen, Mr. Svend Lauritz"
          ],
          [
           "Gillespie, Mr. William Henry"
          ],
          [
           "Hodges, Mr. Henry Price"
          ],
          [
           "Chambers, Mr. Norman Campbell"
          ],
          [
           "Oreskovic, Mr. Luka"
          ],
          [
           "Renouf, Mrs. Peter Henry (Lillian Jefferys)"
          ],
          [
           "Mannion, Miss. Margareth"
          ],
          [
           "Bryhl, Mr. Kurt Arnold Gottfrid"
          ],
          [
           "Ilmakangas, Miss. Pieta Sofia"
          ],
          [
           "Allen, Miss. Elisabeth Walton"
          ],
          [
           "Hassan, Mr. Houssein G N"
          ],
          [
           "Knight, Mr. Robert J"
          ],
          [
           "Berriman, Mr. William John"
          ],
          [
           "Troupiansky, Mr. Moses Aaron"
          ],
          [
           "Williams, Mr. Leslie"
          ],
          [
           "Ford, Mrs. Edward (Margaret Ann Watson)"
          ],
          [
           "Lesurer, Mr. Gustave J"
          ],
          [
           "Ivanoff, Mr. Kanio"
          ],
          [
           "Nankoff, Mr. Minko"
          ],
          [
           "Hawksford, Mr. Walter James"
          ],
          [
           "Cavendish, Mr. Tyrell William"
          ],
          [
           "Ryerson, Miss. Susan Parker \"Suzette\""
          ],
          [
           "McNamee, Mr. Neal"
          ],
          [
           "Stranden, Mr. Juho"
          ],
          [
           "Crosby, Capt. Edward Gifford"
          ],
          [
           "Abbott, Mr. Rossmore Edward"
          ],
          [
           "Sinkkonen, Miss. Anna"
          ],
          [
           "Marvin, Mr. Daniel Warner"
          ],
          [
           "Connaghton, Mr. Michael"
          ],
          [
           "Wells, Miss. Joan"
          ],
          [
           "Moor, Master. Meier"
          ],
          [
           "Vande Velde, Mr. Johannes Joseph"
          ],
          [
           "Jonkoff, Mr. Lalio"
          ],
          [
           "Herman, Mrs. Samuel (Jane Laver)"
          ],
          [
           "Hamalainen, Master. Viljo"
          ],
          [
           "Carlsson, Mr. August Sigfrid"
          ],
          [
           "Bailey, Mr. Percy Andrew"
          ],
          [
           "Theobald, Mr. Thomas Leonard"
          ],
          [
           "Rothes, the Countess. of (Lucy Noel Martha Dyer-Edwards)"
          ],
          [
           "Garfirth, Mr. John"
          ],
          [
           "Nirva, Mr. Iisakki Antino Aijo"
          ],
          [
           "Barah, Mr. Hanna Assi"
          ],
          [
           "Carter, Mrs. William Ernest (Lucile Polk)"
          ],
          [
           "Eklund, Mr. Hans Linus"
          ],
          [
           "Hogeboom, Mrs. John C (Anna Andrews)"
          ],
          [
           "Brewe, Dr. Arthur Jackson"
          ],
          [
           "Mangan, Miss. Mary"
          ],
          [
           "Moran, Mr. Daniel J"
          ],
          [
           "Gronnestad, Mr. Daniel Danielsen"
          ],
          [
           "Lievens, Mr. Rene Aime"
          ],
          [
           "Jensen, Mr. Niels Peder"
          ],
          [
           "Mack, Mrs. (Mary)"
          ],
          [
           "Elias, Mr. Dibo"
          ],
          [
           "Hocking, Mrs. Elizabeth (Eliza Needs)"
          ],
          [
           "Myhrman, Mr. Pehr Fabian Oliver Malkolm"
          ],
          [
           "Tobin, Mr. Roger"
          ],
          [
           "Emanuel, Miss. Virginia Ethel"
          ],
          [
           "Kilgannon, Mr. Thomas J"
          ],
          [
           "Robert, Mrs. Edward Scott (Elisabeth Walton McMillan)"
          ],
          [
           "Ayoub, Miss. Banoura"
          ],
          [
           "Dick, Mrs. Albert Adrian (Vera Gillespie)"
          ],
          [
           "Long, Mr. Milton Clyde"
          ],
          [
           "Johnston, Mr. Andrew G"
          ],
          [
           "Ali, Mr. William"
          ],
          [
           "Harmer, Mr. Abraham (David Lishin)"
          ],
          [
           "Sjoblom, Miss. Anna Sofia"
          ],
          [
           "Rice, Master. George Hugh"
          ],
          [
           "Dean, Master. Bertram Vere"
          ],
          [
           "Guggenheim, Mr. Benjamin"
          ],
          [
           "Keane, Mr. Andrew \"Andy\""
          ],
          [
           "Gaskell, Mr. Alfred"
          ],
          [
           "Sage, Miss. Stella Anna"
          ],
          [
           "Hoyt, Mr. William Fisher"
          ],
          [
           "Dantcheff, Mr. Ristiu"
          ],
          [
           "Otter, Mr. Richard"
          ],
          [
           "Leader, Dr. Alice (Farnham)"
          ],
          [
           "Osman, Mrs. Mara"
          ],
          [
           "Ibrahim Shawah, Mr. Yousseff"
          ],
          [
           "Van Impe, Mrs. Jean Baptiste (Rosalie Paula Govaert)"
          ],
          [
           "Ponesell, Mr. Martin"
          ],
          [
           "Collyer, Mrs. Harvey (Charlotte Annie Tate)"
          ],
          [
           "Carter, Master. William Thornton II"
          ],
          [
           "Thomas, Master. Assad Alexander"
          ],
          [
           "Hedman, Mr. Oskar Arvid"
          ],
          [
           "Johansson, Mr. Karl Johan"
          ],
          [
           "Andrews, Mr. Thomas Jr"
          ],
          [
           "Pettersson, Miss. Ellen Natalia"
          ],
          [
           "Meyer, Mr. August"
          ],
          [
           "Chambers, Mrs. Norman Campbell (Bertha Griggs)"
          ],
          [
           "Alexander, Mr. William"
          ],
          [
           "Lester, Mr. James"
          ],
          [
           "Slemen, Mr. Richard James"
          ],
          [
           "Andersson, Miss. Ebba Iris Alfrida"
          ],
          [
           "Tomlin, Mr. Ernest Portage"
          ],
          [
           "Fry, Mr. Richard"
          ],
          [
           "Heininen, Miss. Wendla Maria"
          ],
          [
           "Mallet, Mr. Albert"
          ],
          [
           "Holm, Mr. John Fredrik Alexander"
          ],
          [
           "Skoog, Master. Karl Thorsten"
          ],
          [
           "Hays, Mrs. Charles Melville (Clara Jennings Gregg)"
          ],
          [
           "Lulic, Mr. Nikola"
          ],
          [
           "Reuchlin, Jonkheer. John George"
          ],
          [
           "Moor, Mrs. (Beila)"
          ],
          [
           "Panula, Master. Urho Abraham"
          ],
          [
           "Flynn, Mr. John"
          ],
          [
           "Lam, Mr. Len"
          ],
          [
           "Mallet, Master. Andre"
          ],
          [
           "McCormack, Mr. Thomas Joseph"
          ],
          [
           "Stone, Mrs. George Nelson (Martha Evelyn)"
          ],
          [
           "Yasbeck, Mrs. Antoni (Selini Alexander)"
          ],
          [
           "Richards, Master. George Sibley"
          ],
          [
           "Saad, Mr. Amin"
          ],
          [
           "Augustsson, Mr. Albert"
          ],
          [
           "Allum, Mr. Owen George"
          ],
          [
           "Compton, Miss. Sara Rebecca"
          ],
          [
           "Pasic, Mr. Jakob"
          ],
          [
           "Sirota, Mr. Maurice"
          ],
          [
           "Chip, Mr. Chang"
          ],
          [
           "Marechal, Mr. Pierre"
          ],
          [
           "Alhomaki, Mr. Ilmari Rudolf"
          ],
          [
           "Mudd, Mr. Thomas Charles"
          ],
          [
           "Serepeca, Miss. Augusta"
          ],
          [
           "Lemberopolous, Mr. Peter L"
          ],
          [
           "Culumovic, Mr. Jeso"
          ],
          [
           "Abbing, Mr. Anthony"
          ],
          [
           "Sage, Mr. Douglas Bullen"
          ],
          [
           "Markoff, Mr. Marin"
          ],
          [
           "Harper, Rev. John"
          ],
          [
           "Goldenberg, Mrs. Samuel L (Edwiga Grabowska)"
          ],
          [
           "Andersson, Master. Sigvard Harald Elias"
          ],
          [
           "Svensson, Mr. Johan"
          ],
          [
           "Boulos, Miss. Nourelain"
          ],
          [
           "Lines, Miss. Mary Conover"
          ],
          [
           "Carter, Mrs. Ernest Courtenay (Lilian Hughes)"
          ],
          [
           "Aks, Mrs. Sam (Leah Rosen)"
          ],
          [
           "Wick, Mrs. George Dennick (Mary Hitchcock)"
          ],
          [
           "Daly, Mr. Peter Denis "
          ],
          [
           "Baclini, Mrs. Solomon (Latifa Qurban)"
          ],
          [
           "Razi, Mr. Raihed"
          ],
          [
           "Hansen, Mr. Claus Peter"
          ],
          [
           "Giles, Mr. Frederick Edward"
          ],
          [
           "Swift, Mrs. Frederick Joel (Margaret Welles Barron)"
          ],
          [
           "Sage, Miss. Dorothy Edith \"Dolly\""
          ],
          [
           "Gill, Mr. John William"
          ],
          [
           "Bystrom, Mrs. (Karolina)"
          ],
          [
           "Duran y More, Miss. Asuncion"
          ],
          [
           "Roebling, Mr. Washington Augustus II"
          ],
          [
           "van Melkebeke, Mr. Philemon"
          ],
          [
           "Johnson, Master. Harold Theodor"
          ],
          [
           "Balkic, Mr. Cerin"
          ],
          [
           "Beckwith, Mrs. Richard Leonard (Sallie Monypeny)"
          ],
          [
           "Carlsson, Mr. Frans Olof"
          ],
          [
           "Vander Cruyssen, Mr. Victor"
          ],
          [
           "Abelson, Mrs. Samuel (Hannah Wizosky)"
          ],
          [
           "Najib, Miss. Adele Kiamie \"Jane\""
          ],
          [
           "Gustafsson, Mr. Alfred Ossian"
          ],
          [
           "Petroff, Mr. Nedelio"
          ],
          [
           "Laleff, Mr. Kristo"
          ],
          [
           "Potter, Mrs. Thomas Jr (Lily Alexenia Wilson)"
          ],
          [
           "Shelley, Mrs. William (Imanita Parrish Hall)"
          ],
          [
           "Markun, Mr. Johann"
          ],
          [
           "Dahlberg, Miss. Gerda Ulrika"
          ],
          [
           "Banfield, Mr. Frederick James"
          ],
          [
           "Sutehall, Mr. Henry Jr"
          ],
          [
           "Rice, Mrs. William (Margaret Norton)"
          ],
          [
           "Montvila, Rev. Juozas"
          ],
          [
           "Graham, Miss. Margaret Edith"
          ],
          [
           "Johnston, Miss. Catherine Helen \"Carrie\""
          ],
          [
           "Behr, Mr. Karl Howell"
          ],
          [
           "Dooley, Mr. Patrick"
          ]
         ],
         "hovertemplate": "Age=%{x}<br>Sex=%{y}<br>Name=%{customdata[0]}<extra></extra>",
         "legendgroup": "",
         "marker": {
          "color": "#1F77B4",
          "opacity": 0.5,
          "pattern": {
           "shape": ""
          }
         },
         "name": "",
         "offsetgroup": "",
         "orientation": "h",
         "showlegend": false,
         "textposition": "auto",
         "type": "bar",
         "x": [
          22,
          38,
          26,
          35,
          35,
          null,
          54,
          2,
          27,
          14,
          4,
          58,
          20,
          39,
          14,
          55,
          2,
          null,
          31,
          null,
          35,
          34,
          15,
          28,
          8,
          38,
          null,
          19,
          null,
          null,
          40,
          null,
          null,
          66,
          28,
          42,
          null,
          21,
          18,
          14,
          40,
          27,
          null,
          3,
          19,
          null,
          null,
          null,
          null,
          18,
          7,
          21,
          49,
          29,
          65,
          null,
          21,
          28.5,
          5,
          11,
          22,
          38,
          45,
          4,
          null,
          null,
          29,
          19,
          17,
          26,
          32,
          16,
          21,
          26,
          32,
          25,
          null,
          null,
          0.83,
          30,
          22,
          29,
          null,
          28,
          17,
          33,
          16,
          null,
          23,
          24,
          29,
          20,
          46,
          26,
          59,
          null,
          71,
          23,
          34,
          34,
          28,
          null,
          21,
          33,
          37,
          28,
          21,
          null,
          38,
          null,
          47,
          14.5,
          22,
          20,
          17,
          21,
          70.5,
          29,
          24,
          2,
          21,
          null,
          32.5,
          32.5,
          54,
          12,
          null,
          24,
          null,
          45,
          33,
          20,
          47,
          29,
          25,
          23,
          19,
          37,
          16,
          24,
          null,
          22,
          24,
          19,
          18,
          19,
          27,
          9,
          36.5,
          42,
          51,
          22,
          55.5,
          40.5,
          null,
          51,
          16,
          30,
          null,
          null,
          44,
          40,
          26,
          17,
          1,
          9,
          null,
          45,
          null,
          28,
          61,
          4,
          1,
          21,
          56,
          18,
          null,
          50,
          30,
          36,
          null,
          null,
          9,
          1,
          4,
          null,
          null,
          45,
          40,
          36,
          32,
          19,
          19,
          3,
          44,
          58,
          null,
          42,
          null,
          24,
          28,
          null,
          34,
          45.5,
          18,
          2,
          32,
          26,
          16,
          40,
          24,
          35,
          22,
          30,
          null,
          31,
          27,
          42,
          32,
          30,
          16,
          27,
          51,
          null,
          38,
          22,
          19,
          20.5,
          18,
          null,
          35,
          29,
          59,
          5,
          24,
          null,
          44,
          8,
          19,
          33,
          null,
          null,
          29,
          22,
          30,
          44,
          25,
          24,
          37,
          54,
          null,
          29,
          62,
          30,
          41,
          29,
          null,
          30,
          35,
          50,
          null,
          3,
          52,
          40,
          null,
          36,
          16,
          25,
          58,
          35,
          null,
          25,
          41,
          37,
          null,
          63,
          45,
          null,
          7,
          35,
          65,
          28,
          16,
          19,
          null,
          33,
          30,
          22,
          42,
          22,
          26,
          19,
          36,
          24,
          24,
          null,
          23.5,
          2,
          null,
          50,
          null,
          null,
          19,
          null,
          null,
          0.92,
          null,
          17,
          30,
          30,
          24,
          18,
          26,
          28,
          43,
          26,
          24,
          54,
          31,
          40,
          22,
          27,
          30,
          22,
          null,
          36,
          61,
          36,
          31,
          16,
          null,
          45.5,
          38,
          16,
          null,
          null,
          29,
          41,
          45,
          45,
          2,
          24,
          28,
          25,
          36,
          24,
          40,
          null,
          3,
          42,
          23,
          null,
          15,
          25,
          null,
          28,
          22,
          38,
          null,
          null,
          40,
          29,
          45,
          35,
          null,
          30,
          60,
          null,
          null,
          24,
          25,
          18,
          19,
          22,
          3,
          null,
          22,
          27,
          20,
          19,
          42,
          1,
          32,
          35,
          null,
          18,
          1,
          36,
          null,
          17,
          36,
          21,
          28,
          23,
          24,
          22,
          31,
          46,
          23,
          28,
          39,
          26,
          21,
          28,
          20,
          34,
          51,
          3,
          21,
          null,
          null,
          null,
          33,
          null,
          44,
          null,
          34,
          18,
          30,
          10,
          null,
          21,
          29,
          28,
          18,
          null,
          28,
          19,
          null,
          32,
          28,
          null,
          42,
          17,
          50,
          14,
          21,
          24,
          64,
          31,
          45,
          20,
          25,
          28,
          null,
          4,
          13,
          34,
          5,
          52,
          36,
          null,
          30,
          49,
          null,
          29,
          65,
          null,
          50,
          null,
          48,
          34,
          47,
          48,
          null,
          38,
          null,
          56,
          null,
          0.75,
          null,
          38,
          33,
          23,
          22,
          null,
          34,
          29,
          22,
          2,
          9,
          null,
          50,
          63,
          25,
          null,
          35,
          58,
          30,
          9,
          null,
          21,
          55,
          71,
          21,
          null,
          54,
          null,
          25,
          24,
          17,
          21,
          null,
          37,
          16,
          18,
          33,
          null,
          28,
          26,
          29,
          null,
          36,
          54,
          24,
          47,
          34,
          null,
          36,
          32,
          30,
          22,
          null,
          44,
          null,
          40.5,
          50,
          null,
          39,
          23,
          2,
          null,
          17,
          null,
          30,
          7,
          45,
          30,
          null,
          22,
          36,
          9,
          11,
          32,
          50,
          64,
          19,
          null,
          33,
          8,
          17,
          27,
          null,
          22,
          22,
          62,
          48,
          null,
          39,
          36,
          null,
          40,
          28,
          null,
          null,
          24,
          19,
          29,
          null,
          32,
          62,
          53,
          36,
          null,
          16,
          19,
          34,
          39,
          null,
          32,
          25,
          39,
          54,
          36,
          null,
          18,
          47,
          60,
          22,
          null,
          35,
          52,
          47,
          null,
          37,
          36,
          null,
          49,
          null,
          49,
          24,
          null,
          null,
          44,
          35,
          36,
          30,
          27,
          22,
          40,
          39,
          null,
          null,
          null,
          35,
          24,
          34,
          26,
          4,
          26,
          27,
          42,
          20,
          21,
          21,
          61,
          57,
          21,
          26,
          null,
          80,
          51,
          32,
          null,
          9,
          28,
          32,
          31,
          41,
          null,
          20,
          24,
          2,
          null,
          0.75,
          48,
          19,
          56,
          null,
          23,
          null,
          18,
          21,
          null,
          18,
          24,
          null,
          32,
          23,
          58,
          50,
          40,
          47,
          36,
          20,
          32,
          25,
          null,
          43,
          null,
          40,
          31,
          70,
          31,
          null,
          18,
          24.5,
          18,
          43,
          36,
          null,
          27,
          20,
          14,
          60,
          25,
          14,
          19,
          18,
          15,
          31,
          4,
          null,
          25,
          60,
          52,
          44,
          null,
          49,
          42,
          18,
          35,
          18,
          25,
          26,
          39,
          45,
          42,
          22,
          null,
          24,
          null,
          48,
          29,
          52,
          19,
          38,
          27,
          null,
          33,
          6,
          17,
          34,
          50,
          27,
          20,
          30,
          null,
          25,
          25,
          29,
          11,
          null,
          23,
          23,
          28.5,
          48,
          35,
          null,
          null,
          null,
          36,
          21,
          24,
          31,
          70,
          16,
          30,
          19,
          31,
          4,
          6,
          33,
          23,
          48,
          0.67,
          28,
          18,
          34,
          33,
          null,
          41,
          20,
          36,
          16,
          51,
          null,
          30.5,
          null,
          32,
          24,
          48,
          57,
          null,
          54,
          18,
          null,
          5,
          null,
          43,
          13,
          17,
          29,
          null,
          25,
          25,
          18,
          8,
          1,
          46,
          null,
          16,
          null,
          null,
          25,
          39,
          49,
          31,
          30,
          30,
          34,
          31,
          11,
          0.42,
          27,
          31,
          39,
          18,
          39,
          33,
          26,
          39,
          35,
          6,
          30.5,
          null,
          23,
          31,
          43,
          10,
          52,
          27,
          38,
          27,
          2,
          null,
          null,
          1,
          null,
          62,
          15,
          0.83,
          null,
          23,
          18,
          39,
          21,
          null,
          32,
          null,
          20,
          16,
          30,
          34.5,
          17,
          42,
          null,
          35,
          28,
          null,
          4,
          74,
          9,
          16,
          44,
          18,
          45,
          51,
          24,
          null,
          41,
          21,
          48,
          null,
          24,
          42,
          27,
          31,
          null,
          4,
          26,
          47,
          33,
          47,
          28,
          15,
          20,
          19,
          null,
          56,
          25,
          33,
          22,
          28,
          25,
          39,
          27,
          19,
          null,
          26,
          32
         ],
         "xaxis": "x",
         "y": [
          "male",
          "female",
          "female",
          "female",
          "male",
          "male",
          "male",
          "male",
          "female",
          "female",
          "female",
          "female",
          "male",
          "male",
          "female",
          "female",
          "male",
          "male",
          "female",
          "female",
          "male",
          "male",
          "female",
          "male",
          "female",
          "female",
          "male",
          "male",
          "female",
          "male",
          "male",
          "female",
          "female",
          "male",
          "male",
          "male",
          "male",
          "male",
          "female",
          "female",
          "female",
          "female",
          "male",
          "female",
          "female",
          "male",
          "male",
          "female",
          "male",
          "female",
          "male",
          "male",
          "female",
          "female",
          "male",
          "male",
          "female",
          "male",
          "female",
          "male",
          "male",
          "female",
          "male",
          "male",
          "male",
          "male",
          "female",
          "male",
          "female",
          "male",
          "male",
          "female",
          "male",
          "male",
          "male",
          "male",
          "male",
          "male",
          "male",
          "female",
          "male",
          "male",
          "female",
          "male",
          "female",
          "female",
          "male",
          "male",
          "female",
          "male",
          "male",
          "male",
          "male",
          "male",
          "male",
          "male",
          "male",
          "male",
          "female",
          "male",
          "female",
          "male",
          "male",
          "male",
          "male",
          "male",
          "female",
          "male",
          "male",
          "female",
          "male",
          "female",
          "male",
          "female",
          "female",
          "male",
          "male",
          "male",
          "male",
          "female",
          "male",
          "male",
          "male",
          "female",
          "male",
          "male",
          "male",
          "male",
          "female",
          "male",
          "male",
          "male",
          "female",
          "female",
          "male",
          "male",
          "female",
          "male",
          "male",
          "male",
          "female",
          "female",
          "female",
          "male",
          "male",
          "male",
          "male",
          "female",
          "male",
          "male",
          "male",
          "female",
          "male",
          "male",
          "male",
          "male",
          "female",
          "male",
          "male",
          "male",
          "male",
          "female",
          "male",
          "male",
          "male",
          "male",
          "female",
          "female",
          "male",
          "male",
          "male",
          "male",
          "female",
          "male",
          "male",
          "male",
          "male",
          "female",
          "male",
          "male",
          "female",
          "male",
          "male",
          "male",
          "female",
          "male",
          "female",
          "male",
          "male",
          "male",
          "female",
          "male",
          "female",
          "male",
          "female",
          "female",
          "male",
          "male",
          "female",
          "female",
          "male",
          "male",
          "male",
          "male",
          "male",
          "female",
          "male",
          "male",
          "female",
          "male",
          "male",
          "female",
          "male",
          "male",
          "male",
          "female",
          "female",
          "male",
          "female",
          "male",
          "male",
          "male",
          "male",
          "male",
          "male",
          "male",
          "male",
          "male",
          "male",
          "female",
          "female",
          "male",
          "male",
          "female",
          "male",
          "female",
          "male",
          "female",
          "male",
          "male",
          "female",
          "female",
          "male",
          "male",
          "male",
          "male",
          "female",
          "female",
          "male",
          "male",
          "male",
          "female",
          "male",
          "male",
          "female",
          "female",
          "female",
          "female",
          "female",
          "female",
          "male",
          "male",
          "male",
          "male",
          "female",
          "male",
          "male",
          "male",
          "female",
          "female",
          "male",
          "male",
          "female",
          "male",
          "female",
          "female",
          "female",
          "male",
          "male",
          "female",
          "male",
          "male",
          "male",
          "male",
          "male",
          "male",
          "male",
          "male",
          "male",
          "female",
          "female",
          "female",
          "male",
          "female",
          "male",
          "male",
          "male",
          "female",
          "male",
          "female",
          "female",
          "male",
          "male",
          "female",
          "male",
          "male",
          "female",
          "female",
          "male",
          "female",
          "female",
          "female",
          "female",
          "male",
          "male",
          "female",
          "female",
          "male",
          "female",
          "female",
          "male",
          "male",
          "female",
          "female",
          "male",
          "female",
          "male",
          "female",
          "female",
          "female",
          "female",
          "male",
          "male",
          "male",
          "female",
          "male",
          "male",
          "female",
          "male",
          "male",
          "male",
          "female",
          "male",
          "male",
          "male",
          "female",
          "female",
          "female",
          "male",
          "male",
          "male",
          "male",
          "male",
          "male",
          "male",
          "male",
          "female",
          "female",
          "female",
          "female",
          "male",
          "male",
          "female",
          "male",
          "male",
          "male",
          "female",
          "female",
          "female",
          "female",
          "male",
          "male",
          "male",
          "male",
          "female",
          "female",
          "female",
          "male",
          "male",
          "male",
          "female",
          "female",
          "male",
          "female",
          "male",
          "male",
          "male",
          "female",
          "male",
          "female",
          "male",
          "male",
          "male",
          "female",
          "female",
          "male",
          "female",
          "male",
          "male",
          "female",
          "male",
          "male",
          "female",
          "male",
          "female",
          "male",
          "male",
          "male",
          "male",
          "female",
          "male",
          "male",
          "female",
          "male",
          "male",
          "female",
          "female",
          "female",
          "male",
          "female",
          "male",
          "male",
          "male",
          "female",
          "male",
          "male",
          "female",
          "female",
          "male",
          "male",
          "male",
          "female",
          "female",
          "male",
          "male",
          "female",
          "female",
          "female",
          "male",
          "male",
          "female",
          "male",
          "male",
          "female",
          "male",
          "male",
          "female",
          "male",
          "female",
          "male",
          "male",
          "male",
          "male",
          "male",
          "male",
          "male",
          "male",
          "female",
          "female",
          "male",
          "male",
          "male",
          "male",
          "male",
          "male",
          "male",
          "male",
          "male",
          "male",
          "female",
          "male",
          "male",
          "female",
          "female",
          "female",
          "male",
          "male",
          "male",
          "male",
          "female",
          "male",
          "male",
          "male",
          "female",
          "male",
          "female",
          "female",
          "male",
          "male",
          "male",
          "male",
          "male",
          "male",
          "male",
          "male",
          "male",
          "female",
          "male",
          "female",
          "male",
          "male",
          "female",
          "female",
          "female",
          "female",
          "male",
          "female",
          "male",
          "male",
          "male",
          "male",
          "male",
          "male",
          "female",
          "male",
          "male",
          "female",
          "male",
          "female",
          "male",
          "female",
          "male",
          "male",
          "female",
          "male",
          "male",
          "female",
          "male",
          "male",
          "male",
          "female",
          "male",
          "male",
          "female",
          "female",
          "female",
          "male",
          "female",
          "male",
          "female",
          "female",
          "female",
          "female",
          "male",
          "male",
          "male",
          "female",
          "male",
          "male",
          "male",
          "male",
          "male",
          "male",
          "male",
          "female",
          "male",
          "female",
          "male",
          "female",
          "female",
          "male",
          "male",
          "male",
          "male",
          "female",
          "male",
          "male",
          "female",
          "male",
          "male",
          "male",
          "female",
          "male",
          "female",
          "male",
          "male",
          "female",
          "female",
          "female",
          "male",
          "female",
          "female",
          "male",
          "male",
          "male",
          "female",
          "male",
          "male",
          "male",
          "male",
          "male",
          "female",
          "male",
          "female",
          "male",
          "male",
          "female",
          "male",
          "male",
          "male",
          "female",
          "male",
          "male",
          "male",
          "male",
          "male",
          "male",
          "male",
          "female",
          "female",
          "female",
          "male",
          "female",
          "male",
          "male",
          "female",
          "male",
          "female",
          "female",
          "male",
          "male",
          "male",
          "male",
          "male",
          "male",
          "male",
          "male",
          "female",
          "male",
          "male",
          "male",
          "male",
          "male",
          "male",
          "female",
          "female",
          "male",
          "male",
          "female",
          "male",
          "male",
          "female",
          "female",
          "male",
          "female",
          "male",
          "male",
          "male",
          "male",
          "female",
          "male",
          "female",
          "male",
          "female",
          "female",
          "male",
          "male",
          "female",
          "male",
          "male",
          "male",
          "male",
          "male",
          "male",
          "male",
          "male",
          "male",
          "male",
          "male",
          "female",
          "female",
          "male",
          "male",
          "male",
          "male",
          "male",
          "male",
          "female",
          "female",
          "male",
          "female",
          "male",
          "male",
          "male",
          "male",
          "male",
          "male",
          "male",
          "male",
          "female",
          "male",
          "female",
          "male",
          "male",
          "male",
          "male",
          "male",
          "female",
          "male",
          "male",
          "female",
          "male",
          "female",
          "male",
          "male",
          "male",
          "female",
          "male",
          "female",
          "male",
          "female",
          "male",
          "male",
          "male",
          "male",
          "male",
          "female",
          "female",
          "male",
          "male",
          "female",
          "male",
          "male",
          "male",
          "male",
          "male",
          "female",
          "female",
          "male",
          "female",
          "female",
          "male",
          "male",
          "male",
          "male",
          "male",
          "female",
          "male",
          "male",
          "male",
          "male",
          "male",
          "female",
          "male",
          "male",
          "male",
          "male",
          "female",
          "male",
          "male",
          "female",
          "male",
          "male",
          "male",
          "female",
          "male",
          "male",
          "male",
          "male",
          "female",
          "male",
          "male",
          "male",
          "female",
          "male",
          "female",
          "male",
          "female",
          "male",
          "male",
          "male",
          "male",
          "female",
          "male",
          "female",
          "male",
          "male",
          "female",
          "male",
          "female",
          "female",
          "female",
          "male",
          "male",
          "male",
          "male",
          "female",
          "male",
          "male",
          "male",
          "male",
          "male",
          "female",
          "male",
          "male",
          "male",
          "female",
          "female",
          "male",
          "female",
          "male",
          "female",
          "male",
          "male",
          "male",
          "male",
          "male",
          "female",
          "male",
          "female",
          "male",
          "male",
          "male",
          "female",
          "male",
          "male",
          "female",
          "male",
          "male",
          "male",
          "female",
          "male",
          "male",
          "female",
          "male",
          "male",
          "male",
          "male",
          "male",
          "female",
          "female",
          "male",
          "male",
          "male",
          "male",
          "female",
          "male",
          "male",
          "male",
          "male",
          "male",
          "male",
          "female",
          "male",
          "male",
          "male",
          "male",
          "male",
          "male",
          "female",
          "male",
          "male",
          "female",
          "female",
          "female",
          "female",
          "female",
          "male",
          "female",
          "male",
          "male",
          "male",
          "female",
          "female",
          "male",
          "female",
          "female",
          "male",
          "male",
          "male",
          "male",
          "female",
          "male",
          "male",
          "female",
          "female",
          "male",
          "male",
          "male",
          "female",
          "female",
          "male",
          "female",
          "male",
          "male",
          "female",
          "male",
          "female",
          "female",
          "male",
          "male"
         ],
         "yaxis": "y"
        }
       ],
       "layout": {
        "barmode": "overlay",
        "legend": {
         "tracegroupgap": 0
        },
        "margin": {
         "t": 60
        },
        "template": {
         "data": {
          "bar": [
           {
            "error_x": {
             "color": "#2a3f5f"
            },
            "error_y": {
             "color": "#2a3f5f"
            },
            "marker": {
             "line": {
              "color": "white",
              "width": 0.5
             },
             "pattern": {
              "fillmode": "overlay",
              "size": 10,
              "solidity": 0.2
             }
            },
            "type": "bar"
           }
          ],
          "barpolar": [
           {
            "marker": {
             "line": {
              "color": "white",
              "width": 0.5
             },
             "pattern": {
              "fillmode": "overlay",
              "size": 10,
              "solidity": 0.2
             }
            },
            "type": "barpolar"
           }
          ],
          "carpet": [
           {
            "aaxis": {
             "endlinecolor": "#2a3f5f",
             "gridcolor": "#C8D4E3",
             "linecolor": "#C8D4E3",
             "minorgridcolor": "#C8D4E3",
             "startlinecolor": "#2a3f5f"
            },
            "baxis": {
             "endlinecolor": "#2a3f5f",
             "gridcolor": "#C8D4E3",
             "linecolor": "#C8D4E3",
             "minorgridcolor": "#C8D4E3",
             "startlinecolor": "#2a3f5f"
            },
            "type": "carpet"
           }
          ],
          "choropleth": [
           {
            "colorbar": {
             "outlinewidth": 0,
             "ticks": ""
            },
            "type": "choropleth"
           }
          ],
          "contour": [
           {
            "colorbar": {
             "outlinewidth": 0,
             "ticks": ""
            },
            "colorscale": [
             [
              0,
              "#0d0887"
             ],
             [
              0.1111111111111111,
              "#46039f"
             ],
             [
              0.2222222222222222,
              "#7201a8"
             ],
             [
              0.3333333333333333,
              "#9c179e"
             ],
             [
              0.4444444444444444,
              "#bd3786"
             ],
             [
              0.5555555555555556,
              "#d8576b"
             ],
             [
              0.6666666666666666,
              "#ed7953"
             ],
             [
              0.7777777777777778,
              "#fb9f3a"
             ],
             [
              0.8888888888888888,
              "#fdca26"
             ],
             [
              1,
              "#f0f921"
             ]
            ],
            "type": "contour"
           }
          ],
          "contourcarpet": [
           {
            "colorbar": {
             "outlinewidth": 0,
             "ticks": ""
            },
            "type": "contourcarpet"
           }
          ],
          "heatmap": [
           {
            "colorbar": {
             "outlinewidth": 0,
             "ticks": ""
            },
            "colorscale": [
             [
              0,
              "#0d0887"
             ],
             [
              0.1111111111111111,
              "#46039f"
             ],
             [
              0.2222222222222222,
              "#7201a8"
             ],
             [
              0.3333333333333333,
              "#9c179e"
             ],
             [
              0.4444444444444444,
              "#bd3786"
             ],
             [
              0.5555555555555556,
              "#d8576b"
             ],
             [
              0.6666666666666666,
              "#ed7953"
             ],
             [
              0.7777777777777778,
              "#fb9f3a"
             ],
             [
              0.8888888888888888,
              "#fdca26"
             ],
             [
              1,
              "#f0f921"
             ]
            ],
            "type": "heatmap"
           }
          ],
          "heatmapgl": [
           {
            "colorbar": {
             "outlinewidth": 0,
             "ticks": ""
            },
            "colorscale": [
             [
              0,
              "#0d0887"
             ],
             [
              0.1111111111111111,
              "#46039f"
             ],
             [
              0.2222222222222222,
              "#7201a8"
             ],
             [
              0.3333333333333333,
              "#9c179e"
             ],
             [
              0.4444444444444444,
              "#bd3786"
             ],
             [
              0.5555555555555556,
              "#d8576b"
             ],
             [
              0.6666666666666666,
              "#ed7953"
             ],
             [
              0.7777777777777778,
              "#fb9f3a"
             ],
             [
              0.8888888888888888,
              "#fdca26"
             ],
             [
              1,
              "#f0f921"
             ]
            ],
            "type": "heatmapgl"
           }
          ],
          "histogram": [
           {
            "marker": {
             "pattern": {
              "fillmode": "overlay",
              "size": 10,
              "solidity": 0.2
             }
            },
            "type": "histogram"
           }
          ],
          "histogram2d": [
           {
            "colorbar": {
             "outlinewidth": 0,
             "ticks": ""
            },
            "colorscale": [
             [
              0,
              "#0d0887"
             ],
             [
              0.1111111111111111,
              "#46039f"
             ],
             [
              0.2222222222222222,
              "#7201a8"
             ],
             [
              0.3333333333333333,
              "#9c179e"
             ],
             [
              0.4444444444444444,
              "#bd3786"
             ],
             [
              0.5555555555555556,
              "#d8576b"
             ],
             [
              0.6666666666666666,
              "#ed7953"
             ],
             [
              0.7777777777777778,
              "#fb9f3a"
             ],
             [
              0.8888888888888888,
              "#fdca26"
             ],
             [
              1,
              "#f0f921"
             ]
            ],
            "type": "histogram2d"
           }
          ],
          "histogram2dcontour": [
           {
            "colorbar": {
             "outlinewidth": 0,
             "ticks": ""
            },
            "colorscale": [
             [
              0,
              "#0d0887"
             ],
             [
              0.1111111111111111,
              "#46039f"
             ],
             [
              0.2222222222222222,
              "#7201a8"
             ],
             [
              0.3333333333333333,
              "#9c179e"
             ],
             [
              0.4444444444444444,
              "#bd3786"
             ],
             [
              0.5555555555555556,
              "#d8576b"
             ],
             [
              0.6666666666666666,
              "#ed7953"
             ],
             [
              0.7777777777777778,
              "#fb9f3a"
             ],
             [
              0.8888888888888888,
              "#fdca26"
             ],
             [
              1,
              "#f0f921"
             ]
            ],
            "type": "histogram2dcontour"
           }
          ],
          "mesh3d": [
           {
            "colorbar": {
             "outlinewidth": 0,
             "ticks": ""
            },
            "type": "mesh3d"
           }
          ],
          "parcoords": [
           {
            "line": {
             "colorbar": {
              "outlinewidth": 0,
              "ticks": ""
             }
            },
            "type": "parcoords"
           }
          ],
          "pie": [
           {
            "automargin": true,
            "type": "pie"
           }
          ],
          "scatter": [
           {
            "fillpattern": {
             "fillmode": "overlay",
             "size": 10,
             "solidity": 0.2
            },
            "type": "scatter"
           }
          ],
          "scatter3d": [
           {
            "line": {
             "colorbar": {
              "outlinewidth": 0,
              "ticks": ""
             }
            },
            "marker": {
             "colorbar": {
              "outlinewidth": 0,
              "ticks": ""
             }
            },
            "type": "scatter3d"
           }
          ],
          "scattercarpet": [
           {
            "marker": {
             "colorbar": {
              "outlinewidth": 0,
              "ticks": ""
             }
            },
            "type": "scattercarpet"
           }
          ],
          "scattergeo": [
           {
            "marker": {
             "colorbar": {
              "outlinewidth": 0,
              "ticks": ""
             }
            },
            "type": "scattergeo"
           }
          ],
          "scattergl": [
           {
            "marker": {
             "colorbar": {
              "outlinewidth": 0,
              "ticks": ""
             }
            },
            "type": "scattergl"
           }
          ],
          "scattermapbox": [
           {
            "marker": {
             "colorbar": {
              "outlinewidth": 0,
              "ticks": ""
             }
            },
            "type": "scattermapbox"
           }
          ],
          "scatterpolar": [
           {
            "marker": {
             "colorbar": {
              "outlinewidth": 0,
              "ticks": ""
             }
            },
            "type": "scatterpolar"
           }
          ],
          "scatterpolargl": [
           {
            "marker": {
             "colorbar": {
              "outlinewidth": 0,
              "ticks": ""
             }
            },
            "type": "scatterpolargl"
           }
          ],
          "scatterternary": [
           {
            "marker": {
             "colorbar": {
              "outlinewidth": 0,
              "ticks": ""
             }
            },
            "type": "scatterternary"
           }
          ],
          "surface": [
           {
            "colorbar": {
             "outlinewidth": 0,
             "ticks": ""
            },
            "colorscale": [
             [
              0,
              "#0d0887"
             ],
             [
              0.1111111111111111,
              "#46039f"
             ],
             [
              0.2222222222222222,
              "#7201a8"
             ],
             [
              0.3333333333333333,
              "#9c179e"
             ],
             [
              0.4444444444444444,
              "#bd3786"
             ],
             [
              0.5555555555555556,
              "#d8576b"
             ],
             [
              0.6666666666666666,
              "#ed7953"
             ],
             [
              0.7777777777777778,
              "#fb9f3a"
             ],
             [
              0.8888888888888888,
              "#fdca26"
             ],
             [
              1,
              "#f0f921"
             ]
            ],
            "type": "surface"
           }
          ],
          "table": [
           {
            "cells": {
             "fill": {
              "color": "#EBF0F8"
             },
             "line": {
              "color": "white"
             }
            },
            "header": {
             "fill": {
              "color": "#C8D4E3"
             },
             "line": {
              "color": "white"
             }
            },
            "type": "table"
           }
          ]
         },
         "layout": {
          "annotationdefaults": {
           "arrowcolor": "#2a3f5f",
           "arrowhead": 0,
           "arrowwidth": 1
          },
          "autotypenumbers": "strict",
          "coloraxis": {
           "colorbar": {
            "outlinewidth": 0,
            "ticks": ""
           }
          },
          "colorscale": {
           "diverging": [
            [
             0,
             "#8e0152"
            ],
            [
             0.1,
             "#c51b7d"
            ],
            [
             0.2,
             "#de77ae"
            ],
            [
             0.3,
             "#f1b6da"
            ],
            [
             0.4,
             "#fde0ef"
            ],
            [
             0.5,
             "#f7f7f7"
            ],
            [
             0.6,
             "#e6f5d0"
            ],
            [
             0.7,
             "#b8e186"
            ],
            [
             0.8,
             "#7fbc41"
            ],
            [
             0.9,
             "#4d9221"
            ],
            [
             1,
             "#276419"
            ]
           ],
           "sequential": [
            [
             0,
             "#0d0887"
            ],
            [
             0.1111111111111111,
             "#46039f"
            ],
            [
             0.2222222222222222,
             "#7201a8"
            ],
            [
             0.3333333333333333,
             "#9c179e"
            ],
            [
             0.4444444444444444,
             "#bd3786"
            ],
            [
             0.5555555555555556,
             "#d8576b"
            ],
            [
             0.6666666666666666,
             "#ed7953"
            ],
            [
             0.7777777777777778,
             "#fb9f3a"
            ],
            [
             0.8888888888888888,
             "#fdca26"
            ],
            [
             1,
             "#f0f921"
            ]
           ],
           "sequentialminus": [
            [
             0,
             "#0d0887"
            ],
            [
             0.1111111111111111,
             "#46039f"
            ],
            [
             0.2222222222222222,
             "#7201a8"
            ],
            [
             0.3333333333333333,
             "#9c179e"
            ],
            [
             0.4444444444444444,
             "#bd3786"
            ],
            [
             0.5555555555555556,
             "#d8576b"
            ],
            [
             0.6666666666666666,
             "#ed7953"
            ],
            [
             0.7777777777777778,
             "#fb9f3a"
            ],
            [
             0.8888888888888888,
             "#fdca26"
            ],
            [
             1,
             "#f0f921"
            ]
           ]
          },
          "colorway": [
           "#636efa",
           "#EF553B",
           "#00cc96",
           "#ab63fa",
           "#FFA15A",
           "#19d3f3",
           "#FF6692",
           "#B6E880",
           "#FF97FF",
           "#FECB52"
          ],
          "font": {
           "color": "#2a3f5f"
          },
          "geo": {
           "bgcolor": "white",
           "lakecolor": "white",
           "landcolor": "white",
           "showlakes": true,
           "showland": true,
           "subunitcolor": "#C8D4E3"
          },
          "hoverlabel": {
           "align": "left"
          },
          "hovermode": "closest",
          "mapbox": {
           "style": "light"
          },
          "paper_bgcolor": "white",
          "plot_bgcolor": "white",
          "polar": {
           "angularaxis": {
            "gridcolor": "#EBF0F8",
            "linecolor": "#EBF0F8",
            "ticks": ""
           },
           "bgcolor": "white",
           "radialaxis": {
            "gridcolor": "#EBF0F8",
            "linecolor": "#EBF0F8",
            "ticks": ""
           }
          },
          "scene": {
           "xaxis": {
            "backgroundcolor": "white",
            "gridcolor": "#DFE8F3",
            "gridwidth": 2,
            "linecolor": "#EBF0F8",
            "showbackground": true,
            "ticks": "",
            "zerolinecolor": "#EBF0F8"
           },
           "yaxis": {
            "backgroundcolor": "white",
            "gridcolor": "#DFE8F3",
            "gridwidth": 2,
            "linecolor": "#EBF0F8",
            "showbackground": true,
            "ticks": "",
            "zerolinecolor": "#EBF0F8"
           },
           "zaxis": {
            "backgroundcolor": "white",
            "gridcolor": "#DFE8F3",
            "gridwidth": 2,
            "linecolor": "#EBF0F8",
            "showbackground": true,
            "ticks": "",
            "zerolinecolor": "#EBF0F8"
           }
          },
          "shapedefaults": {
           "line": {
            "color": "#2a3f5f"
           }
          },
          "ternary": {
           "aaxis": {
            "gridcolor": "#DFE8F3",
            "linecolor": "#A2B1C6",
            "ticks": ""
           },
           "baxis": {
            "gridcolor": "#DFE8F3",
            "linecolor": "#A2B1C6",
            "ticks": ""
           },
           "bgcolor": "white",
           "caxis": {
            "gridcolor": "#DFE8F3",
            "linecolor": "#A2B1C6",
            "ticks": ""
           }
          },
          "title": {
           "x": 0.05
          },
          "xaxis": {
           "automargin": true,
           "gridcolor": "#EBF0F8",
           "linecolor": "#EBF0F8",
           "ticks": "",
           "title": {
            "standoff": 15
           },
           "zerolinecolor": "#EBF0F8",
           "zerolinewidth": 2
          },
          "yaxis": {
           "automargin": true,
           "gridcolor": "#EBF0F8",
           "linecolor": "#EBF0F8",
           "ticks": "",
           "title": {
            "standoff": 15
           },
           "zerolinecolor": "#EBF0F8",
           "zerolinewidth": 2
          }
         }
        },
        "xaxis": {
         "anchor": "y",
         "domain": [
          0,
          1
         ],
         "title": {
          "text": "Age"
         }
        },
        "yaxis": {
         "anchor": "x",
         "domain": [
          0,
          1
         ],
         "title": {
          "text": "Sex"
         }
        }
       }
      }
     },
     "metadata": {},
     "output_type": "display_data"
    }
   ],
   "source": [
    "fig = px.bar(df, \n",
    "             x='Age', \n",
    "             y='Sex',\n",
    "             barmode='overlay',\n",
    "             hover_data=['Name'],\n",
    "             template='plotly_white',\n",
    "             color_discrete_sequence=px.colors.qualitative.D3\n",
    "            )\n",
    "fig.show()"
   ]
  },
  {
   "cell_type": "markdown",
   "id": "e9a29288-7228-4476-9e9c-cd3d6fa73726",
   "metadata": {},
   "source": [
    "## Histograms"
   ]
  },
  {
   "cell_type": "code",
   "execution_count": 7,
   "id": "69813105-e3cf-4c08-aca6-b24fe3ce55eb",
   "metadata": {
    "tags": []
   },
   "outputs": [
    {
     "data": {
      "text/plain": [
       "dtype('int64')"
      ]
     },
     "execution_count": 7,
     "metadata": {},
     "output_type": "execute_result"
    }
   ],
   "source": [
    "df['Survived'].dtype"
   ]
  },
  {
   "cell_type": "code",
   "execution_count": 8,
   "id": "d3f4bc2b-47b5-498a-a051-2b09a5662c43",
   "metadata": {
    "tags": []
   },
   "outputs": [
    {
     "data": {
      "application/vnd.plotly.v1+json": {
       "config": {
        "plotlyServerURL": "https://plot.ly"
       },
       "data": [
        {
         "alignmentgroup": "True",
         "bingroup": "x",
         "hovertemplate": "Survived=0<br>Age=%{x}<br>count=%{y}<extra></extra>",
         "legendgroup": "0",
         "marker": {
          "color": "#1F77B4",
          "pattern": {
           "shape": ""
          }
         },
         "name": "0",
         "offsetgroup": "0",
         "orientation": "v",
         "showlegend": true,
         "type": "histogram",
         "x": [
          22,
          35,
          null,
          54,
          2,
          20,
          39,
          14,
          2,
          31,
          35,
          8,
          null,
          19,
          null,
          40,
          66,
          28,
          42,
          21,
          18,
          40,
          27,
          null,
          null,
          null,
          null,
          18,
          7,
          21,
          65,
          28.5,
          11,
          22,
          45,
          4,
          null,
          19,
          26,
          32,
          16,
          21,
          26,
          25,
          null,
          null,
          22,
          28,
          16,
          null,
          24,
          29,
          20,
          46,
          26,
          59,
          null,
          71,
          34,
          28,
          null,
          21,
          33,
          37,
          28,
          38,
          47,
          14.5,
          22,
          20,
          17,
          21,
          70.5,
          29,
          24,
          2,
          21,
          null,
          32.5,
          54,
          null,
          45,
          33,
          20,
          47,
          25,
          23,
          37,
          16,
          24,
          null,
          19,
          18,
          19,
          9,
          36.5,
          42,
          51,
          55.5,
          40.5,
          null,
          51,
          30,
          null,
          null,
          44,
          26,
          17,
          1,
          45,
          null,
          28,
          61,
          4,
          21,
          56,
          18,
          null,
          50,
          30,
          36,
          null,
          null,
          9,
          null,
          40,
          36,
          19,
          null,
          42,
          24,
          28,
          null,
          34,
          45.5,
          2,
          32,
          24,
          22,
          30,
          null,
          42,
          30,
          27,
          51,
          null,
          22,
          20.5,
          18,
          null,
          29,
          59,
          24,
          null,
          44,
          19,
          33,
          null,
          29,
          22,
          30,
          44,
          25,
          54,
          null,
          29,
          62,
          30,
          41,
          null,
          52,
          40,
          null,
          36,
          16,
          null,
          37,
          45,
          null,
          7,
          65,
          28,
          16,
          null,
          33,
          22,
          36,
          24,
          24,
          null,
          23.5,
          2,
          19,
          null,
          30,
          26,
          28,
          43,
          54,
          22,
          27,
          null,
          61,
          45.5,
          38,
          16,
          null,
          29,
          45,
          28,
          25,
          36,
          42,
          23,
          null,
          15,
          25,
          null,
          28,
          38,
          40,
          29,
          45,
          35,
          null,
          30,
          18,
          19,
          22,
          3,
          27,
          20,
          19,
          32,
          null,
          18,
          1,
          null,
          28,
          22,
          31,
          46,
          23,
          26,
          21,
          28,
          20,
          34,
          51,
          21,
          null,
          null,
          null,
          null,
          null,
          30,
          10,
          null,
          21,
          29,
          28,
          18,
          null,
          null,
          17,
          50,
          21,
          64,
          31,
          20,
          25,
          36,
          null,
          30,
          null,
          65,
          null,
          34,
          47,
          48,
          null,
          38,
          null,
          56,
          null,
          null,
          38,
          22,
          null,
          34,
          29,
          22,
          9,
          null,
          50,
          null,
          58,
          30,
          null,
          21,
          55,
          71,
          21,
          null,
          null,
          25,
          24,
          17,
          21,
          null,
          37,
          18,
          28,
          null,
          24,
          47,
          null,
          32,
          22,
          null,
          null,
          40.5,
          null,
          39,
          23,
          null,
          17,
          30,
          45,
          null,
          9,
          11,
          50,
          64,
          33,
          27,
          null,
          62,
          null,
          null,
          40,
          28,
          null,
          null,
          24,
          19,
          29,
          null,
          16,
          19,
          null,
          54,
          36,
          null,
          47,
          22,
          null,
          35,
          47,
          null,
          37,
          36,
          49,
          null,
          null,
          null,
          44,
          36,
          30,
          39,
          null,
          null,
          35,
          34,
          26,
          26,
          27,
          21,
          21,
          61,
          57,
          26,
          null,
          51,
          null,
          9,
          32,
          31,
          41,
          null,
          20,
          2,
          19,
          null,
          null,
          21,
          18,
          24,
          null,
          32,
          23,
          58,
          40,
          47,
          36,
          32,
          25,
          null,
          43,
          31,
          70,
          null,
          18,
          24.5,
          43,
          null,
          20,
          14,
          60,
          25,
          14,
          19,
          18,
          25,
          60,
          52,
          44,
          49,
          42,
          18,
          25,
          26,
          39,
          null,
          29,
          52,
          19,
          null,
          33,
          17,
          34,
          50,
          20,
          25,
          25,
          11,
          null,
          23,
          23,
          28.5,
          48,
          null,
          null,
          36,
          24,
          70,
          16,
          19,
          31,
          33,
          23,
          28,
          18,
          34,
          null,
          41,
          16,
          null,
          30.5,
          null,
          32,
          24,
          48,
          57,
          null,
          18,
          null,
          null,
          29,
          null,
          25,
          25,
          8,
          46,
          null,
          16,
          null,
          null,
          25,
          39,
          30,
          30,
          34,
          31,
          39,
          18,
          39,
          26,
          39,
          35,
          6,
          30.5,
          null,
          23,
          31,
          43,
          10,
          38,
          2,
          null,
          null,
          null,
          23,
          18,
          21,
          null,
          20,
          16,
          34.5,
          17,
          42,
          null,
          35,
          28,
          4,
          74,
          9,
          44,
          null,
          41,
          21,
          null,
          24,
          31,
          null,
          26,
          33,
          47,
          20,
          19,
          null,
          33,
          22,
          28,
          25,
          39,
          27,
          null,
          32
         ],
         "xaxis": "x",
         "yaxis": "y"
        },
        {
         "alignmentgroup": "True",
         "bingroup": "x",
         "hovertemplate": "Survived=1<br>Age=%{x}<br>count=%{y}<extra></extra>",
         "legendgroup": "1",
         "marker": {
          "color": "#FF7F0E",
          "pattern": {
           "shape": ""
          }
         },
         "name": "1",
         "offsetgroup": "1",
         "orientation": "v",
         "showlegend": true,
         "type": "histogram",
         "x": [
          38,
          26,
          35,
          27,
          14,
          4,
          58,
          55,
          null,
          null,
          34,
          15,
          28,
          38,
          null,
          null,
          null,
          null,
          14,
          3,
          19,
          null,
          49,
          29,
          null,
          21,
          5,
          38,
          null,
          29,
          17,
          32,
          0.83,
          30,
          29,
          null,
          17,
          33,
          23,
          23,
          34,
          21,
          null,
          null,
          32.5,
          12,
          24,
          null,
          29,
          19,
          22,
          24,
          27,
          22,
          16,
          40,
          9,
          null,
          1,
          1,
          4,
          null,
          45,
          32,
          19,
          3,
          44,
          58,
          null,
          18,
          26,
          16,
          40,
          35,
          31,
          27,
          32,
          16,
          38,
          19,
          35,
          5,
          8,
          null,
          24,
          37,
          29,
          null,
          30,
          35,
          50,
          3,
          25,
          58,
          35,
          25,
          41,
          null,
          63,
          35,
          19,
          30,
          42,
          22,
          26,
          19,
          null,
          50,
          null,
          null,
          null,
          0.92,
          null,
          17,
          30,
          24,
          18,
          26,
          24,
          31,
          40,
          30,
          22,
          36,
          36,
          31,
          16,
          null,
          null,
          41,
          45,
          2,
          24,
          24,
          40,
          null,
          3,
          22,
          null,
          null,
          60,
          null,
          null,
          24,
          25,
          null,
          22,
          42,
          1,
          35,
          36,
          17,
          36,
          21,
          23,
          24,
          28,
          39,
          3,
          33,
          44,
          34,
          18,
          28,
          19,
          32,
          28,
          null,
          42,
          14,
          24,
          45,
          28,
          null,
          4,
          13,
          34,
          5,
          52,
          49,
          29,
          null,
          50,
          48,
          0.75,
          33,
          23,
          2,
          63,
          25,
          35,
          9,
          54,
          16,
          33,
          null,
          26,
          29,
          36,
          54,
          34,
          36,
          30,
          44,
          50,
          2,
          null,
          7,
          30,
          22,
          36,
          32,
          19,
          null,
          8,
          17,
          22,
          22,
          48,
          39,
          36,
          32,
          62,
          53,
          36,
          null,
          34,
          39,
          32,
          25,
          39,
          18,
          60,
          52,
          null,
          49,
          24,
          35,
          27,
          22,
          40,
          null,
          24,
          4,
          42,
          20,
          21,
          80,
          32,
          28,
          24,
          null,
          0.75,
          48,
          56,
          23,
          18,
          null,
          50,
          20,
          null,
          40,
          31,
          18,
          36,
          27,
          15,
          31,
          4,
          null,
          null,
          18,
          35,
          45,
          42,
          22,
          null,
          24,
          48,
          38,
          27,
          6,
          27,
          30,
          null,
          29,
          35,
          null,
          21,
          31,
          30,
          4,
          6,
          48,
          0.67,
          33,
          20,
          36,
          51,
          54,
          5,
          43,
          13,
          17,
          18,
          1,
          49,
          31,
          31,
          11,
          0.42,
          27,
          33,
          52,
          27,
          27,
          1,
          null,
          62,
          15,
          0.83,
          39,
          32,
          null,
          30,
          null,
          16,
          18,
          45,
          51,
          24,
          48,
          42,
          27,
          4,
          47,
          28,
          15,
          56,
          25,
          19,
          26
         ],
         "xaxis": "x",
         "yaxis": "y"
        }
       ],
       "layout": {
        "bargap": 0.1,
        "barmode": "relative",
        "legend": {
         "title": {
          "text": "Survived"
         },
         "tracegroupgap": 0
        },
        "margin": {
         "t": 60
        },
        "template": {
         "data": {
          "bar": [
           {
            "error_x": {
             "color": "#2a3f5f"
            },
            "error_y": {
             "color": "#2a3f5f"
            },
            "marker": {
             "line": {
              "color": "white",
              "width": 0.5
             },
             "pattern": {
              "fillmode": "overlay",
              "size": 10,
              "solidity": 0.2
             }
            },
            "type": "bar"
           }
          ],
          "barpolar": [
           {
            "marker": {
             "line": {
              "color": "white",
              "width": 0.5
             },
             "pattern": {
              "fillmode": "overlay",
              "size": 10,
              "solidity": 0.2
             }
            },
            "type": "barpolar"
           }
          ],
          "carpet": [
           {
            "aaxis": {
             "endlinecolor": "#2a3f5f",
             "gridcolor": "#C8D4E3",
             "linecolor": "#C8D4E3",
             "minorgridcolor": "#C8D4E3",
             "startlinecolor": "#2a3f5f"
            },
            "baxis": {
             "endlinecolor": "#2a3f5f",
             "gridcolor": "#C8D4E3",
             "linecolor": "#C8D4E3",
             "minorgridcolor": "#C8D4E3",
             "startlinecolor": "#2a3f5f"
            },
            "type": "carpet"
           }
          ],
          "choropleth": [
           {
            "colorbar": {
             "outlinewidth": 0,
             "ticks": ""
            },
            "type": "choropleth"
           }
          ],
          "contour": [
           {
            "colorbar": {
             "outlinewidth": 0,
             "ticks": ""
            },
            "colorscale": [
             [
              0,
              "#0d0887"
             ],
             [
              0.1111111111111111,
              "#46039f"
             ],
             [
              0.2222222222222222,
              "#7201a8"
             ],
             [
              0.3333333333333333,
              "#9c179e"
             ],
             [
              0.4444444444444444,
              "#bd3786"
             ],
             [
              0.5555555555555556,
              "#d8576b"
             ],
             [
              0.6666666666666666,
              "#ed7953"
             ],
             [
              0.7777777777777778,
              "#fb9f3a"
             ],
             [
              0.8888888888888888,
              "#fdca26"
             ],
             [
              1,
              "#f0f921"
             ]
            ],
            "type": "contour"
           }
          ],
          "contourcarpet": [
           {
            "colorbar": {
             "outlinewidth": 0,
             "ticks": ""
            },
            "type": "contourcarpet"
           }
          ],
          "heatmap": [
           {
            "colorbar": {
             "outlinewidth": 0,
             "ticks": ""
            },
            "colorscale": [
             [
              0,
              "#0d0887"
             ],
             [
              0.1111111111111111,
              "#46039f"
             ],
             [
              0.2222222222222222,
              "#7201a8"
             ],
             [
              0.3333333333333333,
              "#9c179e"
             ],
             [
              0.4444444444444444,
              "#bd3786"
             ],
             [
              0.5555555555555556,
              "#d8576b"
             ],
             [
              0.6666666666666666,
              "#ed7953"
             ],
             [
              0.7777777777777778,
              "#fb9f3a"
             ],
             [
              0.8888888888888888,
              "#fdca26"
             ],
             [
              1,
              "#f0f921"
             ]
            ],
            "type": "heatmap"
           }
          ],
          "heatmapgl": [
           {
            "colorbar": {
             "outlinewidth": 0,
             "ticks": ""
            },
            "colorscale": [
             [
              0,
              "#0d0887"
             ],
             [
              0.1111111111111111,
              "#46039f"
             ],
             [
              0.2222222222222222,
              "#7201a8"
             ],
             [
              0.3333333333333333,
              "#9c179e"
             ],
             [
              0.4444444444444444,
              "#bd3786"
             ],
             [
              0.5555555555555556,
              "#d8576b"
             ],
             [
              0.6666666666666666,
              "#ed7953"
             ],
             [
              0.7777777777777778,
              "#fb9f3a"
             ],
             [
              0.8888888888888888,
              "#fdca26"
             ],
             [
              1,
              "#f0f921"
             ]
            ],
            "type": "heatmapgl"
           }
          ],
          "histogram": [
           {
            "marker": {
             "pattern": {
              "fillmode": "overlay",
              "size": 10,
              "solidity": 0.2
             }
            },
            "type": "histogram"
           }
          ],
          "histogram2d": [
           {
            "colorbar": {
             "outlinewidth": 0,
             "ticks": ""
            },
            "colorscale": [
             [
              0,
              "#0d0887"
             ],
             [
              0.1111111111111111,
              "#46039f"
             ],
             [
              0.2222222222222222,
              "#7201a8"
             ],
             [
              0.3333333333333333,
              "#9c179e"
             ],
             [
              0.4444444444444444,
              "#bd3786"
             ],
             [
              0.5555555555555556,
              "#d8576b"
             ],
             [
              0.6666666666666666,
              "#ed7953"
             ],
             [
              0.7777777777777778,
              "#fb9f3a"
             ],
             [
              0.8888888888888888,
              "#fdca26"
             ],
             [
              1,
              "#f0f921"
             ]
            ],
            "type": "histogram2d"
           }
          ],
          "histogram2dcontour": [
           {
            "colorbar": {
             "outlinewidth": 0,
             "ticks": ""
            },
            "colorscale": [
             [
              0,
              "#0d0887"
             ],
             [
              0.1111111111111111,
              "#46039f"
             ],
             [
              0.2222222222222222,
              "#7201a8"
             ],
             [
              0.3333333333333333,
              "#9c179e"
             ],
             [
              0.4444444444444444,
              "#bd3786"
             ],
             [
              0.5555555555555556,
              "#d8576b"
             ],
             [
              0.6666666666666666,
              "#ed7953"
             ],
             [
              0.7777777777777778,
              "#fb9f3a"
             ],
             [
              0.8888888888888888,
              "#fdca26"
             ],
             [
              1,
              "#f0f921"
             ]
            ],
            "type": "histogram2dcontour"
           }
          ],
          "mesh3d": [
           {
            "colorbar": {
             "outlinewidth": 0,
             "ticks": ""
            },
            "type": "mesh3d"
           }
          ],
          "parcoords": [
           {
            "line": {
             "colorbar": {
              "outlinewidth": 0,
              "ticks": ""
             }
            },
            "type": "parcoords"
           }
          ],
          "pie": [
           {
            "automargin": true,
            "type": "pie"
           }
          ],
          "scatter": [
           {
            "fillpattern": {
             "fillmode": "overlay",
             "size": 10,
             "solidity": 0.2
            },
            "type": "scatter"
           }
          ],
          "scatter3d": [
           {
            "line": {
             "colorbar": {
              "outlinewidth": 0,
              "ticks": ""
             }
            },
            "marker": {
             "colorbar": {
              "outlinewidth": 0,
              "ticks": ""
             }
            },
            "type": "scatter3d"
           }
          ],
          "scattercarpet": [
           {
            "marker": {
             "colorbar": {
              "outlinewidth": 0,
              "ticks": ""
             }
            },
            "type": "scattercarpet"
           }
          ],
          "scattergeo": [
           {
            "marker": {
             "colorbar": {
              "outlinewidth": 0,
              "ticks": ""
             }
            },
            "type": "scattergeo"
           }
          ],
          "scattergl": [
           {
            "marker": {
             "colorbar": {
              "outlinewidth": 0,
              "ticks": ""
             }
            },
            "type": "scattergl"
           }
          ],
          "scattermapbox": [
           {
            "marker": {
             "colorbar": {
              "outlinewidth": 0,
              "ticks": ""
             }
            },
            "type": "scattermapbox"
           }
          ],
          "scatterpolar": [
           {
            "marker": {
             "colorbar": {
              "outlinewidth": 0,
              "ticks": ""
             }
            },
            "type": "scatterpolar"
           }
          ],
          "scatterpolargl": [
           {
            "marker": {
             "colorbar": {
              "outlinewidth": 0,
              "ticks": ""
             }
            },
            "type": "scatterpolargl"
           }
          ],
          "scatterternary": [
           {
            "marker": {
             "colorbar": {
              "outlinewidth": 0,
              "ticks": ""
             }
            },
            "type": "scatterternary"
           }
          ],
          "surface": [
           {
            "colorbar": {
             "outlinewidth": 0,
             "ticks": ""
            },
            "colorscale": [
             [
              0,
              "#0d0887"
             ],
             [
              0.1111111111111111,
              "#46039f"
             ],
             [
              0.2222222222222222,
              "#7201a8"
             ],
             [
              0.3333333333333333,
              "#9c179e"
             ],
             [
              0.4444444444444444,
              "#bd3786"
             ],
             [
              0.5555555555555556,
              "#d8576b"
             ],
             [
              0.6666666666666666,
              "#ed7953"
             ],
             [
              0.7777777777777778,
              "#fb9f3a"
             ],
             [
              0.8888888888888888,
              "#fdca26"
             ],
             [
              1,
              "#f0f921"
             ]
            ],
            "type": "surface"
           }
          ],
          "table": [
           {
            "cells": {
             "fill": {
              "color": "#EBF0F8"
             },
             "line": {
              "color": "white"
             }
            },
            "header": {
             "fill": {
              "color": "#C8D4E3"
             },
             "line": {
              "color": "white"
             }
            },
            "type": "table"
           }
          ]
         },
         "layout": {
          "annotationdefaults": {
           "arrowcolor": "#2a3f5f",
           "arrowhead": 0,
           "arrowwidth": 1
          },
          "autotypenumbers": "strict",
          "coloraxis": {
           "colorbar": {
            "outlinewidth": 0,
            "ticks": ""
           }
          },
          "colorscale": {
           "diverging": [
            [
             0,
             "#8e0152"
            ],
            [
             0.1,
             "#c51b7d"
            ],
            [
             0.2,
             "#de77ae"
            ],
            [
             0.3,
             "#f1b6da"
            ],
            [
             0.4,
             "#fde0ef"
            ],
            [
             0.5,
             "#f7f7f7"
            ],
            [
             0.6,
             "#e6f5d0"
            ],
            [
             0.7,
             "#b8e186"
            ],
            [
             0.8,
             "#7fbc41"
            ],
            [
             0.9,
             "#4d9221"
            ],
            [
             1,
             "#276419"
            ]
           ],
           "sequential": [
            [
             0,
             "#0d0887"
            ],
            [
             0.1111111111111111,
             "#46039f"
            ],
            [
             0.2222222222222222,
             "#7201a8"
            ],
            [
             0.3333333333333333,
             "#9c179e"
            ],
            [
             0.4444444444444444,
             "#bd3786"
            ],
            [
             0.5555555555555556,
             "#d8576b"
            ],
            [
             0.6666666666666666,
             "#ed7953"
            ],
            [
             0.7777777777777778,
             "#fb9f3a"
            ],
            [
             0.8888888888888888,
             "#fdca26"
            ],
            [
             1,
             "#f0f921"
            ]
           ],
           "sequentialminus": [
            [
             0,
             "#0d0887"
            ],
            [
             0.1111111111111111,
             "#46039f"
            ],
            [
             0.2222222222222222,
             "#7201a8"
            ],
            [
             0.3333333333333333,
             "#9c179e"
            ],
            [
             0.4444444444444444,
             "#bd3786"
            ],
            [
             0.5555555555555556,
             "#d8576b"
            ],
            [
             0.6666666666666666,
             "#ed7953"
            ],
            [
             0.7777777777777778,
             "#fb9f3a"
            ],
            [
             0.8888888888888888,
             "#fdca26"
            ],
            [
             1,
             "#f0f921"
            ]
           ]
          },
          "colorway": [
           "#636efa",
           "#EF553B",
           "#00cc96",
           "#ab63fa",
           "#FFA15A",
           "#19d3f3",
           "#FF6692",
           "#B6E880",
           "#FF97FF",
           "#FECB52"
          ],
          "font": {
           "color": "#2a3f5f"
          },
          "geo": {
           "bgcolor": "white",
           "lakecolor": "white",
           "landcolor": "white",
           "showlakes": true,
           "showland": true,
           "subunitcolor": "#C8D4E3"
          },
          "hoverlabel": {
           "align": "left"
          },
          "hovermode": "closest",
          "mapbox": {
           "style": "light"
          },
          "paper_bgcolor": "white",
          "plot_bgcolor": "white",
          "polar": {
           "angularaxis": {
            "gridcolor": "#EBF0F8",
            "linecolor": "#EBF0F8",
            "ticks": ""
           },
           "bgcolor": "white",
           "radialaxis": {
            "gridcolor": "#EBF0F8",
            "linecolor": "#EBF0F8",
            "ticks": ""
           }
          },
          "scene": {
           "xaxis": {
            "backgroundcolor": "white",
            "gridcolor": "#DFE8F3",
            "gridwidth": 2,
            "linecolor": "#EBF0F8",
            "showbackground": true,
            "ticks": "",
            "zerolinecolor": "#EBF0F8"
           },
           "yaxis": {
            "backgroundcolor": "white",
            "gridcolor": "#DFE8F3",
            "gridwidth": 2,
            "linecolor": "#EBF0F8",
            "showbackground": true,
            "ticks": "",
            "zerolinecolor": "#EBF0F8"
           },
           "zaxis": {
            "backgroundcolor": "white",
            "gridcolor": "#DFE8F3",
            "gridwidth": 2,
            "linecolor": "#EBF0F8",
            "showbackground": true,
            "ticks": "",
            "zerolinecolor": "#EBF0F8"
           }
          },
          "shapedefaults": {
           "line": {
            "color": "#2a3f5f"
           }
          },
          "ternary": {
           "aaxis": {
            "gridcolor": "#DFE8F3",
            "linecolor": "#A2B1C6",
            "ticks": ""
           },
           "baxis": {
            "gridcolor": "#DFE8F3",
            "linecolor": "#A2B1C6",
            "ticks": ""
           },
           "bgcolor": "white",
           "caxis": {
            "gridcolor": "#DFE8F3",
            "linecolor": "#A2B1C6",
            "ticks": ""
           }
          },
          "title": {
           "x": 0.05
          },
          "xaxis": {
           "automargin": true,
           "gridcolor": "#EBF0F8",
           "linecolor": "#EBF0F8",
           "ticks": "",
           "title": {
            "standoff": 15
           },
           "zerolinecolor": "#EBF0F8",
           "zerolinewidth": 2
          },
          "yaxis": {
           "automargin": true,
           "gridcolor": "#EBF0F8",
           "linecolor": "#EBF0F8",
           "ticks": "",
           "title": {
            "standoff": 15
           },
           "zerolinecolor": "#EBF0F8",
           "zerolinewidth": 2
          }
         }
        },
        "xaxis": {
         "anchor": "y",
         "domain": [
          0,
          1
         ],
         "title": {
          "text": "Age"
         }
        },
        "yaxis": {
         "anchor": "x",
         "domain": [
          0,
          1
         ],
         "title": {
          "text": "count"
         }
        }
       }
      }
     },
     "metadata": {},
     "output_type": "display_data"
    }
   ],
   "source": [
    "fig = px.histogram(df, \n",
    "                   x='Age', \n",
    "                   color='Survived',\n",
    "                   template='plotly_white',\n",
    "                   color_discrete_sequence=px.colors.qualitative.D3\n",
    "                  )\n",
    "\n",
    "fig.update_layout(\n",
    "    bargap=0.1, # gap between bars of adjacent location coordinates\n",
    ")\n",
    "\n",
    "fig.show()"
   ]
  },
  {
   "cell_type": "markdown",
   "id": "6e4f3cf1-d431-4dfb-8e15-40fc61007b49",
   "metadata": {},
   "source": [
    "## Bubble Plot\n",
    "\n",
    "For this plot, we'll transform the data a bit to investigate the survival rates across different age decades."
   ]
  },
  {
   "cell_type": "code",
   "execution_count": 9,
   "id": "65d8b9ae-8928-4899-98dc-47cd650b64b9",
   "metadata": {},
   "outputs": [
    {
     "data": {
      "text/html": [
       "<div>\n",
       "<style scoped>\n",
       "    .dataframe tbody tr th:only-of-type {\n",
       "        vertical-align: middle;\n",
       "    }\n",
       "\n",
       "    .dataframe tbody tr th {\n",
       "        vertical-align: top;\n",
       "    }\n",
       "\n",
       "    .dataframe thead th {\n",
       "        text-align: right;\n",
       "    }\n",
       "</style>\n",
       "<table border=\"1\" class=\"dataframe\">\n",
       "  <thead>\n",
       "    <tr style=\"text-align: right;\">\n",
       "      <th></th>\n",
       "      <th>Age</th>\n",
       "      <th>Age_rounded</th>\n",
       "    </tr>\n",
       "  </thead>\n",
       "  <tbody>\n",
       "    <tr>\n",
       "      <th>0</th>\n",
       "      <td>22.0</td>\n",
       "      <td>20.0</td>\n",
       "    </tr>\n",
       "    <tr>\n",
       "      <th>1</th>\n",
       "      <td>38.0</td>\n",
       "      <td>40.0</td>\n",
       "    </tr>\n",
       "    <tr>\n",
       "      <th>2</th>\n",
       "      <td>26.0</td>\n",
       "      <td>30.0</td>\n",
       "    </tr>\n",
       "    <tr>\n",
       "      <th>3</th>\n",
       "      <td>35.0</td>\n",
       "      <td>40.0</td>\n",
       "    </tr>\n",
       "    <tr>\n",
       "      <th>4</th>\n",
       "      <td>35.0</td>\n",
       "      <td>40.0</td>\n",
       "    </tr>\n",
       "  </tbody>\n",
       "</table>\n",
       "</div>"
      ],
      "text/plain": [
       "    Age  Age_rounded\n",
       "0  22.0         20.0\n",
       "1  38.0         40.0\n",
       "2  26.0         30.0\n",
       "3  35.0         40.0\n",
       "4  35.0         40.0"
      ]
     },
     "execution_count": 9,
     "metadata": {},
     "output_type": "execute_result"
    }
   ],
   "source": [
    "# calculate decade\n",
    "df['Age_rounded'] = df['Age'].round(-1)\n",
    "df[['Age', 'Age_rounded']].head()"
   ]
  },
  {
   "cell_type": "code",
   "execution_count": 10,
   "id": "626f49ac-0fab-4cbf-8ac9-0d66fe6ef34d",
   "metadata": {},
   "outputs": [
    {
     "data": {
      "application/vnd.plotly.v1+json": {
       "config": {
        "plotlyServerURL": "https://plot.ly"
       },
       "data": [
        {
         "hovertemplate": "Pclass=1<br>Age_rounded=%{x}<br>Survived=%{y}<br>Passengers=%{marker.size}<extra></extra>",
         "legendgroup": "1",
         "marker": {
          "color": "#1F77B4",
          "size": [
           3,
           2,
           37,
           31,
           51,
           35,
           23,
           3,
           1
          ],
          "sizemode": "area",
          "sizeref": 0.35,
          "symbol": "circle"
         },
         "mode": "markers",
         "name": "1",
         "orientation": "v",
         "showlegend": true,
         "type": "scatter",
         "x": [
          0,
          10,
          20,
          30,
          40,
          50,
          60,
          70,
          80
         ],
         "xaxis": "x",
         "y": [
          2,
          2,
          29,
          22,
          37,
          20,
          9,
          0,
          1
         ],
         "yaxis": "y"
        },
        {
         "hovertemplate": "Pclass=2<br>Age_rounded=%{x}<br>Survived=%{y}<br>Passengers=%{marker.size}<extra></extra>",
         "legendgroup": "2",
         "marker": {
          "color": "#FF7F0E",
          "size": [
           13,
           6,
           46,
           55,
           30,
           15,
           6,
           2
          ],
          "sizemode": "area",
          "sizeref": 0.35,
          "symbol": "circle"
         },
         "mode": "markers",
         "name": "2",
         "orientation": "v",
         "showlegend": true,
         "type": "scatter",
         "x": [
          0,
          10,
          20,
          30,
          40,
          50,
          60,
          70
         ],
         "xaxis": "x",
         "y": [
          13,
          6,
          19,
          25,
          13,
          5,
          2,
          0
         ],
         "yaxis": "y"
        },
        {
         "hovertemplate": "Pclass=3<br>Age_rounded=%{x}<br>Survived=%{y}<br>Passengers=%{marker.size}<extra></extra>",
         "legendgroup": "3",
         "marker": {
          "color": "#2CA02C",
          "size": [
           28,
           26,
           140,
           92,
           51,
           11,
           5,
           2
          ],
          "sizemode": "area",
          "sizeref": 0.35,
          "symbol": "circle"
         },
         "mode": "markers",
         "name": "3",
         "orientation": "v",
         "showlegend": true,
         "type": "scatter",
         "x": [
          0,
          10,
          20,
          30,
          40,
          50,
          60,
          70
         ],
         "xaxis": "x",
         "y": [
          16,
          6,
          31,
          25,
          6,
          0,
          1,
          0
         ],
         "yaxis": "y"
        }
       ],
       "layout": {
        "legend": {
         "itemsizing": "constant",
         "title": {
          "text": "Pclass"
         },
         "tracegroupgap": 0
        },
        "margin": {
         "t": 60
        },
        "template": {
         "data": {
          "bar": [
           {
            "error_x": {
             "color": "#2a3f5f"
            },
            "error_y": {
             "color": "#2a3f5f"
            },
            "marker": {
             "line": {
              "color": "white",
              "width": 0.5
             },
             "pattern": {
              "fillmode": "overlay",
              "size": 10,
              "solidity": 0.2
             }
            },
            "type": "bar"
           }
          ],
          "barpolar": [
           {
            "marker": {
             "line": {
              "color": "white",
              "width": 0.5
             },
             "pattern": {
              "fillmode": "overlay",
              "size": 10,
              "solidity": 0.2
             }
            },
            "type": "barpolar"
           }
          ],
          "carpet": [
           {
            "aaxis": {
             "endlinecolor": "#2a3f5f",
             "gridcolor": "#C8D4E3",
             "linecolor": "#C8D4E3",
             "minorgridcolor": "#C8D4E3",
             "startlinecolor": "#2a3f5f"
            },
            "baxis": {
             "endlinecolor": "#2a3f5f",
             "gridcolor": "#C8D4E3",
             "linecolor": "#C8D4E3",
             "minorgridcolor": "#C8D4E3",
             "startlinecolor": "#2a3f5f"
            },
            "type": "carpet"
           }
          ],
          "choropleth": [
           {
            "colorbar": {
             "outlinewidth": 0,
             "ticks": ""
            },
            "type": "choropleth"
           }
          ],
          "contour": [
           {
            "colorbar": {
             "outlinewidth": 0,
             "ticks": ""
            },
            "colorscale": [
             [
              0,
              "#0d0887"
             ],
             [
              0.1111111111111111,
              "#46039f"
             ],
             [
              0.2222222222222222,
              "#7201a8"
             ],
             [
              0.3333333333333333,
              "#9c179e"
             ],
             [
              0.4444444444444444,
              "#bd3786"
             ],
             [
              0.5555555555555556,
              "#d8576b"
             ],
             [
              0.6666666666666666,
              "#ed7953"
             ],
             [
              0.7777777777777778,
              "#fb9f3a"
             ],
             [
              0.8888888888888888,
              "#fdca26"
             ],
             [
              1,
              "#f0f921"
             ]
            ],
            "type": "contour"
           }
          ],
          "contourcarpet": [
           {
            "colorbar": {
             "outlinewidth": 0,
             "ticks": ""
            },
            "type": "contourcarpet"
           }
          ],
          "heatmap": [
           {
            "colorbar": {
             "outlinewidth": 0,
             "ticks": ""
            },
            "colorscale": [
             [
              0,
              "#0d0887"
             ],
             [
              0.1111111111111111,
              "#46039f"
             ],
             [
              0.2222222222222222,
              "#7201a8"
             ],
             [
              0.3333333333333333,
              "#9c179e"
             ],
             [
              0.4444444444444444,
              "#bd3786"
             ],
             [
              0.5555555555555556,
              "#d8576b"
             ],
             [
              0.6666666666666666,
              "#ed7953"
             ],
             [
              0.7777777777777778,
              "#fb9f3a"
             ],
             [
              0.8888888888888888,
              "#fdca26"
             ],
             [
              1,
              "#f0f921"
             ]
            ],
            "type": "heatmap"
           }
          ],
          "heatmapgl": [
           {
            "colorbar": {
             "outlinewidth": 0,
             "ticks": ""
            },
            "colorscale": [
             [
              0,
              "#0d0887"
             ],
             [
              0.1111111111111111,
              "#46039f"
             ],
             [
              0.2222222222222222,
              "#7201a8"
             ],
             [
              0.3333333333333333,
              "#9c179e"
             ],
             [
              0.4444444444444444,
              "#bd3786"
             ],
             [
              0.5555555555555556,
              "#d8576b"
             ],
             [
              0.6666666666666666,
              "#ed7953"
             ],
             [
              0.7777777777777778,
              "#fb9f3a"
             ],
             [
              0.8888888888888888,
              "#fdca26"
             ],
             [
              1,
              "#f0f921"
             ]
            ],
            "type": "heatmapgl"
           }
          ],
          "histogram": [
           {
            "marker": {
             "pattern": {
              "fillmode": "overlay",
              "size": 10,
              "solidity": 0.2
             }
            },
            "type": "histogram"
           }
          ],
          "histogram2d": [
           {
            "colorbar": {
             "outlinewidth": 0,
             "ticks": ""
            },
            "colorscale": [
             [
              0,
              "#0d0887"
             ],
             [
              0.1111111111111111,
              "#46039f"
             ],
             [
              0.2222222222222222,
              "#7201a8"
             ],
             [
              0.3333333333333333,
              "#9c179e"
             ],
             [
              0.4444444444444444,
              "#bd3786"
             ],
             [
              0.5555555555555556,
              "#d8576b"
             ],
             [
              0.6666666666666666,
              "#ed7953"
             ],
             [
              0.7777777777777778,
              "#fb9f3a"
             ],
             [
              0.8888888888888888,
              "#fdca26"
             ],
             [
              1,
              "#f0f921"
             ]
            ],
            "type": "histogram2d"
           }
          ],
          "histogram2dcontour": [
           {
            "colorbar": {
             "outlinewidth": 0,
             "ticks": ""
            },
            "colorscale": [
             [
              0,
              "#0d0887"
             ],
             [
              0.1111111111111111,
              "#46039f"
             ],
             [
              0.2222222222222222,
              "#7201a8"
             ],
             [
              0.3333333333333333,
              "#9c179e"
             ],
             [
              0.4444444444444444,
              "#bd3786"
             ],
             [
              0.5555555555555556,
              "#d8576b"
             ],
             [
              0.6666666666666666,
              "#ed7953"
             ],
             [
              0.7777777777777778,
              "#fb9f3a"
             ],
             [
              0.8888888888888888,
              "#fdca26"
             ],
             [
              1,
              "#f0f921"
             ]
            ],
            "type": "histogram2dcontour"
           }
          ],
          "mesh3d": [
           {
            "colorbar": {
             "outlinewidth": 0,
             "ticks": ""
            },
            "type": "mesh3d"
           }
          ],
          "parcoords": [
           {
            "line": {
             "colorbar": {
              "outlinewidth": 0,
              "ticks": ""
             }
            },
            "type": "parcoords"
           }
          ],
          "pie": [
           {
            "automargin": true,
            "type": "pie"
           }
          ],
          "scatter": [
           {
            "fillpattern": {
             "fillmode": "overlay",
             "size": 10,
             "solidity": 0.2
            },
            "type": "scatter"
           }
          ],
          "scatter3d": [
           {
            "line": {
             "colorbar": {
              "outlinewidth": 0,
              "ticks": ""
             }
            },
            "marker": {
             "colorbar": {
              "outlinewidth": 0,
              "ticks": ""
             }
            },
            "type": "scatter3d"
           }
          ],
          "scattercarpet": [
           {
            "marker": {
             "colorbar": {
              "outlinewidth": 0,
              "ticks": ""
             }
            },
            "type": "scattercarpet"
           }
          ],
          "scattergeo": [
           {
            "marker": {
             "colorbar": {
              "outlinewidth": 0,
              "ticks": ""
             }
            },
            "type": "scattergeo"
           }
          ],
          "scattergl": [
           {
            "marker": {
             "colorbar": {
              "outlinewidth": 0,
              "ticks": ""
             }
            },
            "type": "scattergl"
           }
          ],
          "scattermapbox": [
           {
            "marker": {
             "colorbar": {
              "outlinewidth": 0,
              "ticks": ""
             }
            },
            "type": "scattermapbox"
           }
          ],
          "scatterpolar": [
           {
            "marker": {
             "colorbar": {
              "outlinewidth": 0,
              "ticks": ""
             }
            },
            "type": "scatterpolar"
           }
          ],
          "scatterpolargl": [
           {
            "marker": {
             "colorbar": {
              "outlinewidth": 0,
              "ticks": ""
             }
            },
            "type": "scatterpolargl"
           }
          ],
          "scatterternary": [
           {
            "marker": {
             "colorbar": {
              "outlinewidth": 0,
              "ticks": ""
             }
            },
            "type": "scatterternary"
           }
          ],
          "surface": [
           {
            "colorbar": {
             "outlinewidth": 0,
             "ticks": ""
            },
            "colorscale": [
             [
              0,
              "#0d0887"
             ],
             [
              0.1111111111111111,
              "#46039f"
             ],
             [
              0.2222222222222222,
              "#7201a8"
             ],
             [
              0.3333333333333333,
              "#9c179e"
             ],
             [
              0.4444444444444444,
              "#bd3786"
             ],
             [
              0.5555555555555556,
              "#d8576b"
             ],
             [
              0.6666666666666666,
              "#ed7953"
             ],
             [
              0.7777777777777778,
              "#fb9f3a"
             ],
             [
              0.8888888888888888,
              "#fdca26"
             ],
             [
              1,
              "#f0f921"
             ]
            ],
            "type": "surface"
           }
          ],
          "table": [
           {
            "cells": {
             "fill": {
              "color": "#EBF0F8"
             },
             "line": {
              "color": "white"
             }
            },
            "header": {
             "fill": {
              "color": "#C8D4E3"
             },
             "line": {
              "color": "white"
             }
            },
            "type": "table"
           }
          ]
         },
         "layout": {
          "annotationdefaults": {
           "arrowcolor": "#2a3f5f",
           "arrowhead": 0,
           "arrowwidth": 1
          },
          "autotypenumbers": "strict",
          "coloraxis": {
           "colorbar": {
            "outlinewidth": 0,
            "ticks": ""
           }
          },
          "colorscale": {
           "diverging": [
            [
             0,
             "#8e0152"
            ],
            [
             0.1,
             "#c51b7d"
            ],
            [
             0.2,
             "#de77ae"
            ],
            [
             0.3,
             "#f1b6da"
            ],
            [
             0.4,
             "#fde0ef"
            ],
            [
             0.5,
             "#f7f7f7"
            ],
            [
             0.6,
             "#e6f5d0"
            ],
            [
             0.7,
             "#b8e186"
            ],
            [
             0.8,
             "#7fbc41"
            ],
            [
             0.9,
             "#4d9221"
            ],
            [
             1,
             "#276419"
            ]
           ],
           "sequential": [
            [
             0,
             "#0d0887"
            ],
            [
             0.1111111111111111,
             "#46039f"
            ],
            [
             0.2222222222222222,
             "#7201a8"
            ],
            [
             0.3333333333333333,
             "#9c179e"
            ],
            [
             0.4444444444444444,
             "#bd3786"
            ],
            [
             0.5555555555555556,
             "#d8576b"
            ],
            [
             0.6666666666666666,
             "#ed7953"
            ],
            [
             0.7777777777777778,
             "#fb9f3a"
            ],
            [
             0.8888888888888888,
             "#fdca26"
            ],
            [
             1,
             "#f0f921"
            ]
           ],
           "sequentialminus": [
            [
             0,
             "#0d0887"
            ],
            [
             0.1111111111111111,
             "#46039f"
            ],
            [
             0.2222222222222222,
             "#7201a8"
            ],
            [
             0.3333333333333333,
             "#9c179e"
            ],
            [
             0.4444444444444444,
             "#bd3786"
            ],
            [
             0.5555555555555556,
             "#d8576b"
            ],
            [
             0.6666666666666666,
             "#ed7953"
            ],
            [
             0.7777777777777778,
             "#fb9f3a"
            ],
            [
             0.8888888888888888,
             "#fdca26"
            ],
            [
             1,
             "#f0f921"
            ]
           ]
          },
          "colorway": [
           "#636efa",
           "#EF553B",
           "#00cc96",
           "#ab63fa",
           "#FFA15A",
           "#19d3f3",
           "#FF6692",
           "#B6E880",
           "#FF97FF",
           "#FECB52"
          ],
          "font": {
           "color": "#2a3f5f"
          },
          "geo": {
           "bgcolor": "white",
           "lakecolor": "white",
           "landcolor": "white",
           "showlakes": true,
           "showland": true,
           "subunitcolor": "#C8D4E3"
          },
          "hoverlabel": {
           "align": "left"
          },
          "hovermode": "closest",
          "mapbox": {
           "style": "light"
          },
          "paper_bgcolor": "white",
          "plot_bgcolor": "white",
          "polar": {
           "angularaxis": {
            "gridcolor": "#EBF0F8",
            "linecolor": "#EBF0F8",
            "ticks": ""
           },
           "bgcolor": "white",
           "radialaxis": {
            "gridcolor": "#EBF0F8",
            "linecolor": "#EBF0F8",
            "ticks": ""
           }
          },
          "scene": {
           "xaxis": {
            "backgroundcolor": "white",
            "gridcolor": "#DFE8F3",
            "gridwidth": 2,
            "linecolor": "#EBF0F8",
            "showbackground": true,
            "ticks": "",
            "zerolinecolor": "#EBF0F8"
           },
           "yaxis": {
            "backgroundcolor": "white",
            "gridcolor": "#DFE8F3",
            "gridwidth": 2,
            "linecolor": "#EBF0F8",
            "showbackground": true,
            "ticks": "",
            "zerolinecolor": "#EBF0F8"
           },
           "zaxis": {
            "backgroundcolor": "white",
            "gridcolor": "#DFE8F3",
            "gridwidth": 2,
            "linecolor": "#EBF0F8",
            "showbackground": true,
            "ticks": "",
            "zerolinecolor": "#EBF0F8"
           }
          },
          "shapedefaults": {
           "line": {
            "color": "#2a3f5f"
           }
          },
          "ternary": {
           "aaxis": {
            "gridcolor": "#DFE8F3",
            "linecolor": "#A2B1C6",
            "ticks": ""
           },
           "baxis": {
            "gridcolor": "#DFE8F3",
            "linecolor": "#A2B1C6",
            "ticks": ""
           },
           "bgcolor": "white",
           "caxis": {
            "gridcolor": "#DFE8F3",
            "linecolor": "#A2B1C6",
            "ticks": ""
           }
          },
          "title": {
           "x": 0.05
          },
          "xaxis": {
           "automargin": true,
           "gridcolor": "#EBF0F8",
           "linecolor": "#EBF0F8",
           "ticks": "",
           "title": {
            "standoff": 15
           },
           "zerolinecolor": "#EBF0F8",
           "zerolinewidth": 2
          },
          "yaxis": {
           "automargin": true,
           "gridcolor": "#EBF0F8",
           "linecolor": "#EBF0F8",
           "ticks": "",
           "title": {
            "standoff": 15
           },
           "zerolinecolor": "#EBF0F8",
           "zerolinewidth": 2
          }
         }
        },
        "xaxis": {
         "anchor": "y",
         "domain": [
          0,
          1
         ],
         "title": {
          "text": "Age_rounded"
         }
        },
        "yaxis": {
         "anchor": "x",
         "domain": [
          0,
          1
         ],
         "title": {
          "text": "Survived"
         }
        }
       }
      }
     },
     "metadata": {},
     "output_type": "display_data"
    }
   ],
   "source": [
    "df_plot = df.groupby(['Pclass', 'Age_rounded'])['Survived'] \\\n",
    "            .agg([('Survived', 'sum'), \n",
    "                  ('Passengers', 'count')]).reset_index()\n",
    "\n",
    "df_plot[\"Pclass\"] = df_plot[\"Pclass\"].astype(str)\n",
    "\n",
    "fig = px.scatter(data_frame=df_plot,\n",
    "                 x='Age_rounded',\n",
    "                 y='Survived',\n",
    "                 size='Passengers',\n",
    "                 color='Pclass',\n",
    "                 color_discrete_sequence=px.colors.qualitative.D3,\n",
    "                 template='plotly_white')\n",
    "fig.show()"
   ]
  },
  {
   "cell_type": "markdown",
   "id": "ce35979f-ce79-4f40-9550-9dceaf9c9191",
   "metadata": {},
   "source": [
    "## Limitations ...\n",
    "\n",
    "What if we want to be able to \"animate\" the age decade of the passengers? [Be careful](https://plotly.com/python/animations/#:~:text=Animations%20are%20designed%20to%20work%20well%20when%20each%20row%20of%20input%20is%20present%20across%20all%20animation%20frames%2C%20and%20when%20categorical%20values%20mapped%20to%20symbol%2C%20color%20and%20facet%20are%20constant%20across%20frames.%20Animations%20may%20be%20misleading%20or%20inconsistent%20if%20these%20constraints%20are%20not%20met.)."
   ]
  },
  {
   "cell_type": "code",
   "execution_count": 11,
   "id": "97b6677b-5442-4e3d-bd4a-4f36659b44c1",
   "metadata": {
    "tags": []
   },
   "outputs": [
    {
     "data": {
      "application/vnd.plotly.v1+json": {
       "config": {
        "plotlyServerURL": "https://plot.ly"
       },
       "data": [
        {
         "alignmentgroup": "True",
         "bingroup": "x",
         "hovertemplate": "Survived=0<br>Age_rounded=0.0<br>Pclass=%{x}<br>count=%{y}<extra></extra>",
         "legendgroup": "0",
         "marker": {
          "color": "#1F77B4",
          "pattern": {
           "shape": ""
          }
         },
         "name": "0",
         "offsetgroup": "0",
         "orientation": "v",
         "showlegend": true,
         "type": "histogram",
         "x": [
          3,
          1,
          3,
          3,
          3,
          3,
          3,
          3,
          3,
          3,
          3,
          3,
          3
         ],
         "xaxis": "x",
         "yaxis": "y"
        },
        {
         "alignmentgroup": "True",
         "bingroup": "x",
         "hovertemplate": "Survived=1<br>Age_rounded=0.0<br>Pclass=%{x}<br>count=%{y}<extra></extra>",
         "legendgroup": "1",
         "marker": {
          "color": "#FF7F0E",
          "pattern": {
           "shape": ""
          }
         },
         "name": "1",
         "offsetgroup": "1",
         "orientation": "v",
         "showlegend": true,
         "type": "histogram",
         "x": [
          3,
          2,
          3,
          2,
          2,
          3,
          2,
          2,
          3,
          2,
          2,
          2,
          2,
          2,
          2,
          3,
          1,
          1,
          3,
          3,
          3,
          3,
          2,
          3,
          3,
          3,
          2,
          3,
          3,
          3,
          3
         ],
         "xaxis": "x",
         "yaxis": "y"
        }
       ],
       "frames": [
        {
         "data": [
          {
           "alignmentgroup": "True",
           "bingroup": "x",
           "hovertemplate": "Survived=0<br>Age_rounded=0.0<br>Pclass=%{x}<br>count=%{y}<extra></extra>",
           "legendgroup": "0",
           "marker": {
            "color": "#1F77B4",
            "pattern": {
             "shape": ""
            }
           },
           "name": "0",
           "offsetgroup": "0",
           "orientation": "v",
           "showlegend": true,
           "type": "histogram",
           "x": [
            3,
            1,
            3,
            3,
            3,
            3,
            3,
            3,
            3,
            3,
            3,
            3,
            3
           ],
           "xaxis": "x",
           "yaxis": "y"
          },
          {
           "alignmentgroup": "True",
           "bingroup": "x",
           "hovertemplate": "Survived=1<br>Age_rounded=0.0<br>Pclass=%{x}<br>count=%{y}<extra></extra>",
           "legendgroup": "1",
           "marker": {
            "color": "#FF7F0E",
            "pattern": {
             "shape": ""
            }
           },
           "name": "1",
           "offsetgroup": "1",
           "orientation": "v",
           "showlegend": true,
           "type": "histogram",
           "x": [
            3,
            2,
            3,
            2,
            2,
            3,
            2,
            2,
            3,
            2,
            2,
            2,
            2,
            2,
            2,
            3,
            1,
            1,
            3,
            3,
            3,
            3,
            2,
            3,
            3,
            3,
            2,
            3,
            3,
            3,
            3
           ],
           "xaxis": "x",
           "yaxis": "y"
          }
         ],
         "name": "0.0"
        },
        {
         "data": [
          {
           "alignmentgroup": "True",
           "bingroup": "x",
           "hovertemplate": "Survived=0<br>Age_rounded=10.0<br>Pclass=%{x}<br>count=%{y}<extra></extra>",
           "legendgroup": "0",
           "marker": {
            "color": "#1F77B4",
            "pattern": {
             "shape": ""
            }
           },
           "name": "0",
           "offsetgroup": "0",
           "orientation": "v",
           "showlegend": true,
           "type": "histogram",
           "x": [
            3,
            3,
            3,
            3,
            3,
            3,
            3,
            3,
            3,
            3,
            3,
            3,
            3,
            3,
            3,
            3,
            3,
            3,
            3,
            3
           ],
           "xaxis": "x",
           "yaxis": "y"
          },
          {
           "alignmentgroup": "True",
           "bingroup": "x",
           "hovertemplate": "Survived=1<br>Age_rounded=10.0<br>Pclass=%{x}<br>count=%{y}<extra></extra>",
           "legendgroup": "1",
           "marker": {
            "color": "#FF7F0E",
            "pattern": {
             "shape": ""
            }
           },
           "name": "1",
           "offsetgroup": "1",
           "orientation": "v",
           "showlegend": true,
           "type": "histogram",
           "x": [
            2,
            3,
            3,
            3,
            3,
            1,
            3,
            1,
            2,
            2,
            2,
            2,
            3,
            2
           ],
           "xaxis": "x",
           "yaxis": "y"
          }
         ],
         "name": "10.0"
        },
        {
         "data": [
          {
           "alignmentgroup": "True",
           "bingroup": "x",
           "hovertemplate": "Survived=0<br>Age_rounded=20.0<br>Pclass=%{x}<br>count=%{y}<extra></extra>",
           "legendgroup": "0",
           "marker": {
            "color": "#1F77B4",
            "pattern": {
             "shape": ""
            }
           },
           "name": "0",
           "offsetgroup": "0",
           "orientation": "v",
           "showlegend": true,
           "type": "histogram",
           "x": [
            3,
            3,
            3,
            3,
            3,
            3,
            3,
            3,
            2,
            3,
            3,
            3,
            2,
            3,
            2,
            3,
            3,
            3,
            3,
            2,
            3,
            3,
            3,
            3,
            3,
            3,
            3,
            3,
            3,
            2,
            3,
            3,
            3,
            2,
            3,
            3,
            3,
            3,
            3,
            1,
            3,
            3,
            3,
            1,
            3,
            3,
            3,
            3,
            3,
            3,
            3,
            3,
            3,
            3,
            2,
            3,
            3,
            3,
            2,
            3,
            3,
            3,
            3,
            1,
            3,
            3,
            3,
            2,
            3,
            3,
            3,
            3,
            3,
            2,
            2,
            2,
            3,
            1,
            3,
            2,
            2,
            3,
            3,
            3,
            3,
            2,
            3,
            1,
            3,
            3,
            3,
            3,
            3,
            3,
            2,
            3,
            2,
            3,
            3,
            1,
            3,
            3,
            3,
            3,
            3,
            3,
            3,
            3,
            2,
            3,
            3,
            3,
            2,
            3,
            3,
            3,
            3,
            2,
            2,
            3,
            2,
            3,
            3,
            3,
            3,
            2,
            3,
            3,
            3,
            2,
            3,
            3,
            3,
            3,
            3,
            1,
            2,
            3,
            2,
            3,
            2,
            1,
            3,
            3
           ],
           "xaxis": "x",
           "yaxis": "y"
          },
          {
           "alignmentgroup": "True",
           "bingroup": "x",
           "hovertemplate": "Survived=1<br>Age_rounded=20.0<br>Pclass=%{x}<br>count=%{y}<extra></extra>",
           "legendgroup": "1",
           "marker": {
            "color": "#FF7F0E",
            "pattern": {
             "shape": ""
            }
           },
           "name": "1",
           "offsetgroup": "1",
           "orientation": "v",
           "showlegend": true,
           "type": "histogram",
           "x": [
            2,
            1,
            1,
            1,
            2,
            1,
            3,
            1,
            2,
            1,
            3,
            3,
            3,
            3,
            3,
            1,
            1,
            3,
            1,
            2,
            2,
            1,
            1,
            3,
            3,
            2,
            2,
            1,
            1,
            2,
            3,
            1,
            3,
            1,
            2,
            2,
            2,
            2,
            1,
            3,
            1,
            1,
            1,
            2,
            3,
            1,
            1,
            2,
            2,
            3,
            1,
            3,
            3,
            1,
            2,
            3,
            3,
            3,
            1,
            3,
            2,
            3,
            1,
            1,
            3,
            3,
            1,
            3,
            1,
            2,
            3,
            2,
            1,
            3,
            3,
            3,
            3,
            3,
            3
           ],
           "xaxis": "x",
           "yaxis": "y"
          }
         ],
         "name": "20.0"
        },
        {
         "data": [
          {
           "alignmentgroup": "True",
           "bingroup": "x",
           "hovertemplate": "Survived=0<br>Age_rounded=30.0<br>Pclass=%{x}<br>count=%{y}<extra></extra>",
           "legendgroup": "0",
           "marker": {
            "color": "#1F77B4",
            "pattern": {
             "shape": ""
            }
           },
           "name": "0",
           "offsetgroup": "0",
           "orientation": "v",
           "showlegend": true,
           "type": "histogram",
           "x": [
            2,
            2,
            3,
            1,
            3,
            3,
            3,
            3,
            3,
            2,
            1,
            3,
            3,
            2,
            3,
            3,
            3,
            3,
            3,
            3,
            3,
            2,
            1,
            3,
            2,
            3,
            3,
            3,
            1,
            2,
            3,
            2,
            3,
            3,
            3,
            3,
            2,
            2,
            3,
            3,
            3,
            3,
            2,
            3,
            3,
            3,
            2,
            3,
            3,
            3,
            2,
            2,
            3,
            2,
            2,
            3,
            2,
            3,
            3,
            3,
            2,
            3,
            2,
            1,
            3,
            3,
            2,
            2,
            3,
            3,
            2,
            3,
            2,
            3,
            3,
            2,
            1,
            3,
            3,
            1,
            3,
            3,
            3,
            3,
            3,
            2,
            2,
            3,
            3,
            3,
            2,
            3,
            1,
            3,
            3,
            3,
            2,
            2,
            3,
            3,
            2,
            1,
            3,
            3,
            3,
            3
           ],
           "xaxis": "x",
           "yaxis": "y"
          },
          {
           "alignmentgroup": "True",
           "bingroup": "x",
           "hovertemplate": "Survived=1<br>Age_rounded=30.0<br>Pclass=%{x}<br>count=%{y}<extra></extra>",
           "legendgroup": "1",
           "marker": {
            "color": "#FF7F0E",
            "pattern": {
             "shape": ""
            }
           },
           "name": "1",
           "offsetgroup": "1",
           "orientation": "v",
           "showlegend": true,
           "type": "histogram",
           "x": [
            2,
            3,
            2,
            3,
            2,
            2,
            1,
            3,
            1,
            1,
            2,
            2,
            1,
            2,
            3,
            2,
            1,
            1,
            2,
            1,
            1,
            2,
            3,
            3,
            3,
            1,
            2,
            3,
            3,
            1,
            3,
            1,
            2,
            2,
            3,
            1,
            3,
            1,
            3,
            3,
            2,
            1,
            3,
            1,
            1,
            3,
            2,
            3,
            3,
            2,
            2,
            1,
            2,
            3,
            3,
            3,
            3,
            2,
            2,
            2,
            3,
            1,
            2,
            2,
            1,
            2,
            3,
            1,
            1,
            1,
            3,
            2
           ],
           "xaxis": "x",
           "yaxis": "y"
          }
         ],
         "name": "30.0"
        },
        {
         "data": [
          {
           "alignmentgroup": "True",
           "bingroup": "x",
           "hovertemplate": "Survived=0<br>Age_rounded=40.0<br>Pclass=%{x}<br>count=%{y}<extra></extra>",
           "legendgroup": "0",
           "marker": {
            "color": "#1F77B4",
            "pattern": {
             "shape": ""
            }
           },
           "name": "0",
           "offsetgroup": "0",
           "orientation": "v",
           "showlegend": true,
           "type": "histogram",
           "x": [
            3,
            1,
            3,
            2,
            1,
            3,
            3,
            2,
            1,
            3,
            2,
            2,
            3,
            2,
            3,
            3,
            2,
            1,
            2,
            3,
            2,
            2,
            2,
            3,
            3,
            1,
            1,
            3,
            3,
            2,
            3,
            3,
            3,
            3,
            3,
            2,
            1,
            1,
            3,
            3,
            3,
            3,
            3,
            3,
            3,
            1,
            2,
            3,
            3,
            3,
            3,
            3,
            3,
            2,
            3,
            1,
            3,
            1,
            3,
            3,
            3,
            3,
            3,
            1,
            3,
            3,
            2,
            2,
            3,
            3,
            3,
            3,
            1,
            3,
            2,
            1
           ],
           "xaxis": "x",
           "yaxis": "y"
          },
          {
           "alignmentgroup": "True",
           "bingroup": "x",
           "hovertemplate": "Survived=1<br>Age_rounded=40.0<br>Pclass=%{x}<br>count=%{y}<extra></extra>",
           "legendgroup": "1",
           "marker": {
            "color": "#FF7F0E",
            "pattern": {
             "shape": ""
            }
           },
           "name": "1",
           "offsetgroup": "1",
           "orientation": "v",
           "showlegend": true,
           "type": "histogram",
           "x": [
            1,
            1,
            1,
            1,
            3,
            1,
            1,
            1,
            2,
            2,
            1,
            1,
            1,
            1,
            1,
            2,
            2,
            1,
            1,
            2,
            1,
            3,
            2,
            1,
            1,
            1,
            2,
            1,
            1,
            1,
            1,
            1,
            1,
            2,
            1,
            3,
            1,
            2,
            1,
            1,
            2,
            1,
            3,
            1,
            1,
            1,
            2,
            1,
            1,
            3,
            2,
            1,
            3,
            1,
            2,
            1
           ],
           "xaxis": "x",
           "yaxis": "y"
          }
         ],
         "name": "40.0"
        },
        {
         "data": [
          {
           "alignmentgroup": "True",
           "bingroup": "x",
           "hovertemplate": "Survived=0<br>Age_rounded=50.0<br>Pclass=%{x}<br>count=%{y}<extra></extra>",
           "legendgroup": "0",
           "marker": {
            "color": "#1F77B4",
            "pattern": {
             "shape": ""
            }
           },
           "name": "0",
           "offsetgroup": "0",
           "orientation": "v",
           "showlegend": true,
           "type": "histogram",
           "x": [
            1,
            1,
            3,
            1,
            2,
            1,
            1,
            1,
            3,
            1,
            3,
            1,
            2,
            3,
            1,
            3,
            2,
            1,
            2,
            1,
            2,
            3,
            1,
            1,
            2,
            3,
            2,
            1,
            2,
            3,
            3,
            3,
            2,
            2,
            3,
            1
           ],
           "xaxis": "x",
           "yaxis": "y"
          },
          {
           "alignmentgroup": "True",
           "bingroup": "x",
           "hovertemplate": "Survived=1<br>Age_rounded=50.0<br>Pclass=%{x}<br>count=%{y}<extra></extra>",
           "legendgroup": "1",
           "marker": {
            "color": "#FF7F0E",
            "pattern": {
             "shape": ""
            }
           },
           "name": "1",
           "offsetgroup": "1",
           "orientation": "v",
           "showlegend": true,
           "type": "histogram",
           "x": [
            1,
            1,
            1,
            1,
            2,
            1,
            1,
            1,
            1,
            1,
            2,
            1,
            1,
            1,
            1,
            1,
            1,
            2,
            2,
            1,
            2,
            1,
            1,
            1,
            1
           ],
           "xaxis": "x",
           "yaxis": "y"
          }
         ],
         "name": "50.0"
        },
        {
         "data": [
          {
           "alignmentgroup": "True",
           "bingroup": "x",
           "hovertemplate": "Survived=0<br>Age_rounded=60.0<br>Pclass=%{x}<br>count=%{y}<extra></extra>",
           "legendgroup": "0",
           "marker": {
            "color": "#1F77B4",
            "pattern": {
             "shape": ""
            }
           },
           "name": "0",
           "offsetgroup": "0",
           "orientation": "v",
           "showlegend": true,
           "type": "histogram",
           "x": [
            1,
            1,
            2,
            1,
            2,
            3,
            1,
            1,
            3,
            2,
            1,
            1,
            1,
            1,
            1,
            1,
            1,
            2,
            1,
            3,
            1,
            3
           ],
           "xaxis": "x",
           "yaxis": "y"
          },
          {
           "alignmentgroup": "True",
           "bingroup": "x",
           "hovertemplate": "Survived=1<br>Age_rounded=60.0<br>Pclass=%{x}<br>count=%{y}<extra></extra>",
           "legendgroup": "1",
           "marker": {
            "color": "#FF7F0E",
            "pattern": {
             "shape": ""
            }
           },
           "name": "1",
           "offsetgroup": "1",
           "orientation": "v",
           "showlegend": true,
           "type": "histogram",
           "x": [
            1,
            1,
            2,
            3,
            2,
            1,
            1,
            1,
            1,
            1,
            1,
            1
           ],
           "xaxis": "x",
           "yaxis": "y"
          }
         ],
         "name": "60.0"
        },
        {
         "data": [
          {
           "alignmentgroup": "True",
           "bingroup": "x",
           "hovertemplate": "Survived=0<br>Age_rounded=70.0<br>Pclass=%{x}<br>count=%{y}<extra></extra>",
           "legendgroup": "0",
           "marker": {
            "color": "#1F77B4",
            "pattern": {
             "shape": ""
            }
           },
           "name": "0",
           "offsetgroup": "0",
           "orientation": "v",
           "showlegend": true,
           "type": "histogram",
           "x": [
            1,
            3,
            1,
            2,
            2,
            1,
            3
           ],
           "xaxis": "x",
           "yaxis": "y"
          }
         ],
         "name": "70.0"
        },
        {
         "data": [
          {
           "alignmentgroup": "True",
           "bingroup": "x",
           "hovertemplate": "Survived=1<br>Age_rounded=80.0<br>Pclass=%{x}<br>count=%{y}<extra></extra>",
           "legendgroup": "1",
           "marker": {
            "color": "#FF7F0E",
            "pattern": {
             "shape": ""
            }
           },
           "name": "1",
           "offsetgroup": "1",
           "orientation": "v",
           "showlegend": true,
           "type": "histogram",
           "x": [
            1
           ],
           "xaxis": "x",
           "yaxis": "y"
          }
         ],
         "name": "80.0"
        }
       ],
       "layout": {
        "bargap": 0.1,
        "barmode": "relative",
        "legend": {
         "title": {
          "text": "Survived"
         },
         "tracegroupgap": 0
        },
        "margin": {
         "t": 60
        },
        "sliders": [
         {
          "active": 0,
          "currentvalue": {
           "prefix": "Age_rounded="
          },
          "len": 0.9,
          "pad": {
           "b": 10,
           "t": 60
          },
          "steps": [
           {
            "args": [
             [
              "0.0"
             ],
             {
              "frame": {
               "duration": 0,
               "redraw": true
              },
              "fromcurrent": true,
              "mode": "immediate",
              "transition": {
               "duration": 0,
               "easing": "linear"
              }
             }
            ],
            "label": "0.0",
            "method": "animate"
           },
           {
            "args": [
             [
              "10.0"
             ],
             {
              "frame": {
               "duration": 0,
               "redraw": true
              },
              "fromcurrent": true,
              "mode": "immediate",
              "transition": {
               "duration": 0,
               "easing": "linear"
              }
             }
            ],
            "label": "10.0",
            "method": "animate"
           },
           {
            "args": [
             [
              "20.0"
             ],
             {
              "frame": {
               "duration": 0,
               "redraw": true
              },
              "fromcurrent": true,
              "mode": "immediate",
              "transition": {
               "duration": 0,
               "easing": "linear"
              }
             }
            ],
            "label": "20.0",
            "method": "animate"
           },
           {
            "args": [
             [
              "30.0"
             ],
             {
              "frame": {
               "duration": 0,
               "redraw": true
              },
              "fromcurrent": true,
              "mode": "immediate",
              "transition": {
               "duration": 0,
               "easing": "linear"
              }
             }
            ],
            "label": "30.0",
            "method": "animate"
           },
           {
            "args": [
             [
              "40.0"
             ],
             {
              "frame": {
               "duration": 0,
               "redraw": true
              },
              "fromcurrent": true,
              "mode": "immediate",
              "transition": {
               "duration": 0,
               "easing": "linear"
              }
             }
            ],
            "label": "40.0",
            "method": "animate"
           },
           {
            "args": [
             [
              "50.0"
             ],
             {
              "frame": {
               "duration": 0,
               "redraw": true
              },
              "fromcurrent": true,
              "mode": "immediate",
              "transition": {
               "duration": 0,
               "easing": "linear"
              }
             }
            ],
            "label": "50.0",
            "method": "animate"
           },
           {
            "args": [
             [
              "60.0"
             ],
             {
              "frame": {
               "duration": 0,
               "redraw": true
              },
              "fromcurrent": true,
              "mode": "immediate",
              "transition": {
               "duration": 0,
               "easing": "linear"
              }
             }
            ],
            "label": "60.0",
            "method": "animate"
           },
           {
            "args": [
             [
              "70.0"
             ],
             {
              "frame": {
               "duration": 0,
               "redraw": true
              },
              "fromcurrent": true,
              "mode": "immediate",
              "transition": {
               "duration": 0,
               "easing": "linear"
              }
             }
            ],
            "label": "70.0",
            "method": "animate"
           },
           {
            "args": [
             [
              "80.0"
             ],
             {
              "frame": {
               "duration": 0,
               "redraw": true
              },
              "fromcurrent": true,
              "mode": "immediate",
              "transition": {
               "duration": 0,
               "easing": "linear"
              }
             }
            ],
            "label": "80.0",
            "method": "animate"
           }
          ],
          "x": 0.1,
          "xanchor": "left",
          "y": 0,
          "yanchor": "top"
         }
        ],
        "template": {
         "data": {
          "bar": [
           {
            "error_x": {
             "color": "#2a3f5f"
            },
            "error_y": {
             "color": "#2a3f5f"
            },
            "marker": {
             "line": {
              "color": "white",
              "width": 0.5
             },
             "pattern": {
              "fillmode": "overlay",
              "size": 10,
              "solidity": 0.2
             }
            },
            "type": "bar"
           }
          ],
          "barpolar": [
           {
            "marker": {
             "line": {
              "color": "white",
              "width": 0.5
             },
             "pattern": {
              "fillmode": "overlay",
              "size": 10,
              "solidity": 0.2
             }
            },
            "type": "barpolar"
           }
          ],
          "carpet": [
           {
            "aaxis": {
             "endlinecolor": "#2a3f5f",
             "gridcolor": "#C8D4E3",
             "linecolor": "#C8D4E3",
             "minorgridcolor": "#C8D4E3",
             "startlinecolor": "#2a3f5f"
            },
            "baxis": {
             "endlinecolor": "#2a3f5f",
             "gridcolor": "#C8D4E3",
             "linecolor": "#C8D4E3",
             "minorgridcolor": "#C8D4E3",
             "startlinecolor": "#2a3f5f"
            },
            "type": "carpet"
           }
          ],
          "choropleth": [
           {
            "colorbar": {
             "outlinewidth": 0,
             "ticks": ""
            },
            "type": "choropleth"
           }
          ],
          "contour": [
           {
            "colorbar": {
             "outlinewidth": 0,
             "ticks": ""
            },
            "colorscale": [
             [
              0,
              "#0d0887"
             ],
             [
              0.1111111111111111,
              "#46039f"
             ],
             [
              0.2222222222222222,
              "#7201a8"
             ],
             [
              0.3333333333333333,
              "#9c179e"
             ],
             [
              0.4444444444444444,
              "#bd3786"
             ],
             [
              0.5555555555555556,
              "#d8576b"
             ],
             [
              0.6666666666666666,
              "#ed7953"
             ],
             [
              0.7777777777777778,
              "#fb9f3a"
             ],
             [
              0.8888888888888888,
              "#fdca26"
             ],
             [
              1,
              "#f0f921"
             ]
            ],
            "type": "contour"
           }
          ],
          "contourcarpet": [
           {
            "colorbar": {
             "outlinewidth": 0,
             "ticks": ""
            },
            "type": "contourcarpet"
           }
          ],
          "heatmap": [
           {
            "colorbar": {
             "outlinewidth": 0,
             "ticks": ""
            },
            "colorscale": [
             [
              0,
              "#0d0887"
             ],
             [
              0.1111111111111111,
              "#46039f"
             ],
             [
              0.2222222222222222,
              "#7201a8"
             ],
             [
              0.3333333333333333,
              "#9c179e"
             ],
             [
              0.4444444444444444,
              "#bd3786"
             ],
             [
              0.5555555555555556,
              "#d8576b"
             ],
             [
              0.6666666666666666,
              "#ed7953"
             ],
             [
              0.7777777777777778,
              "#fb9f3a"
             ],
             [
              0.8888888888888888,
              "#fdca26"
             ],
             [
              1,
              "#f0f921"
             ]
            ],
            "type": "heatmap"
           }
          ],
          "heatmapgl": [
           {
            "colorbar": {
             "outlinewidth": 0,
             "ticks": ""
            },
            "colorscale": [
             [
              0,
              "#0d0887"
             ],
             [
              0.1111111111111111,
              "#46039f"
             ],
             [
              0.2222222222222222,
              "#7201a8"
             ],
             [
              0.3333333333333333,
              "#9c179e"
             ],
             [
              0.4444444444444444,
              "#bd3786"
             ],
             [
              0.5555555555555556,
              "#d8576b"
             ],
             [
              0.6666666666666666,
              "#ed7953"
             ],
             [
              0.7777777777777778,
              "#fb9f3a"
             ],
             [
              0.8888888888888888,
              "#fdca26"
             ],
             [
              1,
              "#f0f921"
             ]
            ],
            "type": "heatmapgl"
           }
          ],
          "histogram": [
           {
            "marker": {
             "pattern": {
              "fillmode": "overlay",
              "size": 10,
              "solidity": 0.2
             }
            },
            "type": "histogram"
           }
          ],
          "histogram2d": [
           {
            "colorbar": {
             "outlinewidth": 0,
             "ticks": ""
            },
            "colorscale": [
             [
              0,
              "#0d0887"
             ],
             [
              0.1111111111111111,
              "#46039f"
             ],
             [
              0.2222222222222222,
              "#7201a8"
             ],
             [
              0.3333333333333333,
              "#9c179e"
             ],
             [
              0.4444444444444444,
              "#bd3786"
             ],
             [
              0.5555555555555556,
              "#d8576b"
             ],
             [
              0.6666666666666666,
              "#ed7953"
             ],
             [
              0.7777777777777778,
              "#fb9f3a"
             ],
             [
              0.8888888888888888,
              "#fdca26"
             ],
             [
              1,
              "#f0f921"
             ]
            ],
            "type": "histogram2d"
           }
          ],
          "histogram2dcontour": [
           {
            "colorbar": {
             "outlinewidth": 0,
             "ticks": ""
            },
            "colorscale": [
             [
              0,
              "#0d0887"
             ],
             [
              0.1111111111111111,
              "#46039f"
             ],
             [
              0.2222222222222222,
              "#7201a8"
             ],
             [
              0.3333333333333333,
              "#9c179e"
             ],
             [
              0.4444444444444444,
              "#bd3786"
             ],
             [
              0.5555555555555556,
              "#d8576b"
             ],
             [
              0.6666666666666666,
              "#ed7953"
             ],
             [
              0.7777777777777778,
              "#fb9f3a"
             ],
             [
              0.8888888888888888,
              "#fdca26"
             ],
             [
              1,
              "#f0f921"
             ]
            ],
            "type": "histogram2dcontour"
           }
          ],
          "mesh3d": [
           {
            "colorbar": {
             "outlinewidth": 0,
             "ticks": ""
            },
            "type": "mesh3d"
           }
          ],
          "parcoords": [
           {
            "line": {
             "colorbar": {
              "outlinewidth": 0,
              "ticks": ""
             }
            },
            "type": "parcoords"
           }
          ],
          "pie": [
           {
            "automargin": true,
            "type": "pie"
           }
          ],
          "scatter": [
           {
            "fillpattern": {
             "fillmode": "overlay",
             "size": 10,
             "solidity": 0.2
            },
            "type": "scatter"
           }
          ],
          "scatter3d": [
           {
            "line": {
             "colorbar": {
              "outlinewidth": 0,
              "ticks": ""
             }
            },
            "marker": {
             "colorbar": {
              "outlinewidth": 0,
              "ticks": ""
             }
            },
            "type": "scatter3d"
           }
          ],
          "scattercarpet": [
           {
            "marker": {
             "colorbar": {
              "outlinewidth": 0,
              "ticks": ""
             }
            },
            "type": "scattercarpet"
           }
          ],
          "scattergeo": [
           {
            "marker": {
             "colorbar": {
              "outlinewidth": 0,
              "ticks": ""
             }
            },
            "type": "scattergeo"
           }
          ],
          "scattergl": [
           {
            "marker": {
             "colorbar": {
              "outlinewidth": 0,
              "ticks": ""
             }
            },
            "type": "scattergl"
           }
          ],
          "scattermapbox": [
           {
            "marker": {
             "colorbar": {
              "outlinewidth": 0,
              "ticks": ""
             }
            },
            "type": "scattermapbox"
           }
          ],
          "scatterpolar": [
           {
            "marker": {
             "colorbar": {
              "outlinewidth": 0,
              "ticks": ""
             }
            },
            "type": "scatterpolar"
           }
          ],
          "scatterpolargl": [
           {
            "marker": {
             "colorbar": {
              "outlinewidth": 0,
              "ticks": ""
             }
            },
            "type": "scatterpolargl"
           }
          ],
          "scatterternary": [
           {
            "marker": {
             "colorbar": {
              "outlinewidth": 0,
              "ticks": ""
             }
            },
            "type": "scatterternary"
           }
          ],
          "surface": [
           {
            "colorbar": {
             "outlinewidth": 0,
             "ticks": ""
            },
            "colorscale": [
             [
              0,
              "#0d0887"
             ],
             [
              0.1111111111111111,
              "#46039f"
             ],
             [
              0.2222222222222222,
              "#7201a8"
             ],
             [
              0.3333333333333333,
              "#9c179e"
             ],
             [
              0.4444444444444444,
              "#bd3786"
             ],
             [
              0.5555555555555556,
              "#d8576b"
             ],
             [
              0.6666666666666666,
              "#ed7953"
             ],
             [
              0.7777777777777778,
              "#fb9f3a"
             ],
             [
              0.8888888888888888,
              "#fdca26"
             ],
             [
              1,
              "#f0f921"
             ]
            ],
            "type": "surface"
           }
          ],
          "table": [
           {
            "cells": {
             "fill": {
              "color": "#EBF0F8"
             },
             "line": {
              "color": "white"
             }
            },
            "header": {
             "fill": {
              "color": "#C8D4E3"
             },
             "line": {
              "color": "white"
             }
            },
            "type": "table"
           }
          ]
         },
         "layout": {
          "annotationdefaults": {
           "arrowcolor": "#2a3f5f",
           "arrowhead": 0,
           "arrowwidth": 1
          },
          "autotypenumbers": "strict",
          "coloraxis": {
           "colorbar": {
            "outlinewidth": 0,
            "ticks": ""
           }
          },
          "colorscale": {
           "diverging": [
            [
             0,
             "#8e0152"
            ],
            [
             0.1,
             "#c51b7d"
            ],
            [
             0.2,
             "#de77ae"
            ],
            [
             0.3,
             "#f1b6da"
            ],
            [
             0.4,
             "#fde0ef"
            ],
            [
             0.5,
             "#f7f7f7"
            ],
            [
             0.6,
             "#e6f5d0"
            ],
            [
             0.7,
             "#b8e186"
            ],
            [
             0.8,
             "#7fbc41"
            ],
            [
             0.9,
             "#4d9221"
            ],
            [
             1,
             "#276419"
            ]
           ],
           "sequential": [
            [
             0,
             "#0d0887"
            ],
            [
             0.1111111111111111,
             "#46039f"
            ],
            [
             0.2222222222222222,
             "#7201a8"
            ],
            [
             0.3333333333333333,
             "#9c179e"
            ],
            [
             0.4444444444444444,
             "#bd3786"
            ],
            [
             0.5555555555555556,
             "#d8576b"
            ],
            [
             0.6666666666666666,
             "#ed7953"
            ],
            [
             0.7777777777777778,
             "#fb9f3a"
            ],
            [
             0.8888888888888888,
             "#fdca26"
            ],
            [
             1,
             "#f0f921"
            ]
           ],
           "sequentialminus": [
            [
             0,
             "#0d0887"
            ],
            [
             0.1111111111111111,
             "#46039f"
            ],
            [
             0.2222222222222222,
             "#7201a8"
            ],
            [
             0.3333333333333333,
             "#9c179e"
            ],
            [
             0.4444444444444444,
             "#bd3786"
            ],
            [
             0.5555555555555556,
             "#d8576b"
            ],
            [
             0.6666666666666666,
             "#ed7953"
            ],
            [
             0.7777777777777778,
             "#fb9f3a"
            ],
            [
             0.8888888888888888,
             "#fdca26"
            ],
            [
             1,
             "#f0f921"
            ]
           ]
          },
          "colorway": [
           "#636efa",
           "#EF553B",
           "#00cc96",
           "#ab63fa",
           "#FFA15A",
           "#19d3f3",
           "#FF6692",
           "#B6E880",
           "#FF97FF",
           "#FECB52"
          ],
          "font": {
           "color": "#2a3f5f"
          },
          "geo": {
           "bgcolor": "white",
           "lakecolor": "white",
           "landcolor": "white",
           "showlakes": true,
           "showland": true,
           "subunitcolor": "#C8D4E3"
          },
          "hoverlabel": {
           "align": "left"
          },
          "hovermode": "closest",
          "mapbox": {
           "style": "light"
          },
          "paper_bgcolor": "white",
          "plot_bgcolor": "white",
          "polar": {
           "angularaxis": {
            "gridcolor": "#EBF0F8",
            "linecolor": "#EBF0F8",
            "ticks": ""
           },
           "bgcolor": "white",
           "radialaxis": {
            "gridcolor": "#EBF0F8",
            "linecolor": "#EBF0F8",
            "ticks": ""
           }
          },
          "scene": {
           "xaxis": {
            "backgroundcolor": "white",
            "gridcolor": "#DFE8F3",
            "gridwidth": 2,
            "linecolor": "#EBF0F8",
            "showbackground": true,
            "ticks": "",
            "zerolinecolor": "#EBF0F8"
           },
           "yaxis": {
            "backgroundcolor": "white",
            "gridcolor": "#DFE8F3",
            "gridwidth": 2,
            "linecolor": "#EBF0F8",
            "showbackground": true,
            "ticks": "",
            "zerolinecolor": "#EBF0F8"
           },
           "zaxis": {
            "backgroundcolor": "white",
            "gridcolor": "#DFE8F3",
            "gridwidth": 2,
            "linecolor": "#EBF0F8",
            "showbackground": true,
            "ticks": "",
            "zerolinecolor": "#EBF0F8"
           }
          },
          "shapedefaults": {
           "line": {
            "color": "#2a3f5f"
           }
          },
          "ternary": {
           "aaxis": {
            "gridcolor": "#DFE8F3",
            "linecolor": "#A2B1C6",
            "ticks": ""
           },
           "baxis": {
            "gridcolor": "#DFE8F3",
            "linecolor": "#A2B1C6",
            "ticks": ""
           },
           "bgcolor": "white",
           "caxis": {
            "gridcolor": "#DFE8F3",
            "linecolor": "#A2B1C6",
            "ticks": ""
           }
          },
          "title": {
           "x": 0.05
          },
          "xaxis": {
           "automargin": true,
           "gridcolor": "#EBF0F8",
           "linecolor": "#EBF0F8",
           "ticks": "",
           "title": {
            "standoff": 15
           },
           "zerolinecolor": "#EBF0F8",
           "zerolinewidth": 2
          },
          "yaxis": {
           "automargin": true,
           "gridcolor": "#EBF0F8",
           "linecolor": "#EBF0F8",
           "ticks": "",
           "title": {
            "standoff": 15
           },
           "zerolinecolor": "#EBF0F8",
           "zerolinewidth": 2
          }
         }
        },
        "xaxis": {
         "anchor": "y",
         "domain": [
          0,
          1
         ],
         "tickmode": "array",
         "ticktext": [
          "First",
          "Second",
          "Third"
         ],
         "tickvals": [
          1,
          2,
          3
         ],
         "title": {
          "text": "Pclass"
         }
        },
        "yaxis": {
         "anchor": "x",
         "domain": [
          0,
          1
         ],
         "title": {
          "text": "count"
         }
        }
       }
      }
     },
     "metadata": {},
     "output_type": "display_data"
    }
   ],
   "source": [
    "fig = px.histogram(df.sort_values('Age_rounded'), \n",
    "                   x='Pclass',\n",
    "                   color='Survived',\n",
    "                   template='plotly_white',\n",
    "                   animation_frame=\"Age_rounded\",  # this is the value to \"animate\"\n",
    "                   # animation_group=\"PassengerId\",  # uncomment this ...\n",
    "                   color_discrete_sequence=px.colors.qualitative.D3)\n",
    "\n",
    "fig.update_layout(\n",
    "    xaxis_tickmode = 'array',\n",
    "    xaxis_tickvals = [1, 2, 3],\n",
    "    xaxis_ticktext = ['First', 'Second', 'Third'],\n",
    "    bargap=0.1, # gap between bars of adjacent location coordinates\n",
    ")\n",
    "\n",
    "fig[\"layout\"].pop(\"updatemenus\") # drop animation buttons\n",
    "fig.show()"
   ]
  },
  {
   "cell_type": "markdown",
   "id": "34231004-e2d5-4292-b434-244867166448",
   "metadata": {},
   "source": [
    "**(In class, if there's time) Can we improve on this?**"
   ]
  },
  {
   "cell_type": "code",
   "execution_count": 12,
   "id": "932395e8-e6a9-4d91-84a2-104b7d3a7c7c",
   "metadata": {
    "tags": []
   },
   "outputs": [],
   "source": [
    "# fig = px.histogram(df.sort_values('Age_rounded'), \n",
    "#                    x='Pclass',\n",
    "#                    facet_row='Survived',\n",
    "#                    color='Age_rounded',\n",
    "#                    template='plotly_white',\n",
    "#                    color_discrete_sequence=px.colors.sequential.Blues)\n",
    "\n",
    "# fig.update_layout(\n",
    "#     xaxis_tickmode = 'array',\n",
    "#     xaxis_tickvals = [1, 2, 3],\n",
    "#     xaxis_ticktext = ['First', 'Second', 'Third'],\n",
    "#     bargap=0.1, # gap between bars of adjacent location coordinates\n",
    "# )\n",
    "\n",
    "# fig[\"layout\"].pop(\"updatemenus\") # drop animation buttons\n",
    "# fig.show()"
   ]
  },
  {
   "cell_type": "markdown",
   "id": "fa7b94ec-9165-4c8d-94eb-44b3676777c2",
   "metadata": {},
   "source": [
    "# EXERCISES"
   ]
  },
  {
   "cell_type": "markdown",
   "id": "2d2419b3-2b1b-43ab-8c47-32c9dcc3ab69",
   "metadata": {
    "tags": []
   },
   "source": [
    "## Exercise 1\n",
    "\n",
    "Take a look at the `Cabin` column of the data, and investigate how it relates to at least one other column. Consider the context of the Titanic ship wreck. Try to formulate a question around this column, and visualize it using Plotly. **Build at least 2 different plots** of the same data.\n",
    "\n",
    "Feel free to use the [gallery](https://plotly.com/python/) as a resource."
   ]
  },
  {
   "cell_type": "markdown",
   "id": "152cece7",
   "metadata": {},
   "source": [
    "#The cabin column could relate to their survival based on which floor they were on they could have escaped their rooms and gotten to the deck faster than someone who was in a room way at the bottom "
   ]
  },
  {
   "cell_type": "code",
   "execution_count": 13,
   "id": "177c1c5c-8992-4719-ac21-5f21f0e13902",
   "metadata": {},
   "outputs": [
    {
     "data": {
      "application/vnd.plotly.v1+json": {
       "config": {
        "plotlyServerURL": "https://plot.ly"
       },
       "data": [
        {
         "alignmentgroup": "True",
         "bingroup": "x",
         "hovertemplate": "Survival=0<br>Cabin Class=%{x}<br>count=%{y}<extra></extra>",
         "legendgroup": "0",
         "marker": {
          "color": "red",
          "pattern": {
           "shape": ""
          }
         },
         "name": "0",
         "offsetgroup": "0",
         "orientation": "v",
         "showlegend": true,
         "type": "histogram",
         "x": [
          null,
          null,
          null,
          "E46",
          null,
          null,
          null,
          null,
          null,
          null,
          null,
          null,
          null,
          "C23 C25 C27",
          null,
          null,
          null,
          null,
          null,
          null,
          null,
          null,
          null,
          null,
          null,
          null,
          null,
          null,
          null,
          null,
          "B30",
          null,
          null,
          null,
          "C83",
          null,
          null,
          null,
          null,
          null,
          null,
          null,
          null,
          "F G73",
          null,
          null,
          null,
          null,
          null,
          null,
          null,
          null,
          null,
          "E31",
          null,
          null,
          null,
          "A5",
          null,
          null,
          null,
          "D26",
          null,
          null,
          null,
          null,
          "C110",
          null,
          null,
          null,
          null,
          null,
          null,
          null,
          "B58 B60",
          null,
          null,
          null,
          null,
          "D26",
          null,
          null,
          null,
          null,
          null,
          null,
          null,
          "C123",
          null,
          "B86",
          null,
          null,
          null,
          null,
          null,
          "F2",
          null,
          null,
          null,
          null,
          null,
          null,
          null,
          null,
          null,
          null,
          null,
          null,
          null,
          null,
          null,
          null,
          "B19",
          null,
          null,
          "A7",
          null,
          null,
          "C49",
          null,
          null,
          null,
          null,
          null,
          "A32",
          null,
          null,
          null,
          null,
          null,
          null,
          null,
          null,
          null,
          null,
          "G6",
          null,
          null,
          null,
          null,
          null,
          null,
          null,
          null,
          null,
          null,
          null,
          null,
          null,
          null,
          null,
          null,
          null,
          null,
          null,
          null,
          null,
          null,
          null,
          null,
          null,
          "C78",
          null,
          null,
          null,
          "G6",
          "C87",
          null,
          null,
          null,
          "E67",
          "B94",
          null,
          null,
          null,
          null,
          "C118",
          null,
          null,
          null,
          null,
          null,
          null,
          "A19",
          null,
          null,
          "D",
          null,
          null,
          null,
          null,
          "C22 C26",
          null,
          null,
          null,
          null,
          null,
          null,
          null,
          null,
          null,
          null,
          null,
          "C124",
          "C91",
          null,
          null,
          "C2",
          "T",
          null,
          null,
          null,
          null,
          null,
          "C128",
          null,
          null,
          null,
          null,
          null,
          null,
          null,
          null,
          null,
          null,
          null,
          null,
          null,
          null,
          null,
          "C82",
          null,
          null,
          null,
          null,
          null,
          null,
          null,
          null,
          null,
          null,
          null,
          null,
          null,
          null,
          null,
          null,
          null,
          null,
          null,
          null,
          null,
          null,
          null,
          null,
          null,
          null,
          null,
          null,
          null,
          null,
          null,
          null,
          null,
          null,
          "E44",
          null,
          "C23 C25 C27",
          null,
          null,
          null,
          null,
          null,
          "C111",
          null,
          "E38",
          null,
          null,
          "E63",
          null,
          null,
          null,
          null,
          null,
          null,
          null,
          null,
          null,
          "A14",
          null,
          null,
          null,
          null,
          null,
          null,
          null,
          "B37",
          null,
          null,
          null,
          "C30",
          null,
          null,
          null,
          null,
          "C22 C26",
          null,
          null,
          null,
          null,
          null,
          "C65",
          null,
          null,
          null,
          "D46",
          null,
          null,
          null,
          null,
          null,
          null,
          "C95",
          null,
          null,
          null,
          null,
          null,
          "B38",
          null,
          null,
          null,
          "C86",
          null,
          null,
          null,
          null,
          null,
          null,
          null,
          null,
          null,
          null,
          null,
          null,
          null,
          null,
          null,
          null,
          null,
          null,
          null,
          "A10",
          null,
          null,
          null,
          null,
          null,
          null,
          null,
          null,
          null,
          null,
          null,
          null,
          null,
          null,
          null,
          null,
          null,
          null,
          null,
          null,
          null,
          null,
          null,
          null,
          null,
          null,
          "D50",
          null,
          null,
          null,
          null,
          null,
          null,
          null,
          null,
          null,
          null,
          null,
          null,
          null,
          null,
          null,
          null,
          null,
          null,
          null,
          null,
          null,
          "D48",
          null,
          "E58",
          null,
          null,
          null,
          null,
          null,
          "B71",
          null,
          null,
          null,
          null,
          null,
          null,
          null,
          null,
          null,
          null,
          null,
          null,
          null,
          null,
          null,
          null,
          null,
          "C68",
          "F G63",
          null,
          null,
          null,
          null,
          "C124",
          null,
          null,
          "F G73",
          null,
          null,
          null,
          null,
          null,
          null,
          null,
          null,
          null,
          null,
          null,
          null,
          null,
          null,
          null,
          null,
          "C46",
          null,
          "B22",
          null,
          "D30",
          null,
          null,
          null,
          null,
          null,
          null,
          null,
          null,
          null,
          null,
          null,
          null,
          null,
          null,
          null,
          "E77",
          null,
          null,
          "F38",
          null,
          "D6",
          null,
          null,
          null,
          null,
          "B82 B84",
          null,
          null,
          null,
          null,
          null,
          null,
          null,
          null,
          null,
          null,
          "A36",
          null,
          null,
          null,
          null,
          null,
          null,
          null,
          "B102",
          null,
          null,
          null,
          null,
          null,
          null,
          null,
          null,
          null,
          null,
          null,
          null,
          null,
          null,
          null,
          null,
          null,
          null,
          null,
          null,
          null,
          null,
          null,
          null,
          null,
          null,
          null,
          null,
          null,
          null,
          "A24",
          null,
          null,
          "B51 B53 B55",
          null,
          null,
          null,
          null,
          null,
          null,
          null,
          null,
          null,
          null,
          null,
          null
         ],
         "xaxis": "x",
         "yaxis": "y"
        },
        {
         "alignmentgroup": "True",
         "bingroup": "x",
         "hovertemplate": "Survival=1<br>Cabin Class=%{x}<br>count=%{y}<extra></extra>",
         "legendgroup": "1",
         "marker": {
          "color": "green",
          "pattern": {
           "shape": ""
          }
         },
         "name": "1",
         "offsetgroup": "1",
         "orientation": "v",
         "showlegend": true,
         "type": "histogram",
         "x": [
          "C85",
          null,
          "C123",
          null,
          null,
          "G6",
          "C103",
          null,
          null,
          null,
          "D56",
          null,
          "A6",
          null,
          null,
          "B78",
          null,
          null,
          null,
          null,
          null,
          null,
          "D33",
          null,
          "C52",
          null,
          null,
          "B28",
          null,
          "F33",
          null,
          null,
          null,
          null,
          null,
          null,
          null,
          null,
          "C23 C25 C27",
          "D10 D12",
          null,
          null,
          null,
          null,
          "E101",
          null,
          null,
          "F E69",
          null,
          "D47",
          null,
          null,
          null,
          "C2",
          null,
          null,
          null,
          "E33",
          null,
          "F4",
          null,
          null,
          null,
          null,
          null,
          "F2",
          "B4",
          "B80",
          null,
          null,
          null,
          null,
          "A31",
          null,
          "D36",
          null,
          "D15",
          null,
          "C93",
          null,
          "C83",
          null,
          null,
          null,
          null,
          "D35",
          null,
          null,
          "B77",
          null,
          null,
          null,
          null,
          "C125",
          "C99",
          null,
          null,
          null,
          "D7",
          null,
          null,
          null,
          null,
          null,
          null,
          "B49",
          "C106",
          "B58 B60",
          null,
          null,
          "E101",
          "C22 C26",
          null,
          "C65",
          "E36",
          "C54",
          "B57 B59 B63 B66",
          null,
          null,
          "C7",
          "E34",
          null,
          null,
          "C32",
          "D",
          null,
          "B18",
          null,
          null,
          "E40",
          null,
          "F2",
          "C23 C25 C27",
          "F33",
          null,
          null,
          null,
          "E33",
          null,
          null,
          "D37",
          null,
          null,
          "B35",
          "E50",
          null,
          null,
          null,
          null,
          null,
          null,
          null,
          "B96 B98",
          null,
          "D36",
          "G6",
          null,
          null,
          null,
          "C78",
          null,
          null,
          null,
          null,
          null,
          "E10",
          "C52",
          null,
          null,
          "B96 B98",
          null,
          null,
          null,
          null,
          "A34",
          null,
          null,
          null,
          "C104",
          "C92",
          null,
          "D21",
          null,
          "E12",
          null,
          null,
          "D",
          null,
          null,
          "B49",
          "C93",
          null,
          "D20",
          "B79",
          null,
          null,
          null,
          null,
          "E25",
          null,
          "F33",
          null,
          "B73",
          "B18",
          null,
          null,
          null,
          null,
          null,
          "B39",
          "B22",
          null,
          null,
          null,
          null,
          "C70",
          null,
          null,
          "A16",
          "E67",
          null,
          null,
          null,
          "C101",
          "E25",
          null,
          null,
          "E44",
          null,
          null,
          "C68",
          "E68",
          "B41",
          "D20",
          null,
          "A20",
          null,
          null,
          null,
          null,
          "C125",
          null,
          null,
          "F4",
          "D19",
          null,
          "D9",
          "A23",
          "B50",
          null,
          "B35",
          null,
          null,
          "D33",
          "A26",
          null,
          null,
          null,
          null,
          null,
          "C126",
          null,
          null,
          null,
          "B51 B53 B55",
          "D49",
          "B5",
          "B20",
          null,
          null,
          null,
          "C62 C64",
          "E24",
          null,
          "E24",
          null,
          null,
          "C90",
          "C126",
          "C45",
          "E101",
          null,
          "E8",
          null,
          null,
          "B5",
          "B101",
          "D45",
          "B57 B59 B63 B66",
          null,
          null,
          null,
          "E121",
          null,
          null,
          "B77",
          null,
          "B96 B98",
          "D11",
          null,
          null,
          "B3",
          null,
          "B20",
          null,
          null,
          "D17",
          null,
          null,
          "B96 B98",
          null,
          null,
          "E8",
          "B69",
          null,
          "E121",
          null,
          null,
          "B28",
          null,
          null,
          "E49",
          null,
          "C47",
          null,
          "C92",
          "D28",
          null,
          null,
          "E17",
          null,
          "D17",
          null,
          null,
          null,
          "D35",
          null,
          null,
          "C50",
          null,
          "B42",
          "C148"
         ],
         "xaxis": "x",
         "yaxis": "y"
        }
       ],
       "layout": {
        "barmode": "relative",
        "legend": {
         "title": {
          "text": "Survival"
         },
         "tracegroupgap": 0
        },
        "template": {
         "data": {
          "bar": [
           {
            "error_x": {
             "color": "#2a3f5f"
            },
            "error_y": {
             "color": "#2a3f5f"
            },
            "marker": {
             "line": {
              "color": "#E5ECF6",
              "width": 0.5
             },
             "pattern": {
              "fillmode": "overlay",
              "size": 10,
              "solidity": 0.2
             }
            },
            "type": "bar"
           }
          ],
          "barpolar": [
           {
            "marker": {
             "line": {
              "color": "#E5ECF6",
              "width": 0.5
             },
             "pattern": {
              "fillmode": "overlay",
              "size": 10,
              "solidity": 0.2
             }
            },
            "type": "barpolar"
           }
          ],
          "carpet": [
           {
            "aaxis": {
             "endlinecolor": "#2a3f5f",
             "gridcolor": "white",
             "linecolor": "white",
             "minorgridcolor": "white",
             "startlinecolor": "#2a3f5f"
            },
            "baxis": {
             "endlinecolor": "#2a3f5f",
             "gridcolor": "white",
             "linecolor": "white",
             "minorgridcolor": "white",
             "startlinecolor": "#2a3f5f"
            },
            "type": "carpet"
           }
          ],
          "choropleth": [
           {
            "colorbar": {
             "outlinewidth": 0,
             "ticks": ""
            },
            "type": "choropleth"
           }
          ],
          "contour": [
           {
            "colorbar": {
             "outlinewidth": 0,
             "ticks": ""
            },
            "colorscale": [
             [
              0,
              "#0d0887"
             ],
             [
              0.1111111111111111,
              "#46039f"
             ],
             [
              0.2222222222222222,
              "#7201a8"
             ],
             [
              0.3333333333333333,
              "#9c179e"
             ],
             [
              0.4444444444444444,
              "#bd3786"
             ],
             [
              0.5555555555555556,
              "#d8576b"
             ],
             [
              0.6666666666666666,
              "#ed7953"
             ],
             [
              0.7777777777777778,
              "#fb9f3a"
             ],
             [
              0.8888888888888888,
              "#fdca26"
             ],
             [
              1,
              "#f0f921"
             ]
            ],
            "type": "contour"
           }
          ],
          "contourcarpet": [
           {
            "colorbar": {
             "outlinewidth": 0,
             "ticks": ""
            },
            "type": "contourcarpet"
           }
          ],
          "heatmap": [
           {
            "colorbar": {
             "outlinewidth": 0,
             "ticks": ""
            },
            "colorscale": [
             [
              0,
              "#0d0887"
             ],
             [
              0.1111111111111111,
              "#46039f"
             ],
             [
              0.2222222222222222,
              "#7201a8"
             ],
             [
              0.3333333333333333,
              "#9c179e"
             ],
             [
              0.4444444444444444,
              "#bd3786"
             ],
             [
              0.5555555555555556,
              "#d8576b"
             ],
             [
              0.6666666666666666,
              "#ed7953"
             ],
             [
              0.7777777777777778,
              "#fb9f3a"
             ],
             [
              0.8888888888888888,
              "#fdca26"
             ],
             [
              1,
              "#f0f921"
             ]
            ],
            "type": "heatmap"
           }
          ],
          "heatmapgl": [
           {
            "colorbar": {
             "outlinewidth": 0,
             "ticks": ""
            },
            "colorscale": [
             [
              0,
              "#0d0887"
             ],
             [
              0.1111111111111111,
              "#46039f"
             ],
             [
              0.2222222222222222,
              "#7201a8"
             ],
             [
              0.3333333333333333,
              "#9c179e"
             ],
             [
              0.4444444444444444,
              "#bd3786"
             ],
             [
              0.5555555555555556,
              "#d8576b"
             ],
             [
              0.6666666666666666,
              "#ed7953"
             ],
             [
              0.7777777777777778,
              "#fb9f3a"
             ],
             [
              0.8888888888888888,
              "#fdca26"
             ],
             [
              1,
              "#f0f921"
             ]
            ],
            "type": "heatmapgl"
           }
          ],
          "histogram": [
           {
            "marker": {
             "pattern": {
              "fillmode": "overlay",
              "size": 10,
              "solidity": 0.2
             }
            },
            "type": "histogram"
           }
          ],
          "histogram2d": [
           {
            "colorbar": {
             "outlinewidth": 0,
             "ticks": ""
            },
            "colorscale": [
             [
              0,
              "#0d0887"
             ],
             [
              0.1111111111111111,
              "#46039f"
             ],
             [
              0.2222222222222222,
              "#7201a8"
             ],
             [
              0.3333333333333333,
              "#9c179e"
             ],
             [
              0.4444444444444444,
              "#bd3786"
             ],
             [
              0.5555555555555556,
              "#d8576b"
             ],
             [
              0.6666666666666666,
              "#ed7953"
             ],
             [
              0.7777777777777778,
              "#fb9f3a"
             ],
             [
              0.8888888888888888,
              "#fdca26"
             ],
             [
              1,
              "#f0f921"
             ]
            ],
            "type": "histogram2d"
           }
          ],
          "histogram2dcontour": [
           {
            "colorbar": {
             "outlinewidth": 0,
             "ticks": ""
            },
            "colorscale": [
             [
              0,
              "#0d0887"
             ],
             [
              0.1111111111111111,
              "#46039f"
             ],
             [
              0.2222222222222222,
              "#7201a8"
             ],
             [
              0.3333333333333333,
              "#9c179e"
             ],
             [
              0.4444444444444444,
              "#bd3786"
             ],
             [
              0.5555555555555556,
              "#d8576b"
             ],
             [
              0.6666666666666666,
              "#ed7953"
             ],
             [
              0.7777777777777778,
              "#fb9f3a"
             ],
             [
              0.8888888888888888,
              "#fdca26"
             ],
             [
              1,
              "#f0f921"
             ]
            ],
            "type": "histogram2dcontour"
           }
          ],
          "mesh3d": [
           {
            "colorbar": {
             "outlinewidth": 0,
             "ticks": ""
            },
            "type": "mesh3d"
           }
          ],
          "parcoords": [
           {
            "line": {
             "colorbar": {
              "outlinewidth": 0,
              "ticks": ""
             }
            },
            "type": "parcoords"
           }
          ],
          "pie": [
           {
            "automargin": true,
            "type": "pie"
           }
          ],
          "scatter": [
           {
            "fillpattern": {
             "fillmode": "overlay",
             "size": 10,
             "solidity": 0.2
            },
            "type": "scatter"
           }
          ],
          "scatter3d": [
           {
            "line": {
             "colorbar": {
              "outlinewidth": 0,
              "ticks": ""
             }
            },
            "marker": {
             "colorbar": {
              "outlinewidth": 0,
              "ticks": ""
             }
            },
            "type": "scatter3d"
           }
          ],
          "scattercarpet": [
           {
            "marker": {
             "colorbar": {
              "outlinewidth": 0,
              "ticks": ""
             }
            },
            "type": "scattercarpet"
           }
          ],
          "scattergeo": [
           {
            "marker": {
             "colorbar": {
              "outlinewidth": 0,
              "ticks": ""
             }
            },
            "type": "scattergeo"
           }
          ],
          "scattergl": [
           {
            "marker": {
             "colorbar": {
              "outlinewidth": 0,
              "ticks": ""
             }
            },
            "type": "scattergl"
           }
          ],
          "scattermapbox": [
           {
            "marker": {
             "colorbar": {
              "outlinewidth": 0,
              "ticks": ""
             }
            },
            "type": "scattermapbox"
           }
          ],
          "scatterpolar": [
           {
            "marker": {
             "colorbar": {
              "outlinewidth": 0,
              "ticks": ""
             }
            },
            "type": "scatterpolar"
           }
          ],
          "scatterpolargl": [
           {
            "marker": {
             "colorbar": {
              "outlinewidth": 0,
              "ticks": ""
             }
            },
            "type": "scatterpolargl"
           }
          ],
          "scatterternary": [
           {
            "marker": {
             "colorbar": {
              "outlinewidth": 0,
              "ticks": ""
             }
            },
            "type": "scatterternary"
           }
          ],
          "surface": [
           {
            "colorbar": {
             "outlinewidth": 0,
             "ticks": ""
            },
            "colorscale": [
             [
              0,
              "#0d0887"
             ],
             [
              0.1111111111111111,
              "#46039f"
             ],
             [
              0.2222222222222222,
              "#7201a8"
             ],
             [
              0.3333333333333333,
              "#9c179e"
             ],
             [
              0.4444444444444444,
              "#bd3786"
             ],
             [
              0.5555555555555556,
              "#d8576b"
             ],
             [
              0.6666666666666666,
              "#ed7953"
             ],
             [
              0.7777777777777778,
              "#fb9f3a"
             ],
             [
              0.8888888888888888,
              "#fdca26"
             ],
             [
              1,
              "#f0f921"
             ]
            ],
            "type": "surface"
           }
          ],
          "table": [
           {
            "cells": {
             "fill": {
              "color": "#EBF0F8"
             },
             "line": {
              "color": "white"
             }
            },
            "header": {
             "fill": {
              "color": "#C8D4E3"
             },
             "line": {
              "color": "white"
             }
            },
            "type": "table"
           }
          ]
         },
         "layout": {
          "annotationdefaults": {
           "arrowcolor": "#2a3f5f",
           "arrowhead": 0,
           "arrowwidth": 1
          },
          "autotypenumbers": "strict",
          "coloraxis": {
           "colorbar": {
            "outlinewidth": 0,
            "ticks": ""
           }
          },
          "colorscale": {
           "diverging": [
            [
             0,
             "#8e0152"
            ],
            [
             0.1,
             "#c51b7d"
            ],
            [
             0.2,
             "#de77ae"
            ],
            [
             0.3,
             "#f1b6da"
            ],
            [
             0.4,
             "#fde0ef"
            ],
            [
             0.5,
             "#f7f7f7"
            ],
            [
             0.6,
             "#e6f5d0"
            ],
            [
             0.7,
             "#b8e186"
            ],
            [
             0.8,
             "#7fbc41"
            ],
            [
             0.9,
             "#4d9221"
            ],
            [
             1,
             "#276419"
            ]
           ],
           "sequential": [
            [
             0,
             "#0d0887"
            ],
            [
             0.1111111111111111,
             "#46039f"
            ],
            [
             0.2222222222222222,
             "#7201a8"
            ],
            [
             0.3333333333333333,
             "#9c179e"
            ],
            [
             0.4444444444444444,
             "#bd3786"
            ],
            [
             0.5555555555555556,
             "#d8576b"
            ],
            [
             0.6666666666666666,
             "#ed7953"
            ],
            [
             0.7777777777777778,
             "#fb9f3a"
            ],
            [
             0.8888888888888888,
             "#fdca26"
            ],
            [
             1,
             "#f0f921"
            ]
           ],
           "sequentialminus": [
            [
             0,
             "#0d0887"
            ],
            [
             0.1111111111111111,
             "#46039f"
            ],
            [
             0.2222222222222222,
             "#7201a8"
            ],
            [
             0.3333333333333333,
             "#9c179e"
            ],
            [
             0.4444444444444444,
             "#bd3786"
            ],
            [
             0.5555555555555556,
             "#d8576b"
            ],
            [
             0.6666666666666666,
             "#ed7953"
            ],
            [
             0.7777777777777778,
             "#fb9f3a"
            ],
            [
             0.8888888888888888,
             "#fdca26"
            ],
            [
             1,
             "#f0f921"
            ]
           ]
          },
          "colorway": [
           "#636efa",
           "#EF553B",
           "#00cc96",
           "#ab63fa",
           "#FFA15A",
           "#19d3f3",
           "#FF6692",
           "#B6E880",
           "#FF97FF",
           "#FECB52"
          ],
          "font": {
           "color": "#2a3f5f"
          },
          "geo": {
           "bgcolor": "white",
           "lakecolor": "white",
           "landcolor": "#E5ECF6",
           "showlakes": true,
           "showland": true,
           "subunitcolor": "white"
          },
          "hoverlabel": {
           "align": "left"
          },
          "hovermode": "closest",
          "mapbox": {
           "style": "light"
          },
          "paper_bgcolor": "white",
          "plot_bgcolor": "#E5ECF6",
          "polar": {
           "angularaxis": {
            "gridcolor": "white",
            "linecolor": "white",
            "ticks": ""
           },
           "bgcolor": "#E5ECF6",
           "radialaxis": {
            "gridcolor": "white",
            "linecolor": "white",
            "ticks": ""
           }
          },
          "scene": {
           "xaxis": {
            "backgroundcolor": "#E5ECF6",
            "gridcolor": "white",
            "gridwidth": 2,
            "linecolor": "white",
            "showbackground": true,
            "ticks": "",
            "zerolinecolor": "white"
           },
           "yaxis": {
            "backgroundcolor": "#E5ECF6",
            "gridcolor": "white",
            "gridwidth": 2,
            "linecolor": "white",
            "showbackground": true,
            "ticks": "",
            "zerolinecolor": "white"
           },
           "zaxis": {
            "backgroundcolor": "#E5ECF6",
            "gridcolor": "white",
            "gridwidth": 2,
            "linecolor": "white",
            "showbackground": true,
            "ticks": "",
            "zerolinecolor": "white"
           }
          },
          "shapedefaults": {
           "line": {
            "color": "#2a3f5f"
           }
          },
          "ternary": {
           "aaxis": {
            "gridcolor": "white",
            "linecolor": "white",
            "ticks": ""
           },
           "baxis": {
            "gridcolor": "white",
            "linecolor": "white",
            "ticks": ""
           },
           "bgcolor": "#E5ECF6",
           "caxis": {
            "gridcolor": "white",
            "linecolor": "white",
            "ticks": ""
           }
          },
          "title": {
           "x": 0.05
          },
          "xaxis": {
           "automargin": true,
           "gridcolor": "white",
           "linecolor": "white",
           "ticks": "",
           "title": {
            "standoff": 15
           },
           "zerolinecolor": "white",
           "zerolinewidth": 2
          },
          "yaxis": {
           "automargin": true,
           "gridcolor": "white",
           "linecolor": "white",
           "ticks": "",
           "title": {
            "standoff": 15
           },
           "zerolinecolor": "white",
           "zerolinewidth": 2
          }
         }
        },
        "title": {
         "text": "Survival vs Cabin Class"
        },
        "xaxis": {
         "anchor": "y",
         "domain": [
          0,
          1
         ],
         "title": {
          "text": "Cabin Class"
         },
         "type": "category"
        },
        "yaxis": {
         "anchor": "x",
         "domain": [
          0,
          1
         ],
         "title": {
          "text": "count"
         }
        }
       }
      }
     },
     "metadata": {},
     "output_type": "display_data"
    }
   ],
   "source": [
    "# Plot 1: Survival vs Cabin Class\n",
    "plot1 = px.histogram(df, \n",
    "                    x=\"Cabin\", \n",
    "                    color=\"Survived\",\n",
    "                    title=\"Survival vs Cabin Class\",\n",
    "                    labels={\"Cabin\": \"Cabin Class\", \"Survived\": \"Survival\"},\n",
    "                    category_orders={\"Survived\": [0, 1]},\n",
    "                    color_discrete_map={0: \"red\", 1: \"green\"})\n",
    "plot1.update_layout(xaxis=dict(type='category'))"
   ]
  },
  {
   "cell_type": "code",
   "execution_count": 14,
   "id": "d8d40776",
   "metadata": {},
   "outputs": [
    {
     "data": {
      "application/vnd.plotly.v1+json": {
       "config": {
        "plotlyServerURL": "https://plot.ly"
       },
       "data": [
        {
         "customdata": [
          [
           1,
           "C85"
          ]
         ],
         "hovertemplate": "Cabin=%{customdata[1]}<br>Ticket Fare=%{x}<br>Survival=%{y}<br>Pclass=%{customdata[0]}<extra></extra>",
         "legendgroup": "C85",
         "marker": {
          "color": "rgb(55,126,184)",
          "symbol": "circle"
         },
         "mode": "markers",
         "name": "C85",
         "orientation": "v",
         "showlegend": true,
         "type": "scatter",
         "x": [
          71.2833
         ],
         "xaxis": "x",
         "y": [
          1
         ],
         "yaxis": "y"
        },
        {
         "customdata": [
          [
           1,
           "C123"
          ],
          [
           1,
           "C123"
          ]
         ],
         "hovertemplate": "Cabin=%{customdata[1]}<br>Ticket Fare=%{x}<br>Survival=%{y}<br>Pclass=%{customdata[0]}<extra></extra>",
         "legendgroup": "C123",
         "marker": {
          "color": "rgb(77,175,74)",
          "symbol": "circle"
         },
         "mode": "markers",
         "name": "C123",
         "orientation": "v",
         "showlegend": true,
         "type": "scatter",
         "x": [
          53.1,
          53.1
         ],
         "xaxis": "x",
         "y": [
          1,
          0
         ],
         "yaxis": "y"
        },
        {
         "customdata": [
          [
           1,
           "E46"
          ]
         ],
         "hovertemplate": "Cabin=%{customdata[1]}<br>Ticket Fare=%{x}<br>Survival=%{y}<br>Pclass=%{customdata[0]}<extra></extra>",
         "legendgroup": "E46",
         "marker": {
          "color": "rgb(152,78,163)",
          "symbol": "circle"
         },
         "mode": "markers",
         "name": "E46",
         "orientation": "v",
         "showlegend": true,
         "type": "scatter",
         "x": [
          51.8625
         ],
         "xaxis": "x",
         "y": [
          0
         ],
         "yaxis": "y"
        },
        {
         "customdata": [
          [
           3,
           "G6"
          ],
          [
           3,
           "G6"
          ],
          [
           3,
           "G6"
          ],
          [
           3,
           "G6"
          ]
         ],
         "hovertemplate": "Cabin=%{customdata[1]}<br>Ticket Fare=%{x}<br>Survival=%{y}<br>Pclass=%{customdata[0]}<extra></extra>",
         "legendgroup": "G6",
         "marker": {
          "color": "rgb(255,127,0)",
          "symbol": "circle"
         },
         "mode": "markers",
         "name": "G6",
         "orientation": "v",
         "showlegend": true,
         "type": "scatter",
         "x": [
          16.7,
          10.4625,
          10.4625,
          16.7
         ],
         "xaxis": "x",
         "y": [
          1,
          0,
          0,
          1
         ],
         "yaxis": "y"
        },
        {
         "customdata": [
          [
           1,
           "C103"
          ]
         ],
         "hovertemplate": "Cabin=%{customdata[1]}<br>Ticket Fare=%{x}<br>Survival=%{y}<br>Pclass=%{customdata[0]}<extra></extra>",
         "legendgroup": "C103",
         "marker": {
          "color": "rgb(255,255,51)",
          "symbol": "circle"
         },
         "mode": "markers",
         "name": "C103",
         "orientation": "v",
         "showlegend": true,
         "type": "scatter",
         "x": [
          26.55
         ],
         "xaxis": "x",
         "y": [
          1
         ],
         "yaxis": "y"
        },
        {
         "customdata": [
          [
           2,
           "D56"
          ]
         ],
         "hovertemplate": "Cabin=%{customdata[1]}<br>Ticket Fare=%{x}<br>Survival=%{y}<br>Pclass=%{customdata[0]}<extra></extra>",
         "legendgroup": "D56",
         "marker": {
          "color": "rgb(166,86,40)",
          "symbol": "circle"
         },
         "mode": "markers",
         "name": "D56",
         "orientation": "v",
         "showlegend": true,
         "type": "scatter",
         "x": [
          13
         ],
         "xaxis": "x",
         "y": [
          1
         ],
         "yaxis": "y"
        },
        {
         "customdata": [
          [
           1,
           "A6"
          ]
         ],
         "hovertemplate": "Cabin=%{customdata[1]}<br>Ticket Fare=%{x}<br>Survival=%{y}<br>Pclass=%{customdata[0]}<extra></extra>",
         "legendgroup": "A6",
         "marker": {
          "color": "rgb(247,129,191)",
          "symbol": "circle"
         },
         "mode": "markers",
         "name": "A6",
         "orientation": "v",
         "showlegend": true,
         "type": "scatter",
         "x": [
          35.5
         ],
         "xaxis": "x",
         "y": [
          1
         ],
         "yaxis": "y"
        },
        {
         "customdata": [
          [
           1,
           "C23 C25 C27"
          ],
          [
           1,
           "C23 C25 C27"
          ],
          [
           1,
           "C23 C25 C27"
          ],
          [
           1,
           "C23 C25 C27"
          ]
         ],
         "hovertemplate": "Cabin=%{customdata[1]}<br>Ticket Fare=%{x}<br>Survival=%{y}<br>Pclass=%{customdata[0]}<extra></extra>",
         "legendgroup": "C23 C25 C27",
         "marker": {
          "color": "rgb(153,153,153)",
          "symbol": "circle"
         },
         "mode": "markers",
         "name": "C23 C25 C27",
         "orientation": "v",
         "showlegend": true,
         "type": "scatter",
         "x": [
          263,
          263,
          263,
          263
         ],
         "xaxis": "x",
         "y": [
          0,
          1,
          1,
          0
         ],
         "yaxis": "y"
        },
        {
         "customdata": [
          [
           1,
           "B78"
          ]
         ],
         "hovertemplate": "Cabin=%{customdata[1]}<br>Ticket Fare=%{x}<br>Survival=%{y}<br>Pclass=%{customdata[0]}<extra></extra>",
         "legendgroup": "B78",
         "marker": {
          "color": "rgb(228,26,28)",
          "symbol": "circle"
         },
         "mode": "markers",
         "name": "B78",
         "orientation": "v",
         "showlegend": true,
         "type": "scatter",
         "x": [
          146.5208
         ],
         "xaxis": "x",
         "y": [
          1
         ],
         "yaxis": "y"
        },
        {
         "customdata": [
          [
           1,
           "D33"
          ],
          [
           1,
           "D33"
          ]
         ],
         "hovertemplate": "Cabin=%{customdata[1]}<br>Ticket Fare=%{x}<br>Survival=%{y}<br>Pclass=%{customdata[0]}<extra></extra>",
         "legendgroup": "D33",
         "marker": {
          "color": "rgb(55,126,184)",
          "symbol": "circle"
         },
         "mode": "markers",
         "name": "D33",
         "orientation": "v",
         "showlegend": true,
         "type": "scatter",
         "x": [
          76.7292,
          76.7292
         ],
         "xaxis": "x",
         "y": [
          1,
          1
         ],
         "yaxis": "y"
        },
        {
         "customdata": [
          [
           1,
           "B30"
          ]
         ],
         "hovertemplate": "Cabin=%{customdata[1]}<br>Ticket Fare=%{x}<br>Survival=%{y}<br>Pclass=%{customdata[0]}<extra></extra>",
         "legendgroup": "B30",
         "marker": {
          "color": "rgb(77,175,74)",
          "symbol": "circle"
         },
         "mode": "markers",
         "name": "B30",
         "orientation": "v",
         "showlegend": true,
         "type": "scatter",
         "x": [
          61.9792
         ],
         "xaxis": "x",
         "y": [
          0
         ],
         "yaxis": "y"
        },
        {
         "customdata": [
          [
           1,
           "C52"
          ],
          [
           1,
           "C52"
          ]
         ],
         "hovertemplate": "Cabin=%{customdata[1]}<br>Ticket Fare=%{x}<br>Survival=%{y}<br>Pclass=%{customdata[0]}<extra></extra>",
         "legendgroup": "C52",
         "marker": {
          "color": "rgb(152,78,163)",
          "symbol": "circle"
         },
         "mode": "markers",
         "name": "C52",
         "orientation": "v",
         "showlegend": true,
         "type": "scatter",
         "x": [
          35.5,
          26.55
         ],
         "xaxis": "x",
         "y": [
          1,
          1
         ],
         "yaxis": "y"
        },
        {
         "customdata": [
          [
           1,
           "B28"
          ],
          [
           1,
           "B28"
          ]
         ],
         "hovertemplate": "Cabin=%{customdata[1]}<br>Ticket Fare=%{x}<br>Survival=%{y}<br>Pclass=%{customdata[0]}<extra></extra>",
         "legendgroup": "B28",
         "marker": {
          "color": "rgb(255,127,0)",
          "symbol": "circle"
         },
         "mode": "markers",
         "name": "B28",
         "orientation": "v",
         "showlegend": true,
         "type": "scatter",
         "x": [
          80,
          80
         ],
         "xaxis": "x",
         "y": [
          1,
          1
         ],
         "yaxis": "y"
        },
        {
         "customdata": [
          [
           1,
           "C83"
          ],
          [
           1,
           "C83"
          ]
         ],
         "hovertemplate": "Cabin=%{customdata[1]}<br>Ticket Fare=%{x}<br>Survival=%{y}<br>Pclass=%{customdata[0]}<extra></extra>",
         "legendgroup": "C83",
         "marker": {
          "color": "rgb(255,255,51)",
          "symbol": "circle"
         },
         "mode": "markers",
         "name": "C83",
         "orientation": "v",
         "showlegend": true,
         "type": "scatter",
         "x": [
          83.475,
          83.475
         ],
         "xaxis": "x",
         "y": [
          0,
          1
         ],
         "yaxis": "y"
        },
        {
         "customdata": [
          [
           2,
           "F33"
          ],
          [
           2,
           "F33"
          ],
          [
           2,
           "F33"
          ]
         ],
         "hovertemplate": "Cabin=%{customdata[1]}<br>Ticket Fare=%{x}<br>Survival=%{y}<br>Pclass=%{customdata[0]}<extra></extra>",
         "legendgroup": "F33",
         "marker": {
          "color": "rgb(166,86,40)",
          "symbol": "circle"
         },
         "mode": "markers",
         "name": "F33",
         "orientation": "v",
         "showlegend": true,
         "type": "scatter",
         "x": [
          10.5,
          13,
          10.5
         ],
         "xaxis": "x",
         "y": [
          1,
          1,
          1
         ],
         "yaxis": "y"
        },
        {
         "customdata": [
          [
           3,
           "F G73"
          ],
          [
           3,
           "F G73"
          ]
         ],
         "hovertemplate": "Cabin=%{customdata[1]}<br>Ticket Fare=%{x}<br>Survival=%{y}<br>Pclass=%{customdata[0]}<extra></extra>",
         "legendgroup": "F G73",
         "marker": {
          "color": "rgb(247,129,191)",
          "symbol": "circle"
         },
         "mode": "markers",
         "name": "F G73",
         "orientation": "v",
         "showlegend": true,
         "type": "scatter",
         "x": [
          7.65,
          7.65
         ],
         "xaxis": "x",
         "y": [
          0,
          0
         ],
         "yaxis": "y"
        },
        {
         "customdata": [
          [
           1,
           "E31"
          ]
         ],
         "hovertemplate": "Cabin=%{customdata[1]}<br>Ticket Fare=%{x}<br>Survival=%{y}<br>Pclass=%{customdata[0]}<extra></extra>",
         "legendgroup": "E31",
         "marker": {
          "color": "rgb(153,153,153)",
          "symbol": "circle"
         },
         "mode": "markers",
         "name": "E31",
         "orientation": "v",
         "showlegend": true,
         "type": "scatter",
         "x": [
          61.175
         ],
         "xaxis": "x",
         "y": [
          0
         ],
         "yaxis": "y"
        },
        {
         "customdata": [
          [
           1,
           "A5"
          ]
         ],
         "hovertemplate": "Cabin=%{customdata[1]}<br>Ticket Fare=%{x}<br>Survival=%{y}<br>Pclass=%{customdata[0]}<extra></extra>",
         "legendgroup": "A5",
         "marker": {
          "color": "rgb(228,26,28)",
          "symbol": "circle"
         },
         "mode": "markers",
         "name": "A5",
         "orientation": "v",
         "showlegend": true,
         "type": "scatter",
         "x": [
          34.6542
         ],
         "xaxis": "x",
         "y": [
          0
         ],
         "yaxis": "y"
        },
        {
         "customdata": [
          [
           1,
           "D10 D12"
          ]
         ],
         "hovertemplate": "Cabin=%{customdata[1]}<br>Ticket Fare=%{x}<br>Survival=%{y}<br>Pclass=%{customdata[0]}<extra></extra>",
         "legendgroup": "D10 D12",
         "marker": {
          "color": "rgb(55,126,184)",
          "symbol": "circle"
         },
         "mode": "markers",
         "name": "D10 D12",
         "orientation": "v",
         "showlegend": true,
         "type": "scatter",
         "x": [
          63.3583
         ],
         "xaxis": "x",
         "y": [
          1
         ],
         "yaxis": "y"
        },
        {
         "customdata": [
          [
           1,
           "D26"
          ],
          [
           1,
           "D26"
          ]
         ],
         "hovertemplate": "Cabin=%{customdata[1]}<br>Ticket Fare=%{x}<br>Survival=%{y}<br>Pclass=%{customdata[0]}<extra></extra>",
         "legendgroup": "D26",
         "marker": {
          "color": "rgb(77,175,74)",
          "symbol": "circle"
         },
         "mode": "markers",
         "name": "D26",
         "orientation": "v",
         "showlegend": true,
         "type": "scatter",
         "x": [
          77.2875,
          77.2875
         ],
         "xaxis": "x",
         "y": [
          0,
          0
         ],
         "yaxis": "y"
        },
        {
         "customdata": [
          [
           1,
           "C110"
          ]
         ],
         "hovertemplate": "Cabin=%{customdata[1]}<br>Ticket Fare=%{x}<br>Survival=%{y}<br>Pclass=%{customdata[0]}<extra></extra>",
         "legendgroup": "C110",
         "marker": {
          "color": "rgb(152,78,163)",
          "symbol": "circle"
         },
         "mode": "markers",
         "name": "C110",
         "orientation": "v",
         "showlegend": true,
         "type": "scatter",
         "x": [
          52
         ],
         "xaxis": "x",
         "y": [
          0
         ],
         "yaxis": "y"
        },
        {
         "customdata": [
          [
           1,
           "B58 B60"
          ],
          [
           1,
           "B58 B60"
          ]
         ],
         "hovertemplate": "Cabin=%{customdata[1]}<br>Ticket Fare=%{x}<br>Survival=%{y}<br>Pclass=%{customdata[0]}<extra></extra>",
         "legendgroup": "B58 B60",
         "marker": {
          "color": "rgb(255,127,0)",
          "symbol": "circle"
         },
         "mode": "markers",
         "name": "B58 B60",
         "orientation": "v",
         "showlegend": true,
         "type": "scatter",
         "x": [
          247.5208,
          247.5208
         ],
         "xaxis": "x",
         "y": [
          0,
          1
         ],
         "yaxis": "y"
        },
        {
         "customdata": [
          [
           2,
           "E101"
          ],
          [
           2,
           "E101"
          ],
          [
           2,
           "E101"
          ]
         ],
         "hovertemplate": "Cabin=%{customdata[1]}<br>Ticket Fare=%{x}<br>Survival=%{y}<br>Pclass=%{customdata[0]}<extra></extra>",
         "legendgroup": "E101",
         "marker": {
          "color": "rgb(255,255,51)",
          "symbol": "circle"
         },
         "mode": "markers",
         "name": "E101",
         "orientation": "v",
         "showlegend": true,
         "type": "scatter",
         "x": [
          13,
          12.35,
          10.5
         ],
         "xaxis": "x",
         "y": [
          1,
          1,
          1
         ],
         "yaxis": "y"
        },
        {
         "customdata": [
          [
           3,
           "F E69"
          ]
         ],
         "hovertemplate": "Cabin=%{customdata[1]}<br>Ticket Fare=%{x}<br>Survival=%{y}<br>Pclass=%{customdata[0]}<extra></extra>",
         "legendgroup": "F E69",
         "marker": {
          "color": "rgb(166,86,40)",
          "symbol": "circle"
         },
         "mode": "markers",
         "name": "F E69",
         "orientation": "v",
         "showlegend": true,
         "type": "scatter",
         "x": [
          22.3583
         ],
         "xaxis": "x",
         "y": [
          1
         ],
         "yaxis": "y"
        },
        {
         "customdata": [
          [
           1,
           "D47"
          ]
         ],
         "hovertemplate": "Cabin=%{customdata[1]}<br>Ticket Fare=%{x}<br>Survival=%{y}<br>Pclass=%{customdata[0]}<extra></extra>",
         "legendgroup": "D47",
         "marker": {
          "color": "rgb(247,129,191)",
          "symbol": "circle"
         },
         "mode": "markers",
         "name": "D47",
         "orientation": "v",
         "showlegend": true,
         "type": "scatter",
         "x": [
          26.2833
         ],
         "xaxis": "x",
         "y": [
          1
         ],
         "yaxis": "y"
        },
        {
         "customdata": [
          [
           1,
           "B86"
          ]
         ],
         "hovertemplate": "Cabin=%{customdata[1]}<br>Ticket Fare=%{x}<br>Survival=%{y}<br>Pclass=%{customdata[0]}<extra></extra>",
         "legendgroup": "B86",
         "marker": {
          "color": "rgb(153,153,153)",
          "symbol": "circle"
         },
         "mode": "markers",
         "name": "B86",
         "orientation": "v",
         "showlegend": true,
         "type": "scatter",
         "x": [
          79.2
         ],
         "xaxis": "x",
         "y": [
          0
         ],
         "yaxis": "y"
        },
        {
         "customdata": [
          [
           2,
           "F2"
          ],
          [
           2,
           "F2"
          ],
          [
           2,
           "F2"
          ]
         ],
         "hovertemplate": "Cabin=%{customdata[1]}<br>Ticket Fare=%{x}<br>Survival=%{y}<br>Pclass=%{customdata[0]}<extra></extra>",
         "legendgroup": "F2",
         "marker": {
          "color": "rgb(228,26,28)",
          "symbol": "circle"
         },
         "mode": "markers",
         "name": "F2",
         "orientation": "v",
         "showlegend": true,
         "type": "scatter",
         "x": [
          26,
          26,
          26
         ],
         "xaxis": "x",
         "y": [
          0,
          1,
          1
         ],
         "yaxis": "y"
        },
        {
         "customdata": [
          [
           1,
           "C2"
          ],
          [
           1,
           "C2"
          ]
         ],
         "hovertemplate": "Cabin=%{customdata[1]}<br>Ticket Fare=%{x}<br>Survival=%{y}<br>Pclass=%{customdata[0]}<extra></extra>",
         "legendgroup": "C2",
         "marker": {
          "color": "rgb(55,126,184)",
          "symbol": "circle"
         },
         "mode": "markers",
         "name": "C2",
         "orientation": "v",
         "showlegend": true,
         "type": "scatter",
         "x": [
          66.6,
          66.6
         ],
         "xaxis": "x",
         "y": [
          1,
          0
         ],
         "yaxis": "y"
        },
        {
         "customdata": [
          [
           1,
           "E33"
          ],
          [
           1,
           "E33"
          ]
         ],
         "hovertemplate": "Cabin=%{customdata[1]}<br>Ticket Fare=%{x}<br>Survival=%{y}<br>Pclass=%{customdata[0]}<extra></extra>",
         "legendgroup": "E33",
         "marker": {
          "color": "rgb(77,175,74)",
          "symbol": "circle"
         },
         "mode": "markers",
         "name": "E33",
         "orientation": "v",
         "showlegend": true,
         "type": "scatter",
         "x": [
          55,
          55
         ],
         "xaxis": "x",
         "y": [
          1,
          1
         ],
         "yaxis": "y"
        },
        {
         "customdata": [
          [
           1,
           "B19"
          ]
         ],
         "hovertemplate": "Cabin=%{customdata[1]}<br>Ticket Fare=%{x}<br>Survival=%{y}<br>Pclass=%{customdata[0]}<extra></extra>",
         "legendgroup": "B19",
         "marker": {
          "color": "rgb(152,78,163)",
          "symbol": "circle"
         },
         "mode": "markers",
         "name": "B19",
         "orientation": "v",
         "showlegend": true,
         "type": "scatter",
         "x": [
          33.5
         ],
         "xaxis": "x",
         "y": [
          0
         ],
         "yaxis": "y"
        },
        {
         "customdata": [
          [
           1,
           "A7"
          ]
         ],
         "hovertemplate": "Cabin=%{customdata[1]}<br>Ticket Fare=%{x}<br>Survival=%{y}<br>Pclass=%{customdata[0]}<extra></extra>",
         "legendgroup": "A7",
         "marker": {
          "color": "rgb(255,127,0)",
          "symbol": "circle"
         },
         "mode": "markers",
         "name": "A7",
         "orientation": "v",
         "showlegend": true,
         "type": "scatter",
         "x": [
          30.6958
         ],
         "xaxis": "x",
         "y": [
          0
         ],
         "yaxis": "y"
        },
        {
         "customdata": [
          [
           1,
           "C49"
          ]
         ],
         "hovertemplate": "Cabin=%{customdata[1]}<br>Ticket Fare=%{x}<br>Survival=%{y}<br>Pclass=%{customdata[0]}<extra></extra>",
         "legendgroup": "C49",
         "marker": {
          "color": "rgb(255,255,51)",
          "symbol": "circle"
         },
         "mode": "markers",
         "name": "C49",
         "orientation": "v",
         "showlegend": true,
         "type": "scatter",
         "x": [
          28.7125
         ],
         "xaxis": "x",
         "y": [
          0
         ],
         "yaxis": "y"
        },
        {
         "customdata": [
          [
           2,
           "F4"
          ],
          [
           2,
           "F4"
          ]
         ],
         "hovertemplate": "Cabin=%{customdata[1]}<br>Ticket Fare=%{x}<br>Survival=%{y}<br>Pclass=%{customdata[0]}<extra></extra>",
         "legendgroup": "F4",
         "marker": {
          "color": "rgb(166,86,40)",
          "symbol": "circle"
         },
         "mode": "markers",
         "name": "F4",
         "orientation": "v",
         "showlegend": true,
         "type": "scatter",
         "x": [
          39,
          39
         ],
         "xaxis": "x",
         "y": [
          1,
          1
         ],
         "yaxis": "y"
        },
        {
         "customdata": [
          [
           1,
           "A32"
          ]
         ],
         "hovertemplate": "Cabin=%{customdata[1]}<br>Ticket Fare=%{x}<br>Survival=%{y}<br>Pclass=%{customdata[0]}<extra></extra>",
         "legendgroup": "A32",
         "marker": {
          "color": "rgb(247,129,191)",
          "symbol": "circle"
         },
         "mode": "markers",
         "name": "A32",
         "orientation": "v",
         "showlegend": true,
         "type": "scatter",
         "x": [
          50
         ],
         "xaxis": "x",
         "y": [
          0
         ],
         "yaxis": "y"
        },
        {
         "customdata": [
          [
           1,
           "B4"
          ]
         ],
         "hovertemplate": "Cabin=%{customdata[1]}<br>Ticket Fare=%{x}<br>Survival=%{y}<br>Pclass=%{customdata[0]}<extra></extra>",
         "legendgroup": "B4",
         "marker": {
          "color": "rgb(153,153,153)",
          "symbol": "circle"
         },
         "mode": "markers",
         "name": "B4",
         "orientation": "v",
         "showlegend": true,
         "type": "scatter",
         "x": [
          27.7208
         ],
         "xaxis": "x",
         "y": [
          1
         ],
         "yaxis": "y"
        },
        {
         "customdata": [
          [
           1,
           "B80"
          ]
         ],
         "hovertemplate": "Cabin=%{customdata[1]}<br>Ticket Fare=%{x}<br>Survival=%{y}<br>Pclass=%{customdata[0]}<extra></extra>",
         "legendgroup": "B80",
         "marker": {
          "color": "rgb(228,26,28)",
          "symbol": "circle"
         },
         "mode": "markers",
         "name": "B80",
         "orientation": "v",
         "showlegend": true,
         "type": "scatter",
         "x": [
          146.5208
         ],
         "xaxis": "x",
         "y": [
          1
         ],
         "yaxis": "y"
        },
        {
         "customdata": [
          [
           1,
           "A31"
          ]
         ],
         "hovertemplate": "Cabin=%{customdata[1]}<br>Ticket Fare=%{x}<br>Survival=%{y}<br>Pclass=%{customdata[0]}<extra></extra>",
         "legendgroup": "A31",
         "marker": {
          "color": "rgb(55,126,184)",
          "symbol": "circle"
         },
         "mode": "markers",
         "name": "A31",
         "orientation": "v",
         "showlegend": true,
         "type": "scatter",
         "x": [
          31
         ],
         "xaxis": "x",
         "y": [
          1
         ],
         "yaxis": "y"
        },
        {
         "customdata": [
          [
           1,
           "D36"
          ],
          [
           1,
           "D36"
          ]
         ],
         "hovertemplate": "Cabin=%{customdata[1]}<br>Ticket Fare=%{x}<br>Survival=%{y}<br>Pclass=%{customdata[0]}<extra></extra>",
         "legendgroup": "D36",
         "marker": {
          "color": "rgb(77,175,74)",
          "symbol": "circle"
         },
         "mode": "markers",
         "name": "D36",
         "orientation": "v",
         "showlegend": true,
         "type": "scatter",
         "x": [
          113.275,
          113.275
         ],
         "xaxis": "x",
         "y": [
          1,
          1
         ],
         "yaxis": "y"
        },
        {
         "customdata": [
          [
           1,
           "D15"
          ]
         ],
         "hovertemplate": "Cabin=%{customdata[1]}<br>Ticket Fare=%{x}<br>Survival=%{y}<br>Pclass=%{customdata[0]}<extra></extra>",
         "legendgroup": "D15",
         "marker": {
          "color": "rgb(152,78,163)",
          "symbol": "circle"
         },
         "mode": "markers",
         "name": "D15",
         "orientation": "v",
         "showlegend": true,
         "type": "scatter",
         "x": [
          76.2917
         ],
         "xaxis": "x",
         "y": [
          1
         ],
         "yaxis": "y"
        },
        {
         "customdata": [
          [
           1,
           "C93"
          ],
          [
           1,
           "C93"
          ]
         ],
         "hovertemplate": "Cabin=%{customdata[1]}<br>Ticket Fare=%{x}<br>Survival=%{y}<br>Pclass=%{customdata[0]}<extra></extra>",
         "legendgroup": "C93",
         "marker": {
          "color": "rgb(255,127,0)",
          "symbol": "circle"
         },
         "mode": "markers",
         "name": "C93",
         "orientation": "v",
         "showlegend": true,
         "type": "scatter",
         "x": [
          90,
          90
         ],
         "xaxis": "x",
         "y": [
          1,
          1
         ],
         "yaxis": "y"
        },
        {
         "customdata": [
          [
           1,
           "C78"
          ],
          [
           1,
           "C78"
          ]
         ],
         "hovertemplate": "Cabin=%{customdata[1]}<br>Ticket Fare=%{x}<br>Survival=%{y}<br>Pclass=%{customdata[0]}<extra></extra>",
         "legendgroup": "C78",
         "marker": {
          "color": "rgb(255,255,51)",
          "symbol": "circle"
         },
         "mode": "markers",
         "name": "C78",
         "orientation": "v",
         "showlegend": true,
         "type": "scatter",
         "x": [
          90,
          90
         ],
         "xaxis": "x",
         "y": [
          0,
          1
         ],
         "yaxis": "y"
        },
        {
         "customdata": [
          [
           1,
           "D35"
          ],
          [
           1,
           "D35"
          ]
         ],
         "hovertemplate": "Cabin=%{customdata[1]}<br>Ticket Fare=%{x}<br>Survival=%{y}<br>Pclass=%{customdata[0]}<extra></extra>",
         "legendgroup": "D35",
         "marker": {
          "color": "rgb(166,86,40)",
          "symbol": "circle"
         },
         "mode": "markers",
         "name": "D35",
         "orientation": "v",
         "showlegend": true,
         "type": "scatter",
         "x": [
          52.5542,
          52.5542
         ],
         "xaxis": "x",
         "y": [
          1,
          1
         ],
         "yaxis": "y"
        },
        {
         "customdata": [
          [
           1,
           "C87"
          ]
         ],
         "hovertemplate": "Cabin=%{customdata[1]}<br>Ticket Fare=%{x}<br>Survival=%{y}<br>Pclass=%{customdata[0]}<extra></extra>",
         "legendgroup": "C87",
         "marker": {
          "color": "rgb(247,129,191)",
          "symbol": "circle"
         },
         "mode": "markers",
         "name": "C87",
         "orientation": "v",
         "showlegend": true,
         "type": "scatter",
         "x": [
          26.55
         ],
         "xaxis": "x",
         "y": [
          0
         ],
         "yaxis": "y"
        },
        {
         "customdata": [
          [
           1,
           "B77"
          ],
          [
           1,
           "B77"
          ]
         ],
         "hovertemplate": "Cabin=%{customdata[1]}<br>Ticket Fare=%{x}<br>Survival=%{y}<br>Pclass=%{customdata[0]}<extra></extra>",
         "legendgroup": "B77",
         "marker": {
          "color": "rgb(153,153,153)",
          "symbol": "circle"
         },
         "mode": "markers",
         "name": "B77",
         "orientation": "v",
         "showlegend": true,
         "type": "scatter",
         "x": [
          86.5,
          86.5
         ],
         "xaxis": "x",
         "y": [
          1,
          1
         ],
         "yaxis": "y"
        },
        {
         "customdata": [
          [
           1,
           "E67"
          ],
          [
           1,
           "E67"
          ]
         ],
         "hovertemplate": "Cabin=%{customdata[1]}<br>Ticket Fare=%{x}<br>Survival=%{y}<br>Pclass=%{customdata[0]}<extra></extra>",
         "legendgroup": "E67",
         "marker": {
          "color": "rgb(228,26,28)",
          "symbol": "circle"
         },
         "mode": "markers",
         "name": "E67",
         "orientation": "v",
         "showlegend": true,
         "type": "scatter",
         "x": [
          79.65,
          79.65
         ],
         "xaxis": "x",
         "y": [
          0,
          1
         ],
         "yaxis": "y"
        },
        {
         "customdata": [
          [
           1,
           "B94"
          ]
         ],
         "hovertemplate": "Cabin=%{customdata[1]}<br>Ticket Fare=%{x}<br>Survival=%{y}<br>Pclass=%{customdata[0]}<extra></extra>",
         "legendgroup": "B94",
         "marker": {
          "color": "rgb(55,126,184)",
          "symbol": "circle"
         },
         "mode": "markers",
         "name": "B94",
         "orientation": "v",
         "showlegend": true,
         "type": "scatter",
         "x": [
          0
         ],
         "xaxis": "x",
         "y": [
          0
         ],
         "yaxis": "y"
        },
        {
         "customdata": [
          [
           1,
           "C125"
          ],
          [
           1,
           "C125"
          ]
         ],
         "hovertemplate": "Cabin=%{customdata[1]}<br>Ticket Fare=%{x}<br>Survival=%{y}<br>Pclass=%{customdata[0]}<extra></extra>",
         "legendgroup": "C125",
         "marker": {
          "color": "rgb(77,175,74)",
          "symbol": "circle"
         },
         "mode": "markers",
         "name": "C125",
         "orientation": "v",
         "showlegend": true,
         "type": "scatter",
         "x": [
          153.4625,
          153.4625
         ],
         "xaxis": "x",
         "y": [
          1,
          1
         ],
         "yaxis": "y"
        },
        {
         "customdata": [
          [
           1,
           "C99"
          ]
         ],
         "hovertemplate": "Cabin=%{customdata[1]}<br>Ticket Fare=%{x}<br>Survival=%{y}<br>Pclass=%{customdata[0]}<extra></extra>",
         "legendgroup": "C99",
         "marker": {
          "color": "rgb(152,78,163)",
          "symbol": "circle"
         },
         "mode": "markers",
         "name": "C99",
         "orientation": "v",
         "showlegend": true,
         "type": "scatter",
         "x": [
          135.6333
         ],
         "xaxis": "x",
         "y": [
          1
         ],
         "yaxis": "y"
        },
        {
         "customdata": [
          [
           1,
           "C118"
          ]
         ],
         "hovertemplate": "Cabin=%{customdata[1]}<br>Ticket Fare=%{x}<br>Survival=%{y}<br>Pclass=%{customdata[0]}<extra></extra>",
         "legendgroup": "C118",
         "marker": {
          "color": "rgb(255,127,0)",
          "symbol": "circle"
         },
         "mode": "markers",
         "name": "C118",
         "orientation": "v",
         "showlegend": true,
         "type": "scatter",
         "x": [
          29.7
         ],
         "xaxis": "x",
         "y": [
          0
         ],
         "yaxis": "y"
        },
        {
         "customdata": [
          [
           1,
           "D7"
          ]
         ],
         "hovertemplate": "Cabin=%{customdata[1]}<br>Ticket Fare=%{x}<br>Survival=%{y}<br>Pclass=%{customdata[0]}<extra></extra>",
         "legendgroup": "D7",
         "marker": {
          "color": "rgb(255,255,51)",
          "symbol": "circle"
         },
         "mode": "markers",
         "name": "D7",
         "orientation": "v",
         "showlegend": true,
         "type": "scatter",
         "x": [
          77.9583
         ],
         "xaxis": "x",
         "y": [
          1
         ],
         "yaxis": "y"
        },
        {
         "customdata": [
          [
           1,
           "A19"
          ]
         ],
         "hovertemplate": "Cabin=%{customdata[1]}<br>Ticket Fare=%{x}<br>Survival=%{y}<br>Pclass=%{customdata[0]}<extra></extra>",
         "legendgroup": "A19",
         "marker": {
          "color": "rgb(166,86,40)",
          "symbol": "circle"
         },
         "mode": "markers",
         "name": "A19",
         "orientation": "v",
         "showlegend": true,
         "type": "scatter",
         "x": [
          26
         ],
         "xaxis": "x",
         "y": [
          0
         ],
         "yaxis": "y"
        },
        {
         "customdata": [
          [
           1,
           "B49"
          ],
          [
           1,
           "B49"
          ]
         ],
         "hovertemplate": "Cabin=%{customdata[1]}<br>Ticket Fare=%{x}<br>Survival=%{y}<br>Pclass=%{customdata[0]}<extra></extra>",
         "legendgroup": "B49",
         "marker": {
          "color": "rgb(247,129,191)",
          "symbol": "circle"
         },
         "mode": "markers",
         "name": "B49",
         "orientation": "v",
         "showlegend": true,
         "type": "scatter",
         "x": [
          91.0792,
          91.0792
         ],
         "xaxis": "x",
         "y": [
          1,
          1
         ],
         "yaxis": "y"
        },
        {
         "customdata": [
          [
           2,
           "D"
          ],
          [
           2,
           "D"
          ],
          [
           2,
           "D"
          ]
         ],
         "hovertemplate": "Cabin=%{customdata[1]}<br>Ticket Fare=%{x}<br>Survival=%{y}<br>Pclass=%{customdata[0]}<extra></extra>",
         "legendgroup": "D",
         "marker": {
          "color": "rgb(153,153,153)",
          "symbol": "circle"
         },
         "mode": "markers",
         "name": "D",
         "orientation": "v",
         "showlegend": true,
         "type": "scatter",
         "x": [
          12.875,
          13,
          13.7917
         ],
         "xaxis": "x",
         "y": [
          0,
          1,
          1
         ],
         "yaxis": "y"
        },
        {
         "customdata": [
          [
           1,
           "C22 C26"
          ],
          [
           1,
           "C22 C26"
          ],
          [
           1,
           "C22 C26"
          ]
         ],
         "hovertemplate": "Cabin=%{customdata[1]}<br>Ticket Fare=%{x}<br>Survival=%{y}<br>Pclass=%{customdata[0]}<extra></extra>",
         "legendgroup": "C22 C26",
         "marker": {
          "color": "rgb(228,26,28)",
          "symbol": "circle"
         },
         "mode": "markers",
         "name": "C22 C26",
         "orientation": "v",
         "showlegend": true,
         "type": "scatter",
         "x": [
          151.55,
          151.55,
          151.55
         ],
         "xaxis": "x",
         "y": [
          0,
          1,
          0
         ],
         "yaxis": "y"
        },
        {
         "customdata": [
          [
           1,
           "C106"
          ]
         ],
         "hovertemplate": "Cabin=%{customdata[1]}<br>Ticket Fare=%{x}<br>Survival=%{y}<br>Pclass=%{customdata[0]}<extra></extra>",
         "legendgroup": "C106",
         "marker": {
          "color": "rgb(55,126,184)",
          "symbol": "circle"
         },
         "mode": "markers",
         "name": "C106",
         "orientation": "v",
         "showlegend": true,
         "type": "scatter",
         "x": [
          30.5
         ],
         "xaxis": "x",
         "y": [
          1
         ],
         "yaxis": "y"
        },
        {
         "customdata": [
          [
           1,
           "C65"
          ],
          [
           1,
           "C65"
          ]
         ],
         "hovertemplate": "Cabin=%{customdata[1]}<br>Ticket Fare=%{x}<br>Survival=%{y}<br>Pclass=%{customdata[0]}<extra></extra>",
         "legendgroup": "C65",
         "marker": {
          "color": "rgb(77,175,74)",
          "symbol": "circle"
         },
         "mode": "markers",
         "name": "C65",
         "orientation": "v",
         "showlegend": true,
         "type": "scatter",
         "x": [
          108.9,
          108.9
         ],
         "xaxis": "x",
         "y": [
          1,
          0
         ],
         "yaxis": "y"
        },
        {
         "customdata": [
          [
           1,
           "E36"
          ]
         ],
         "hovertemplate": "Cabin=%{customdata[1]}<br>Ticket Fare=%{x}<br>Survival=%{y}<br>Pclass=%{customdata[0]}<extra></extra>",
         "legendgroup": "E36",
         "marker": {
          "color": "rgb(152,78,163)",
          "symbol": "circle"
         },
         "mode": "markers",
         "name": "E36",
         "orientation": "v",
         "showlegend": true,
         "type": "scatter",
         "x": [
          56.9292
         ],
         "xaxis": "x",
         "y": [
          1
         ],
         "yaxis": "y"
        },
        {
         "customdata": [
          [
           1,
           "C54"
          ]
         ],
         "hovertemplate": "Cabin=%{customdata[1]}<br>Ticket Fare=%{x}<br>Survival=%{y}<br>Pclass=%{customdata[0]}<extra></extra>",
         "legendgroup": "C54",
         "marker": {
          "color": "rgb(255,127,0)",
          "symbol": "circle"
         },
         "mode": "markers",
         "name": "C54",
         "orientation": "v",
         "showlegend": true,
         "type": "scatter",
         "x": [
          83.1583
         ],
         "xaxis": "x",
         "y": [
          1
         ],
         "yaxis": "y"
        },
        {
         "customdata": [
          [
           1,
           "B57 B59 B63 B66"
          ],
          [
           1,
           "B57 B59 B63 B66"
          ]
         ],
         "hovertemplate": "Cabin=%{customdata[1]}<br>Ticket Fare=%{x}<br>Survival=%{y}<br>Pclass=%{customdata[0]}<extra></extra>",
         "legendgroup": "B57 B59 B63 B66",
         "marker": {
          "color": "rgb(255,255,51)",
          "symbol": "circle"
         },
         "mode": "markers",
         "name": "B57 B59 B63 B66",
         "orientation": "v",
         "showlegend": true,
         "type": "scatter",
         "x": [
          262.375,
          262.375
         ],
         "xaxis": "x",
         "y": [
          1,
          1
         ],
         "yaxis": "y"
        },
        {
         "customdata": [
          [
           1,
           "C7"
          ]
         ],
         "hovertemplate": "Cabin=%{customdata[1]}<br>Ticket Fare=%{x}<br>Survival=%{y}<br>Pclass=%{customdata[0]}<extra></extra>",
         "legendgroup": "C7",
         "marker": {
          "color": "rgb(166,86,40)",
          "symbol": "circle"
         },
         "mode": "markers",
         "name": "C7",
         "orientation": "v",
         "showlegend": true,
         "type": "scatter",
         "x": [
          164.8667
         ],
         "xaxis": "x",
         "y": [
          1
         ],
         "yaxis": "y"
        },
        {
         "customdata": [
          [
           1,
           "E34"
          ]
         ],
         "hovertemplate": "Cabin=%{customdata[1]}<br>Ticket Fare=%{x}<br>Survival=%{y}<br>Pclass=%{customdata[0]}<extra></extra>",
         "legendgroup": "E34",
         "marker": {
          "color": "rgb(247,129,191)",
          "symbol": "circle"
         },
         "mode": "markers",
         "name": "E34",
         "orientation": "v",
         "showlegend": true,
         "type": "scatter",
         "x": [
          134.5
         ],
         "xaxis": "x",
         "y": [
          1
         ],
         "yaxis": "y"
        },
        {
         "customdata": [
          [
           1,
           "C32"
          ]
         ],
         "hovertemplate": "Cabin=%{customdata[1]}<br>Ticket Fare=%{x}<br>Survival=%{y}<br>Pclass=%{customdata[0]}<extra></extra>",
         "legendgroup": "C32",
         "marker": {
          "color": "rgb(153,153,153)",
          "symbol": "circle"
         },
         "mode": "markers",
         "name": "C32",
         "orientation": "v",
         "showlegend": true,
         "type": "scatter",
         "x": [
          135.6333
         ],
         "xaxis": "x",
         "y": [
          1
         ],
         "yaxis": "y"
        },
        {
         "customdata": [
          [
           1,
           "B18"
          ],
          [
           1,
           "B18"
          ]
         ],
         "hovertemplate": "Cabin=%{customdata[1]}<br>Ticket Fare=%{x}<br>Survival=%{y}<br>Pclass=%{customdata[0]}<extra></extra>",
         "legendgroup": "B18",
         "marker": {
          "color": "rgb(228,26,28)",
          "symbol": "circle"
         },
         "mode": "markers",
         "name": "B18",
         "orientation": "v",
         "showlegend": true,
         "type": "scatter",
         "x": [
          57.9792,
          57.9792
         ],
         "xaxis": "x",
         "y": [
          1,
          1
         ],
         "yaxis": "y"
        },
        {
         "customdata": [
          [
           1,
           "C124"
          ],
          [
           1,
           "C124"
          ]
         ],
         "hovertemplate": "Cabin=%{customdata[1]}<br>Ticket Fare=%{x}<br>Survival=%{y}<br>Pclass=%{customdata[0]}<extra></extra>",
         "legendgroup": "C124",
         "marker": {
          "color": "rgb(55,126,184)",
          "symbol": "circle"
         },
         "mode": "markers",
         "name": "C124",
         "orientation": "v",
         "showlegend": true,
         "type": "scatter",
         "x": [
          28.5,
          26.55
         ],
         "xaxis": "x",
         "y": [
          0,
          0
         ],
         "yaxis": "y"
        },
        {
         "customdata": [
          [
           1,
           "C91"
          ]
         ],
         "hovertemplate": "Cabin=%{customdata[1]}<br>Ticket Fare=%{x}<br>Survival=%{y}<br>Pclass=%{customdata[0]}<extra></extra>",
         "legendgroup": "C91",
         "marker": {
          "color": "rgb(77,175,74)",
          "symbol": "circle"
         },
         "mode": "markers",
         "name": "C91",
         "orientation": "v",
         "showlegend": true,
         "type": "scatter",
         "x": [
          153.4625
         ],
         "xaxis": "x",
         "y": [
          0
         ],
         "yaxis": "y"
        },
        {
         "customdata": [
          [
           1,
           "E40"
          ]
         ],
         "hovertemplate": "Cabin=%{customdata[1]}<br>Ticket Fare=%{x}<br>Survival=%{y}<br>Pclass=%{customdata[0]}<extra></extra>",
         "legendgroup": "E40",
         "marker": {
          "color": "rgb(152,78,163)",
          "symbol": "circle"
         },
         "mode": "markers",
         "name": "E40",
         "orientation": "v",
         "showlegend": true,
         "type": "scatter",
         "x": [
          134.5
         ],
         "xaxis": "x",
         "y": [
          1
         ],
         "yaxis": "y"
        },
        {
         "customdata": [
          [
           1,
           "T"
          ]
         ],
         "hovertemplate": "Cabin=%{customdata[1]}<br>Ticket Fare=%{x}<br>Survival=%{y}<br>Pclass=%{customdata[0]}<extra></extra>",
         "legendgroup": "T",
         "marker": {
          "color": "rgb(255,127,0)",
          "symbol": "circle"
         },
         "mode": "markers",
         "name": "T",
         "orientation": "v",
         "showlegend": true,
         "type": "scatter",
         "x": [
          35.5
         ],
         "xaxis": "x",
         "y": [
          0
         ],
         "yaxis": "y"
        },
        {
         "customdata": [
          [
           1,
           "C128"
          ]
         ],
         "hovertemplate": "Cabin=%{customdata[1]}<br>Ticket Fare=%{x}<br>Survival=%{y}<br>Pclass=%{customdata[0]}<extra></extra>",
         "legendgroup": "C128",
         "marker": {
          "color": "rgb(255,255,51)",
          "symbol": "circle"
         },
         "mode": "markers",
         "name": "C128",
         "orientation": "v",
         "showlegend": true,
         "type": "scatter",
         "x": [
          35
         ],
         "xaxis": "x",
         "y": [
          0
         ],
         "yaxis": "y"
        },
        {
         "customdata": [
          [
           1,
           "D37"
          ]
         ],
         "hovertemplate": "Cabin=%{customdata[1]}<br>Ticket Fare=%{x}<br>Survival=%{y}<br>Pclass=%{customdata[0]}<extra></extra>",
         "legendgroup": "D37",
         "marker": {
          "color": "rgb(166,86,40)",
          "symbol": "circle"
         },
         "mode": "markers",
         "name": "D37",
         "orientation": "v",
         "showlegend": true,
         "type": "scatter",
         "x": [
          75.25
         ],
         "xaxis": "x",
         "y": [
          1
         ],
         "yaxis": "y"
        },
        {
         "customdata": [
          [
           1,
           "B35"
          ],
          [
           1,
           "B35"
          ]
         ],
         "hovertemplate": "Cabin=%{customdata[1]}<br>Ticket Fare=%{x}<br>Survival=%{y}<br>Pclass=%{customdata[0]}<extra></extra>",
         "legendgroup": "B35",
         "marker": {
          "color": "rgb(247,129,191)",
          "symbol": "circle"
         },
         "mode": "markers",
         "name": "B35",
         "orientation": "v",
         "showlegend": true,
         "type": "scatter",
         "x": [
          69.3,
          69.3
         ],
         "xaxis": "x",
         "y": [
          1,
          1
         ],
         "yaxis": "y"
        },
        {
         "customdata": [
          [
           1,
           "E50"
          ]
         ],
         "hovertemplate": "Cabin=%{customdata[1]}<br>Ticket Fare=%{x}<br>Survival=%{y}<br>Pclass=%{customdata[0]}<extra></extra>",
         "legendgroup": "E50",
         "marker": {
          "color": "rgb(153,153,153)",
          "symbol": "circle"
         },
         "mode": "markers",
         "name": "E50",
         "orientation": "v",
         "showlegend": true,
         "type": "scatter",
         "x": [
          55.4417
         ],
         "xaxis": "x",
         "y": [
          1
         ],
         "yaxis": "y"
        },
        {
         "customdata": [
          [
           1,
           "C82"
          ]
         ],
         "hovertemplate": "Cabin=%{customdata[1]}<br>Ticket Fare=%{x}<br>Survival=%{y}<br>Pclass=%{customdata[0]}<extra></extra>",
         "legendgroup": "C82",
         "marker": {
          "color": "rgb(228,26,28)",
          "symbol": "circle"
         },
         "mode": "markers",
         "name": "C82",
         "orientation": "v",
         "showlegend": true,
         "type": "scatter",
         "x": [
          211.5
         ],
         "xaxis": "x",
         "y": [
          0
         ],
         "yaxis": "y"
        },
        {
         "customdata": [
          [
           1,
           "B96 B98"
          ],
          [
           1,
           "B96 B98"
          ],
          [
           1,
           "B96 B98"
          ],
          [
           1,
           "B96 B98"
          ]
         ],
         "hovertemplate": "Cabin=%{customdata[1]}<br>Ticket Fare=%{x}<br>Survival=%{y}<br>Pclass=%{customdata[0]}<extra></extra>",
         "legendgroup": "B96 B98",
         "marker": {
          "color": "rgb(55,126,184)",
          "symbol": "circle"
         },
         "mode": "markers",
         "name": "B96 B98",
         "orientation": "v",
         "showlegend": true,
         "type": "scatter",
         "x": [
          120,
          120,
          120,
          120
         ],
         "xaxis": "x",
         "y": [
          1,
          1,
          1,
          1
         ],
         "yaxis": "y"
        },
        {
         "customdata": [
          [
           3,
           "E10"
          ]
         ],
         "hovertemplate": "Cabin=%{customdata[1]}<br>Ticket Fare=%{x}<br>Survival=%{y}<br>Pclass=%{customdata[0]}<extra></extra>",
         "legendgroup": "E10",
         "marker": {
          "color": "rgb(77,175,74)",
          "symbol": "circle"
         },
         "mode": "markers",
         "name": "E10",
         "orientation": "v",
         "showlegend": true,
         "type": "scatter",
         "x": [
          8.05
         ],
         "xaxis": "x",
         "y": [
          1
         ],
         "yaxis": "y"
        },
        {
         "customdata": [
          [
           1,
           "E44"
          ],
          [
           1,
           "E44"
          ]
         ],
         "hovertemplate": "Cabin=%{customdata[1]}<br>Ticket Fare=%{x}<br>Survival=%{y}<br>Pclass=%{customdata[0]}<extra></extra>",
         "legendgroup": "E44",
         "marker": {
          "color": "rgb(152,78,163)",
          "symbol": "circle"
         },
         "mode": "markers",
         "name": "E44",
         "orientation": "v",
         "showlegend": true,
         "type": "scatter",
         "x": [
          55.9,
          55.9
         ],
         "xaxis": "x",
         "y": [
          0,
          1
         ],
         "yaxis": "y"
        },
        {
         "customdata": [
          [
           1,
           "A34"
          ]
         ],
         "hovertemplate": "Cabin=%{customdata[1]}<br>Ticket Fare=%{x}<br>Survival=%{y}<br>Pclass=%{customdata[0]}<extra></extra>",
         "legendgroup": "A34",
         "marker": {
          "color": "rgb(255,127,0)",
          "symbol": "circle"
         },
         "mode": "markers",
         "name": "A34",
         "orientation": "v",
         "showlegend": true,
         "type": "scatter",
         "x": [
          81.8583
         ],
         "xaxis": "x",
         "y": [
          1
         ],
         "yaxis": "y"
        },
        {
         "customdata": [
          [
           1,
           "C104"
          ]
         ],
         "hovertemplate": "Cabin=%{customdata[1]}<br>Ticket Fare=%{x}<br>Survival=%{y}<br>Pclass=%{customdata[0]}<extra></extra>",
         "legendgroup": "C104",
         "marker": {
          "color": "rgb(255,255,51)",
          "symbol": "circle"
         },
         "mode": "markers",
         "name": "C104",
         "orientation": "v",
         "showlegend": true,
         "type": "scatter",
         "x": [
          30.5
         ],
         "xaxis": "x",
         "y": [
          1
         ],
         "yaxis": "y"
        },
        {
         "customdata": [
          [
           1,
           "C111"
          ]
         ],
         "hovertemplate": "Cabin=%{customdata[1]}<br>Ticket Fare=%{x}<br>Survival=%{y}<br>Pclass=%{customdata[0]}<extra></extra>",
         "legendgroup": "C111",
         "marker": {
          "color": "rgb(166,86,40)",
          "symbol": "circle"
         },
         "mode": "markers",
         "name": "C111",
         "orientation": "v",
         "showlegend": true,
         "type": "scatter",
         "x": [
          27.75
         ],
         "xaxis": "x",
         "y": [
          0
         ],
         "yaxis": "y"
        },
        {
         "customdata": [
          [
           1,
           "C92"
          ],
          [
           1,
           "C92"
          ]
         ],
         "hovertemplate": "Cabin=%{customdata[1]}<br>Ticket Fare=%{x}<br>Survival=%{y}<br>Pclass=%{customdata[0]}<extra></extra>",
         "legendgroup": "C92",
         "marker": {
          "color": "rgb(247,129,191)",
          "symbol": "circle"
         },
         "mode": "markers",
         "name": "C92",
         "orientation": "v",
         "showlegend": true,
         "type": "scatter",
         "x": [
          89.1042,
          89.1042
         ],
         "xaxis": "x",
         "y": [
          1,
          1
         ],
         "yaxis": "y"
        },
        {
         "customdata": [
          [
           1,
           "E38"
          ]
         ],
         "hovertemplate": "Cabin=%{customdata[1]}<br>Ticket Fare=%{x}<br>Survival=%{y}<br>Pclass=%{customdata[0]}<extra></extra>",
         "legendgroup": "E38",
         "marker": {
          "color": "rgb(153,153,153)",
          "symbol": "circle"
         },
         "mode": "markers",
         "name": "E38",
         "orientation": "v",
         "showlegend": true,
         "type": "scatter",
         "x": [
          26.55
         ],
         "xaxis": "x",
         "y": [
          0
         ],
         "yaxis": "y"
        },
        {
         "customdata": [
          [
           1,
           "D21"
          ]
         ],
         "hovertemplate": "Cabin=%{customdata[1]}<br>Ticket Fare=%{x}<br>Survival=%{y}<br>Pclass=%{customdata[0]}<extra></extra>",
         "legendgroup": "D21",
         "marker": {
          "color": "rgb(228,26,28)",
          "symbol": "circle"
         },
         "mode": "markers",
         "name": "D21",
         "orientation": "v",
         "showlegend": true,
         "type": "scatter",
         "x": [
          51.8625
         ],
         "xaxis": "x",
         "y": [
          1
         ],
         "yaxis": "y"
        },
        {
         "customdata": [
          [
           1,
           "E12"
          ]
         ],
         "hovertemplate": "Cabin=%{customdata[1]}<br>Ticket Fare=%{x}<br>Survival=%{y}<br>Pclass=%{customdata[0]}<extra></extra>",
         "legendgroup": "E12",
         "marker": {
          "color": "rgb(55,126,184)",
          "symbol": "circle"
         },
         "mode": "markers",
         "name": "E12",
         "orientation": "v",
         "showlegend": true,
         "type": "scatter",
         "x": [
          26.55
         ],
         "xaxis": "x",
         "y": [
          1
         ],
         "yaxis": "y"
        },
        {
         "customdata": [
          [
           1,
           "E63"
          ]
         ],
         "hovertemplate": "Cabin=%{customdata[1]}<br>Ticket Fare=%{x}<br>Survival=%{y}<br>Pclass=%{customdata[0]}<extra></extra>",
         "legendgroup": "E63",
         "marker": {
          "color": "rgb(77,175,74)",
          "symbol": "circle"
         },
         "mode": "markers",
         "name": "E63",
         "orientation": "v",
         "showlegend": true,
         "type": "scatter",
         "x": [
          38.5
         ],
         "xaxis": "x",
         "y": [
          0
         ],
         "yaxis": "y"
        },
        {
         "customdata": [
          [
           1,
           "A14"
          ]
         ],
         "hovertemplate": "Cabin=%{customdata[1]}<br>Ticket Fare=%{x}<br>Survival=%{y}<br>Pclass=%{customdata[0]}<extra></extra>",
         "legendgroup": "A14",
         "marker": {
          "color": "rgb(152,78,163)",
          "symbol": "circle"
         },
         "mode": "markers",
         "name": "A14",
         "orientation": "v",
         "showlegend": true,
         "type": "scatter",
         "x": [
          52
         ],
         "xaxis": "x",
         "y": [
          0
         ],
         "yaxis": "y"
        },
        {
         "customdata": [
          [
           1,
           "B37"
          ]
         ],
         "hovertemplate": "Cabin=%{customdata[1]}<br>Ticket Fare=%{x}<br>Survival=%{y}<br>Pclass=%{customdata[0]}<extra></extra>",
         "legendgroup": "B37",
         "marker": {
          "color": "rgb(255,127,0)",
          "symbol": "circle"
         },
         "mode": "markers",
         "name": "B37",
         "orientation": "v",
         "showlegend": true,
         "type": "scatter",
         "x": [
          29.7
         ],
         "xaxis": "x",
         "y": [
          0
         ],
         "yaxis": "y"
        },
        {
         "customdata": [
          [
           1,
           "C30"
          ]
         ],
         "hovertemplate": "Cabin=%{customdata[1]}<br>Ticket Fare=%{x}<br>Survival=%{y}<br>Pclass=%{customdata[0]}<extra></extra>",
         "legendgroup": "C30",
         "marker": {
          "color": "rgb(255,255,51)",
          "symbol": "circle"
         },
         "mode": "markers",
         "name": "C30",
         "orientation": "v",
         "showlegend": true,
         "type": "scatter",
         "x": [
          30.5
         ],
         "xaxis": "x",
         "y": [
          0
         ],
         "yaxis": "y"
        },
        {
         "customdata": [
          [
           1,
           "D20"
          ],
          [
           1,
           "D20"
          ]
         ],
         "hovertemplate": "Cabin=%{customdata[1]}<br>Ticket Fare=%{x}<br>Survival=%{y}<br>Pclass=%{customdata[0]}<extra></extra>",
         "legendgroup": "D20",
         "marker": {
          "color": "rgb(166,86,40)",
          "symbol": "circle"
         },
         "mode": "markers",
         "name": "D20",
         "orientation": "v",
         "showlegend": true,
         "type": "scatter",
         "x": [
          78.2667,
          78.2667
         ],
         "xaxis": "x",
         "y": [
          1,
          1
         ],
         "yaxis": "y"
        },
        {
         "customdata": [
          [
           1,
           "B79"
          ]
         ],
         "hovertemplate": "Cabin=%{customdata[1]}<br>Ticket Fare=%{x}<br>Survival=%{y}<br>Pclass=%{customdata[0]}<extra></extra>",
         "legendgroup": "B79",
         "marker": {
          "color": "rgb(247,129,191)",
          "symbol": "circle"
         },
         "mode": "markers",
         "name": "B79",
         "orientation": "v",
         "showlegend": true,
         "type": "scatter",
         "x": [
          86.5
         ],
         "xaxis": "x",
         "y": [
          1
         ],
         "yaxis": "y"
        },
        {
         "customdata": [
          [
           1,
           "E25"
          ],
          [
           1,
           "E25"
          ]
         ],
         "hovertemplate": "Cabin=%{customdata[1]}<br>Ticket Fare=%{x}<br>Survival=%{y}<br>Pclass=%{customdata[0]}<extra></extra>",
         "legendgroup": "E25",
         "marker": {
          "color": "rgb(153,153,153)",
          "symbol": "circle"
         },
         "mode": "markers",
         "name": "E25",
         "orientation": "v",
         "showlegend": true,
         "type": "scatter",
         "x": [
          26.2875,
          26.3875
         ],
         "xaxis": "x",
         "y": [
          1,
          1
         ],
         "yaxis": "y"
        },
        {
         "customdata": [
          [
           1,
           "D46"
          ]
         ],
         "hovertemplate": "Cabin=%{customdata[1]}<br>Ticket Fare=%{x}<br>Survival=%{y}<br>Pclass=%{customdata[0]}<extra></extra>",
         "legendgroup": "D46",
         "marker": {
          "color": "rgb(228,26,28)",
          "symbol": "circle"
         },
         "mode": "markers",
         "name": "D46",
         "orientation": "v",
         "showlegend": true,
         "type": "scatter",
         "x": [
          34.0208
         ],
         "xaxis": "x",
         "y": [
          0
         ],
         "yaxis": "y"
        },
        {
         "customdata": [
          [
           1,
           "B73"
          ]
         ],
         "hovertemplate": "Cabin=%{customdata[1]}<br>Ticket Fare=%{x}<br>Survival=%{y}<br>Pclass=%{customdata[0]}<extra></extra>",
         "legendgroup": "B73",
         "marker": {
          "color": "rgb(55,126,184)",
          "symbol": "circle"
         },
         "mode": "markers",
         "name": "B73",
         "orientation": "v",
         "showlegend": true,
         "type": "scatter",
         "x": [
          93.5
         ],
         "xaxis": "x",
         "y": [
          1
         ],
         "yaxis": "y"
        },
        {
         "customdata": [
          [
           1,
           "C95"
          ]
         ],
         "hovertemplate": "Cabin=%{customdata[1]}<br>Ticket Fare=%{x}<br>Survival=%{y}<br>Pclass=%{customdata[0]}<extra></extra>",
         "legendgroup": "C95",
         "marker": {
          "color": "rgb(77,175,74)",
          "symbol": "circle"
         },
         "mode": "markers",
         "name": "C95",
         "orientation": "v",
         "showlegend": true,
         "type": "scatter",
         "x": [
          221.7792
         ],
         "xaxis": "x",
         "y": [
          0
         ],
         "yaxis": "y"
        },
        {
         "customdata": [
          [
           1,
           "B38"
          ]
         ],
         "hovertemplate": "Cabin=%{customdata[1]}<br>Ticket Fare=%{x}<br>Survival=%{y}<br>Pclass=%{customdata[0]}<extra></extra>",
         "legendgroup": "B38",
         "marker": {
          "color": "rgb(152,78,163)",
          "symbol": "circle"
         },
         "mode": "markers",
         "name": "B38",
         "orientation": "v",
         "showlegend": true,
         "type": "scatter",
         "x": [
          26.55
         ],
         "xaxis": "x",
         "y": [
          0
         ],
         "yaxis": "y"
        },
        {
         "customdata": [
          [
           1,
           "B39"
          ]
         ],
         "hovertemplate": "Cabin=%{customdata[1]}<br>Ticket Fare=%{x}<br>Survival=%{y}<br>Pclass=%{customdata[0]}<extra></extra>",
         "legendgroup": "B39",
         "marker": {
          "color": "rgb(255,127,0)",
          "symbol": "circle"
         },
         "mode": "markers",
         "name": "B39",
         "orientation": "v",
         "showlegend": true,
         "type": "scatter",
         "x": [
          49.5
         ],
         "xaxis": "x",
         "y": [
          1
         ],
         "yaxis": "y"
        },
        {
         "customdata": [
          [
           1,
           "B22"
          ],
          [
           1,
           "B22"
          ]
         ],
         "hovertemplate": "Cabin=%{customdata[1]}<br>Ticket Fare=%{x}<br>Survival=%{y}<br>Pclass=%{customdata[0]}<extra></extra>",
         "legendgroup": "B22",
         "marker": {
          "color": "rgb(255,255,51)",
          "symbol": "circle"
         },
         "mode": "markers",
         "name": "B22",
         "orientation": "v",
         "showlegend": true,
         "type": "scatter",
         "x": [
          71,
          71
         ],
         "xaxis": "x",
         "y": [
          1,
          0
         ],
         "yaxis": "y"
        },
        {
         "customdata": [
          [
           1,
           "C86"
          ]
         ],
         "hovertemplate": "Cabin=%{customdata[1]}<br>Ticket Fare=%{x}<br>Survival=%{y}<br>Pclass=%{customdata[0]}<extra></extra>",
         "legendgroup": "C86",
         "marker": {
          "color": "rgb(166,86,40)",
          "symbol": "circle"
         },
         "mode": "markers",
         "name": "C86",
         "orientation": "v",
         "showlegend": true,
         "type": "scatter",
         "x": [
          106.425
         ],
         "xaxis": "x",
         "y": [
          0
         ],
         "yaxis": "y"
        },
        {
         "customdata": [
          [
           1,
           "C70"
          ]
         ],
         "hovertemplate": "Cabin=%{customdata[1]}<br>Ticket Fare=%{x}<br>Survival=%{y}<br>Pclass=%{customdata[0]}<extra></extra>",
         "legendgroup": "C70",
         "marker": {
          "color": "rgb(247,129,191)",
          "symbol": "circle"
         },
         "mode": "markers",
         "name": "C70",
         "orientation": "v",
         "showlegend": true,
         "type": "scatter",
         "x": [
          110.8833
         ],
         "xaxis": "x",
         "y": [
          1
         ],
         "yaxis": "y"
        },
        {
         "customdata": [
          [
           1,
           "A16"
          ]
         ],
         "hovertemplate": "Cabin=%{customdata[1]}<br>Ticket Fare=%{x}<br>Survival=%{y}<br>Pclass=%{customdata[0]}<extra></extra>",
         "legendgroup": "A16",
         "marker": {
          "color": "rgb(153,153,153)",
          "symbol": "circle"
         },
         "mode": "markers",
         "name": "A16",
         "orientation": "v",
         "showlegend": true,
         "type": "scatter",
         "x": [
          39.6
         ],
         "xaxis": "x",
         "y": [
          1
         ],
         "yaxis": "y"
        },
        {
         "customdata": [
          [
           1,
           "C101"
          ]
         ],
         "hovertemplate": "Cabin=%{customdata[1]}<br>Ticket Fare=%{x}<br>Survival=%{y}<br>Pclass=%{customdata[0]}<extra></extra>",
         "legendgroup": "C101",
         "marker": {
          "color": "rgb(228,26,28)",
          "symbol": "circle"
         },
         "mode": "markers",
         "name": "C101",
         "orientation": "v",
         "showlegend": true,
         "type": "scatter",
         "x": [
          51.4792
         ],
         "xaxis": "x",
         "y": [
          1
         ],
         "yaxis": "y"
        },
        {
         "customdata": [
          [
           1,
           "C68"
          ],
          [
           1,
           "C68"
          ]
         ],
         "hovertemplate": "Cabin=%{customdata[1]}<br>Ticket Fare=%{x}<br>Survival=%{y}<br>Pclass=%{customdata[0]}<extra></extra>",
         "legendgroup": "C68",
         "marker": {
          "color": "rgb(55,126,184)",
          "symbol": "circle"
         },
         "mode": "markers",
         "name": "C68",
         "orientation": "v",
         "showlegend": true,
         "type": "scatter",
         "x": [
          110.8833,
          110.8833
         ],
         "xaxis": "x",
         "y": [
          1,
          0
         ],
         "yaxis": "y"
        },
        {
         "customdata": [
          [
           1,
           "A10"
          ]
         ],
         "hovertemplate": "Cabin=%{customdata[1]}<br>Ticket Fare=%{x}<br>Survival=%{y}<br>Pclass=%{customdata[0]}<extra></extra>",
         "legendgroup": "A10",
         "marker": {
          "color": "rgb(77,175,74)",
          "symbol": "circle"
         },
         "mode": "markers",
         "name": "A10",
         "orientation": "v",
         "showlegend": true,
         "type": "scatter",
         "x": [
          40.125
         ],
         "xaxis": "x",
         "y": [
          0
         ],
         "yaxis": "y"
        },
        {
         "customdata": [
          [
           1,
           "E68"
          ]
         ],
         "hovertemplate": "Cabin=%{customdata[1]}<br>Ticket Fare=%{x}<br>Survival=%{y}<br>Pclass=%{customdata[0]}<extra></extra>",
         "legendgroup": "E68",
         "marker": {
          "color": "rgb(152,78,163)",
          "symbol": "circle"
         },
         "mode": "markers",
         "name": "E68",
         "orientation": "v",
         "showlegend": true,
         "type": "scatter",
         "x": [
          79.65
         ],
         "xaxis": "x",
         "y": [
          1
         ],
         "yaxis": "y"
        },
        {
         "customdata": [
          [
           1,
           "B41"
          ]
         ],
         "hovertemplate": "Cabin=%{customdata[1]}<br>Ticket Fare=%{x}<br>Survival=%{y}<br>Pclass=%{customdata[0]}<extra></extra>",
         "legendgroup": "B41",
         "marker": {
          "color": "rgb(255,127,0)",
          "symbol": "circle"
         },
         "mode": "markers",
         "name": "B41",
         "orientation": "v",
         "showlegend": true,
         "type": "scatter",
         "x": [
          79.2
         ],
         "xaxis": "x",
         "y": [
          1
         ],
         "yaxis": "y"
        },
        {
         "customdata": [
          [
           1,
           "A20"
          ]
         ],
         "hovertemplate": "Cabin=%{customdata[1]}<br>Ticket Fare=%{x}<br>Survival=%{y}<br>Pclass=%{customdata[0]}<extra></extra>",
         "legendgroup": "A20",
         "marker": {
          "color": "rgb(255,255,51)",
          "symbol": "circle"
         },
         "mode": "markers",
         "name": "A20",
         "orientation": "v",
         "showlegend": true,
         "type": "scatter",
         "x": [
          56.9292
         ],
         "xaxis": "x",
         "y": [
          1
         ],
         "yaxis": "y"
        },
        {
         "customdata": [
          [
           1,
           "D19"
          ]
         ],
         "hovertemplate": "Cabin=%{customdata[1]}<br>Ticket Fare=%{x}<br>Survival=%{y}<br>Pclass=%{customdata[0]}<extra></extra>",
         "legendgroup": "D19",
         "marker": {
          "color": "rgb(166,86,40)",
          "symbol": "circle"
         },
         "mode": "markers",
         "name": "D19",
         "orientation": "v",
         "showlegend": true,
         "type": "scatter",
         "x": [
          52.5542
         ],
         "xaxis": "x",
         "y": [
          1
         ],
         "yaxis": "y"
        },
        {
         "customdata": [
          [
           1,
           "D50"
          ]
         ],
         "hovertemplate": "Cabin=%{customdata[1]}<br>Ticket Fare=%{x}<br>Survival=%{y}<br>Pclass=%{customdata[0]}<extra></extra>",
         "legendgroup": "D50",
         "marker": {
          "color": "rgb(247,129,191)",
          "symbol": "circle"
         },
         "mode": "markers",
         "name": "D50",
         "orientation": "v",
         "showlegend": true,
         "type": "scatter",
         "x": [
          32.3208
         ],
         "xaxis": "x",
         "y": [
          0
         ],
         "yaxis": "y"
        },
        {
         "customdata": [
          [
           1,
           "D9"
          ]
         ],
         "hovertemplate": "Cabin=%{customdata[1]}<br>Ticket Fare=%{x}<br>Survival=%{y}<br>Pclass=%{customdata[0]}<extra></extra>",
         "legendgroup": "D9",
         "marker": {
          "color": "rgb(153,153,153)",
          "symbol": "circle"
         },
         "mode": "markers",
         "name": "D9",
         "orientation": "v",
         "showlegend": true,
         "type": "scatter",
         "x": [
          77.9583
         ],
         "xaxis": "x",
         "y": [
          1
         ],
         "yaxis": "y"
        },
        {
         "customdata": [
          [
           1,
           "A23"
          ]
         ],
         "hovertemplate": "Cabin=%{customdata[1]}<br>Ticket Fare=%{x}<br>Survival=%{y}<br>Pclass=%{customdata[0]}<extra></extra>",
         "legendgroup": "A23",
         "marker": {
          "color": "rgb(228,26,28)",
          "symbol": "circle"
         },
         "mode": "markers",
         "name": "A23",
         "orientation": "v",
         "showlegend": true,
         "type": "scatter",
         "x": [
          30
         ],
         "xaxis": "x",
         "y": [
          1
         ],
         "yaxis": "y"
        },
        {
         "customdata": [
          [
           1,
           "B50"
          ]
         ],
         "hovertemplate": "Cabin=%{customdata[1]}<br>Ticket Fare=%{x}<br>Survival=%{y}<br>Pclass=%{customdata[0]}<extra></extra>",
         "legendgroup": "B50",
         "marker": {
          "color": "rgb(55,126,184)",
          "symbol": "circle"
         },
         "mode": "markers",
         "name": "B50",
         "orientation": "v",
         "showlegend": true,
         "type": "scatter",
         "x": [
          30.5
         ],
         "xaxis": "x",
         "y": [
          1
         ],
         "yaxis": "y"
        },
        {
         "customdata": [
          [
           1,
           "A26"
          ]
         ],
         "hovertemplate": "Cabin=%{customdata[1]}<br>Ticket Fare=%{x}<br>Survival=%{y}<br>Pclass=%{customdata[0]}<extra></extra>",
         "legendgroup": "A26",
         "marker": {
          "color": "rgb(77,175,74)",
          "symbol": "circle"
         },
         "mode": "markers",
         "name": "A26",
         "orientation": "v",
         "showlegend": true,
         "type": "scatter",
         "x": [
          35.5
         ],
         "xaxis": "x",
         "y": [
          1
         ],
         "yaxis": "y"
        },
        {
         "customdata": [
          [
           1,
           "D48"
          ]
         ],
         "hovertemplate": "Cabin=%{customdata[1]}<br>Ticket Fare=%{x}<br>Survival=%{y}<br>Pclass=%{customdata[0]}<extra></extra>",
         "legendgroup": "D48",
         "marker": {
          "color": "rgb(152,78,163)",
          "symbol": "circle"
         },
         "mode": "markers",
         "name": "D48",
         "orientation": "v",
         "showlegend": true,
         "type": "scatter",
         "x": [
          113.275
         ],
         "xaxis": "x",
         "y": [
          0
         ],
         "yaxis": "y"
        },
        {
         "customdata": [
          [
           1,
           "E58"
          ]
         ],
         "hovertemplate": "Cabin=%{customdata[1]}<br>Ticket Fare=%{x}<br>Survival=%{y}<br>Pclass=%{customdata[0]}<extra></extra>",
         "legendgroup": "E58",
         "marker": {
          "color": "rgb(255,127,0)",
          "symbol": "circle"
         },
         "mode": "markers",
         "name": "E58",
         "orientation": "v",
         "showlegend": true,
         "type": "scatter",
         "x": [
          25.5875
         ],
         "xaxis": "x",
         "y": [
          0
         ],
         "yaxis": "y"
        },
        {
         "customdata": [
          [
           1,
           "C126"
          ],
          [
           1,
           "C126"
          ]
         ],
         "hovertemplate": "Cabin=%{customdata[1]}<br>Ticket Fare=%{x}<br>Survival=%{y}<br>Pclass=%{customdata[0]}<extra></extra>",
         "legendgroup": "C126",
         "marker": {
          "color": "rgb(255,255,51)",
          "symbol": "circle"
         },
         "mode": "markers",
         "name": "C126",
         "orientation": "v",
         "showlegend": true,
         "type": "scatter",
         "x": [
          52,
          52
         ],
         "xaxis": "x",
         "y": [
          1,
          1
         ],
         "yaxis": "y"
        },
        {
         "customdata": [
          [
           1,
           "B71"
          ]
         ],
         "hovertemplate": "Cabin=%{customdata[1]}<br>Ticket Fare=%{x}<br>Survival=%{y}<br>Pclass=%{customdata[0]}<extra></extra>",
         "legendgroup": "B71",
         "marker": {
          "color": "rgb(166,86,40)",
          "symbol": "circle"
         },
         "mode": "markers",
         "name": "B71",
         "orientation": "v",
         "showlegend": true,
         "type": "scatter",
         "x": [
          52
         ],
         "xaxis": "x",
         "y": [
          0
         ],
         "yaxis": "y"
        },
        {
         "customdata": [
          [
           1,
           "B51 B53 B55"
          ],
          [
           1,
           "B51 B53 B55"
          ]
         ],
         "hovertemplate": "Cabin=%{customdata[1]}<br>Ticket Fare=%{x}<br>Survival=%{y}<br>Pclass=%{customdata[0]}<extra></extra>",
         "legendgroup": "B51 B53 B55",
         "marker": {
          "color": "rgb(247,129,191)",
          "symbol": "circle"
         },
         "mode": "markers",
         "name": "B51 B53 B55",
         "orientation": "v",
         "showlegend": true,
         "type": "scatter",
         "x": [
          512.3292,
          5
         ],
         "xaxis": "x",
         "y": [
          1,
          0
         ],
         "yaxis": "y"
        },
        {
         "customdata": [
          [
           1,
           "D49"
          ]
         ],
         "hovertemplate": "Cabin=%{customdata[1]}<br>Ticket Fare=%{x}<br>Survival=%{y}<br>Pclass=%{customdata[0]}<extra></extra>",
         "legendgroup": "D49",
         "marker": {
          "color": "rgb(153,153,153)",
          "symbol": "circle"
         },
         "mode": "markers",
         "name": "D49",
         "orientation": "v",
         "showlegend": true,
         "type": "scatter",
         "x": [
          76.7292
         ],
         "xaxis": "x",
         "y": [
          1
         ],
         "yaxis": "y"
        },
        {
         "customdata": [
          [
           1,
           "B5"
          ],
          [
           1,
           "B5"
          ]
         ],
         "hovertemplate": "Cabin=%{customdata[1]}<br>Ticket Fare=%{x}<br>Survival=%{y}<br>Pclass=%{customdata[0]}<extra></extra>",
         "legendgroup": "B5",
         "marker": {
          "color": "rgb(228,26,28)",
          "symbol": "circle"
         },
         "mode": "markers",
         "name": "B5",
         "orientation": "v",
         "showlegend": true,
         "type": "scatter",
         "x": [
          211.3375,
          211.3375
         ],
         "xaxis": "x",
         "y": [
          1,
          1
         ],
         "yaxis": "y"
        },
        {
         "customdata": [
          [
           1,
           "B20"
          ],
          [
           1,
           "B20"
          ]
         ],
         "hovertemplate": "Cabin=%{customdata[1]}<br>Ticket Fare=%{x}<br>Survival=%{y}<br>Pclass=%{customdata[0]}<extra></extra>",
         "legendgroup": "B20",
         "marker": {
          "color": "rgb(55,126,184)",
          "symbol": "circle"
         },
         "mode": "markers",
         "name": "B20",
         "orientation": "v",
         "showlegend": true,
         "type": "scatter",
         "x": [
          57,
          57
         ],
         "xaxis": "x",
         "y": [
          1,
          1
         ],
         "yaxis": "y"
        },
        {
         "customdata": [
          [
           3,
           "F G63"
          ]
         ],
         "hovertemplate": "Cabin=%{customdata[1]}<br>Ticket Fare=%{x}<br>Survival=%{y}<br>Pclass=%{customdata[0]}<extra></extra>",
         "legendgroup": "F G63",
         "marker": {
          "color": "rgb(77,175,74)",
          "symbol": "circle"
         },
         "mode": "markers",
         "name": "F G63",
         "orientation": "v",
         "showlegend": true,
         "type": "scatter",
         "x": [
          7.65
         ],
         "xaxis": "x",
         "y": [
          0
         ],
         "yaxis": "y"
        },
        {
         "customdata": [
          [
           1,
           "C62 C64"
          ]
         ],
         "hovertemplate": "Cabin=%{customdata[1]}<br>Ticket Fare=%{x}<br>Survival=%{y}<br>Pclass=%{customdata[0]}<extra></extra>",
         "legendgroup": "C62 C64",
         "marker": {
          "color": "rgb(152,78,163)",
          "symbol": "circle"
         },
         "mode": "markers",
         "name": "C62 C64",
         "orientation": "v",
         "showlegend": true,
         "type": "scatter",
         "x": [
          227.525
         ],
         "xaxis": "x",
         "y": [
          1
         ],
         "yaxis": "y"
        },
        {
         "customdata": [
          [
           1,
           "E24"
          ],
          [
           1,
           "E24"
          ]
         ],
         "hovertemplate": "Cabin=%{customdata[1]}<br>Ticket Fare=%{x}<br>Survival=%{y}<br>Pclass=%{customdata[0]}<extra></extra>",
         "legendgroup": "E24",
         "marker": {
          "color": "rgb(255,127,0)",
          "symbol": "circle"
         },
         "mode": "markers",
         "name": "E24",
         "orientation": "v",
         "showlegend": true,
         "type": "scatter",
         "x": [
          26.2875,
          26.2875
         ],
         "xaxis": "x",
         "y": [
          1,
          1
         ],
         "yaxis": "y"
        },
        {
         "customdata": [
          [
           1,
           "C90"
          ]
         ],
         "hovertemplate": "Cabin=%{customdata[1]}<br>Ticket Fare=%{x}<br>Survival=%{y}<br>Pclass=%{customdata[0]}<extra></extra>",
         "legendgroup": "C90",
         "marker": {
          "color": "rgb(255,255,51)",
          "symbol": "circle"
         },
         "mode": "markers",
         "name": "C90",
         "orientation": "v",
         "showlegend": true,
         "type": "scatter",
         "x": [
          49.5042
         ],
         "xaxis": "x",
         "y": [
          1
         ],
         "yaxis": "y"
        },
        {
         "customdata": [
          [
           1,
           "C45"
          ]
         ],
         "hovertemplate": "Cabin=%{customdata[1]}<br>Ticket Fare=%{x}<br>Survival=%{y}<br>Pclass=%{customdata[0]}<extra></extra>",
         "legendgroup": "C45",
         "marker": {
          "color": "rgb(166,86,40)",
          "symbol": "circle"
         },
         "mode": "markers",
         "name": "C45",
         "orientation": "v",
         "showlegend": true,
         "type": "scatter",
         "x": [
          227.525
         ],
         "xaxis": "x",
         "y": [
          1
         ],
         "yaxis": "y"
        },
        {
         "customdata": [
          [
           1,
           "E8"
          ],
          [
           1,
           "E8"
          ]
         ],
         "hovertemplate": "Cabin=%{customdata[1]}<br>Ticket Fare=%{x}<br>Survival=%{y}<br>Pclass=%{customdata[0]}<extra></extra>",
         "legendgroup": "E8",
         "marker": {
          "color": "rgb(247,129,191)",
          "symbol": "circle"
         },
         "mode": "markers",
         "name": "E8",
         "orientation": "v",
         "showlegend": true,
         "type": "scatter",
         "x": [
          53.1,
          53.1
         ],
         "xaxis": "x",
         "y": [
          1,
          1
         ],
         "yaxis": "y"
        },
        {
         "customdata": [
          [
           1,
           "B101"
          ]
         ],
         "hovertemplate": "Cabin=%{customdata[1]}<br>Ticket Fare=%{x}<br>Survival=%{y}<br>Pclass=%{customdata[0]}<extra></extra>",
         "legendgroup": "B101",
         "marker": {
          "color": "rgb(153,153,153)",
          "symbol": "circle"
         },
         "mode": "markers",
         "name": "B101",
         "orientation": "v",
         "showlegend": true,
         "type": "scatter",
         "x": [
          512.3292
         ],
         "xaxis": "x",
         "y": [
          1
         ],
         "yaxis": "y"
        },
        {
         "customdata": [
          [
           1,
           "D45"
          ]
         ],
         "hovertemplate": "Cabin=%{customdata[1]}<br>Ticket Fare=%{x}<br>Survival=%{y}<br>Pclass=%{customdata[0]}<extra></extra>",
         "legendgroup": "D45",
         "marker": {
          "color": "rgb(228,26,28)",
          "symbol": "circle"
         },
         "mode": "markers",
         "name": "D45",
         "orientation": "v",
         "showlegend": true,
         "type": "scatter",
         "x": [
          30
         ],
         "xaxis": "x",
         "y": [
          1
         ],
         "yaxis": "y"
        },
        {
         "customdata": [
          [
           1,
           "C46"
          ]
         ],
         "hovertemplate": "Cabin=%{customdata[1]}<br>Ticket Fare=%{x}<br>Survival=%{y}<br>Pclass=%{customdata[0]}<extra></extra>",
         "legendgroup": "C46",
         "marker": {
          "color": "rgb(55,126,184)",
          "symbol": "circle"
         },
         "mode": "markers",
         "name": "C46",
         "orientation": "v",
         "showlegend": true,
         "type": "scatter",
         "x": [
          78.85
         ],
         "xaxis": "x",
         "y": [
          0
         ],
         "yaxis": "y"
        },
        {
         "customdata": [
          [
           1,
           "D30"
          ]
         ],
         "hovertemplate": "Cabin=%{customdata[1]}<br>Ticket Fare=%{x}<br>Survival=%{y}<br>Pclass=%{customdata[0]}<extra></extra>",
         "legendgroup": "D30",
         "marker": {
          "color": "rgb(77,175,74)",
          "symbol": "circle"
         },
         "mode": "markers",
         "name": "D30",
         "orientation": "v",
         "showlegend": true,
         "type": "scatter",
         "x": [
          53.1
         ],
         "xaxis": "x",
         "y": [
          0
         ],
         "yaxis": "y"
        },
        {
         "customdata": [
          [
           3,
           "E121"
          ],
          [
           3,
           "E121"
          ]
         ],
         "hovertemplate": "Cabin=%{customdata[1]}<br>Ticket Fare=%{x}<br>Survival=%{y}<br>Pclass=%{customdata[0]}<extra></extra>",
         "legendgroup": "E121",
         "marker": {
          "color": "rgb(152,78,163)",
          "symbol": "circle"
         },
         "mode": "markers",
         "name": "E121",
         "orientation": "v",
         "showlegend": true,
         "type": "scatter",
         "x": [
          12.475,
          12.475
         ],
         "xaxis": "x",
         "y": [
          1,
          1
         ],
         "yaxis": "y"
        },
        {
         "customdata": [
          [
           1,
           "D11"
          ]
         ],
         "hovertemplate": "Cabin=%{customdata[1]}<br>Ticket Fare=%{x}<br>Survival=%{y}<br>Pclass=%{customdata[0]}<extra></extra>",
         "legendgroup": "D11",
         "marker": {
          "color": "rgb(255,127,0)",
          "symbol": "circle"
         },
         "mode": "markers",
         "name": "D11",
         "orientation": "v",
         "showlegend": true,
         "type": "scatter",
         "x": [
          77.9583
         ],
         "xaxis": "x",
         "y": [
          1
         ],
         "yaxis": "y"
        },
        {
         "customdata": [
          [
           2,
           "E77"
          ]
         ],
         "hovertemplate": "Cabin=%{customdata[1]}<br>Ticket Fare=%{x}<br>Survival=%{y}<br>Pclass=%{customdata[0]}<extra></extra>",
         "legendgroup": "E77",
         "marker": {
          "color": "rgb(255,255,51)",
          "symbol": "circle"
         },
         "mode": "markers",
         "name": "E77",
         "orientation": "v",
         "showlegend": true,
         "type": "scatter",
         "x": [
          10.5
         ],
         "xaxis": "x",
         "y": [
          0
         ],
         "yaxis": "y"
        },
        {
         "customdata": [
          [
           3,
           "F38"
          ]
         ],
         "hovertemplate": "Cabin=%{customdata[1]}<br>Ticket Fare=%{x}<br>Survival=%{y}<br>Pclass=%{customdata[0]}<extra></extra>",
         "legendgroup": "F38",
         "marker": {
          "color": "rgb(166,86,40)",
          "symbol": "circle"
         },
         "mode": "markers",
         "name": "F38",
         "orientation": "v",
         "showlegend": true,
         "type": "scatter",
         "x": [
          7.75
         ],
         "xaxis": "x",
         "y": [
          0
         ],
         "yaxis": "y"
        },
        {
         "customdata": [
          [
           1,
           "B3"
          ]
         ],
         "hovertemplate": "Cabin=%{customdata[1]}<br>Ticket Fare=%{x}<br>Survival=%{y}<br>Pclass=%{customdata[0]}<extra></extra>",
         "legendgroup": "B3",
         "marker": {
          "color": "rgb(247,129,191)",
          "symbol": "circle"
         },
         "mode": "markers",
         "name": "B3",
         "orientation": "v",
         "showlegend": true,
         "type": "scatter",
         "x": [
          211.3375
         ],
         "xaxis": "x",
         "y": [
          1
         ],
         "yaxis": "y"
        },
        {
         "customdata": [
          [
           1,
           "D6"
          ]
         ],
         "hovertemplate": "Cabin=%{customdata[1]}<br>Ticket Fare=%{x}<br>Survival=%{y}<br>Pclass=%{customdata[0]}<extra></extra>",
         "legendgroup": "D6",
         "marker": {
          "color": "rgb(153,153,153)",
          "symbol": "circle"
         },
         "mode": "markers",
         "name": "D6",
         "orientation": "v",
         "showlegend": true,
         "type": "scatter",
         "x": [
          30
         ],
         "xaxis": "x",
         "y": [
          0
         ],
         "yaxis": "y"
        },
        {
         "customdata": [
          [
           1,
           "B82 B84"
          ]
         ],
         "hovertemplate": "Cabin=%{customdata[1]}<br>Ticket Fare=%{x}<br>Survival=%{y}<br>Pclass=%{customdata[0]}<extra></extra>",
         "legendgroup": "B82 B84",
         "marker": {
          "color": "rgb(228,26,28)",
          "symbol": "circle"
         },
         "mode": "markers",
         "name": "B82 B84",
         "orientation": "v",
         "showlegend": true,
         "type": "scatter",
         "x": [
          79.2
         ],
         "xaxis": "x",
         "y": [
          0
         ],
         "yaxis": "y"
        },
        {
         "customdata": [
          [
           1,
           "D17"
          ],
          [
           1,
           "D17"
          ]
         ],
         "hovertemplate": "Cabin=%{customdata[1]}<br>Ticket Fare=%{x}<br>Survival=%{y}<br>Pclass=%{customdata[0]}<extra></extra>",
         "legendgroup": "D17",
         "marker": {
          "color": "rgb(55,126,184)",
          "symbol": "circle"
         },
         "mode": "markers",
         "name": "D17",
         "orientation": "v",
         "showlegend": true,
         "type": "scatter",
         "x": [
          25.9292,
          25.9292
         ],
         "xaxis": "x",
         "y": [
          1,
          1
         ],
         "yaxis": "y"
        },
        {
         "customdata": [
          [
           1,
           "A36"
          ]
         ],
         "hovertemplate": "Cabin=%{customdata[1]}<br>Ticket Fare=%{x}<br>Survival=%{y}<br>Pclass=%{customdata[0]}<extra></extra>",
         "legendgroup": "A36",
         "marker": {
          "color": "rgb(77,175,74)",
          "symbol": "circle"
         },
         "mode": "markers",
         "name": "A36",
         "orientation": "v",
         "showlegend": true,
         "type": "scatter",
         "x": [
          0
         ],
         "xaxis": "x",
         "y": [
          0
         ],
         "yaxis": "y"
        },
        {
         "customdata": [
          [
           1,
           "B102"
          ]
         ],
         "hovertemplate": "Cabin=%{customdata[1]}<br>Ticket Fare=%{x}<br>Survival=%{y}<br>Pclass=%{customdata[0]}<extra></extra>",
         "legendgroup": "B102",
         "marker": {
          "color": "rgb(152,78,163)",
          "symbol": "circle"
         },
         "mode": "markers",
         "name": "B102",
         "orientation": "v",
         "showlegend": true,
         "type": "scatter",
         "x": [
          0
         ],
         "xaxis": "x",
         "y": [
          0
         ],
         "yaxis": "y"
        },
        {
         "customdata": [
          [
           1,
           "B69"
          ]
         ],
         "hovertemplate": "Cabin=%{customdata[1]}<br>Ticket Fare=%{x}<br>Survival=%{y}<br>Pclass=%{customdata[0]}<extra></extra>",
         "legendgroup": "B69",
         "marker": {
          "color": "rgb(255,127,0)",
          "symbol": "circle"
         },
         "mode": "markers",
         "name": "B69",
         "orientation": "v",
         "showlegend": true,
         "type": "scatter",
         "x": [
          93.5
         ],
         "xaxis": "x",
         "y": [
          1
         ],
         "yaxis": "y"
        },
        {
         "customdata": [
          [
           1,
           "E49"
          ]
         ],
         "hovertemplate": "Cabin=%{customdata[1]}<br>Ticket Fare=%{x}<br>Survival=%{y}<br>Pclass=%{customdata[0]}<extra></extra>",
         "legendgroup": "E49",
         "marker": {
          "color": "rgb(255,255,51)",
          "symbol": "circle"
         },
         "mode": "markers",
         "name": "E49",
         "orientation": "v",
         "showlegend": true,
         "type": "scatter",
         "x": [
          83.1583
         ],
         "xaxis": "x",
         "y": [
          1
         ],
         "yaxis": "y"
        },
        {
         "customdata": [
          [
           1,
           "C47"
          ]
         ],
         "hovertemplate": "Cabin=%{customdata[1]}<br>Ticket Fare=%{x}<br>Survival=%{y}<br>Pclass=%{customdata[0]}<extra></extra>",
         "legendgroup": "C47",
         "marker": {
          "color": "rgb(166,86,40)",
          "symbol": "circle"
         },
         "mode": "markers",
         "name": "C47",
         "orientation": "v",
         "showlegend": true,
         "type": "scatter",
         "x": [
          29.7
         ],
         "xaxis": "x",
         "y": [
          1
         ],
         "yaxis": "y"
        },
        {
         "customdata": [
          [
           1,
           "D28"
          ]
         ],
         "hovertemplate": "Cabin=%{customdata[1]}<br>Ticket Fare=%{x}<br>Survival=%{y}<br>Pclass=%{customdata[0]}<extra></extra>",
         "legendgroup": "D28",
         "marker": {
          "color": "rgb(247,129,191)",
          "symbol": "circle"
         },
         "mode": "markers",
         "name": "D28",
         "orientation": "v",
         "showlegend": true,
         "type": "scatter",
         "x": [
          39.4
         ],
         "xaxis": "x",
         "y": [
          1
         ],
         "yaxis": "y"
        },
        {
         "customdata": [
          [
           1,
           "E17"
          ]
         ],
         "hovertemplate": "Cabin=%{customdata[1]}<br>Ticket Fare=%{x}<br>Survival=%{y}<br>Pclass=%{customdata[0]}<extra></extra>",
         "legendgroup": "E17",
         "marker": {
          "color": "rgb(153,153,153)",
          "symbol": "circle"
         },
         "mode": "markers",
         "name": "E17",
         "orientation": "v",
         "showlegend": true,
         "type": "scatter",
         "x": [
          26.55
         ],
         "xaxis": "x",
         "y": [
          1
         ],
         "yaxis": "y"
        },
        {
         "customdata": [
          [
           1,
           "A24"
          ]
         ],
         "hovertemplate": "Cabin=%{customdata[1]}<br>Ticket Fare=%{x}<br>Survival=%{y}<br>Pclass=%{customdata[0]}<extra></extra>",
         "legendgroup": "A24",
         "marker": {
          "color": "rgb(228,26,28)",
          "symbol": "circle"
         },
         "mode": "markers",
         "name": "A24",
         "orientation": "v",
         "showlegend": true,
         "type": "scatter",
         "x": [
          50.4958
         ],
         "xaxis": "x",
         "y": [
          0
         ],
         "yaxis": "y"
        },
        {
         "customdata": [
          [
           1,
           "C50"
          ]
         ],
         "hovertemplate": "Cabin=%{customdata[1]}<br>Ticket Fare=%{x}<br>Survival=%{y}<br>Pclass=%{customdata[0]}<extra></extra>",
         "legendgroup": "C50",
         "marker": {
          "color": "rgb(55,126,184)",
          "symbol": "circle"
         },
         "mode": "markers",
         "name": "C50",
         "orientation": "v",
         "showlegend": true,
         "type": "scatter",
         "x": [
          83.1583
         ],
         "xaxis": "x",
         "y": [
          1
         ],
         "yaxis": "y"
        },
        {
         "customdata": [
          [
           1,
           "B42"
          ]
         ],
         "hovertemplate": "Cabin=%{customdata[1]}<br>Ticket Fare=%{x}<br>Survival=%{y}<br>Pclass=%{customdata[0]}<extra></extra>",
         "legendgroup": "B42",
         "marker": {
          "color": "rgb(77,175,74)",
          "symbol": "circle"
         },
         "mode": "markers",
         "name": "B42",
         "orientation": "v",
         "showlegend": true,
         "type": "scatter",
         "x": [
          30
         ],
         "xaxis": "x",
         "y": [
          1
         ],
         "yaxis": "y"
        },
        {
         "customdata": [
          [
           1,
           "C148"
          ]
         ],
         "hovertemplate": "Cabin=%{customdata[1]}<br>Ticket Fare=%{x}<br>Survival=%{y}<br>Pclass=%{customdata[0]}<extra></extra>",
         "legendgroup": "C148",
         "marker": {
          "color": "rgb(152,78,163)",
          "symbol": "circle"
         },
         "mode": "markers",
         "name": "C148",
         "orientation": "v",
         "showlegend": true,
         "type": "scatter",
         "x": [
          30
         ],
         "xaxis": "x",
         "y": [
          1
         ],
         "yaxis": "y"
        }
       ],
       "layout": {
        "legend": {
         "title": {
          "text": "Cabin"
         },
         "tracegroupgap": 0
        },
        "template": {
         "data": {
          "bar": [
           {
            "error_x": {
             "color": "#2a3f5f"
            },
            "error_y": {
             "color": "#2a3f5f"
            },
            "marker": {
             "line": {
              "color": "#E5ECF6",
              "width": 0.5
             },
             "pattern": {
              "fillmode": "overlay",
              "size": 10,
              "solidity": 0.2
             }
            },
            "type": "bar"
           }
          ],
          "barpolar": [
           {
            "marker": {
             "line": {
              "color": "#E5ECF6",
              "width": 0.5
             },
             "pattern": {
              "fillmode": "overlay",
              "size": 10,
              "solidity": 0.2
             }
            },
            "type": "barpolar"
           }
          ],
          "carpet": [
           {
            "aaxis": {
             "endlinecolor": "#2a3f5f",
             "gridcolor": "white",
             "linecolor": "white",
             "minorgridcolor": "white",
             "startlinecolor": "#2a3f5f"
            },
            "baxis": {
             "endlinecolor": "#2a3f5f",
             "gridcolor": "white",
             "linecolor": "white",
             "minorgridcolor": "white",
             "startlinecolor": "#2a3f5f"
            },
            "type": "carpet"
           }
          ],
          "choropleth": [
           {
            "colorbar": {
             "outlinewidth": 0,
             "ticks": ""
            },
            "type": "choropleth"
           }
          ],
          "contour": [
           {
            "colorbar": {
             "outlinewidth": 0,
             "ticks": ""
            },
            "colorscale": [
             [
              0,
              "#0d0887"
             ],
             [
              0.1111111111111111,
              "#46039f"
             ],
             [
              0.2222222222222222,
              "#7201a8"
             ],
             [
              0.3333333333333333,
              "#9c179e"
             ],
             [
              0.4444444444444444,
              "#bd3786"
             ],
             [
              0.5555555555555556,
              "#d8576b"
             ],
             [
              0.6666666666666666,
              "#ed7953"
             ],
             [
              0.7777777777777778,
              "#fb9f3a"
             ],
             [
              0.8888888888888888,
              "#fdca26"
             ],
             [
              1,
              "#f0f921"
             ]
            ],
            "type": "contour"
           }
          ],
          "contourcarpet": [
           {
            "colorbar": {
             "outlinewidth": 0,
             "ticks": ""
            },
            "type": "contourcarpet"
           }
          ],
          "heatmap": [
           {
            "colorbar": {
             "outlinewidth": 0,
             "ticks": ""
            },
            "colorscale": [
             [
              0,
              "#0d0887"
             ],
             [
              0.1111111111111111,
              "#46039f"
             ],
             [
              0.2222222222222222,
              "#7201a8"
             ],
             [
              0.3333333333333333,
              "#9c179e"
             ],
             [
              0.4444444444444444,
              "#bd3786"
             ],
             [
              0.5555555555555556,
              "#d8576b"
             ],
             [
              0.6666666666666666,
              "#ed7953"
             ],
             [
              0.7777777777777778,
              "#fb9f3a"
             ],
             [
              0.8888888888888888,
              "#fdca26"
             ],
             [
              1,
              "#f0f921"
             ]
            ],
            "type": "heatmap"
           }
          ],
          "heatmapgl": [
           {
            "colorbar": {
             "outlinewidth": 0,
             "ticks": ""
            },
            "colorscale": [
             [
              0,
              "#0d0887"
             ],
             [
              0.1111111111111111,
              "#46039f"
             ],
             [
              0.2222222222222222,
              "#7201a8"
             ],
             [
              0.3333333333333333,
              "#9c179e"
             ],
             [
              0.4444444444444444,
              "#bd3786"
             ],
             [
              0.5555555555555556,
              "#d8576b"
             ],
             [
              0.6666666666666666,
              "#ed7953"
             ],
             [
              0.7777777777777778,
              "#fb9f3a"
             ],
             [
              0.8888888888888888,
              "#fdca26"
             ],
             [
              1,
              "#f0f921"
             ]
            ],
            "type": "heatmapgl"
           }
          ],
          "histogram": [
           {
            "marker": {
             "pattern": {
              "fillmode": "overlay",
              "size": 10,
              "solidity": 0.2
             }
            },
            "type": "histogram"
           }
          ],
          "histogram2d": [
           {
            "colorbar": {
             "outlinewidth": 0,
             "ticks": ""
            },
            "colorscale": [
             [
              0,
              "#0d0887"
             ],
             [
              0.1111111111111111,
              "#46039f"
             ],
             [
              0.2222222222222222,
              "#7201a8"
             ],
             [
              0.3333333333333333,
              "#9c179e"
             ],
             [
              0.4444444444444444,
              "#bd3786"
             ],
             [
              0.5555555555555556,
              "#d8576b"
             ],
             [
              0.6666666666666666,
              "#ed7953"
             ],
             [
              0.7777777777777778,
              "#fb9f3a"
             ],
             [
              0.8888888888888888,
              "#fdca26"
             ],
             [
              1,
              "#f0f921"
             ]
            ],
            "type": "histogram2d"
           }
          ],
          "histogram2dcontour": [
           {
            "colorbar": {
             "outlinewidth": 0,
             "ticks": ""
            },
            "colorscale": [
             [
              0,
              "#0d0887"
             ],
             [
              0.1111111111111111,
              "#46039f"
             ],
             [
              0.2222222222222222,
              "#7201a8"
             ],
             [
              0.3333333333333333,
              "#9c179e"
             ],
             [
              0.4444444444444444,
              "#bd3786"
             ],
             [
              0.5555555555555556,
              "#d8576b"
             ],
             [
              0.6666666666666666,
              "#ed7953"
             ],
             [
              0.7777777777777778,
              "#fb9f3a"
             ],
             [
              0.8888888888888888,
              "#fdca26"
             ],
             [
              1,
              "#f0f921"
             ]
            ],
            "type": "histogram2dcontour"
           }
          ],
          "mesh3d": [
           {
            "colorbar": {
             "outlinewidth": 0,
             "ticks": ""
            },
            "type": "mesh3d"
           }
          ],
          "parcoords": [
           {
            "line": {
             "colorbar": {
              "outlinewidth": 0,
              "ticks": ""
             }
            },
            "type": "parcoords"
           }
          ],
          "pie": [
           {
            "automargin": true,
            "type": "pie"
           }
          ],
          "scatter": [
           {
            "fillpattern": {
             "fillmode": "overlay",
             "size": 10,
             "solidity": 0.2
            },
            "type": "scatter"
           }
          ],
          "scatter3d": [
           {
            "line": {
             "colorbar": {
              "outlinewidth": 0,
              "ticks": ""
             }
            },
            "marker": {
             "colorbar": {
              "outlinewidth": 0,
              "ticks": ""
             }
            },
            "type": "scatter3d"
           }
          ],
          "scattercarpet": [
           {
            "marker": {
             "colorbar": {
              "outlinewidth": 0,
              "ticks": ""
             }
            },
            "type": "scattercarpet"
           }
          ],
          "scattergeo": [
           {
            "marker": {
             "colorbar": {
              "outlinewidth": 0,
              "ticks": ""
             }
            },
            "type": "scattergeo"
           }
          ],
          "scattergl": [
           {
            "marker": {
             "colorbar": {
              "outlinewidth": 0,
              "ticks": ""
             }
            },
            "type": "scattergl"
           }
          ],
          "scattermapbox": [
           {
            "marker": {
             "colorbar": {
              "outlinewidth": 0,
              "ticks": ""
             }
            },
            "type": "scattermapbox"
           }
          ],
          "scatterpolar": [
           {
            "marker": {
             "colorbar": {
              "outlinewidth": 0,
              "ticks": ""
             }
            },
            "type": "scatterpolar"
           }
          ],
          "scatterpolargl": [
           {
            "marker": {
             "colorbar": {
              "outlinewidth": 0,
              "ticks": ""
             }
            },
            "type": "scatterpolargl"
           }
          ],
          "scatterternary": [
           {
            "marker": {
             "colorbar": {
              "outlinewidth": 0,
              "ticks": ""
             }
            },
            "type": "scatterternary"
           }
          ],
          "surface": [
           {
            "colorbar": {
             "outlinewidth": 0,
             "ticks": ""
            },
            "colorscale": [
             [
              0,
              "#0d0887"
             ],
             [
              0.1111111111111111,
              "#46039f"
             ],
             [
              0.2222222222222222,
              "#7201a8"
             ],
             [
              0.3333333333333333,
              "#9c179e"
             ],
             [
              0.4444444444444444,
              "#bd3786"
             ],
             [
              0.5555555555555556,
              "#d8576b"
             ],
             [
              0.6666666666666666,
              "#ed7953"
             ],
             [
              0.7777777777777778,
              "#fb9f3a"
             ],
             [
              0.8888888888888888,
              "#fdca26"
             ],
             [
              1,
              "#f0f921"
             ]
            ],
            "type": "surface"
           }
          ],
          "table": [
           {
            "cells": {
             "fill": {
              "color": "#EBF0F8"
             },
             "line": {
              "color": "white"
             }
            },
            "header": {
             "fill": {
              "color": "#C8D4E3"
             },
             "line": {
              "color": "white"
             }
            },
            "type": "table"
           }
          ]
         },
         "layout": {
          "annotationdefaults": {
           "arrowcolor": "#2a3f5f",
           "arrowhead": 0,
           "arrowwidth": 1
          },
          "autotypenumbers": "strict",
          "coloraxis": {
           "colorbar": {
            "outlinewidth": 0,
            "ticks": ""
           }
          },
          "colorscale": {
           "diverging": [
            [
             0,
             "#8e0152"
            ],
            [
             0.1,
             "#c51b7d"
            ],
            [
             0.2,
             "#de77ae"
            ],
            [
             0.3,
             "#f1b6da"
            ],
            [
             0.4,
             "#fde0ef"
            ],
            [
             0.5,
             "#f7f7f7"
            ],
            [
             0.6,
             "#e6f5d0"
            ],
            [
             0.7,
             "#b8e186"
            ],
            [
             0.8,
             "#7fbc41"
            ],
            [
             0.9,
             "#4d9221"
            ],
            [
             1,
             "#276419"
            ]
           ],
           "sequential": [
            [
             0,
             "#0d0887"
            ],
            [
             0.1111111111111111,
             "#46039f"
            ],
            [
             0.2222222222222222,
             "#7201a8"
            ],
            [
             0.3333333333333333,
             "#9c179e"
            ],
            [
             0.4444444444444444,
             "#bd3786"
            ],
            [
             0.5555555555555556,
             "#d8576b"
            ],
            [
             0.6666666666666666,
             "#ed7953"
            ],
            [
             0.7777777777777778,
             "#fb9f3a"
            ],
            [
             0.8888888888888888,
             "#fdca26"
            ],
            [
             1,
             "#f0f921"
            ]
           ],
           "sequentialminus": [
            [
             0,
             "#0d0887"
            ],
            [
             0.1111111111111111,
             "#46039f"
            ],
            [
             0.2222222222222222,
             "#7201a8"
            ],
            [
             0.3333333333333333,
             "#9c179e"
            ],
            [
             0.4444444444444444,
             "#bd3786"
            ],
            [
             0.5555555555555556,
             "#d8576b"
            ],
            [
             0.6666666666666666,
             "#ed7953"
            ],
            [
             0.7777777777777778,
             "#fb9f3a"
            ],
            [
             0.8888888888888888,
             "#fdca26"
            ],
            [
             1,
             "#f0f921"
            ]
           ]
          },
          "colorway": [
           "#636efa",
           "#EF553B",
           "#00cc96",
           "#ab63fa",
           "#FFA15A",
           "#19d3f3",
           "#FF6692",
           "#B6E880",
           "#FF97FF",
           "#FECB52"
          ],
          "font": {
           "color": "#2a3f5f"
          },
          "geo": {
           "bgcolor": "white",
           "lakecolor": "white",
           "landcolor": "#E5ECF6",
           "showlakes": true,
           "showland": true,
           "subunitcolor": "white"
          },
          "hoverlabel": {
           "align": "left"
          },
          "hovermode": "closest",
          "mapbox": {
           "style": "light"
          },
          "paper_bgcolor": "white",
          "plot_bgcolor": "#E5ECF6",
          "polar": {
           "angularaxis": {
            "gridcolor": "white",
            "linecolor": "white",
            "ticks": ""
           },
           "bgcolor": "#E5ECF6",
           "radialaxis": {
            "gridcolor": "white",
            "linecolor": "white",
            "ticks": ""
           }
          },
          "scene": {
           "xaxis": {
            "backgroundcolor": "#E5ECF6",
            "gridcolor": "white",
            "gridwidth": 2,
            "linecolor": "white",
            "showbackground": true,
            "ticks": "",
            "zerolinecolor": "white"
           },
           "yaxis": {
            "backgroundcolor": "#E5ECF6",
            "gridcolor": "white",
            "gridwidth": 2,
            "linecolor": "white",
            "showbackground": true,
            "ticks": "",
            "zerolinecolor": "white"
           },
           "zaxis": {
            "backgroundcolor": "#E5ECF6",
            "gridcolor": "white",
            "gridwidth": 2,
            "linecolor": "white",
            "showbackground": true,
            "ticks": "",
            "zerolinecolor": "white"
           }
          },
          "shapedefaults": {
           "line": {
            "color": "#2a3f5f"
           }
          },
          "ternary": {
           "aaxis": {
            "gridcolor": "white",
            "linecolor": "white",
            "ticks": ""
           },
           "baxis": {
            "gridcolor": "white",
            "linecolor": "white",
            "ticks": ""
           },
           "bgcolor": "#E5ECF6",
           "caxis": {
            "gridcolor": "white",
            "linecolor": "white",
            "ticks": ""
           }
          },
          "title": {
           "x": 0.05
          },
          "xaxis": {
           "automargin": true,
           "gridcolor": "white",
           "linecolor": "white",
           "ticks": "",
           "title": {
            "standoff": 15
           },
           "zerolinecolor": "white",
           "zerolinewidth": 2
          },
          "yaxis": {
           "automargin": true,
           "gridcolor": "white",
           "linecolor": "white",
           "ticks": "",
           "title": {
            "standoff": 15
           },
           "zerolinecolor": "white",
           "zerolinewidth": 2
          }
         }
        },
        "title": {
         "text": "Scatter plot of Fare vs. Survival (Colored by Cabin Class)"
        },
        "xaxis": {
         "anchor": "y",
         "domain": [
          0,
          1
         ],
         "title": {
          "text": "Ticket Fare"
         }
        },
        "yaxis": {
         "anchor": "x",
         "domain": [
          0,
          1
         ],
         "tickmode": "linear",
         "ticktext": [
          "Not Survived",
          "Survived"
         ],
         "tickvals": [
          0,
          1
         ],
         "title": {
          "text": "Survival"
         }
        }
       }
      }
     },
     "metadata": {},
     "output_type": "display_data"
    }
   ],
   "source": [
    "#Plot 2: Fare Price and Cabin Class vs Survival \n",
    "plot2 = px.scatter(df, \n",
    "                  x=\"Fare\", \n",
    "                  y=\"Survived\", \n",
    "                  color=\"Cabin\",\n",
    "                   title=\"Scatter plot of Fare vs. Survival (Colored by Cabin Class)\",\n",
    "                   labels={\"Fare\": \"Ticket Fare\", \"Survived\": \"Survival\"},\n",
    "                   color_discrete_sequence=px.colors.qualitative.Set1,\n",
    "                   hover_data=[\"Pclass\", \"Cabin\"])\n",
    "plot2.update_layout(yaxis=dict(tickmode='linear', tickvals=[0, 1], ticktext=['Not Survived', 'Survived']))\n"
   ]
  },
  {
   "cell_type": "markdown",
   "id": "d5db71ab-b228-449d-9a64-f824678bd552",
   "metadata": {},
   "source": [
    "## Exercise 2\n",
    "\n",
    "Consider the Bubble Plot, above. Try to figure out what it might be trying to communicate.\n",
    "\n",
    "1. Point out at least three issues with this visualization.\n",
    "2. Build at least two visualizations in Plotly that communicate a similar message, but which do it far better."
   ]
  },
  {
   "cell_type": "markdown",
   "id": "1726e909",
   "metadata": {},
   "source": [
    "3 Issues with this visualization\n",
    "\n",
    "1) One issue with the plot is there being too many plots on one area which makes the visualization hard to understand.\n",
    "   \n",
    "2) The scale of the visualization is difficult for some columns such as the Age_Rounded column with values of 70 and 80, there is data but it is not visible.\n",
    "   \n",
    "3) The third issue with the visualization is the size of the bubbles or the percentages of the passenger data. "
   ]
  },
  {
   "cell_type": "code",
   "execution_count": 15,
   "id": "ce89323b",
   "metadata": {},
   "outputs": [
    {
     "data": {
      "application/vnd.plotly.v1+json": {
       "config": {
        "plotlyServerURL": "https://plot.ly"
       },
       "data": [
        {
         "alignmentgroup": "True",
         "hovertemplate": "Pclass=1<br>Age Rounded=%{x}<br>Passenger Count=%{y}<br>Survival Status=%{marker.color}<extra></extra>",
         "legendgroup": "",
         "marker": {
          "color": [
           0,
           1,
           1,
           0,
           1,
           0,
           1,
           0,
           1,
           0,
           1,
           0,
           1,
           0,
           1
          ],
          "coloraxis": "coloraxis",
          "pattern": {
           "shape": ""
          }
         },
         "name": "",
         "offsetgroup": "",
         "orientation": "v",
         "showlegend": false,
         "textposition": "auto",
         "type": "bar",
         "x": [
          0,
          0,
          10,
          20,
          20,
          30,
          30,
          40,
          40,
          50,
          50,
          60,
          60,
          70,
          80
         ],
         "xaxis": "x",
         "y": [
          1,
          2,
          2,
          8,
          29,
          9,
          22,
          14,
          37,
          15,
          20,
          14,
          9,
          3,
          1
         ],
         "yaxis": "y"
        },
        {
         "alignmentgroup": "True",
         "hovertemplate": "Pclass=2<br>Age Rounded=%{x}<br>Passenger Count=%{y}<br>Survival Status=%{marker.color}<extra></extra>",
         "legendgroup": "",
         "marker": {
          "color": [
           1,
           1,
           0,
           1,
           0,
           1,
           0,
           1,
           0,
           1,
           0,
           1,
           0
          ],
          "coloraxis": "coloraxis",
          "pattern": {
           "shape": ""
          }
         },
         "name": "",
         "offsetgroup": "",
         "orientation": "v",
         "showlegend": false,
         "textposition": "auto",
         "type": "bar",
         "x": [
          0,
          10,
          20,
          20,
          30,
          30,
          40,
          40,
          50,
          50,
          60,
          60,
          70
         ],
         "xaxis": "x2",
         "y": [
          13,
          6,
          27,
          19,
          30,
          25,
          17,
          13,
          10,
          5,
          4,
          2,
          2
         ],
         "yaxis": "y2"
        },
        {
         "alignmentgroup": "True",
         "hovertemplate": "Pclass=3<br>Age Rounded=%{x}<br>Passenger Count=%{y}<br>Survival Status=%{marker.color}<extra></extra>",
         "legendgroup": "",
         "marker": {
          "color": [
           0,
           1,
           0,
           1,
           0,
           1,
           0,
           1,
           0,
           1,
           0,
           0,
           1,
           0
          ],
          "coloraxis": "coloraxis",
          "pattern": {
           "shape": ""
          }
         },
         "name": "",
         "offsetgroup": "",
         "orientation": "v",
         "showlegend": false,
         "textposition": "auto",
         "type": "bar",
         "x": [
          0,
          0,
          10,
          10,
          20,
          20,
          30,
          30,
          40,
          40,
          50,
          60,
          60,
          70
         ],
         "xaxis": "x3",
         "y": [
          12,
          16,
          20,
          6,
          109,
          31,
          67,
          25,
          45,
          6,
          11,
          4,
          1,
          2
         ],
         "yaxis": "y3"
        }
       ],
       "layout": {
        "annotations": [
         {
          "font": {},
          "showarrow": false,
          "text": "Pclass=1",
          "x": 0.15999999999999998,
          "xanchor": "center",
          "xref": "paper",
          "y": 1,
          "yanchor": "bottom",
          "yref": "paper"
         },
         {
          "font": {},
          "showarrow": false,
          "text": "Pclass=2",
          "x": 0.49999999999999994,
          "xanchor": "center",
          "xref": "paper",
          "y": 1,
          "yanchor": "bottom",
          "yref": "paper"
         },
         {
          "font": {},
          "showarrow": false,
          "text": "Pclass=3",
          "x": 0.8399999999999999,
          "xanchor": "center",
          "xref": "paper",
          "y": 1,
          "yanchor": "bottom",
          "yref": "paper"
         }
        ],
        "barmode": "stack",
        "coloraxis": {
         "colorbar": {
          "title": {
           "text": "Survival Status"
          }
         },
         "colorscale": [
          [
           0,
           "#0d0887"
          ],
          [
           0.1111111111111111,
           "#46039f"
          ],
          [
           0.2222222222222222,
           "#7201a8"
          ],
          [
           0.3333333333333333,
           "#9c179e"
          ],
          [
           0.4444444444444444,
           "#bd3786"
          ],
          [
           0.5555555555555556,
           "#d8576b"
          ],
          [
           0.6666666666666666,
           "#ed7953"
          ],
          [
           0.7777777777777778,
           "#fb9f3a"
          ],
          [
           0.8888888888888888,
           "#fdca26"
          ],
          [
           1,
           "#f0f921"
          ]
         ]
        },
        "legend": {
         "tracegroupgap": 0
        },
        "template": {
         "data": {
          "bar": [
           {
            "error_x": {
             "color": "#2a3f5f"
            },
            "error_y": {
             "color": "#2a3f5f"
            },
            "marker": {
             "line": {
              "color": "white",
              "width": 0.5
             },
             "pattern": {
              "fillmode": "overlay",
              "size": 10,
              "solidity": 0.2
             }
            },
            "type": "bar"
           }
          ],
          "barpolar": [
           {
            "marker": {
             "line": {
              "color": "white",
              "width": 0.5
             },
             "pattern": {
              "fillmode": "overlay",
              "size": 10,
              "solidity": 0.2
             }
            },
            "type": "barpolar"
           }
          ],
          "carpet": [
           {
            "aaxis": {
             "endlinecolor": "#2a3f5f",
             "gridcolor": "#C8D4E3",
             "linecolor": "#C8D4E3",
             "minorgridcolor": "#C8D4E3",
             "startlinecolor": "#2a3f5f"
            },
            "baxis": {
             "endlinecolor": "#2a3f5f",
             "gridcolor": "#C8D4E3",
             "linecolor": "#C8D4E3",
             "minorgridcolor": "#C8D4E3",
             "startlinecolor": "#2a3f5f"
            },
            "type": "carpet"
           }
          ],
          "choropleth": [
           {
            "colorbar": {
             "outlinewidth": 0,
             "ticks": ""
            },
            "type": "choropleth"
           }
          ],
          "contour": [
           {
            "colorbar": {
             "outlinewidth": 0,
             "ticks": ""
            },
            "colorscale": [
             [
              0,
              "#0d0887"
             ],
             [
              0.1111111111111111,
              "#46039f"
             ],
             [
              0.2222222222222222,
              "#7201a8"
             ],
             [
              0.3333333333333333,
              "#9c179e"
             ],
             [
              0.4444444444444444,
              "#bd3786"
             ],
             [
              0.5555555555555556,
              "#d8576b"
             ],
             [
              0.6666666666666666,
              "#ed7953"
             ],
             [
              0.7777777777777778,
              "#fb9f3a"
             ],
             [
              0.8888888888888888,
              "#fdca26"
             ],
             [
              1,
              "#f0f921"
             ]
            ],
            "type": "contour"
           }
          ],
          "contourcarpet": [
           {
            "colorbar": {
             "outlinewidth": 0,
             "ticks": ""
            },
            "type": "contourcarpet"
           }
          ],
          "heatmap": [
           {
            "colorbar": {
             "outlinewidth": 0,
             "ticks": ""
            },
            "colorscale": [
             [
              0,
              "#0d0887"
             ],
             [
              0.1111111111111111,
              "#46039f"
             ],
             [
              0.2222222222222222,
              "#7201a8"
             ],
             [
              0.3333333333333333,
              "#9c179e"
             ],
             [
              0.4444444444444444,
              "#bd3786"
             ],
             [
              0.5555555555555556,
              "#d8576b"
             ],
             [
              0.6666666666666666,
              "#ed7953"
             ],
             [
              0.7777777777777778,
              "#fb9f3a"
             ],
             [
              0.8888888888888888,
              "#fdca26"
             ],
             [
              1,
              "#f0f921"
             ]
            ],
            "type": "heatmap"
           }
          ],
          "heatmapgl": [
           {
            "colorbar": {
             "outlinewidth": 0,
             "ticks": ""
            },
            "colorscale": [
             [
              0,
              "#0d0887"
             ],
             [
              0.1111111111111111,
              "#46039f"
             ],
             [
              0.2222222222222222,
              "#7201a8"
             ],
             [
              0.3333333333333333,
              "#9c179e"
             ],
             [
              0.4444444444444444,
              "#bd3786"
             ],
             [
              0.5555555555555556,
              "#d8576b"
             ],
             [
              0.6666666666666666,
              "#ed7953"
             ],
             [
              0.7777777777777778,
              "#fb9f3a"
             ],
             [
              0.8888888888888888,
              "#fdca26"
             ],
             [
              1,
              "#f0f921"
             ]
            ],
            "type": "heatmapgl"
           }
          ],
          "histogram": [
           {
            "marker": {
             "pattern": {
              "fillmode": "overlay",
              "size": 10,
              "solidity": 0.2
             }
            },
            "type": "histogram"
           }
          ],
          "histogram2d": [
           {
            "colorbar": {
             "outlinewidth": 0,
             "ticks": ""
            },
            "colorscale": [
             [
              0,
              "#0d0887"
             ],
             [
              0.1111111111111111,
              "#46039f"
             ],
             [
              0.2222222222222222,
              "#7201a8"
             ],
             [
              0.3333333333333333,
              "#9c179e"
             ],
             [
              0.4444444444444444,
              "#bd3786"
             ],
             [
              0.5555555555555556,
              "#d8576b"
             ],
             [
              0.6666666666666666,
              "#ed7953"
             ],
             [
              0.7777777777777778,
              "#fb9f3a"
             ],
             [
              0.8888888888888888,
              "#fdca26"
             ],
             [
              1,
              "#f0f921"
             ]
            ],
            "type": "histogram2d"
           }
          ],
          "histogram2dcontour": [
           {
            "colorbar": {
             "outlinewidth": 0,
             "ticks": ""
            },
            "colorscale": [
             [
              0,
              "#0d0887"
             ],
             [
              0.1111111111111111,
              "#46039f"
             ],
             [
              0.2222222222222222,
              "#7201a8"
             ],
             [
              0.3333333333333333,
              "#9c179e"
             ],
             [
              0.4444444444444444,
              "#bd3786"
             ],
             [
              0.5555555555555556,
              "#d8576b"
             ],
             [
              0.6666666666666666,
              "#ed7953"
             ],
             [
              0.7777777777777778,
              "#fb9f3a"
             ],
             [
              0.8888888888888888,
              "#fdca26"
             ],
             [
              1,
              "#f0f921"
             ]
            ],
            "type": "histogram2dcontour"
           }
          ],
          "mesh3d": [
           {
            "colorbar": {
             "outlinewidth": 0,
             "ticks": ""
            },
            "type": "mesh3d"
           }
          ],
          "parcoords": [
           {
            "line": {
             "colorbar": {
              "outlinewidth": 0,
              "ticks": ""
             }
            },
            "type": "parcoords"
           }
          ],
          "pie": [
           {
            "automargin": true,
            "type": "pie"
           }
          ],
          "scatter": [
           {
            "fillpattern": {
             "fillmode": "overlay",
             "size": 10,
             "solidity": 0.2
            },
            "type": "scatter"
           }
          ],
          "scatter3d": [
           {
            "line": {
             "colorbar": {
              "outlinewidth": 0,
              "ticks": ""
             }
            },
            "marker": {
             "colorbar": {
              "outlinewidth": 0,
              "ticks": ""
             }
            },
            "type": "scatter3d"
           }
          ],
          "scattercarpet": [
           {
            "marker": {
             "colorbar": {
              "outlinewidth": 0,
              "ticks": ""
             }
            },
            "type": "scattercarpet"
           }
          ],
          "scattergeo": [
           {
            "marker": {
             "colorbar": {
              "outlinewidth": 0,
              "ticks": ""
             }
            },
            "type": "scattergeo"
           }
          ],
          "scattergl": [
           {
            "marker": {
             "colorbar": {
              "outlinewidth": 0,
              "ticks": ""
             }
            },
            "type": "scattergl"
           }
          ],
          "scattermapbox": [
           {
            "marker": {
             "colorbar": {
              "outlinewidth": 0,
              "ticks": ""
             }
            },
            "type": "scattermapbox"
           }
          ],
          "scatterpolar": [
           {
            "marker": {
             "colorbar": {
              "outlinewidth": 0,
              "ticks": ""
             }
            },
            "type": "scatterpolar"
           }
          ],
          "scatterpolargl": [
           {
            "marker": {
             "colorbar": {
              "outlinewidth": 0,
              "ticks": ""
             }
            },
            "type": "scatterpolargl"
           }
          ],
          "scatterternary": [
           {
            "marker": {
             "colorbar": {
              "outlinewidth": 0,
              "ticks": ""
             }
            },
            "type": "scatterternary"
           }
          ],
          "surface": [
           {
            "colorbar": {
             "outlinewidth": 0,
             "ticks": ""
            },
            "colorscale": [
             [
              0,
              "#0d0887"
             ],
             [
              0.1111111111111111,
              "#46039f"
             ],
             [
              0.2222222222222222,
              "#7201a8"
             ],
             [
              0.3333333333333333,
              "#9c179e"
             ],
             [
              0.4444444444444444,
              "#bd3786"
             ],
             [
              0.5555555555555556,
              "#d8576b"
             ],
             [
              0.6666666666666666,
              "#ed7953"
             ],
             [
              0.7777777777777778,
              "#fb9f3a"
             ],
             [
              0.8888888888888888,
              "#fdca26"
             ],
             [
              1,
              "#f0f921"
             ]
            ],
            "type": "surface"
           }
          ],
          "table": [
           {
            "cells": {
             "fill": {
              "color": "#EBF0F8"
             },
             "line": {
              "color": "white"
             }
            },
            "header": {
             "fill": {
              "color": "#C8D4E3"
             },
             "line": {
              "color": "white"
             }
            },
            "type": "table"
           }
          ]
         },
         "layout": {
          "annotationdefaults": {
           "arrowcolor": "#2a3f5f",
           "arrowhead": 0,
           "arrowwidth": 1
          },
          "autotypenumbers": "strict",
          "coloraxis": {
           "colorbar": {
            "outlinewidth": 0,
            "ticks": ""
           }
          },
          "colorscale": {
           "diverging": [
            [
             0,
             "#8e0152"
            ],
            [
             0.1,
             "#c51b7d"
            ],
            [
             0.2,
             "#de77ae"
            ],
            [
             0.3,
             "#f1b6da"
            ],
            [
             0.4,
             "#fde0ef"
            ],
            [
             0.5,
             "#f7f7f7"
            ],
            [
             0.6,
             "#e6f5d0"
            ],
            [
             0.7,
             "#b8e186"
            ],
            [
             0.8,
             "#7fbc41"
            ],
            [
             0.9,
             "#4d9221"
            ],
            [
             1,
             "#276419"
            ]
           ],
           "sequential": [
            [
             0,
             "#0d0887"
            ],
            [
             0.1111111111111111,
             "#46039f"
            ],
            [
             0.2222222222222222,
             "#7201a8"
            ],
            [
             0.3333333333333333,
             "#9c179e"
            ],
            [
             0.4444444444444444,
             "#bd3786"
            ],
            [
             0.5555555555555556,
             "#d8576b"
            ],
            [
             0.6666666666666666,
             "#ed7953"
            ],
            [
             0.7777777777777778,
             "#fb9f3a"
            ],
            [
             0.8888888888888888,
             "#fdca26"
            ],
            [
             1,
             "#f0f921"
            ]
           ],
           "sequentialminus": [
            [
             0,
             "#0d0887"
            ],
            [
             0.1111111111111111,
             "#46039f"
            ],
            [
             0.2222222222222222,
             "#7201a8"
            ],
            [
             0.3333333333333333,
             "#9c179e"
            ],
            [
             0.4444444444444444,
             "#bd3786"
            ],
            [
             0.5555555555555556,
             "#d8576b"
            ],
            [
             0.6666666666666666,
             "#ed7953"
            ],
            [
             0.7777777777777778,
             "#fb9f3a"
            ],
            [
             0.8888888888888888,
             "#fdca26"
            ],
            [
             1,
             "#f0f921"
            ]
           ]
          },
          "colorway": [
           "#636efa",
           "#EF553B",
           "#00cc96",
           "#ab63fa",
           "#FFA15A",
           "#19d3f3",
           "#FF6692",
           "#B6E880",
           "#FF97FF",
           "#FECB52"
          ],
          "font": {
           "color": "#2a3f5f"
          },
          "geo": {
           "bgcolor": "white",
           "lakecolor": "white",
           "landcolor": "white",
           "showlakes": true,
           "showland": true,
           "subunitcolor": "#C8D4E3"
          },
          "hoverlabel": {
           "align": "left"
          },
          "hovermode": "closest",
          "mapbox": {
           "style": "light"
          },
          "paper_bgcolor": "white",
          "plot_bgcolor": "white",
          "polar": {
           "angularaxis": {
            "gridcolor": "#EBF0F8",
            "linecolor": "#EBF0F8",
            "ticks": ""
           },
           "bgcolor": "white",
           "radialaxis": {
            "gridcolor": "#EBF0F8",
            "linecolor": "#EBF0F8",
            "ticks": ""
           }
          },
          "scene": {
           "xaxis": {
            "backgroundcolor": "white",
            "gridcolor": "#DFE8F3",
            "gridwidth": 2,
            "linecolor": "#EBF0F8",
            "showbackground": true,
            "ticks": "",
            "zerolinecolor": "#EBF0F8"
           },
           "yaxis": {
            "backgroundcolor": "white",
            "gridcolor": "#DFE8F3",
            "gridwidth": 2,
            "linecolor": "#EBF0F8",
            "showbackground": true,
            "ticks": "",
            "zerolinecolor": "#EBF0F8"
           },
           "zaxis": {
            "backgroundcolor": "white",
            "gridcolor": "#DFE8F3",
            "gridwidth": 2,
            "linecolor": "#EBF0F8",
            "showbackground": true,
            "ticks": "",
            "zerolinecolor": "#EBF0F8"
           }
          },
          "shapedefaults": {
           "line": {
            "color": "#2a3f5f"
           }
          },
          "ternary": {
           "aaxis": {
            "gridcolor": "#DFE8F3",
            "linecolor": "#A2B1C6",
            "ticks": ""
           },
           "baxis": {
            "gridcolor": "#DFE8F3",
            "linecolor": "#A2B1C6",
            "ticks": ""
           },
           "bgcolor": "white",
           "caxis": {
            "gridcolor": "#DFE8F3",
            "linecolor": "#A2B1C6",
            "ticks": ""
           }
          },
          "title": {
           "x": 0.05
          },
          "xaxis": {
           "automargin": true,
           "gridcolor": "#EBF0F8",
           "linecolor": "#EBF0F8",
           "ticks": "",
           "title": {
            "standoff": 15
           },
           "zerolinecolor": "#EBF0F8",
           "zerolinewidth": 2
          },
          "yaxis": {
           "automargin": true,
           "gridcolor": "#EBF0F8",
           "linecolor": "#EBF0F8",
           "ticks": "",
           "title": {
            "standoff": 15
           },
           "zerolinecolor": "#EBF0F8",
           "zerolinewidth": 2
          }
         }
        },
        "title": {
         "text": "Survival Count by Age, Passenger Class, and Survival Status"
        },
        "xaxis": {
         "anchor": "y",
         "domain": [
          0,
          0.31999999999999995
         ],
         "title": {
          "text": "Age Rounded"
         }
        },
        "xaxis2": {
         "anchor": "y2",
         "domain": [
          0.33999999999999997,
          0.6599999999999999
         ],
         "matches": "x",
         "title": {
          "text": "Age Rounded"
         }
        },
        "xaxis3": {
         "anchor": "y3",
         "domain": [
          0.6799999999999999,
          0.9999999999999999
         ],
         "matches": "x",
         "title": {
          "text": "Age Rounded"
         }
        },
        "yaxis": {
         "anchor": "x",
         "domain": [
          0,
          1
         ],
         "title": {
          "text": "Passenger Count"
         }
        },
        "yaxis2": {
         "anchor": "x2",
         "domain": [
          0,
          1
         ],
         "matches": "y",
         "showticklabels": false
        },
        "yaxis3": {
         "anchor": "x3",
         "domain": [
          0,
          1
         ],
         "matches": "y",
         "showticklabels": false
        }
       }
      }
     },
     "metadata": {},
     "output_type": "display_data"
    }
   ],
   "source": [
    "df_plot = df.groupby(['Pclass', 'Age_rounded', 'Survived']).size().reset_index(name='Passengers')\n",
    "\n",
    "fig = px.bar(df_plot, \n",
    "             x='Age_rounded', \n",
    "             y='Passengers', \n",
    "             color='Survived', \n",
    "             facet_col='Pclass', \n",
    "             barmode='stack',\n",
    "             template='plotly_white',\n",
    "             labels={'Survived': 'Survival Status', 'Age_rounded': 'Age Rounded', 'Passengers': 'Passenger Count'},\n",
    "             title='Survival Count by Age, Passenger Class, and Survival Status')\n",
    "fig.show()"
   ]
  },
  {
   "cell_type": "code",
   "execution_count": 16,
   "id": "77b711b1",
   "metadata": {},
   "outputs": [
    {
     "data": {
      "application/vnd.plotly.v1+json": {
       "config": {
        "plotlyServerURL": "https://plot.ly"
       },
       "data": [
        {
         "alignmentgroup": "True",
         "hovertemplate": "Survival Status=0<br>Passenger Class=%{x}<br>Age=%{y}<extra></extra>",
         "legendgroup": "0",
         "marker": {
          "color": "#636efa",
          "size": 3
         },
         "name": "0",
         "notched": false,
         "offsetgroup": "0",
         "orientation": "v",
         "showlegend": true,
         "type": "box",
         "x": [
          3,
          3,
          3,
          1,
          3,
          3,
          3,
          3,
          3,
          3,
          2,
          3,
          3,
          1,
          3,
          1,
          2,
          1,
          1,
          3,
          3,
          3,
          2,
          3,
          3,
          3,
          3,
          3,
          3,
          3,
          1,
          3,
          3,
          3,
          1,
          3,
          1,
          3,
          3,
          2,
          3,
          2,
          3,
          3,
          3,
          3,
          3,
          1,
          3,
          3,
          3,
          3,
          3,
          1,
          3,
          3,
          3,
          1,
          2,
          3,
          3,
          1,
          3,
          3,
          3,
          3,
          1,
          3,
          3,
          3,
          3,
          3,
          3,
          2,
          1,
          3,
          2,
          3,
          2,
          1,
          3,
          3,
          3,
          3,
          3,
          2,
          2,
          1,
          3,
          1,
          3,
          3,
          2,
          2,
          3,
          2,
          2,
          2,
          3,
          3,
          3,
          1,
          3,
          3,
          3,
          3,
          3,
          3,
          3,
          3,
          1,
          3,
          1,
          3,
          3,
          1,
          3,
          3,
          1,
          2,
          3,
          3,
          2,
          3,
          1,
          3,
          3,
          2,
          3,
          3,
          2,
          3,
          3,
          3,
          3,
          3,
          3,
          3,
          3,
          2,
          3,
          2,
          2,
          2,
          3,
          3,
          3,
          3,
          2,
          3,
          3,
          2,
          2,
          3,
          2,
          2,
          2,
          3,
          2,
          3,
          3,
          1,
          3,
          2,
          3,
          3,
          1,
          3,
          3,
          3,
          1,
          1,
          3,
          2,
          3,
          1,
          1,
          3,
          2,
          3,
          3,
          3,
          3,
          1,
          3,
          3,
          2,
          3,
          3,
          1,
          3,
          1,
          3,
          3,
          2,
          2,
          3,
          2,
          2,
          3,
          3,
          3,
          3,
          1,
          1,
          3,
          3,
          1,
          1,
          2,
          2,
          2,
          3,
          3,
          1,
          3,
          3,
          3,
          3,
          2,
          3,
          2,
          3,
          3,
          3,
          3,
          3,
          3,
          1,
          3,
          1,
          3,
          3,
          3,
          3,
          2,
          3,
          3,
          3,
          3,
          3,
          2,
          2,
          3,
          3,
          3,
          3,
          2,
          3,
          3,
          3,
          3,
          3,
          2,
          3,
          2,
          3,
          3,
          3,
          3,
          3,
          3,
          3,
          3,
          3,
          1,
          3,
          1,
          2,
          3,
          3,
          2,
          3,
          1,
          3,
          1,
          3,
          3,
          1,
          2,
          3,
          3,
          2,
          1,
          3,
          3,
          3,
          3,
          1,
          2,
          3,
          3,
          3,
          2,
          3,
          3,
          1,
          3,
          3,
          3,
          1,
          1,
          3,
          3,
          3,
          1,
          3,
          3,
          3,
          3,
          3,
          1,
          3,
          3,
          3,
          1,
          3,
          3,
          3,
          3,
          3,
          3,
          1,
          3,
          2,
          3,
          3,
          3,
          1,
          3,
          3,
          3,
          1,
          1,
          3,
          2,
          3,
          1,
          1,
          3,
          3,
          2,
          3,
          3,
          3,
          3,
          3,
          3,
          3,
          3,
          3,
          2,
          1,
          3,
          2,
          3,
          3,
          3,
          3,
          3,
          2,
          3,
          3,
          3,
          3,
          1,
          3,
          3,
          3,
          3,
          3,
          3,
          3,
          3,
          3,
          2,
          3,
          3,
          3,
          1,
          2,
          3,
          3,
          3,
          1,
          3,
          3,
          2,
          3,
          3,
          3,
          3,
          3,
          3,
          3,
          3,
          3,
          2,
          3,
          3,
          2,
          1,
          3,
          1,
          3,
          2,
          2,
          3,
          3,
          1,
          2,
          2,
          3,
          3,
          3,
          3,
          3,
          3,
          2,
          2,
          3,
          3,
          3,
          3,
          1,
          2,
          3,
          1,
          3,
          3,
          3,
          3,
          2,
          1,
          3,
          2,
          3,
          3,
          3,
          3,
          2,
          2,
          3,
          2,
          3,
          3,
          2,
          2,
          2,
          3,
          3,
          3,
          3,
          1,
          3,
          1,
          3,
          1,
          3,
          3,
          3,
          3,
          2,
          3,
          3,
          3,
          3,
          1,
          3,
          3,
          3,
          3,
          3,
          2,
          3,
          3,
          3,
          3,
          1,
          3,
          3,
          3,
          3,
          1,
          3,
          2,
          3,
          1,
          3,
          2,
          3,
          3,
          2,
          3,
          1,
          3,
          2,
          3,
          3,
          2,
          3,
          3,
          1,
          3,
          2,
          3,
          3,
          1,
          3,
          3,
          3,
          3,
          3,
          3,
          3,
          3,
          3,
          2,
          3,
          3,
          3,
          3,
          3,
          2,
          3,
          3,
          3,
          2,
          3,
          3,
          2,
          3,
          2,
          1,
          3,
          3,
          1,
          3,
          3,
          3,
          3,
          3,
          3,
          2,
          3,
          3,
          2,
          3,
          3
         ],
         "x0": " ",
         "xaxis": "x",
         "y": [
          22,
          35,
          null,
          54,
          2,
          20,
          39,
          14,
          2,
          31,
          35,
          8,
          null,
          19,
          null,
          40,
          66,
          28,
          42,
          21,
          18,
          40,
          27,
          null,
          null,
          null,
          null,
          18,
          7,
          21,
          65,
          28.5,
          11,
          22,
          45,
          4,
          null,
          19,
          26,
          32,
          16,
          21,
          26,
          25,
          null,
          null,
          22,
          28,
          16,
          null,
          24,
          29,
          20,
          46,
          26,
          59,
          null,
          71,
          34,
          28,
          null,
          21,
          33,
          37,
          28,
          38,
          47,
          14.5,
          22,
          20,
          17,
          21,
          70.5,
          29,
          24,
          2,
          21,
          null,
          32.5,
          54,
          null,
          45,
          33,
          20,
          47,
          25,
          23,
          37,
          16,
          24,
          null,
          19,
          18,
          19,
          9,
          36.5,
          42,
          51,
          55.5,
          40.5,
          null,
          51,
          30,
          null,
          null,
          44,
          26,
          17,
          1,
          45,
          null,
          28,
          61,
          4,
          21,
          56,
          18,
          null,
          50,
          30,
          36,
          null,
          null,
          9,
          null,
          40,
          36,
          19,
          null,
          42,
          24,
          28,
          null,
          34,
          45.5,
          2,
          32,
          24,
          22,
          30,
          null,
          42,
          30,
          27,
          51,
          null,
          22,
          20.5,
          18,
          null,
          29,
          59,
          24,
          null,
          44,
          19,
          33,
          null,
          29,
          22,
          30,
          44,
          25,
          54,
          null,
          29,
          62,
          30,
          41,
          null,
          52,
          40,
          null,
          36,
          16,
          null,
          37,
          45,
          null,
          7,
          65,
          28,
          16,
          null,
          33,
          22,
          36,
          24,
          24,
          null,
          23.5,
          2,
          19,
          null,
          30,
          26,
          28,
          43,
          54,
          22,
          27,
          null,
          61,
          45.5,
          38,
          16,
          null,
          29,
          45,
          28,
          25,
          36,
          42,
          23,
          null,
          15,
          25,
          null,
          28,
          38,
          40,
          29,
          45,
          35,
          null,
          30,
          18,
          19,
          22,
          3,
          27,
          20,
          19,
          32,
          null,
          18,
          1,
          null,
          28,
          22,
          31,
          46,
          23,
          26,
          21,
          28,
          20,
          34,
          51,
          21,
          null,
          null,
          null,
          null,
          null,
          30,
          10,
          null,
          21,
          29,
          28,
          18,
          null,
          null,
          17,
          50,
          21,
          64,
          31,
          20,
          25,
          36,
          null,
          30,
          null,
          65,
          null,
          34,
          47,
          48,
          null,
          38,
          null,
          56,
          null,
          null,
          38,
          22,
          null,
          34,
          29,
          22,
          9,
          null,
          50,
          null,
          58,
          30,
          null,
          21,
          55,
          71,
          21,
          null,
          null,
          25,
          24,
          17,
          21,
          null,
          37,
          18,
          28,
          null,
          24,
          47,
          null,
          32,
          22,
          null,
          null,
          40.5,
          null,
          39,
          23,
          null,
          17,
          30,
          45,
          null,
          9,
          11,
          50,
          64,
          33,
          27,
          null,
          62,
          null,
          null,
          40,
          28,
          null,
          null,
          24,
          19,
          29,
          null,
          16,
          19,
          null,
          54,
          36,
          null,
          47,
          22,
          null,
          35,
          47,
          null,
          37,
          36,
          49,
          null,
          null,
          null,
          44,
          36,
          30,
          39,
          null,
          null,
          35,
          34,
          26,
          26,
          27,
          21,
          21,
          61,
          57,
          26,
          null,
          51,
          null,
          9,
          32,
          31,
          41,
          null,
          20,
          2,
          19,
          null,
          null,
          21,
          18,
          24,
          null,
          32,
          23,
          58,
          40,
          47,
          36,
          32,
          25,
          null,
          43,
          31,
          70,
          null,
          18,
          24.5,
          43,
          null,
          20,
          14,
          60,
          25,
          14,
          19,
          18,
          25,
          60,
          52,
          44,
          49,
          42,
          18,
          25,
          26,
          39,
          null,
          29,
          52,
          19,
          null,
          33,
          17,
          34,
          50,
          20,
          25,
          25,
          11,
          null,
          23,
          23,
          28.5,
          48,
          null,
          null,
          36,
          24,
          70,
          16,
          19,
          31,
          33,
          23,
          28,
          18,
          34,
          null,
          41,
          16,
          null,
          30.5,
          null,
          32,
          24,
          48,
          57,
          null,
          18,
          null,
          null,
          29,
          null,
          25,
          25,
          8,
          46,
          null,
          16,
          null,
          null,
          25,
          39,
          30,
          30,
          34,
          31,
          39,
          18,
          39,
          26,
          39,
          35,
          6,
          30.5,
          null,
          23,
          31,
          43,
          10,
          38,
          2,
          null,
          null,
          null,
          23,
          18,
          21,
          null,
          20,
          16,
          34.5,
          17,
          42,
          null,
          35,
          28,
          4,
          74,
          9,
          44,
          null,
          41,
          21,
          null,
          24,
          31,
          null,
          26,
          33,
          47,
          20,
          19,
          null,
          33,
          22,
          28,
          25,
          39,
          27,
          null,
          32
         ],
         "y0": " ",
         "yaxis": "y"
        },
        {
         "alignmentgroup": "True",
         "hovertemplate": "Survival Status=1<br>Passenger Class=%{x}<br>Age=%{y}<extra></extra>",
         "legendgroup": "1",
         "marker": {
          "color": "#EF553B",
          "size": 3
         },
         "name": "1",
         "notched": false,
         "offsetgroup": "1",
         "orientation": "v",
         "showlegend": true,
         "type": "box",
         "x": [
          1,
          3,
          1,
          3,
          2,
          3,
          1,
          2,
          2,
          3,
          2,
          3,
          1,
          3,
          3,
          1,
          3,
          3,
          3,
          2,
          3,
          3,
          1,
          2,
          1,
          2,
          2,
          1,
          3,
          2,
          3,
          3,
          2,
          3,
          3,
          3,
          2,
          3,
          1,
          1,
          2,
          3,
          3,
          3,
          2,
          3,
          3,
          3,
          2,
          1,
          3,
          3,
          3,
          1,
          3,
          2,
          3,
          1,
          3,
          2,
          3,
          3,
          1,
          2,
          3,
          2,
          1,
          1,
          3,
          3,
          3,
          3,
          1,
          2,
          1,
          3,
          1,
          3,
          1,
          2,
          1,
          3,
          2,
          3,
          2,
          1,
          3,
          1,
          1,
          1,
          2,
          3,
          3,
          1,
          1,
          3,
          2,
          3,
          1,
          3,
          3,
          3,
          2,
          3,
          1,
          1,
          1,
          1,
          3,
          3,
          2,
          1,
          1,
          1,
          1,
          1,
          1,
          3,
          2,
          1,
          1,
          2,
          2,
          1,
          2,
          3,
          1,
          3,
          1,
          1,
          3,
          2,
          1,
          2,
          2,
          3,
          3,
          1,
          3,
          3,
          1,
          3,
          3,
          1,
          1,
          1,
          3,
          1,
          3,
          1,
          2,
          2,
          1,
          3,
          1,
          3,
          2,
          3,
          2,
          1,
          3,
          2,
          2,
          2,
          2,
          3,
          1,
          3,
          2,
          1,
          2,
          2,
          2,
          3,
          1,
          2,
          1,
          3,
          1,
          1,
          3,
          1,
          2,
          1,
          3,
          2,
          2,
          3,
          3,
          1,
          1,
          3,
          1,
          1,
          2,
          1,
          3,
          3,
          1,
          1,
          2,
          2,
          1,
          1,
          2,
          2,
          3,
          2,
          1,
          1,
          1,
          2,
          2,
          2,
          2,
          1,
          3,
          3,
          1,
          1,
          3,
          3,
          2,
          1,
          1,
          3,
          2,
          1,
          3,
          2,
          1,
          1,
          1,
          1,
          2,
          1,
          2,
          1,
          1,
          2,
          1,
          3,
          2,
          2,
          1,
          3,
          1,
          1,
          1,
          2,
          1,
          3,
          3,
          1,
          1,
          3,
          2,
          3,
          1,
          3,
          1,
          2,
          2,
          3,
          1,
          1,
          1,
          1,
          3,
          3,
          3,
          1,
          1,
          2,
          1,
          1,
          3,
          1,
          1,
          1,
          2,
          2,
          1,
          2,
          3,
          1,
          1,
          1,
          1,
          3,
          2,
          2,
          3,
          2,
          2,
          1,
          3,
          1,
          1,
          2,
          3,
          1,
          3,
          1,
          3,
          3,
          1,
          3,
          2,
          1,
          3,
          3,
          1,
          1,
          3,
          3,
          2,
          3,
          1,
          3,
          2,
          1,
          3,
          1,
          1,
          1,
          1,
          3,
          1,
          1,
          3,
          1,
          2,
          2,
          3,
          1,
          2,
          3,
          1,
          2,
          1,
          1
         ],
         "x0": " ",
         "xaxis": "x",
         "y": [
          38,
          26,
          35,
          27,
          14,
          4,
          58,
          55,
          null,
          null,
          34,
          15,
          28,
          38,
          null,
          null,
          null,
          null,
          14,
          3,
          19,
          null,
          49,
          29,
          null,
          21,
          5,
          38,
          null,
          29,
          17,
          32,
          0.83,
          30,
          29,
          null,
          17,
          33,
          23,
          23,
          34,
          21,
          null,
          null,
          32.5,
          12,
          24,
          null,
          29,
          19,
          22,
          24,
          27,
          22,
          16,
          40,
          9,
          null,
          1,
          1,
          4,
          null,
          45,
          32,
          19,
          3,
          44,
          58,
          null,
          18,
          26,
          16,
          40,
          35,
          31,
          27,
          32,
          16,
          38,
          19,
          35,
          5,
          8,
          null,
          24,
          37,
          29,
          null,
          30,
          35,
          50,
          3,
          25,
          58,
          35,
          25,
          41,
          null,
          63,
          35,
          19,
          30,
          42,
          22,
          26,
          19,
          null,
          50,
          null,
          null,
          null,
          0.92,
          null,
          17,
          30,
          24,
          18,
          26,
          24,
          31,
          40,
          30,
          22,
          36,
          36,
          31,
          16,
          null,
          null,
          41,
          45,
          2,
          24,
          24,
          40,
          null,
          3,
          22,
          null,
          null,
          60,
          null,
          null,
          24,
          25,
          null,
          22,
          42,
          1,
          35,
          36,
          17,
          36,
          21,
          23,
          24,
          28,
          39,
          3,
          33,
          44,
          34,
          18,
          28,
          19,
          32,
          28,
          null,
          42,
          14,
          24,
          45,
          28,
          null,
          4,
          13,
          34,
          5,
          52,
          49,
          29,
          null,
          50,
          48,
          0.75,
          33,
          23,
          2,
          63,
          25,
          35,
          9,
          54,
          16,
          33,
          null,
          26,
          29,
          36,
          54,
          34,
          36,
          30,
          44,
          50,
          2,
          null,
          7,
          30,
          22,
          36,
          32,
          19,
          null,
          8,
          17,
          22,
          22,
          48,
          39,
          36,
          32,
          62,
          53,
          36,
          null,
          34,
          39,
          32,
          25,
          39,
          18,
          60,
          52,
          null,
          49,
          24,
          35,
          27,
          22,
          40,
          null,
          24,
          4,
          42,
          20,
          21,
          80,
          32,
          28,
          24,
          null,
          0.75,
          48,
          56,
          23,
          18,
          null,
          50,
          20,
          null,
          40,
          31,
          18,
          36,
          27,
          15,
          31,
          4,
          null,
          null,
          18,
          35,
          45,
          42,
          22,
          null,
          24,
          48,
          38,
          27,
          6,
          27,
          30,
          null,
          29,
          35,
          null,
          21,
          31,
          30,
          4,
          6,
          48,
          0.67,
          33,
          20,
          36,
          51,
          54,
          5,
          43,
          13,
          17,
          18,
          1,
          49,
          31,
          31,
          11,
          0.42,
          27,
          33,
          52,
          27,
          27,
          1,
          null,
          62,
          15,
          0.83,
          39,
          32,
          null,
          30,
          null,
          16,
          18,
          45,
          51,
          24,
          48,
          42,
          27,
          4,
          47,
          28,
          15,
          56,
          25,
          19,
          26
         ],
         "y0": " ",
         "yaxis": "y"
        }
       ],
       "layout": {
        "boxmode": "group",
        "legend": {
         "title": {
          "text": "Survival Status"
         },
         "tracegroupgap": 0
        },
        "template": {
         "data": {
          "bar": [
           {
            "error_x": {
             "color": "#2a3f5f"
            },
            "error_y": {
             "color": "#2a3f5f"
            },
            "marker": {
             "line": {
              "color": "white",
              "width": 0.5
             },
             "pattern": {
              "fillmode": "overlay",
              "size": 10,
              "solidity": 0.2
             }
            },
            "type": "bar"
           }
          ],
          "barpolar": [
           {
            "marker": {
             "line": {
              "color": "white",
              "width": 0.5
             },
             "pattern": {
              "fillmode": "overlay",
              "size": 10,
              "solidity": 0.2
             }
            },
            "type": "barpolar"
           }
          ],
          "carpet": [
           {
            "aaxis": {
             "endlinecolor": "#2a3f5f",
             "gridcolor": "#C8D4E3",
             "linecolor": "#C8D4E3",
             "minorgridcolor": "#C8D4E3",
             "startlinecolor": "#2a3f5f"
            },
            "baxis": {
             "endlinecolor": "#2a3f5f",
             "gridcolor": "#C8D4E3",
             "linecolor": "#C8D4E3",
             "minorgridcolor": "#C8D4E3",
             "startlinecolor": "#2a3f5f"
            },
            "type": "carpet"
           }
          ],
          "choropleth": [
           {
            "colorbar": {
             "outlinewidth": 0,
             "ticks": ""
            },
            "type": "choropleth"
           }
          ],
          "contour": [
           {
            "colorbar": {
             "outlinewidth": 0,
             "ticks": ""
            },
            "colorscale": [
             [
              0,
              "#0d0887"
             ],
             [
              0.1111111111111111,
              "#46039f"
             ],
             [
              0.2222222222222222,
              "#7201a8"
             ],
             [
              0.3333333333333333,
              "#9c179e"
             ],
             [
              0.4444444444444444,
              "#bd3786"
             ],
             [
              0.5555555555555556,
              "#d8576b"
             ],
             [
              0.6666666666666666,
              "#ed7953"
             ],
             [
              0.7777777777777778,
              "#fb9f3a"
             ],
             [
              0.8888888888888888,
              "#fdca26"
             ],
             [
              1,
              "#f0f921"
             ]
            ],
            "type": "contour"
           }
          ],
          "contourcarpet": [
           {
            "colorbar": {
             "outlinewidth": 0,
             "ticks": ""
            },
            "type": "contourcarpet"
           }
          ],
          "heatmap": [
           {
            "colorbar": {
             "outlinewidth": 0,
             "ticks": ""
            },
            "colorscale": [
             [
              0,
              "#0d0887"
             ],
             [
              0.1111111111111111,
              "#46039f"
             ],
             [
              0.2222222222222222,
              "#7201a8"
             ],
             [
              0.3333333333333333,
              "#9c179e"
             ],
             [
              0.4444444444444444,
              "#bd3786"
             ],
             [
              0.5555555555555556,
              "#d8576b"
             ],
             [
              0.6666666666666666,
              "#ed7953"
             ],
             [
              0.7777777777777778,
              "#fb9f3a"
             ],
             [
              0.8888888888888888,
              "#fdca26"
             ],
             [
              1,
              "#f0f921"
             ]
            ],
            "type": "heatmap"
           }
          ],
          "heatmapgl": [
           {
            "colorbar": {
             "outlinewidth": 0,
             "ticks": ""
            },
            "colorscale": [
             [
              0,
              "#0d0887"
             ],
             [
              0.1111111111111111,
              "#46039f"
             ],
             [
              0.2222222222222222,
              "#7201a8"
             ],
             [
              0.3333333333333333,
              "#9c179e"
             ],
             [
              0.4444444444444444,
              "#bd3786"
             ],
             [
              0.5555555555555556,
              "#d8576b"
             ],
             [
              0.6666666666666666,
              "#ed7953"
             ],
             [
              0.7777777777777778,
              "#fb9f3a"
             ],
             [
              0.8888888888888888,
              "#fdca26"
             ],
             [
              1,
              "#f0f921"
             ]
            ],
            "type": "heatmapgl"
           }
          ],
          "histogram": [
           {
            "marker": {
             "pattern": {
              "fillmode": "overlay",
              "size": 10,
              "solidity": 0.2
             }
            },
            "type": "histogram"
           }
          ],
          "histogram2d": [
           {
            "colorbar": {
             "outlinewidth": 0,
             "ticks": ""
            },
            "colorscale": [
             [
              0,
              "#0d0887"
             ],
             [
              0.1111111111111111,
              "#46039f"
             ],
             [
              0.2222222222222222,
              "#7201a8"
             ],
             [
              0.3333333333333333,
              "#9c179e"
             ],
             [
              0.4444444444444444,
              "#bd3786"
             ],
             [
              0.5555555555555556,
              "#d8576b"
             ],
             [
              0.6666666666666666,
              "#ed7953"
             ],
             [
              0.7777777777777778,
              "#fb9f3a"
             ],
             [
              0.8888888888888888,
              "#fdca26"
             ],
             [
              1,
              "#f0f921"
             ]
            ],
            "type": "histogram2d"
           }
          ],
          "histogram2dcontour": [
           {
            "colorbar": {
             "outlinewidth": 0,
             "ticks": ""
            },
            "colorscale": [
             [
              0,
              "#0d0887"
             ],
             [
              0.1111111111111111,
              "#46039f"
             ],
             [
              0.2222222222222222,
              "#7201a8"
             ],
             [
              0.3333333333333333,
              "#9c179e"
             ],
             [
              0.4444444444444444,
              "#bd3786"
             ],
             [
              0.5555555555555556,
              "#d8576b"
             ],
             [
              0.6666666666666666,
              "#ed7953"
             ],
             [
              0.7777777777777778,
              "#fb9f3a"
             ],
             [
              0.8888888888888888,
              "#fdca26"
             ],
             [
              1,
              "#f0f921"
             ]
            ],
            "type": "histogram2dcontour"
           }
          ],
          "mesh3d": [
           {
            "colorbar": {
             "outlinewidth": 0,
             "ticks": ""
            },
            "type": "mesh3d"
           }
          ],
          "parcoords": [
           {
            "line": {
             "colorbar": {
              "outlinewidth": 0,
              "ticks": ""
             }
            },
            "type": "parcoords"
           }
          ],
          "pie": [
           {
            "automargin": true,
            "type": "pie"
           }
          ],
          "scatter": [
           {
            "fillpattern": {
             "fillmode": "overlay",
             "size": 10,
             "solidity": 0.2
            },
            "type": "scatter"
           }
          ],
          "scatter3d": [
           {
            "line": {
             "colorbar": {
              "outlinewidth": 0,
              "ticks": ""
             }
            },
            "marker": {
             "colorbar": {
              "outlinewidth": 0,
              "ticks": ""
             }
            },
            "type": "scatter3d"
           }
          ],
          "scattercarpet": [
           {
            "marker": {
             "colorbar": {
              "outlinewidth": 0,
              "ticks": ""
             }
            },
            "type": "scattercarpet"
           }
          ],
          "scattergeo": [
           {
            "marker": {
             "colorbar": {
              "outlinewidth": 0,
              "ticks": ""
             }
            },
            "type": "scattergeo"
           }
          ],
          "scattergl": [
           {
            "marker": {
             "colorbar": {
              "outlinewidth": 0,
              "ticks": ""
             }
            },
            "type": "scattergl"
           }
          ],
          "scattermapbox": [
           {
            "marker": {
             "colorbar": {
              "outlinewidth": 0,
              "ticks": ""
             }
            },
            "type": "scattermapbox"
           }
          ],
          "scatterpolar": [
           {
            "marker": {
             "colorbar": {
              "outlinewidth": 0,
              "ticks": ""
             }
            },
            "type": "scatterpolar"
           }
          ],
          "scatterpolargl": [
           {
            "marker": {
             "colorbar": {
              "outlinewidth": 0,
              "ticks": ""
             }
            },
            "type": "scatterpolargl"
           }
          ],
          "scatterternary": [
           {
            "marker": {
             "colorbar": {
              "outlinewidth": 0,
              "ticks": ""
             }
            },
            "type": "scatterternary"
           }
          ],
          "surface": [
           {
            "colorbar": {
             "outlinewidth": 0,
             "ticks": ""
            },
            "colorscale": [
             [
              0,
              "#0d0887"
             ],
             [
              0.1111111111111111,
              "#46039f"
             ],
             [
              0.2222222222222222,
              "#7201a8"
             ],
             [
              0.3333333333333333,
              "#9c179e"
             ],
             [
              0.4444444444444444,
              "#bd3786"
             ],
             [
              0.5555555555555556,
              "#d8576b"
             ],
             [
              0.6666666666666666,
              "#ed7953"
             ],
             [
              0.7777777777777778,
              "#fb9f3a"
             ],
             [
              0.8888888888888888,
              "#fdca26"
             ],
             [
              1,
              "#f0f921"
             ]
            ],
            "type": "surface"
           }
          ],
          "table": [
           {
            "cells": {
             "fill": {
              "color": "#EBF0F8"
             },
             "line": {
              "color": "white"
             }
            },
            "header": {
             "fill": {
              "color": "#C8D4E3"
             },
             "line": {
              "color": "white"
             }
            },
            "type": "table"
           }
          ]
         },
         "layout": {
          "annotationdefaults": {
           "arrowcolor": "#2a3f5f",
           "arrowhead": 0,
           "arrowwidth": 1
          },
          "autotypenumbers": "strict",
          "coloraxis": {
           "colorbar": {
            "outlinewidth": 0,
            "ticks": ""
           }
          },
          "colorscale": {
           "diverging": [
            [
             0,
             "#8e0152"
            ],
            [
             0.1,
             "#c51b7d"
            ],
            [
             0.2,
             "#de77ae"
            ],
            [
             0.3,
             "#f1b6da"
            ],
            [
             0.4,
             "#fde0ef"
            ],
            [
             0.5,
             "#f7f7f7"
            ],
            [
             0.6,
             "#e6f5d0"
            ],
            [
             0.7,
             "#b8e186"
            ],
            [
             0.8,
             "#7fbc41"
            ],
            [
             0.9,
             "#4d9221"
            ],
            [
             1,
             "#276419"
            ]
           ],
           "sequential": [
            [
             0,
             "#0d0887"
            ],
            [
             0.1111111111111111,
             "#46039f"
            ],
            [
             0.2222222222222222,
             "#7201a8"
            ],
            [
             0.3333333333333333,
             "#9c179e"
            ],
            [
             0.4444444444444444,
             "#bd3786"
            ],
            [
             0.5555555555555556,
             "#d8576b"
            ],
            [
             0.6666666666666666,
             "#ed7953"
            ],
            [
             0.7777777777777778,
             "#fb9f3a"
            ],
            [
             0.8888888888888888,
             "#fdca26"
            ],
            [
             1,
             "#f0f921"
            ]
           ],
           "sequentialminus": [
            [
             0,
             "#0d0887"
            ],
            [
             0.1111111111111111,
             "#46039f"
            ],
            [
             0.2222222222222222,
             "#7201a8"
            ],
            [
             0.3333333333333333,
             "#9c179e"
            ],
            [
             0.4444444444444444,
             "#bd3786"
            ],
            [
             0.5555555555555556,
             "#d8576b"
            ],
            [
             0.6666666666666666,
             "#ed7953"
            ],
            [
             0.7777777777777778,
             "#fb9f3a"
            ],
            [
             0.8888888888888888,
             "#fdca26"
            ],
            [
             1,
             "#f0f921"
            ]
           ]
          },
          "colorway": [
           "#636efa",
           "#EF553B",
           "#00cc96",
           "#ab63fa",
           "#FFA15A",
           "#19d3f3",
           "#FF6692",
           "#B6E880",
           "#FF97FF",
           "#FECB52"
          ],
          "font": {
           "color": "#2a3f5f"
          },
          "geo": {
           "bgcolor": "white",
           "lakecolor": "white",
           "landcolor": "white",
           "showlakes": true,
           "showland": true,
           "subunitcolor": "#C8D4E3"
          },
          "hoverlabel": {
           "align": "left"
          },
          "hovermode": "closest",
          "mapbox": {
           "style": "light"
          },
          "paper_bgcolor": "white",
          "plot_bgcolor": "white",
          "polar": {
           "angularaxis": {
            "gridcolor": "#EBF0F8",
            "linecolor": "#EBF0F8",
            "ticks": ""
           },
           "bgcolor": "white",
           "radialaxis": {
            "gridcolor": "#EBF0F8",
            "linecolor": "#EBF0F8",
            "ticks": ""
           }
          },
          "scene": {
           "xaxis": {
            "backgroundcolor": "white",
            "gridcolor": "#DFE8F3",
            "gridwidth": 2,
            "linecolor": "#EBF0F8",
            "showbackground": true,
            "ticks": "",
            "zerolinecolor": "#EBF0F8"
           },
           "yaxis": {
            "backgroundcolor": "white",
            "gridcolor": "#DFE8F3",
            "gridwidth": 2,
            "linecolor": "#EBF0F8",
            "showbackground": true,
            "ticks": "",
            "zerolinecolor": "#EBF0F8"
           },
           "zaxis": {
            "backgroundcolor": "white",
            "gridcolor": "#DFE8F3",
            "gridwidth": 2,
            "linecolor": "#EBF0F8",
            "showbackground": true,
            "ticks": "",
            "zerolinecolor": "#EBF0F8"
           }
          },
          "shapedefaults": {
           "line": {
            "color": "#2a3f5f"
           }
          },
          "ternary": {
           "aaxis": {
            "gridcolor": "#DFE8F3",
            "linecolor": "#A2B1C6",
            "ticks": ""
           },
           "baxis": {
            "gridcolor": "#DFE8F3",
            "linecolor": "#A2B1C6",
            "ticks": ""
           },
           "bgcolor": "white",
           "caxis": {
            "gridcolor": "#DFE8F3",
            "linecolor": "#A2B1C6",
            "ticks": ""
           }
          },
          "title": {
           "x": 0.05
          },
          "xaxis": {
           "automargin": true,
           "gridcolor": "#EBF0F8",
           "linecolor": "#EBF0F8",
           "ticks": "",
           "title": {
            "standoff": 15
           },
           "zerolinecolor": "#EBF0F8",
           "zerolinewidth": 2
          },
          "yaxis": {
           "automargin": true,
           "gridcolor": "#EBF0F8",
           "linecolor": "#EBF0F8",
           "ticks": "",
           "title": {
            "standoff": 15
           },
           "zerolinecolor": "#EBF0F8",
           "zerolinewidth": 2
          }
         }
        },
        "title": {
         "text": "Distribution of Age by Passenger Class and Survival Status"
        },
        "xaxis": {
         "anchor": "y",
         "domain": [
          0,
          1
         ],
         "title": {
          "text": "Passenger Class"
         }
        },
        "yaxis": {
         "anchor": "x",
         "domain": [
          0,
          1
         ],
         "title": {
          "text": "Age"
         }
        }
       }
      }
     },
     "metadata": {},
     "output_type": "display_data"
    }
   ],
   "source": [
    "fig = px.box(df, x='Pclass', y='Age', color='Survived', \n",
    "             labels={'Pclass': 'Passenger Class', 'Age': 'Age', 'Survived': 'Survival Status'},\n",
    "             title='Distribution of Age by Passenger Class and Survival Status',\n",
    "             template='plotly_white')\n",
    "fig.update_traces(marker=dict(size=3))\n",
    "fig.show()"
   ]
  }
 ],
 "metadata": {
  "kernelspec": {
   "display_name": "Python 3",
   "language": "python",
   "name": "python3"
  },
  "language_info": {
   "codemirror_mode": {
    "name": "ipython",
    "version": 3
   },
   "file_extension": ".py",
   "mimetype": "text/x-python",
   "name": "python",
   "nbconvert_exporter": "python",
   "pygments_lexer": "ipython3",
   "version": "3.11.5"
  }
 },
 "nbformat": 4,
 "nbformat_minor": 5
}
