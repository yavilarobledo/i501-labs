{
 "cells": [
  {
   "cell_type": "markdown",
   "id": "140aed38-267b-476f-b94d-28e1f30b4b34",
   "metadata": {
    "tags": []
   },
   "source": [
    "# More Python Basics\n",
    "\n",
    "*This section uses content from the [Python section](https://melaniewalsh.github.io/Intro-Cultural-Analytics/02-Python/00-Python.html#) of Melanie Walsh's Introduction to Cultural Analytics & Python.*"
   ]
  },
  {
   "cell_type": "markdown",
   "id": "b1077289-ca85-4afa-a1e5-2fffb31f012d",
   "metadata": {},
   "source": [
    "The purpose of this notebook is to give you a stronger, more complete foundation for \"vanilla\" (built-in) Python by discussing loops, as well as to introduce the NumPy library. **The goal of this lab is to give you the tools you need to start building robust functions which can make useful calculations on large datasets.**\n",
    "\n",
    "To that end, we'll cover the following:\n",
    "\n",
    "1. More Python Basics\n",
    "    - Loops\n",
    "    - Generator Iterators\n",
    "2. NumPy\n",
    "    - NumPy Arrays\n",
    "    - Array Operations"
   ]
  },
  {
   "cell_type": "markdown",
   "id": "e144369f-be85-4f8b-a4ce-74ff24f21126",
   "metadata": {
    "tags": []
   },
   "source": [
    "## Loops\n",
    "\n",
    "Python provides two different types of loop: the `for` loop, and the `while` loop. The `for` loop iterates a block of code through the elements of some iterable (i.e., list-like) object, whereas the `while` loop executes a block of code as long as some condition is met. In other words, `for` loops are best suited for *finite* (definite) iteration, and `while` loops are best suited for *potentially infinite* (indefinite) iteration. For our purposes, **every loop should be finite**, so practically, any `while` loop can (and often should) be converted into a `for` loop.\n",
    "\n",
    "We will introduce both here, but since `while` loops can sometimes result in infinite loops, often causing the computer to freeze up, our focus in this class will be on `for` loops."
   ]
  },
  {
   "cell_type": "markdown",
   "id": "12ee229a-030f-4e2f-9fcf-1d35fbbd7306",
   "metadata": {},
   "source": [
    "### `while` loops\n",
    "\n",
    "First, we'll take  a look at the `while` loop."
   ]
  },
  {
   "cell_type": "code",
   "execution_count": 81,
   "id": "35503d2d-e70f-4f5c-9bff-9a47d1981e5b",
   "metadata": {
    "tags": []
   },
   "outputs": [
    {
     "data": {
      "text/plain": [
       "[1, 'two', 3, 4, 5, 6, 7, 8, 9, 10]"
      ]
     },
     "execution_count": 81,
     "metadata": {},
     "output_type": "execute_result"
    }
   ],
   "source": [
    "numbers = [1, \"two\", 3]\n",
    "\n",
    "# start with `while`, the condition to be met, and then the block of code\n",
    "while len(numbers) < 10:\n",
    "    new_number = numbers[-1] + 1\n",
    "    numbers.append(new_number)\n",
    "\n",
    "numbers"
   ]
  },
  {
   "cell_type": "markdown",
   "id": "5172801a-1392-4378-b179-162035c9c275",
   "metadata": {},
   "source": [
    "**<span style='color:red;'>CAUTION:</span>** Do your best to **avoid using `while` loops at all**; try to convert them into a `for` loop (below) if possible.\n",
    "\n",
    "`while` loops should only be *considered* for the following cases:\n",
    "* infinite looping, where there might not ever be an end (mostly in software engineering)\n",
    "* situations where the object being iterated through changes with each loop.\n",
    "\n",
    "The latter of these is more common, but even then a `for` loop may still do the job."
   ]
  },
  {
   "cell_type": "markdown",
   "id": "6ff2902a-7cda-4f7c-9f71-3e4bf7a9cd19",
   "metadata": {},
   "source": [
    "### `for` loops\n",
    "\n",
    "Again, a `for` loop will execute a block of code for each item in a list-like object. On the first line, we type the English word `for`, a new variable name for each item in the list, the English word `in`, the name of the list-like object, and then a colon `:`. All instructions for a `for` loop must be indented."
   ]
  },
  {
   "cell_type": "code",
   "execution_count": 82,
   "id": "ad44095e-c9b5-4549-a863-526261e418db",
   "metadata": {
    "tags": []
   },
   "outputs": [
    {
     "name": "stdout",
     "output_type": "stream",
     "text": [
      "1 is an odd number.\n",
      "3 is an odd number.\n",
      "5 is an odd number.\n"
     ]
    }
   ],
   "source": [
    "# suppose we want to print the odd numbers in `numbers` that are 5 or less\n",
    "for number in numbers:\n",
    "    # we can \"skip\" values using continue\n",
    "    if number == \"two\":\n",
    "        continue\n",
    "    \n",
    "    # remember what the `%` symbol does\n",
    "    elif number % 2 == 1:\n",
    "        print(f\"{number} is an odd number.\")\n",
    "    \n",
    "    # `break` completely stops the looping process\n",
    "    elif number > 5:\n",
    "        break"
   ]
  },
  {
   "cell_type": "markdown",
   "id": "3433442b-8a87-4209-92da-52cfbc3a74f0",
   "metadata": {},
   "source": [
    "* In the same way that variables (in general) should be descriptively named, the iterating variable of for-loops (between `for` and `in`) should be descriptive of what is held behind it.\n",
    "* As it is usually difficult to determine what is going on, print statements help to \"debug\" the contents of variables as you go. **Use looped print statements sparingly!**"
   ]
  },
  {
   "cell_type": "markdown",
   "id": "9e34004d-9c5d-454b-843e-9b9602c47ac1",
   "metadata": {
    "tags": []
   },
   "source": [
    "## Generator Iterators\n",
    "\n",
    "In Python, an **iterable** is an object *containing* one or more data elements that a `for` loop can iterate over. For example, lists, tuples, dictionaries, and sets are all iterable objects. They provide multiple elements of data that you can iterate over.\n",
    "\n",
    "However, consider two alternate scenarios:\n",
    "\n",
    "1. We do not know all the elements to be iterated over, but we know how they are generated.\n",
    "2. We know the elements to be iterated over, but we do not want them taking up memory until it is their \"turn\".\n",
    "\n",
    "In either of these cases, we can use the Python [generator](https://realpython.com/introduction-to-python-generators/) iterator to 'stream' elements to iterate over.\n",
    "\n",
    "Three common built-in Python generators are `range()`, `enumerate()`, and `zip()`."
   ]
  },
  {
   "cell_type": "markdown",
   "id": "eb43d924-6b80-43f6-b706-d7e227943771",
   "metadata": {},
   "source": [
    "### `range`\n",
    "\n",
    "`range()` generates numbers in a sequence, from `(start, stop, step)`."
   ]
  },
  {
   "cell_type": "code",
   "execution_count": 83,
   "id": "d5f4e0d8-d49c-40cf-861c-68577dbe4c81",
   "metadata": {
    "tags": []
   },
   "outputs": [
    {
     "data": {
      "text/plain": [
       "range(0, 10)"
      ]
     },
     "execution_count": 83,
     "metadata": {},
     "output_type": "execute_result"
    }
   ],
   "source": [
    "# on it's own, an iterator is just a function\n",
    "range(10)"
   ]
  },
  {
   "cell_type": "code",
   "execution_count": 84,
   "id": "5017e68c-5343-4fda-89db-4abfb1938e9d",
   "metadata": {
    "tags": []
   },
   "outputs": [
    {
     "name": "stdout",
     "output_type": "stream",
     "text": [
      "0\n",
      "1\n",
      "2\n"
     ]
    }
   ],
   "source": [
    "# by default, the first value will be 0, and step is 1\n",
    "for i in range(3):\n",
    "    print(i)"
   ]
  },
  {
   "cell_type": "code",
   "execution_count": 85,
   "id": "e28acab7-cb37-428a-9e58-219548fbcc6a",
   "metadata": {},
   "outputs": [
    {
     "name": "stdout",
     "output_type": "stream",
     "text": [
      "2\n",
      "5\n",
      "8\n",
      "11\n",
      "14\n",
      "17\n"
     ]
    }
   ],
   "source": [
    "# we can iterate from 2 to 20, by step size 3\n",
    "for i in range(2, 20, 3):\n",
    "    print(i)"
   ]
  },
  {
   "cell_type": "code",
   "execution_count": 86,
   "id": "6aac1f2d-4a91-4768-9e6c-d71669aabcce",
   "metadata": {},
   "outputs": [
    {
     "name": "stdout",
     "output_type": "stream",
     "text": [
      "5\n",
      "4\n",
      "3\n",
      "2\n"
     ]
    }
   ],
   "source": [
    "# we can even go backwards\n",
    "for i in range(5, 1, -1):\n",
    "    print(i)"
   ]
  },
  {
   "cell_type": "markdown",
   "id": "e0324cc4-5c80-4478-872c-7697da3f289b",
   "metadata": {},
   "source": [
    "### `enumerate`\n",
    "\n",
    "If we are working with a defined iterable (like a list), but we also want to log the index of each element as we iterate over it, we can use `enumerate`."
   ]
  },
  {
   "cell_type": "code",
   "execution_count": 87,
   "id": "eb36ffad-848e-43f2-8dc3-00c0a9f2e5ae",
   "metadata": {
    "tags": []
   },
   "outputs": [
    {
     "name": "stdout",
     "output_type": "stream",
     "text": [
      "index: 0 ... element: astrid\n",
      "index: 1 ... element: jamaal\n",
      "index: 2 ... element: timo\n",
      "index: 3 ... element: hyewon\n"
     ]
    }
   ],
   "source": [
    "names = ['astrid', 'jamaal', 'timo', 'hyewon']\n",
    "\n",
    "# notice the order of `i` and `element` here\n",
    "for i, element in enumerate(names):\n",
    "    print(f\"index: {i} ... element: {element}\")"
   ]
  },
  {
   "cell_type": "markdown",
   "id": "ff114c05-957d-48f0-b45d-803bb82bd5e0",
   "metadata": {},
   "source": [
    "### `zip`\n",
    "\n",
    "Suppose we have two different iterables that we would like to combine into a list of tuples (or a dictionary)."
   ]
  },
  {
   "cell_type": "code",
   "execution_count": 88,
   "id": "9f1efdde-c925-4f63-9af5-db48c080f233",
   "metadata": {
    "tags": []
   },
   "outputs": [],
   "source": [
    "keys = [\"a\", \"b\", \"c\"]\n",
    "values = [1, 2, 3]\n",
    "\n",
    "kv_dict = {}\n",
    "kv_list = []\n",
    "\n",
    "for k, v in zip(keys, values):\n",
    "    kv_dict[k] = v\n",
    "    kv_list.append((k, v))"
   ]
  },
  {
   "cell_type": "code",
   "execution_count": 89,
   "id": "2d659811-a1db-4f82-8040-bfe9e3dc6501",
   "metadata": {
    "tags": []
   },
   "outputs": [
    {
     "data": {
      "text/plain": [
       "{'a': 1, 'b': 2, 'c': 3}"
      ]
     },
     "execution_count": 89,
     "metadata": {},
     "output_type": "execute_result"
    }
   ],
   "source": [
    "kv_dict"
   ]
  },
  {
   "cell_type": "code",
   "execution_count": 90,
   "id": "72ed4668-d895-461c-b02e-9d4818a35134",
   "metadata": {
    "tags": []
   },
   "outputs": [
    {
     "data": {
      "text/plain": [
       "[('a', 1), ('b', 2), ('c', 3)]"
      ]
     },
     "execution_count": 90,
     "metadata": {},
     "output_type": "execute_result"
    }
   ],
   "source": [
    "kv_list"
   ]
  },
  {
   "cell_type": "code",
   "execution_count": 91,
   "id": "06c27b9e-72b2-43b4-b954-8b328bed2a26",
   "metadata": {
    "tags": []
   },
   "outputs": [
    {
     "data": {
      "text/plain": [
       "{'a': 1, 'b': 2, 'c': 3}"
      ]
     },
     "execution_count": 91,
     "metadata": {},
     "output_type": "execute_result"
    }
   ],
   "source": [
    "# alternatively, we could use list/dictionary comprehensions\n",
    "{k:v for k, v in zip(keys, values)}"
   ]
  },
  {
   "cell_type": "markdown",
   "id": "7f4be97e-6dee-448b-b713-3a3f1c082d3b",
   "metadata": {},
   "source": [
    "### EXERCISE\n",
    "\n",
    "The Fibonacci Series starts with 0 and 1. Each of the following numbers are the sum of the previous two numbers in the series. So, the first element is 0, the next element is 1, the next is 1, and the next is 2, and so on.\n",
    "\n",
    "Write a function which *prints* the following, given a number `n`:\n",
    "\n",
    "    Fibonacci 1 = 0\n",
    "    Fibonacci 2 = 1\n",
    "    Fibonacci 3 = 1\n",
    "    ...\n",
    "    Fibonacci n = ?"
   ]
  },
  {
   "cell_type": "code",
   "execution_count": null,
   "id": "486838b1-5504-4b1a-8ccf-73e89733c391",
   "metadata": {},
   "outputs": [],
   "source": []
  },
  {
   "cell_type": "code",
   "execution_count": 92,
   "id": "6fade057-8720-4af8-bb60-c83db7333dcb",
   "metadata": {},
   "outputs": [],
   "source": [
    "# your code here"
   ]
  },
  {
   "cell_type": "markdown",
   "id": "4d0a1dfa-0e28-4911-b358-52d76edc2a55",
   "metadata": {},
   "source": [
    "# Intro to NumPy\n",
    "\n",
    "*This is a summarized version of [NumPy's absolute beginners tutorial](https://numpy.org/doc/stable/user/absolute_beginners.html). Each sub-section title here links to its corresponding section in the tutorial.*\n",
    "\n",
    "[NumPy](https://numpy.org/doc/stable/user/absolute_beginners.html) (Numerical Python) is an enormous open source Python library that is *easily* the universal standard for working with numerical data in Python. Its users include everyone from beginning coders to experienced researchers doing state-of-the-art scientific and industrial research and development. NumPy improves on numerical programming in Python by introducing optimized low-level programming, and a library of high-level mathematical functions that operate on arrays and matrices.\n",
    "\n",
    "You should be able to install NumPy into your conda environment for this course using `conda install numpy`."
   ]
  },
  {
   "cell_type": "code",
   "execution_count": 93,
   "id": "7b1e1a46-e859-4098-a5cc-3899513b19b3",
   "metadata": {
    "tags": []
   },
   "outputs": [],
   "source": [
    "import numpy as np"
   ]
  },
  {
   "cell_type": "markdown",
   "id": "6b9cc421-397e-4877-a10a-5b93002a8031",
   "metadata": {
    "tags": []
   },
   "source": [
    "## [NumPy Arrays](https://numpy.org/doc/stable/user/absolute_beginners.html#what-is-an-array)\n",
    "\n",
    "The NumPy n-dimensional array (`ndarray`) is the central data structure of the NumPy library. We can think of it roughly as a vector (with 1-dimension) or a matrix (with 2-dimensions), but it might be better to think of it as a \"[tensor](https://www.kdnuggets.com/2018/05/wtf-tensor.html)\" (with 3 or more, n-dimensions). NumPy arrays are homogeneous, i.e., the data type is consistent across all elements (this allows for optimized calculations). The `shape` of the array is a tuple of integers giving the size of the array along each dimension.\n",
    "\n",
    "Note: NumPy is *vast* and has capabilities reaching far beyond what is included in this notebook. Again, **this is just an introduction to NumPy.**"
   ]
  },
  {
   "cell_type": "code",
   "execution_count": 94,
   "id": "cdaaa1c3-2ecc-4905-8c47-5c86976c836d",
   "metadata": {
    "tags": []
   },
   "outputs": [],
   "source": [
    "a = np.array([[1, 2, 3], \n",
    "              [4, 5, 6]])"
   ]
  },
  {
   "cell_type": "code",
   "execution_count": 95,
   "id": "96bd4476-34eb-4006-89c1-689e8a83acbf",
   "metadata": {
    "tags": []
   },
   "outputs": [
    {
     "data": {
      "text/plain": [
       "2"
      ]
     },
     "execution_count": 95,
     "metadata": {},
     "output_type": "execute_result"
    }
   ],
   "source": [
    "# `.ndim` gives us the number of dimensions of our array\n",
    "a.ndim"
   ]
  },
  {
   "cell_type": "code",
   "execution_count": 96,
   "id": "7dddc4f8-26bd-4419-a8b3-11e98580bafc",
   "metadata": {
    "tags": []
   },
   "outputs": [
    {
     "data": {
      "text/plain": [
       "(2, 3)"
      ]
     },
     "execution_count": 96,
     "metadata": {},
     "output_type": "execute_result"
    }
   ],
   "source": [
    "# `shape` gives the length of each dimension\n",
    "a.shape"
   ]
  },
  {
   "cell_type": "code",
   "execution_count": 97,
   "id": "d9d585fb-ce78-47d6-bf3c-23724f51c227",
   "metadata": {
    "tags": []
   },
   "outputs": [
    {
     "data": {
      "text/plain": [
       "6"
      ]
     },
     "execution_count": 97,
     "metadata": {},
     "output_type": "execute_result"
    }
   ],
   "source": [
    "# `size` is the number of elements in the array\n",
    "a.size"
   ]
  },
  {
   "cell_type": "markdown",
   "id": "acb72fc8-b3e5-49cb-925f-60e61c3cbfb6",
   "metadata": {},
   "source": [
    "Each dimension is called an **axis**, working your way from \"inside\" to \"outside\". E.g., in `a`, the rows are `axis 0`, and the columns are `axis 1`."
   ]
  },
  {
   "cell_type": "markdown",
   "id": "f11a6ee5-89bc-4306-9f3c-b33db726fd56",
   "metadata": {},
   "source": [
    "### [Building Arrays](https://numpy.org/doc/stable/user/absolute_beginners.html#how-to-create-a-basic-array)\n",
    "\n",
    "There are many different ways to build arrays, but a few interesting ones are using the `arange` and `linspace` functions."
   ]
  },
  {
   "cell_type": "code",
   "execution_count": 98,
   "id": "a25dc3da-2c26-4bcd-9f71-edd74c75a324",
   "metadata": {
    "tags": []
   },
   "outputs": [
    {
     "data": {
      "text/plain": [
       "array([1, 3, 5, 7, 9])"
      ]
     },
     "execution_count": 98,
     "metadata": {},
     "output_type": "execute_result"
    }
   ],
   "source": [
    "# arange is similar the `range` we've seen above\n",
    "np.arange(1, 10, 2)"
   ]
  },
  {
   "cell_type": "code",
   "execution_count": 99,
   "id": "5535d9f5-a122-4222-a7d9-af064928856e",
   "metadata": {
    "tags": []
   },
   "outputs": [
    {
     "data": {
      "text/plain": [
       "array([0. , 0.5, 1. , 1.5, 2. , 2.5, 3. , 3.5, 4. , 4.5, 5. ])"
      ]
     },
     "execution_count": 99,
     "metadata": {},
     "output_type": "execute_result"
    }
   ],
   "source": [
    "# linspace creates evenly spaced elements in an array\n",
    "np.linspace(0, 5, num=11)"
   ]
  },
  {
   "cell_type": "code",
   "execution_count": 100,
   "id": "603ac404-9dc6-4deb-a03c-8d9b60577232",
   "metadata": {
    "tags": []
   },
   "outputs": [
    {
     "data": {
      "text/plain": [
       "array([[1],\n",
       "       [3],\n",
       "       [5],\n",
       "       [7],\n",
       "       [9]])"
      ]
     },
     "execution_count": 100,
     "metadata": {},
     "output_type": "execute_result"
    }
   ],
   "source": [
    "# convert a 1-d array to a 2-d array by adding an axis\n",
    "np.arange(1, 10, 2)[:, np.newaxis]"
   ]
  },
  {
   "cell_type": "code",
   "execution_count": 101,
   "id": "1bbe4939-5ec6-40ec-a3a7-6805edaf2c19",
   "metadata": {
    "tags": []
   },
   "outputs": [
    {
     "data": {
      "text/plain": [
       "array([[ 3,  4],\n",
       "       [ 5,  8],\n",
       "       [ 7, 12],\n",
       "       [ 9, 16]])"
      ]
     },
     "execution_count": 101,
     "metadata": {},
     "output_type": "execute_result"
    }
   ],
   "source": [
    "# using `reshape` in this way is another way to add an axis\n",
    "a = np.arange(3, 10, 2).reshape(-1, 1)\n",
    "b = np.arange(4, 20, 4).reshape(-1, 1)\n",
    "\n",
    "# concatenate is one way to merge arrays together\n",
    "c = np.concatenate((a, b), axis=1)\n",
    "c"
   ]
  },
  {
   "cell_type": "code",
   "execution_count": 102,
   "id": "691b0295-7d37-4e07-8b69-f150152de514",
   "metadata": {
    "tags": []
   },
   "outputs": [
    {
     "data": {
      "text/plain": [
       "array([[ 3,  4,  5,  8],\n",
       "       [ 7, 12,  9, 16]])"
      ]
     },
     "execution_count": 102,
     "metadata": {},
     "output_type": "execute_result"
    }
   ],
   "source": [
    "# another example of reshaping\n",
    "c.reshape(2, 4)"
   ]
  },
  {
   "cell_type": "code",
   "execution_count": 103,
   "id": "895f952a-cb99-4e7c-b8be-6a57187560d8",
   "metadata": {
    "tags": []
   },
   "outputs": [
    {
     "data": {
      "text/plain": [
       "array([[ 3,  4,  5,  8],\n",
       "       [ 7, 12,  9, 16]])"
      ]
     },
     "execution_count": 103,
     "metadata": {},
     "output_type": "execute_result"
    }
   ],
   "source": [
    "# we can \"vertically\" stack using vstack\n",
    "a = np.array([3,  4,  5,  8])\n",
    "b = np.array([7, 12,  9, 16])\n",
    "\n",
    "np.vstack((a, b))"
   ]
  },
  {
   "cell_type": "code",
   "execution_count": 104,
   "id": "b973d61a-ce7b-46d8-9494-625f601d9c11",
   "metadata": {
    "tags": []
   },
   "outputs": [
    {
     "data": {
      "text/plain": [
       "array([[ 3,  7],\n",
       "       [ 4, 12],\n",
       "       [ 5,  9],\n",
       "       [ 8, 16]])"
      ]
     },
     "execution_count": 104,
     "metadata": {},
     "output_type": "execute_result"
    }
   ],
   "source": [
    "# or we could \"horizontally\" stack using hstack\n",
    "a = np.array([3,  4,  5,  8])[:, np.newaxis]\n",
    "b = np.array([7, 12,  9, 16])[:, np.newaxis]\n",
    "\n",
    "np.hstack((a, b))"
   ]
  },
  {
   "cell_type": "markdown",
   "id": "6d428645-5ca1-45ba-a813-79c2c491e972",
   "metadata": {},
   "source": [
    "You can also [flatten](https://numpy.org/doc/stable/user/absolute_beginners.html#reshaping-and-flattening-multidimensional-arrays) arrays, which is a slightly different take on \"reshaping\". Here, we reduce the values of a multi-dimensional array into a flat, 1-D array."
   ]
  },
  {
   "cell_type": "code",
   "execution_count": 105,
   "id": "9515cc0d-fd46-4149-9d6c-bfd449abaf28",
   "metadata": {
    "tags": []
   },
   "outputs": [
    {
     "data": {
      "text/plain": [
       "array([ 1,  2,  3,  4,  5,  6,  7,  8,  9, 10, 11, 12])"
      ]
     },
     "execution_count": 105,
     "metadata": {},
     "output_type": "execute_result"
    }
   ],
   "source": [
    "x = np.array([[1,  2,  3,  4],\n",
    "              [5,  6,  7,  8],\n",
    "              [9, 10, 11, 12]])\n",
    "\n",
    "x.flatten()"
   ]
  },
  {
   "cell_type": "markdown",
   "id": "f702267f-df68-449e-aff2-a0825f03754a",
   "metadata": {},
   "source": [
    "### [Indexing and Slicing](https://numpy.org/doc/stable/user/absolute_beginners.html#indexing-and-slicing)\n",
    "\n",
    "There are several ways to extract \"slices\" of an array. The most basic mirrors how we'd slice a list (i.e., using `start:stop:step` syntax)."
   ]
  },
  {
   "cell_type": "code",
   "execution_count": 106,
   "id": "0a3bc6fe-7c07-4b20-86cf-f57ea81254ec",
   "metadata": {
    "tags": []
   },
   "outputs": [
    {
     "data": {
      "text/plain": [
       "array([3, 5, 7, 9])"
      ]
     },
     "execution_count": 106,
     "metadata": {},
     "output_type": "execute_result"
    }
   ],
   "source": [
    "a = np.array([1, 2, 3, 4, 5, 6, 7, 8, 9, 10])\n",
    "a[2:9:2]"
   ]
  },
  {
   "cell_type": "markdown",
   "id": "10a04ddb-3a71-4147-9674-322b3cc01bdc",
   "metadata": {},
   "source": [
    "We can also use boolean (True/False) filtering based on logical conditions. In NumPy, the **and** operator is `&`, and the **or** operator is `|`."
   ]
  },
  {
   "cell_type": "code",
   "execution_count": 107,
   "id": "9b02f545-43a7-4836-affd-22f17883f236",
   "metadata": {
    "tags": []
   },
   "outputs": [
    {
     "data": {
      "text/plain": [
       "array([[ True, False, False, False],\n",
       "       [False,  True,  True,  True],\n",
       "       [ True,  True,  True,  True]])"
      ]
     },
     "execution_count": 107,
     "metadata": {},
     "output_type": "execute_result"
    }
   ],
   "source": [
    "a = np.array([[1 , 2,  3,  4], \n",
    "              [5,  6,  7,  8], \n",
    "              [9, 10, 11, 12]])\n",
    "\n",
    "mask = (a == 1) | (a > 5)\n",
    "mask"
   ]
  },
  {
   "cell_type": "code",
   "execution_count": 108,
   "id": "dd96175f-526c-4347-ac7f-ea85c8d879d1",
   "metadata": {
    "tags": []
   },
   "outputs": [
    {
     "data": {
      "text/plain": [
       "array([ 1,  6,  7,  8,  9, 10, 11, 12])"
      ]
     },
     "execution_count": 108,
     "metadata": {},
     "output_type": "execute_result"
    }
   ],
   "source": [
    "a[mask]"
   ]
  },
  {
   "cell_type": "markdown",
   "id": "337ec9e9-3556-408e-b279-3d12be81bc24",
   "metadata": {},
   "source": [
    "Here, `np.where` returns values based on a condition, and we can use the `np.nan` (Not A Number, or \"Null\") value to represent missing values."
   ]
  },
  {
   "cell_type": "code",
   "execution_count": 109,
   "id": "f6f7da9f-6593-43f5-983a-874c682e62ea",
   "metadata": {
    "tags": []
   },
   "outputs": [
    {
     "data": {
      "text/plain": [
       "array([[ 1., nan, nan, nan],\n",
       "       [nan,  6.,  7.,  8.],\n",
       "       [ 9., 10., 11., 12.]])"
      ]
     },
     "execution_count": 109,
     "metadata": {},
     "output_type": "execute_result"
    }
   ],
   "source": [
    "np.where(mask, a, np.nan)"
   ]
  },
  {
   "cell_type": "markdown",
   "id": "13ea3bbb-29bd-4d98-aa9f-806aa21d4aa2",
   "metadata": {},
   "source": [
    "We can also use the `[:]` notation to extract different kinds of slices."
   ]
  },
  {
   "cell_type": "code",
   "execution_count": 110,
   "id": "2995f327-13aa-4778-bcfe-dbca6ea92134",
   "metadata": {
    "tags": []
   },
   "outputs": [
    {
     "data": {
      "text/plain": [
       "array([1, 2, 3, 4])"
      ]
     },
     "execution_count": 110,
     "metadata": {},
     "output_type": "execute_result"
    }
   ],
   "source": [
    "# first \"vector\" (i.e., the first row)\n",
    "a[0]"
   ]
  },
  {
   "cell_type": "code",
   "execution_count": 111,
   "id": "20232e36-152b-4fa0-8e16-d45ff6a488e3",
   "metadata": {
    "tags": []
   },
   "outputs": [
    {
     "data": {
      "text/plain": [
       "array([ 2,  6, 10])"
      ]
     },
     "execution_count": 111,
     "metadata": {},
     "output_type": "execute_result"
    }
   ],
   "source": [
    "# the second value for each vector, think of `:` as all appropriate values\n",
    "a[:, 1]"
   ]
  },
  {
   "cell_type": "code",
   "execution_count": 112,
   "id": "9ed003ac-75f4-476d-88bb-3726ca46e274",
   "metadata": {
    "tags": []
   },
   "outputs": [
    {
     "data": {
      "text/plain": [
       "array([[ 2],\n",
       "       [ 6],\n",
       "       [10]])"
      ]
     },
     "execution_count": 112,
     "metadata": {},
     "output_type": "execute_result"
    }
   ],
   "source": [
    "# using [:] notation to get vertical column\n",
    "a[:, 1:2]"
   ]
  },
  {
   "cell_type": "markdown",
   "id": "903ffc82-a3d9-4514-be67-ecca13acfd72",
   "metadata": {},
   "source": [
    "<span style='color:red;'>**Important Note on Slicing:**</span> Slices of arrays are *references* to the original array. **If you need to extract a permanently \"independent\" slice of an array, you need to `copy` it.**"
   ]
  },
  {
   "cell_type": "code",
   "execution_count": 113,
   "id": "7fa0e3f3-5302-40c1-804c-136bd0dd684b",
   "metadata": {
    "tags": []
   },
   "outputs": [
    {
     "data": {
      "text/plain": [
       "array([[1, 2],\n",
       "       [5, 6]])"
      ]
     },
     "execution_count": 113,
     "metadata": {},
     "output_type": "execute_result"
    }
   ],
   "source": [
    "a = np.array([[1 , 2,  3,  4], \n",
    "              [5,  6,  7,  8]])\n",
    "\n",
    "# a copy to check later\n",
    "a_copy = a.copy()\n",
    "\n",
    "# here, we \"extract\" (refer to) a slice of `a`\n",
    "a_slice = a[:, :2]\n",
    "a_slice"
   ]
  },
  {
   "cell_type": "code",
   "execution_count": 114,
   "id": "3de4f42f-b877-4cf6-9f83-32d85e9a54de",
   "metadata": {
    "tags": []
   },
   "outputs": [
    {
     "data": {
      "text/plain": [
       "array([[9, 9],\n",
       "       [5, 6]])"
      ]
     },
     "execution_count": 114,
     "metadata": {},
     "output_type": "execute_result"
    }
   ],
   "source": [
    "# here, we amend (mutate) that slice\n",
    "a_slice[0, :] = np.array([9, 9])\n",
    "a_slice"
   ]
  },
  {
   "cell_type": "code",
   "execution_count": 115,
   "id": "33f8f8ca-517c-4213-b4b6-0a645e9127d6",
   "metadata": {
    "tags": []
   },
   "outputs": [
    {
     "data": {
      "text/plain": [
       "array([[9, 9, 3, 4],\n",
       "       [5, 6, 7, 8]])"
      ]
     },
     "execution_count": 115,
     "metadata": {},
     "output_type": "execute_result"
    }
   ],
   "source": [
    "# we have then updated the original array, too\n",
    "a"
   ]
  },
  {
   "cell_type": "code",
   "execution_count": 116,
   "id": "eb42c6de-1a42-45b9-9d6a-6cea93e472dc",
   "metadata": {
    "tags": []
   },
   "outputs": [
    {
     "data": {
      "text/plain": [
       "array([[1, 2, 3, 4],\n",
       "       [5, 6, 7, 8]])"
      ]
     },
     "execution_count": 116,
     "metadata": {},
     "output_type": "execute_result"
    }
   ],
   "source": [
    "a_copy"
   ]
  },
  {
   "cell_type": "markdown",
   "id": "24dce60e-52ea-4beb-b32d-bb645b1424da",
   "metadata": {},
   "source": [
    "### [Random Generation](https://numpy.org/doc/stable/user/absolute_beginners.html#generating-random-numbers)\n",
    "\n",
    "NumPy also has the capability to generate random numbers from various probability distributions."
   ]
  },
  {
   "cell_type": "code",
   "execution_count": 117,
   "id": "438d1b8c-90fc-4a39-a5a0-b5ff81cc5fc3",
   "metadata": {
    "tags": []
   },
   "outputs": [
    {
     "data": {
      "text/plain": [
       "array([[0.80925094, 0.69957871, 0.93601926],\n",
       "       [0.08700374, 0.35425194, 0.93114611]])"
      ]
     },
     "execution_count": 117,
     "metadata": {},
     "output_type": "execute_result"
    }
   ],
   "source": [
    "data = np.random.uniform(size=(2, 3))\n",
    "data"
   ]
  },
  {
   "cell_type": "code",
   "execution_count": 118,
   "id": "3bb78faa-0d32-4ada-ac7a-9057421bbbbc",
   "metadata": {
    "tags": []
   },
   "outputs": [
    {
     "data": {
      "text/plain": [
       "array([[5.39836997, 4.43717666],\n",
       "       [5.58883494, 5.0421181 ],\n",
       "       [3.42909948, 6.00165475]])"
      ]
     },
     "execution_count": 118,
     "metadata": {},
     "output_type": "execute_result"
    }
   ],
   "source": [
    "# including a random seed ensures the \"same random\" generations with each run\n",
    "gen = np.random.default_rng(seed=33)\n",
    "gen.normal(loc=5, scale=1, size=(3, 2))"
   ]
  },
  {
   "cell_type": "code",
   "execution_count": 119,
   "id": "0f348964-08b9-4d99-9368-04ea77aa49eb",
   "metadata": {
    "tags": []
   },
   "outputs": [
    {
     "data": {
      "text/plain": [
       "array([[4.90212381, 5.61980221],\n",
       "       [6.83683215, 5.26842997],\n",
       "       [3.92553132, 4.31902103]])"
      ]
     },
     "execution_count": 119,
     "metadata": {},
     "output_type": "execute_result"
    }
   ],
   "source": [
    "# the seed no longer applies when run alone\n",
    "gen.normal(loc=5, scale=1, size=(3, 2))"
   ]
  },
  {
   "cell_type": "markdown",
   "id": "278154ea-eacf-4885-95d1-f1a4d2330703",
   "metadata": {
    "tags": []
   },
   "source": [
    "## Array Operations\n",
    "\n",
    "NumPy provides all the standard mathematical operations you'd expect, but the difference now is that these operations are extremely fast, and they operate in a \"vectorized\" fashion. This can happen in three ways: element-wise, using what is called \"broadcasting\", or using standard mathematical matrix operations. We can also calculate aggregate values such as mean or minimum, etc."
   ]
  },
  {
   "cell_type": "markdown",
   "id": "57a2a2f2-d31d-4d97-a404-a59d63182d77",
   "metadata": {},
   "source": [
    "### [Element-wise Operations](https://numpy.org/doc/stable/user/absolute_beginners.html#basic-array-operations)"
   ]
  },
  {
   "cell_type": "code",
   "execution_count": 120,
   "id": "62f1d60b-29cf-4753-ad08-ffe5d6c6e993",
   "metadata": {
    "tags": []
   },
   "outputs": [
    {
     "data": {
      "text/plain": [
       "array([[1., 1., 1., 1.],\n",
       "       [1., 1., 1., 1.]])"
      ]
     },
     "execution_count": 120,
     "metadata": {},
     "output_type": "execute_result"
    }
   ],
   "source": [
    "# we can create an array of only ones\n",
    "ones = np.ones((2, 4))\n",
    "ones"
   ]
  },
  {
   "cell_type": "code",
   "execution_count": 121,
   "id": "7c845add-d87b-4c03-ab2c-8552dc135d13",
   "metadata": {
    "tags": []
   },
   "outputs": [
    {
     "data": {
      "text/plain": [
       "array([[ 2,  4,  6,  8],\n",
       "       [10, 12, 14, 16]])"
      ]
     },
     "execution_count": 121,
     "metadata": {},
     "output_type": "execute_result"
    }
   ],
   "source": [
    "# and we can also reshape an arange\n",
    "a = np.arange(2, 18, 2).reshape((2, 4))\n",
    "a"
   ]
  },
  {
   "cell_type": "code",
   "execution_count": 122,
   "id": "db8d3a92-20de-4111-83d0-e81477e95bc4",
   "metadata": {
    "tags": []
   },
   "outputs": [
    {
     "data": {
      "text/plain": [
       "array([[ 3.,  5.,  7.,  9.],\n",
       "       [11., 13., 15., 17.]])"
      ]
     },
     "execution_count": 122,
     "metadata": {},
     "output_type": "execute_result"
    }
   ],
   "source": [
    "ones + a"
   ]
  },
  {
   "cell_type": "code",
   "execution_count": 123,
   "id": "649ac901-fd43-4ee2-b697-762ac0557767",
   "metadata": {
    "tags": []
   },
   "outputs": [
    {
     "data": {
      "text/plain": [
       "array([[0.5       , 0.25      , 0.16666667, 0.125     ],\n",
       "       [0.1       , 0.08333333, 0.07142857, 0.0625    ]])"
      ]
     },
     "execution_count": 123,
     "metadata": {},
     "output_type": "execute_result"
    }
   ],
   "source": [
    "ones / a"
   ]
  },
  {
   "cell_type": "code",
   "execution_count": null,
   "id": "44e39f31-bc11-452d-8919-f8f12cc8d6f0",
   "metadata": {},
   "outputs": [],
   "source": []
  },
  {
   "cell_type": "markdown",
   "id": "e5c6f31c-f74a-4778-983f-e46d0811d49f",
   "metadata": {},
   "source": [
    "### [Broadcasting](https://numpy.org/doc/stable/user/absolute_beginners.html#broadcasting)\n",
    "\n",
    "When [broadcasting](https://numpy.org/doc/stable/user/basics.broadcasting.html) an operation between two arrays (with potentially different shapes), NumPy first compares their shapes element-wise, starting with the trailing (i.e. rightmost) dimension, and working its way left. Two dimensions are compatible when (a) they are equal, or (b) one of them is 1.\n",
    "\n",
    "```\n",
    "Compatible:\n",
    "(4, 5, 2)\n",
    "   (5, 1)             First, 1 works. Then, 5 = 5.\n",
    "\n",
    "Not compatible:\n",
    "(100, 4)\n",
    "  (5, 2)             First, 4 ≠ 2 and neither are 1.\n",
    "```"
   ]
  },
  {
   "cell_type": "code",
   "execution_count": 124,
   "id": "fc262987-7bbb-4f20-aa9a-a74ccf696887",
   "metadata": {
    "tags": []
   },
   "outputs": [],
   "source": [
    "a = np.array([[1, 2],\n",
    "              [4, 5],\n",
    "              [7, 8]])\n",
    "               \n",
    "b = np.array([[3], \n",
    "              [2], \n",
    "              [1]])"
   ]
  },
  {
   "cell_type": "code",
   "execution_count": 125,
   "id": "6d2a6e70-4a1b-4a84-b043-333a81ab1516",
   "metadata": {
    "tags": []
   },
   "outputs": [
    {
     "name": "stdout",
     "output_type": "stream",
     "text": [
      "a shape: (3, 2)\n",
      "b shape: (3, 1)\n"
     ]
    },
    {
     "data": {
      "text/plain": [
       "array([[ 3,  6],\n",
       "       [ 8, 10],\n",
       "       [ 7,  8]])"
      ]
     },
     "execution_count": 125,
     "metadata": {},
     "output_type": "execute_result"
    }
   ],
   "source": [
    "# Notice how multiplying by `b` is broadcast \"across\" `a`\n",
    "print(f\"a shape: {a.shape}\")\n",
    "print(f\"b shape: {b.shape}\")\n",
    "a * b"
   ]
  },
  {
   "cell_type": "code",
   "execution_count": 126,
   "id": "9f86eced-9767-427b-a1c5-c9aff4bde47c",
   "metadata": {
    "tags": []
   },
   "outputs": [
    {
     "data": {
      "text/plain": [
       "array([[12],\n",
       "       [ 8],\n",
       "       [ 4]])"
      ]
     },
     "execution_count": 126,
     "metadata": {},
     "output_type": "execute_result"
    }
   ],
   "source": [
    "# the same happens with scalars\n",
    "4 * b"
   ]
  },
  {
   "cell_type": "code",
   "execution_count": 127,
   "id": "9c06d725-f727-4345-8b5e-83617caeca00",
   "metadata": {
    "tags": []
   },
   "outputs": [
    {
     "data": {
      "text/plain": [
       "array([[3, 6, 9],\n",
       "       [2, 4, 6],\n",
       "       [1, 2, 3]])"
      ]
     },
     "execution_count": 127,
     "metadata": {},
     "output_type": "execute_result"
    }
   ],
   "source": [
    "# we an also broadcast across 2+ axes\n",
    "c = np.array([1, 2, 3])\n",
    "\n",
    "b * c"
   ]
  },
  {
   "cell_type": "markdown",
   "id": "c5241c5b-4c49-4f93-b6cd-623d807bcd05",
   "metadata": {},
   "source": [
    "### Matrix Arithmetic\n",
    "\n",
    "Any array is essentially a matrix of values, and NumPy provides the standard matrix and vector operations. Here are just a few examples."
   ]
  },
  {
   "cell_type": "code",
   "execution_count": 128,
   "id": "0742f6a6-47d8-4141-82fd-aac5da2e37df",
   "metadata": {
    "tags": []
   },
   "outputs": [],
   "source": [
    "a = np.array([[1, 2],\n",
    "              [3, 4],\n",
    "              [5, 6]])\n",
    "\n",
    "b = np.array([[9, 8, 7],\n",
    "              [6, 5, 4]])"
   ]
  },
  {
   "cell_type": "code",
   "execution_count": 129,
   "id": "947f5c9e-686e-4450-800e-a14e05f8b5b7",
   "metadata": {
    "tags": []
   },
   "outputs": [
    {
     "data": {
      "text/plain": [
       "array([[21, 18, 15],\n",
       "       [51, 44, 37],\n",
       "       [81, 70, 59]])"
      ]
     },
     "execution_count": 129,
     "metadata": {},
     "output_type": "execute_result"
    }
   ],
   "source": [
    "# the @ symbol represents matrix multiplication\n",
    "a @ b"
   ]
  },
  {
   "cell_type": "code",
   "execution_count": 130,
   "id": "443d4dd3-6dfb-47cf-ae1f-9623f6bc67e2",
   "metadata": {
    "tags": []
   },
   "outputs": [
    {
     "data": {
      "text/plain": [
       "array([[21, 18, 15],\n",
       "       [51, 44, 37],\n",
       "       [81, 70, 59]])"
      ]
     },
     "execution_count": 130,
     "metadata": {},
     "output_type": "execute_result"
    }
   ],
   "source": [
    "# np.dot works too\n",
    "np.dot(a, b)"
   ]
  },
  {
   "cell_type": "code",
   "execution_count": 131,
   "id": "7b7e9e5d-9f04-4187-b434-f1a874e2eb02",
   "metadata": {
    "tags": []
   },
   "outputs": [
    {
     "data": {
      "text/plain": [
       "array([[1, 3, 5],\n",
       "       [2, 4, 6]])"
      ]
     },
     "execution_count": 131,
     "metadata": {},
     "output_type": "execute_result"
    }
   ],
   "source": [
    "# .T calculates the transpose (not for single rows/columns)\n",
    "a.T"
   ]
  },
  {
   "cell_type": "code",
   "execution_count": null,
   "id": "5056acc7-a356-43b7-a435-e46462b428aa",
   "metadata": {},
   "outputs": [],
   "source": []
  },
  {
   "cell_type": "markdown",
   "id": "c8447c9d-b7e7-480b-b5d0-f1fb84b11910",
   "metadata": {},
   "source": [
    "### [Aggregation](https://numpy.org/doc/stable/user/absolute_beginners.html#more-useful-array-operations)\n",
    "\n",
    "Often, you'll want to calculate aggregate functions (e.g., mean, minimum, etc.) for a whole array, or for just rows/columns (or some other axis)."
   ]
  },
  {
   "cell_type": "code",
   "execution_count": 132,
   "id": "f639c432-f686-4a3f-893f-3d7074983e64",
   "metadata": {
    "tags": []
   },
   "outputs": [],
   "source": [
    "a = np.array([[ 3,  6,  9, 12, 15],\n",
    "              [ 4,  8, 12, 16, 20]])"
   ]
  },
  {
   "cell_type": "code",
   "execution_count": 133,
   "id": "42dc39e2-c2c1-4d65-8442-2aef191a65ac",
   "metadata": {
    "tags": []
   },
   "outputs": [
    {
     "data": {
      "text/plain": [
       "3"
      ]
     },
     "execution_count": 133,
     "metadata": {},
     "output_type": "execute_result"
    }
   ],
   "source": [
    "# we can calculate a minimum for all the data\n",
    "a.min()"
   ]
  },
  {
   "cell_type": "code",
   "execution_count": 134,
   "id": "17480f29-3278-4f43-852d-8e340ef06178",
   "metadata": {
    "tags": []
   },
   "outputs": [
    {
     "data": {
      "text/plain": [
       "array([3, 4])"
      ]
     },
     "execution_count": 134,
     "metadata": {},
     "output_type": "execute_result"
    }
   ],
   "source": [
    "# or, just across an axis (here, across columns for each row)\n",
    "a.min(axis=1)"
   ]
  },
  {
   "cell_type": "code",
   "execution_count": 135,
   "id": "7b6019e5-12ce-42d3-a857-d4e86e999a54",
   "metadata": {
    "tags": []
   },
   "outputs": [
    {
     "data": {
      "text/plain": [
       "array([ 3.5,  7. , 10.5, 14. , 17.5])"
      ]
     },
     "execution_count": 135,
     "metadata": {},
     "output_type": "execute_result"
    }
   ],
   "source": [
    "a.mean(axis=0)"
   ]
  },
  {
   "cell_type": "code",
   "execution_count": 136,
   "id": "483fff4f-ba4a-4614-aa3e-e39b400ebb46",
   "metadata": {
    "tags": []
   },
   "outputs": [
    {
     "data": {
      "text/plain": [
       "array([45, 60])"
      ]
     },
     "execution_count": 136,
     "metadata": {},
     "output_type": "execute_result"
    }
   ],
   "source": [
    "a.sum(axis=1)"
   ]
  },
  {
   "cell_type": "markdown",
   "id": "6abe51ad-bd04-43b0-9004-a5c07fb42dc4",
   "metadata": {},
   "source": [
    "Given a vector of weights, NumPy can also calculate a weighted average."
   ]
  },
  {
   "cell_type": "code",
   "execution_count": 137,
   "id": "b55c00bd-c783-4e17-8952-0f0bc8503eb9",
   "metadata": {
    "tags": []
   },
   "outputs": [],
   "source": [
    "w = np.array([1, 4, 1, 2, 5])"
   ]
  },
  {
   "cell_type": "code",
   "execution_count": 138,
   "id": "9be5f6a9-be8f-4842-9787-e2e04723ba1a",
   "metadata": {
    "tags": []
   },
   "outputs": [
    {
     "data": {
      "text/plain": [
       "array([[10.38461538],\n",
       "       [13.84615385]])"
      ]
     },
     "execution_count": 138,
     "metadata": {},
     "output_type": "execute_result"
    }
   ],
   "source": [
    "np.average(a, axis=1, weights=w).reshape(-1, 1)"
   ]
  },
  {
   "cell_type": "markdown",
   "id": "4042238a-b13f-4824-af03-8627824967ee",
   "metadata": {},
   "source": [
    "The [unique](https://numpy.org/doc/stable/user/absolute_beginners.html#how-to-get-unique-items-and-counts) function is helpful to find out the distinct values in a vector or tensor."
   ]
  },
  {
   "cell_type": "code",
   "execution_count": 139,
   "id": "f499903a-db7d-4bcc-82a5-c4aaffaa9add",
   "metadata": {
    "tags": []
   },
   "outputs": [
    {
     "data": {
      "text/plain": [
       "array([10, 11, 12, 13, 14, 16, 17, 18])"
      ]
     },
     "execution_count": 139,
     "metadata": {},
     "output_type": "execute_result"
    }
   ],
   "source": [
    "a = np.array([[11, 11, 12, 13, 14, 16, 17, 11, 13, 11, 14, 18, 10, 14]])\n",
    "\n",
    "np.unique(a)"
   ]
  },
  {
   "cell_type": "markdown",
   "id": "038f89f9-7b40-4a34-bf7f-a519faadc401",
   "metadata": {},
   "source": [
    "# Exercises\n",
    "\n",
    "For these exercises, **do not import any libraries other than `numpy`**. You should be able to complete everything in this notebook with just the imports above."
   ]
  },
  {
   "cell_type": "markdown",
   "id": "f19a030c-be1d-40bc-bd80-8e6becf4be85",
   "metadata": {
    "tags": []
   },
   "source": [
    "## Exercise 1\n",
    "\n",
    "In this exercise, we will determine the *indices* of particular values of an array (e.g., minimum, sorted, etc.) using `argmin`, `argmax`, and `argsort` (see the documentation, e.g., [argmin](https://numpy.org/doc/stable/reference/generated/numpy.argmin.html)).\n",
    "\n",
    "#### Question 1\n",
    "\n",
    "Suppose we have five students, `s = np.array(['Hannah', 'Astrid', 'Abdul', 'Mauve', 'Jung'])`, and test scores for each student, `t = np.array([99, 71, 85, 62, 91])`, respectively."
   ]
  },
  {
   "cell_type": "code",
   "execution_count": 140,
   "id": "c936b07a-8ffc-4bf5-bf80-04b07f57bd24",
   "metadata": {},
   "outputs": [],
   "source": [
    "s = np.array(['Hannah', 'Astrid', 'Abdul', 'Mauve', 'Jung'])\n",
    "t = np.array([99, 71, 85, 62, 91])"
   ]
  },
  {
   "cell_type": "markdown",
   "id": "b85a9a4c-d64e-41ba-9276-e41b6b4b7457",
   "metadata": {},
   "source": [
    "#### Question 2\n",
    "\n",
    "Given `s` and `t`, how can we calculate the name of the student with the lowest score using one line? What about the highest?"
   ]
  },
  {
   "cell_type": "code",
   "execution_count": 141,
   "id": "944b0c0b-cbef-4c9a-b2b4-effbb3176434",
   "metadata": {},
   "outputs": [],
   "source": [
    "# your code here\n",
    "s = np.array(['Hannah', 'Astrid', 'Abdul', 'Mauve', 'Jung'])\n",
    "t = np.array([99, 71, 85, 62, 91])\n",
    "student_with_lowest_score=s[np.argmin(t)]"
   ]
  },
  {
   "cell_type": "code",
   "execution_count": 142,
   "id": "dbfbae37",
   "metadata": {},
   "outputs": [],
   "source": [
    "# your code here\n",
    "s = np.array(['Hannah', 'Astrid', 'Abdul', 'Mauve', 'Jung'])\n",
    "t = np.array([99, 71, 85, 62, 91])\n",
    "student_with_lowest_score=s[np.argmin(t)]"
   ]
  },
  {
   "cell_type": "code",
   "execution_count": 143,
   "id": "16c01047",
   "metadata": {},
   "outputs": [],
   "source": [
    "# your code here\n",
    "student_with_lowest_score=s[np.argmin(t)]"
   ]
  },
  {
   "cell_type": "code",
   "execution_count": 144,
   "id": "c0c52fe0-b21e-490d-98de-44ca917a1459",
   "metadata": {},
   "outputs": [],
   "source": [
    "# your code here\n",
    "student_with_highest_score=s[np.argmax(t)]"
   ]
  },
  {
   "cell_type": "markdown",
   "id": "1c8916b1-f00e-4c53-8a61-730d702d616a",
   "metadata": {},
   "source": [
    "#### Question 3\n",
    "\n",
    "Given `s` and `t`, how can we calculate the name of the student with the second highest score using one line?"
   ]
  },
  {
   "cell_type": "code",
   "execution_count": 145,
   "id": "5817ae10-7fec-4793-aad7-1146f6698770",
   "metadata": {},
   "outputs": [],
   "source": [
    "# your code here\n",
    "second_highest_score=s[np.argsort(t)[-2]]"
   ]
  },
  {
   "cell_type": "code",
   "execution_count": 146,
   "id": "2dd96dd0",
   "metadata": {},
   "outputs": [],
   "source": [
    "# your code here\n",
    "s = np.array(['Hannah', 'Astrid', 'Abdul', 'Mauve', 'Jung'])\n",
    "t = np.array([99, 71, 85, 62, 91])\n",
    "second_highest_score=s[np.argsort(t)[-2]]"
   ]
  },
  {
   "cell_type": "markdown",
   "id": "af1834de-3c5a-4bb6-9fdd-0aa120a00669",
   "metadata": {},
   "source": [
    "#### Question 4\n",
    "\n",
    "Write the line of code that will list the names of students in *descending* order of test score (i.e., a list of names, with associated scores in order from highest to lowest)."
   ]
  },
  {
   "cell_type": "code",
   "execution_count": 147,
   "id": "2924a443-7b5d-4dcf-b2a0-2a235c1fe8dc",
   "metadata": {},
   "outputs": [],
   "source": [
    "# your code here\n",
    "descending_scores=s[np.argsort(t)[::-1]]"
   ]
  },
  {
   "cell_type": "markdown",
   "id": "51206e3c-86c7-454c-9959-385ad0a7cc37",
   "metadata": {},
   "source": [
    "## Exercise 2\n",
    "\n",
    "Repeat Exercise 1 but only use loops or list comprehensions."
   ]
  },
  {
   "cell_type": "code",
   "execution_count": 2,
   "id": "595f9cd2-c3d4-4848-b34c-0b78b170b81b",
   "metadata": {},
   "outputs": [
    {
     "data": {
      "text/plain": [
       "'Hannah'"
      ]
     },
     "execution_count": 2,
     "metadata": {},
     "output_type": "execute_result"
    }
   ],
   "source": [
    "#### Question 2\n",
    "\n",
    "\n",
    "##Given `s` and `t`, how can we calculate the name of the student with the lowest score using one line? \n",
    "\n",
    "s0 = ['Hannah', 'Astrid', 'Abdul', 'Mauve', 'Jung']\n",
    "t0 = [99, 71, 85, 62, 91]\n",
    "st_dict={}\n",
    "for s,t in zip(s0,t0):\n",
    "    st_dict[s]=t\n",
    "\n",
    "\n",
    "student_with_lowest_score=min(st_dict,key=st_dict.get)\n",
    "\n",
    "#What about the highest?\n",
    "\n",
    "student_with_highest_score=max(st_dict,key=st_dict.get)\n",
    "student_with_highest_score\n"
   ]
  },
  {
   "cell_type": "code",
   "execution_count": 149,
   "id": "c6672ca7",
   "metadata": {},
   "outputs": [],
   "source": [
    "#### Question 3\n",
    "\n",
    "##Given `s` and `t`, how can we calculate the name of the student with the second highest score using one line?\n",
    "student_with_highest_score=max(st_dict,key=st_dict.get)\n",
    "del st_dict[student_with_highest_score]\n",
    "student_with_second_highest_score=max(st_dict,key=st_dict.get)"
   ]
  },
  {
   "cell_type": "code",
   "execution_count": 150,
   "id": "16c5ceb2",
   "metadata": {},
   "outputs": [
    {
     "name": "stdout",
     "output_type": "stream",
     "text": [
      "['Hannah', 'Jung', 'Abdul', 'Astrid', 'Mauve']\n"
     ]
    }
   ],
   "source": [
    "#### Question 4\n",
    "####keep for more help https://realpython.com/iterate-through-dictionary-python/#traversing-a-dictionary-in-sorted-and-reverse-order\n",
    "\n",
    "####Write the line of code that will list the names of students in *descending* order of test score (i.e., a list of names, with associated scores in order from highest to lowest).\n",
    "\n",
    "\n",
    "s0 = ['Hannah', 'Astrid', 'Abdul', 'Mauve', 'Jung']\n",
    "t0 = [99, 71, 85, 62, 91]\n",
    "st_dict={}\n",
    "for s,t in zip(s0,t0):\n",
    "    st_dict[s]=t\n",
    "descending_scores=[student for student, score in sorted(st_dict.items(),key=lambda x: x[1], reverse=True)]\n",
    "print(descending_scores)"
   ]
  },
  {
   "cell_type": "code",
   "execution_count": null,
   "id": "bed89b47",
   "metadata": {},
   "outputs": [],
   "source": []
  },
  {
   "cell_type": "markdown",
   "id": "0f4b07bf-b96b-4435-965b-778a0d01e1ec",
   "metadata": {},
   "source": [
    "## (Optional) Exercise 3\n",
    "\n",
    "- Let `s` be a 1-D boolean (True/False) NumPy array where each element represents a student, and each value is an indicator for whether a student was caught texting in class.\n",
    "- Let `d` be 1-D numeric array where each element represents an instructor, and each value is the number of points removed from a student's grade if they are caught texting in class.\n",
    "\n",
    "Write a function which takes in `s` and `d`, and returns an array with a row for each instructor, and a column for each student. The values should be the number of points removed for each student-instructor combination.\n",
    "\n",
    "For example,\n",
    "\n",
    "```python\n",
    "s = np.array([True, False, False, True, True])\n",
    "d = np.array([20, 15])\n",
    "\n",
    ">>> text_removals(s, d)\n",
    ">>> array([[20,  0,  0, 20, 20],\n",
    "           [15,  0,  0, 15, 15]])\n",
    "```"
   ]
  },
  {
   "cell_type": "code",
   "execution_count": 151,
   "id": "960e2570-d393-485d-96c0-2f6ebaaaff1e",
   "metadata": {
    "tags": []
   },
   "outputs": [],
   "source": [
    "# your code here"
   ]
  },
  {
   "cell_type": "markdown",
   "id": "572e0e2a-77d9-4b61-9997-84c196198401",
   "metadata": {},
   "source": [
    "Adjust the function to return the total number of points each instructor is removing by adding a True/False argument called `totals`.\n",
    "\n",
    "E.g.,\n",
    "\n",
    "```python\n",
    "s = np.array([True, False, False, True, True])\n",
    "d = np.array([20, 15])\n",
    "\n",
    ">>> text_removals(s, d, totals=True)\n",
    ">>> array([60, 45])\n",
    "```"
   ]
  },
  {
   "cell_type": "code",
   "execution_count": 152,
   "id": "3ebc1198-4f88-4b4b-9fcf-94cdc1015adf",
   "metadata": {
    "tags": []
   },
   "outputs": [],
   "source": [
    "# your code here"
   ]
  },
  {
   "cell_type": "code",
   "execution_count": null,
   "id": "432a73ae-f355-4254-869c-7737c2771f92",
   "metadata": {},
   "outputs": [],
   "source": []
  },
  {
   "cell_type": "code",
   "execution_count": null,
   "id": "582c872c-6020-4faf-a9f9-fb9987babe01",
   "metadata": {},
   "outputs": [],
   "source": []
  }
 ],
 "metadata": {
  "kernelspec": {
   "display_name": "i501",
   "language": "python",
   "name": "i501"
  },
  "language_info": {
   "codemirror_mode": {
    "name": "ipython",
    "version": 3
   },
   "file_extension": ".py",
   "mimetype": "text/x-python",
   "name": "python",
   "nbconvert_exporter": "python",
   "pygments_lexer": "ipython3",
   "version": "3.10.13"
  }
 },
 "nbformat": 4,
 "nbformat_minor": 5
}
